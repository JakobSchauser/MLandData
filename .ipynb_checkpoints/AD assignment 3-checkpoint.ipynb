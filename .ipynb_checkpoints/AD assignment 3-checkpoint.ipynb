{
 "cells": [
  {
   "cell_type": "code",
   "execution_count": 45,
   "id": "8ab8b862",
   "metadata": {
    "ExecuteTime": {
     "end_time": "2022-03-02T10:14:30.988247Z",
     "start_time": "2022-03-02T10:14:30.984259Z"
    }
   },
   "outputs": [],
   "source": [
    "import numpy as np\n",
    "\n",
    "N = 10\n"
   ]
  },
  {
   "cell_type": "code",
   "execution_count": 67,
   "id": "0c78856f",
   "metadata": {
    "ExecuteTime": {
     "end_time": "2022-03-02T10:15:57.054961Z",
     "start_time": "2022-03-02T10:15:57.044984Z"
    }
   },
   "outputs": [
    {
     "name": "stdout",
     "output_type": "stream",
     "text": [
      "[ 8  1  2  4  0 19  6 16 19  8]\n",
      "True\n"
     ]
    }
   ],
   "source": [
    "places = np.cumsum(np.ones(N)).astype(int)\n",
    "beers = (np.random.random(N)*20).astype(int)\n",
    "\n",
    "def run(beers, places, b, i):\n",
    "    if i == len(beers)-1:\n",
    "        return np.min(beers) == b\n",
    "    \n",
    "    d = beers[i] - b \n",
    "\n",
    "    dist = (places[i+1] - places[i])\n",
    "    \n",
    "    if d < 0:\n",
    "        beers[i+1] -= d + dist\n",
    "        beers[i] -= d\n",
    "\n",
    "    \n",
    "    if d > 0:\n",
    "        forward = d - dist\n",
    "        if forward > 0:\n",
    "            beers[i+1] += forward\n",
    "            beers[i] -= d\n",
    "    \n",
    "        \n",
    "    return run(beers,places,b,i+1)\n",
    "\n",
    "\n",
    "print(beers)\n",
    "print(run(beers, places, 3 ,0))"
   ]
  },
  {
   "cell_type": "code",
   "execution_count": 86,
   "id": "a6af3f34",
   "metadata": {
    "ExecuteTime": {
     "end_time": "2022-03-02T10:59:51.582420Z",
     "start_time": "2022-03-02T10:59:51.575437Z"
    }
   },
   "outputs": [],
   "source": [
    "run_on = lambda b: run(beers.copy(),places.copy(),b,0)\n",
    "\n",
    "def search(low, hi):\n",
    "    if hi == low +1:\n",
    "        return low\n",
    "\n",
    "    mid = np.floor((hi + low)/2)\n",
    "    \n",
    "    if run_on(mid):\n",
    "        return search(mid, hi)\n",
    "    else:\n",
    "        return search(low, mid)\n",
    "    \n",
    "    \n",
    "\n",
    "    "
   ]
  },
  {
   "cell_type": "code",
   "execution_count": 91,
   "id": "6b9b66ab",
   "metadata": {
    "ExecuteTime": {
     "end_time": "2022-03-02T10:59:58.188163Z",
     "start_time": "2022-03-02T10:59:58.180205Z"
    }
   },
   "outputs": [
    {
     "data": {
      "text/plain": [
       "10.0"
      ]
     },
     "execution_count": 91,
     "metadata": {},
     "output_type": "execute_result"
    }
   ],
   "source": [
    "beers = (np.random.random(N)*20).astype(int)\n",
    "run_on = lambda b: run(beers.copy(),places.copy(),b,0)\n",
    "\n",
    "search(0,19)"
   ]
  },
  {
   "cell_type": "code",
   "execution_count": 95,
   "id": "06ae333d",
   "metadata": {
    "ExecuteTime": {
     "end_time": "2022-03-02T11:00:13.722445Z",
     "start_time": "2022-03-02T11:00:13.717411Z"
    }
   },
   "outputs": [
    {
     "data": {
      "text/plain": [
       "False"
      ]
     },
     "execution_count": 95,
     "metadata": {},
     "output_type": "execute_result"
    }
   ],
   "source": []
  }
 ],
 "metadata": {
  "hide_input": false,
  "kernelspec": {
   "display_name": "Python 3",
   "language": "python",
   "name": "python3"
  },
  "language_info": {
   "codemirror_mode": {
    "name": "ipython",
    "version": 3
   },
   "file_extension": ".py",
   "mimetype": "text/x-python",
   "name": "python",
   "nbconvert_exporter": "python",
   "pygments_lexer": "ipython3",
   "version": "3.6.13"
  },
  "toc": {
   "base_numbering": 1,
   "nav_menu": {},
   "number_sections": true,
   "sideBar": true,
   "skip_h1_title": false,
   "title_cell": "Table of Contents",
   "title_sidebar": "Contents",
   "toc_cell": false,
   "toc_position": {},
   "toc_section_display": true,
   "toc_window_display": false
  }
 },
 "nbformat": 4,
 "nbformat_minor": 5
}
