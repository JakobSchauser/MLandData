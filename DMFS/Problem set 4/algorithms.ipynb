{
 "cells": [
  {
   "cell_type": "code",
   "execution_count": 1,
   "metadata": {},
   "outputs": [],
   "source": [
    "import numpy as np"
   ]
  },
  {
   "cell_type": "code",
   "execution_count": 2,
   "metadata": {},
   "outputs": [
    {
     "ename": "SyntaxError",
     "evalue": "invalid syntax (<ipython-input-2-49212dbf989d>, line 12)",
     "output_type": "error",
     "traceback": [
      "\u001b[1;36m  File \u001b[1;32m\"<ipython-input-2-49212dbf989d>\"\u001b[1;36m, line \u001b[1;32m12\u001b[0m\n\u001b[1;33m    edges = sort the edges of G.E into nondecreasing order by weight w\u001b[0m\n\u001b[1;37m                   ^\u001b[0m\n\u001b[1;31mSyntaxError\u001b[0m\u001b[1;31m:\u001b[0m invalid syntax\n"
     ]
    }
   ],
   "source": [
    "def MAKESET(v):\n",
    "    pass\n",
    "\n",
    "def FINDSET(e):\n",
    "    pass\n",
    "\n",
    "def MSTKRUSKAL(G,w):\n",
    "    A = []\n",
    "    for v in G:\n",
    "        MAKESET(v)\n",
    "\n",
    "    edges = sort the edges of G.E into nondecreasing order by weight w\n",
    "\n",
    "    for edge in edges:\n",
    "        if FINDSET(edge[0]) != FINDSET(edge[1])\n",
    "            A.append(edge)\n",
    "            UNION(*edge)\n",
    "    return A"
   ]
  },
  {
   "cell_type": "code",
   "execution_count": null,
   "metadata": {},
   "outputs": [],
   "source": [
    "errors =[]\n",
    "for t in range(T):\n",
    "    regret = calc_regret()\n",
    "    e = calc_regret_error()\n",
    "    error = np.sqrt([err**2 for err in errors]) + e\n",
    "    errors.append(error)"
   ]
  },
  {
   "cell_type": "code",
   "execution_count": 13,
   "metadata": {},
   "outputs": [
    {
     "data": {
      "text/plain": [
       "array([1., 1., 1.])"
      ]
     },
     "execution_count": 13,
     "metadata": {},
     "output_type": "execute_result"
    }
   ],
   "source": [
    "np.delete(np.ones((2,2)),1)"
   ]
  }
 ],
 "metadata": {
  "interpreter": {
   "hash": "92f83c05426f4916f717e7ba5a412ec12a5b79535648172354d400e07f6c6f36"
  },
  "kernelspec": {
   "display_name": "Python 3.6.13 ('base')",
   "language": "python",
   "name": "python3"
  },
  "language_info": {
   "codemirror_mode": {
    "name": "ipython",
    "version": 3
   },
   "file_extension": ".py",
   "mimetype": "text/x-python",
   "name": "python",
   "nbconvert_exporter": "python",
   "pygments_lexer": "ipython3",
   "version": "3.6.13"
  },
  "orig_nbformat": 4
 },
 "nbformat": 4,
 "nbformat_minor": 2
}
