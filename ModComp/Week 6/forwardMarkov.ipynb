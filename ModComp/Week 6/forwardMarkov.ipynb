{
 "cells": [
  {
   "cell_type": "code",
   "execution_count": 12,
   "metadata": {},
   "outputs": [],
   "source": [
    "import numpy as np \n",
    "import sys\n",
    "import matplotlib.pyplot as plt\n",
    "sys.path.append(\"C:/Users/jakob/Documents/MLandData/OtherFiles\")\n",
    "import Alexandria as library"
   ]
  },
  {
   "cell_type": "code",
   "execution_count": 15,
   "metadata": {},
   "outputs": [
    {
     "data": {
      "image/png": "[encoded data removed]",
      "text/plain": [
       "<Figure size 432x288 with 1 Axes>"
      ]
     },
     "metadata": {},
     "output_type": "display_data"
    }
   ],
   "source": [
    "pz1z0 = 0.5\n",
    "pz0z1 = 0.1\n",
    "px1z0 = 0.5\n",
    "\n",
    "\n",
    "T = 20\n",
    "\n",
    "Z,X = 0,0\n",
    "\n",
    "xs = []\n",
    "for t in range(T):\n",
    "    if Z == 1:\n",
    "        Z = np.random.random()>0.9\n",
    "        X = np.random.random()>0.5\n",
    "    else:\n",
    "        Z = np.random.random()>0.5\n",
    "    \n",
    "    if Z == 1:\n",
    "        X = 1\n",
    "    else:\n",
    "        X = np.random.random()>0.5\n",
    "    \n",
    "    xs.append(X)\n",
    "   \n",
    "\n",
    "    plt.plot(xs,'.')\n"
   ]
  },
  {
   "cell_type": "code",
   "execution_count": null,
   "metadata": {},
   "outputs": [],
   "source": []
  }
 ],
 "metadata": {
  "interpreter": {
   "hash": "92f83c05426f4916f717e7ba5a412ec12a5b79535648172354d400e07f6c6f36"
  },
  "kernelspec": {
   "display_name": "Python 3.6.13 ('base')",
   "language": "python",
   "name": "python3"
  },
  "language_info": {
   "codemirror_mode": {
    "name": "ipython",
    "version": 3
   },
   "file_extension": ".py",
   "mimetype": "text/x-python",
   "name": "python",
   "nbconvert_exporter": "python",
   "pygments_lexer": "ipython3",
   "version": "3.6.13"
  },
  "orig_nbformat": 4
 },
 "nbformat": 4,
 "nbformat_minor": 2
}
