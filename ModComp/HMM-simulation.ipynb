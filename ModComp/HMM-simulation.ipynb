{
 "cells": [
  {
   "cell_type": "code",
   "execution_count": null,
   "metadata": {},
   "outputs": [],
   "source": [
    "import numpy as np"
   ]
  },
  {
   "cell_type": "markdown",
   "metadata": {},
   "source": [
    "## A simple Markov model\n",
    "\n",
    "The simplest with just two states, $0$ and $1$, and transitions between them."
   ]
  },
  {
   "cell_type": "code",
   "execution_count": null,
   "metadata": {},
   "outputs": [],
   "source": [
    "T = 100\n",
    "x = np.zeros(shape=T, dtype=np.int32)\n",
    "alpha  = 0.1\n",
    "gamma = 0.5\n",
    "P = np.matrix([[1-gamma, gamma], [alpha, 1-alpha]])\n",
    "x[0] = np.random.binomial(n=1, p=0.5, size=1)\n",
    "for t in range(1, T):\n",
    "    x[t] = np.random.binomial(\n",
    "        n=1, \n",
    "        p=P[x[t-1], 1],\n",
    "        size=1)\n",
    "x"
   ]
  }
 ],
 "metadata": {
  "language_info": {
   "name": "python"
  }
 },
 "nbformat": 4,
 "nbformat_minor": 4
}
