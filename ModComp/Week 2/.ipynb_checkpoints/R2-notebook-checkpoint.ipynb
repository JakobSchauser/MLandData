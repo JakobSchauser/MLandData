{
 "cells": [
  {
   "cell_type": "code",
   "execution_count": 1,
   "metadata": {
    "ExecuteTime": {
     "end_time": "2022-02-13T12:50:32.496697Z",
     "start_time": "2022-02-13T12:50:31.506101Z"
    }
   },
   "outputs": [],
   "source": [
    "from matplotlib import pyplot as plt\n",
    "import numpy as np"
   ]
  },
  {
   "cell_type": "code",
   "execution_count": 2,
   "metadata": {
    "ExecuteTime": {
     "end_time": "2022-02-13T12:50:34.574794Z",
     "start_time": "2022-02-13T12:50:34.569809Z"
    }
   },
   "outputs": [],
   "source": [
    "plt.rcParams['figure.figsize'] = [8, 8]\n",
    "plt.ion()"
   ]
  },
  {
   "cell_type": "code",
   "execution_count": 7,
   "metadata": {
    "ExecuteTime": {
     "end_time": "2022-02-13T12:52:07.645085Z",
     "start_time": "2022-02-13T12:52:07.639100Z"
    }
   },
   "outputs": [],
   "source": [
    "# Function to simulate `size' many independent draws from a Bernoulli variable\n",
    "# with p = P(X = 1), 1 - p = P(X = -1)\n",
    "def bernoulli_rvs(size, p):\n",
    "    return (np.random.random(size)<p).astype(int)\n"
   ]
  },
  {
   "cell_type": "markdown",
   "metadata": {},
   "source": [
    "We can visualize the outcome of 10,000 independent Bernoulli variables in a 100 x 100 grid as an image."
   ]
  },
  {
   "cell_type": "code",
   "execution_count": 8,
   "metadata": {
    "ExecuteTime": {
     "end_time": "2022-02-13T12:52:09.517535Z",
     "start_time": "2022-02-13T12:52:09.510526Z"
    }
   },
   "outputs": [],
   "source": [
    "# Example Cell\n",
    "tmp = bernoulli_rvs(size = 10000, p = .9)\n",
    "tmp = np.array(tmp)\n",
    "tmp = tmp.reshape(100, 100)"
   ]
  },
  {
   "cell_type": "code",
   "execution_count": 9,
   "metadata": {
    "ExecuteTime": {
     "end_time": "2022-02-13T12:52:14.369483Z",
     "start_time": "2022-02-13T12:52:14.116138Z"
    }
   },
   "outputs": [
    {
     "data": {
      "text/plain": [
       "<matplotlib.image.AxesImage at 0x1b6714fcef0>"
      ]
     },
     "execution_count": 9,
     "metadata": {},
     "output_type": "execute_result"
    },
    {
     "data": {
      "image/png": "[encoded data removed]",
      "text/plain": [
       "<Figure size 576x576 with 1 Axes>"
      ]
     },
     "metadata": {
      "needs_background": "light"
     },
     "output_type": "display_data"
    }
   ],
   "source": [
    "# Example Imshow\n",
    "plt.imshow(tmp, interpolation = \"none\")"
   ]
  },
  {
   "cell_type": "code",
   "execution_count": 10,
   "metadata": {
    "ExecuteTime": {
     "end_time": "2022-02-13T12:52:24.357760Z",
     "start_time": "2022-02-13T12:52:24.351772Z"
    }
   },
   "outputs": [
    {
     "data": {
      "text/plain": [
       "array([[0, 0, 1, ..., 1, 1, 1],\n",
       "       [1, 1, 1, ..., 1, 1, 1],\n",
       "       [1, 1, 1, ..., 1, 1, 1],\n",
       "       ...,\n",
       "       [1, 1, 1, ..., 1, 1, 1],\n",
       "       [1, 0, 1, ..., 1, 1, 1],\n",
       "       [1, 1, 1, ..., 1, 1, 1]])"
      ]
     },
     "execution_count": 10,
     "metadata": {},
     "output_type": "execute_result"
    }
   ],
   "source": [
    "# The 100 x 100 array of +1 and -1\n",
    "tmp"
   ]
  },
  {
   "cell_type": "markdown",
   "metadata": {},
   "source": [
    "The function `sim_lattice` below implements simulation from the Bayesian network model on a square lattice discussed in the R2 lecture. All arrows point away from the main diagonal and outwards toward the two corners. The diagonal is first filled with values and then the upper and lower triangular parts are filled iteratively one diagonal at a time. \n",
    "\n",
    "The ordering of the simulations corresponds to a particular topological order of the nodes. \n",
    "\n",
    "The function takes an $\\omega$ argument, which captures how strongly the parents affect their children, and whether children tend to align with parents ($\\omega > 0$) or diverge from parents ($\\omega < 0$). \n",
    "\n",
    "The $p_0$ argument is the probability used for simulating independent Bernoulli variables in the diagonal for initialization. \n",
    "\n",
    "The `fix_diag` argument specifies if a fixed diagonal, given by the `diag` argument, should be used. The default is `False` meaning that a simulated diagonal is used. Set `fix_diag = True` to fill the diagonal from the `diag` argument, whose default value is `-1`. "
   ]
  },
  {
   "cell_type": "code",
   "execution_count": 11,
   "metadata": {
    "ExecuteTime": {
     "end_time": "2022-02-13T12:52:33.830007Z",
     "start_time": "2022-02-13T12:52:33.821067Z"
    }
   },
   "outputs": [],
   "source": [
    "def sim_lattice(n, omega = 0.1, fix_diag = False, p0 = 0.5, diag = -1): \n",
    "    lattice = np.zeros(shape = (n, n), dtype = \"int\")\n",
    "    # Initialize diagonal\n",
    "    if fix_diag:\n",
    "        np.fill_diagonal(lattice, diag)\n",
    "    else:\n",
    "        np.fill_diagonal(lattice, bernoulli_rvs(size = n, p = p0)) \n",
    "    # Upper triangular part\n",
    "    for d in range(1, n):\n",
    "        for k in range(0, n - d):\n",
    "            eps = omega * (lattice[k, d + k - 1] + lattice[k + 1, d + k])\n",
    "            p = np.exp(eps) / (np.exp(eps) + np.exp(-eps))\n",
    "            lattice[k, d + k] = bernoulli_rvs(size = 1, p = p)\n",
    "    # Lower triangular part\n",
    "    for d in range(1, n):\n",
    "        for k in range(0, n - d):\n",
    "            eps = omega * (lattice[d + k - 1, k] + lattice[d + k, k + 1])\n",
    "            p = np.exp(eps) / (np.exp(eps) + np.exp(-eps))\n",
    "            lattice[d + k, k] = bernoulli_rvs(size = 1, p = p)\n",
    "    return lattice     "
   ]
  },
  {
   "cell_type": "markdown",
   "metadata": {},
   "source": [
    "As above, we can visualize the outcome from this model as an image."
   ]
  },
  {
   "cell_type": "code",
   "execution_count": 12,
   "metadata": {
    "ExecuteTime": {
     "end_time": "2022-02-13T12:52:36.761636Z",
     "start_time": "2022-02-13T12:52:36.567127Z"
    }
   },
   "outputs": [
    {
     "data": {
      "text/plain": [
       "<matplotlib.image.AxesImage at 0x1b671c17588>"
      ]
     },
     "execution_count": 12,
     "metadata": {},
     "output_type": "execute_result"
    },
    {
     "data": {
      "image/png": "[encoded data removed]",
      "text/plain": [
       "<Figure size 576x576 with 1 Axes>"
      ]
     },
     "metadata": {
      "needs_background": "light"
     },
     "output_type": "display_data"
    }
   ],
   "source": [
    "plt.imshow(sim_lattice(50, omega = 0.6, fix_diag = False), interpolation = \"none\")"
   ]
  },
  {
   "cell_type": "markdown",
   "metadata": {},
   "source": [
    "We will now look at the means of the upper triangular part (excluding the main diagonal) of the lattice and the lower triangular part, respectively. Note that these two parts are connected in the model via their ancestors in the diagonal. We replicate simulations from the model 500 times so we can study the correlation between the two means."
   ]
  },
  {
   "cell_type": "code",
   "execution_count": null,
   "metadata": {},
   "outputs": [],
   "source": [
    "raise(NotImplementedError(\n",
    "    'Task: Change the below implementation such that the diagonal is fixed'))"
   ]
  },
  {
   "cell_type": "code",
   "execution_count": 25,
   "metadata": {
    "ExecuteTime": {
     "end_time": "2022-02-13T13:00:51.034238Z",
     "start_time": "2022-02-13T13:00:42.114742Z"
    }
   },
   "outputs": [],
   "source": [
    "n = 40\n",
    "N = 500\n",
    "upper_mean = np.zeros(shape = N)\n",
    "lower_mean = np.zeros(shape = N)\n",
    "for i in range(0, N):\n",
    "    lattice = sim_lattice(n, omega = 1,fix_diag = 1)\n",
    "    upper_mean[i] = np.triu(lattice, k = 1).mean()\n",
    "    lower_mean[i] = np.tril(lattice, k = -1).mean()    "
   ]
  },
  {
   "cell_type": "code",
   "execution_count": 26,
   "metadata": {
    "ExecuteTime": {
     "end_time": "2022-02-13T13:00:52.221953Z",
     "start_time": "2022-02-13T13:00:52.069321Z"
    }
   },
   "outputs": [
    {
     "data": {
      "text/plain": [
       "<matplotlib.collections.PathCollection at 0x1b672283160>"
      ]
     },
     "execution_count": 26,
     "metadata": {},
     "output_type": "execute_result"
    },
    {
     "data": {
      "image/png": "[encoded data removed]",
      "text/plain": [
       "<Figure size 576x576 with 1 Axes>"
      ]
     },
     "metadata": {
      "needs_background": "light"
     },
     "output_type": "display_data"
    }
   ],
   "source": [
    "plt.scatter(upper_mean, lower_mean)"
   ]
  },
  {
   "cell_type": "code",
   "execution_count": 27,
   "metadata": {
    "ExecuteTime": {
     "end_time": "2022-02-13T13:00:54.522792Z",
     "start_time": "2022-02-13T13:00:54.514814Z"
    }
   },
   "outputs": [
    {
     "data": {
      "text/plain": [
       "array([[ 1.        , -0.01423669],\n",
       "       [-0.01423669,  1.        ]])"
      ]
     },
     "execution_count": 27,
     "metadata": {},
     "output_type": "execute_result"
    }
   ],
   "source": [
    "np.corrcoef(upper_mean, lower_mean)"
   ]
  },
  {
   "cell_type": "code",
   "execution_count": null,
   "metadata": {},
   "outputs": [],
   "source": []
  }
 ],
 "metadata": {
  "hide_input": false,
  "kernelspec": {
   "display_name": "Python 3",
   "language": "python",
   "name": "python3"
  },
  "language_info": {
   "codemirror_mode": {
    "name": "ipython",
    "version": 3
   },
   "file_extension": ".py",
   "mimetype": "text/x-python",
   "name": "python",
   "nbconvert_exporter": "python",
   "pygments_lexer": "ipython3",
   "version": "3.6.13"
  },
  "toc": {
   "base_numbering": 1,
   "nav_menu": {},
   "number_sections": true,
   "sideBar": true,
   "skip_h1_title": false,
   "title_cell": "Table of Contents",
   "title_sidebar": "Contents",
   "toc_cell": false,
   "toc_position": {},
   "toc_section_display": true,
   "toc_window_display": false
  }
 },
 "nbformat": 4,
 "nbformat_minor": 4
}
