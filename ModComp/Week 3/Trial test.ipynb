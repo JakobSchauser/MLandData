{
 "cells": [
  {
   "cell_type": "code",
   "execution_count": 2,
   "id": "617d121c",
   "metadata": {
    "ExecuteTime": {
     "end_time": "2022-02-25T12:31:30.952195Z",
     "start_time": "2022-02-25T12:31:30.771646Z"
    }
   },
   "outputs": [],
   "source": [
    "import numpy as np"
   ]
  },
  {
   "cell_type": "code",
   "execution_count": 4,
   "id": "0a43bf91",
   "metadata": {
    "ExecuteTime": {
     "end_time": "2022-02-25T12:31:37.340849Z",
     "start_time": "2022-02-25T12:31:37.332868Z"
    }
   },
   "outputs": [
    {
     "data": {
      "text/plain": [
       "0.19999999999999998"
      ]
     },
     "execution_count": 4,
     "metadata": {},
     "output_type": "execute_result"
    }
   ],
   "source": [
    "t2, t3 = 0.2, 0.3\n",
    "\n",
    "a, b, c = 1, (t2+t3-1), t2*t3\n",
    "\n",
    "(-b - np.sqrt(b**2 - 4*a*c))/(2*a)\n"
   ]
  },
  {
   "cell_type": "code",
   "execution_count": 2,
   "id": "a0a4573f",
   "metadata": {
    "ExecuteTime": {
     "end_time": "2022-02-25T12:24:17.361970Z",
     "start_time": "2022-02-25T12:24:17.355984Z"
    }
   },
   "outputs": [],
   "source": [
    "py0 = 1-(0.17*(1-0.11)+0.37*0.11)"
   ]
  },
  {
   "cell_type": "code",
   "execution_count": 3,
   "id": "9e7705d0",
   "metadata": {
    "ExecuteTime": {
     "end_time": "2022-02-25T12:24:45.208223Z",
     "start_time": "2022-02-25T12:24:45.195259Z"
    }
   },
   "outputs": [
    {
     "data": {
      "text/plain": [
       "0.08576732673267326"
      ]
     },
     "execution_count": 3,
     "metadata": {},
     "output_type": "execute_result"
    }
   ],
   "source": [
    "((1-0.37)*0.11)/py0"
   ]
  }
 ],
 "metadata": {
  "hide_input": false,
  "kernelspec": {
   "display_name": "Python 3",
   "language": "python",
   "name": "python3"
  },
  "language_info": {
   "codemirror_mode": {
    "name": "ipython",
    "version": 3
   },
   "file_extension": ".py",
   "mimetype": "text/x-python",
   "name": "python",
   "nbconvert_exporter": "python",
   "pygments_lexer": "ipython3",
   "version": "3.6.13"
  },
  "toc": {
   "base_numbering": 1,
   "nav_menu": {},
   "number_sections": true,
   "sideBar": true,
   "skip_h1_title": false,
   "title_cell": "Table of Contents",
   "title_sidebar": "Contents",
   "toc_cell": false,
   "toc_position": {},
   "toc_section_display": true,
   "toc_window_display": false
  }
 },
 "nbformat": 4,
 "nbformat_minor": 5
}
