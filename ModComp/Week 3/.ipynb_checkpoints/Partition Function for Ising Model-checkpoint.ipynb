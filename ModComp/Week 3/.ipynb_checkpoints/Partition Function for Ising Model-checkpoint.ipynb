{
 "cells": [
  {
   "cell_type": "code",
   "execution_count": 32,
   "id": "a6ed5dc3",
   "metadata": {
    "ExecuteTime": {
     "end_time": "2022-02-21T10:18:06.749333Z",
     "start_time": "2022-02-21T10:18:06.646800Z"
    }
   },
   "outputs": [],
   "source": [
    "import numpy as np\n",
    "from tqdm.notebook import tqdm"
   ]
  },
  {
   "cell_type": "code",
   "execution_count": 43,
   "id": "283591d1",
   "metadata": {
    "ExecuteTime": {
     "end_time": "2022-02-21T10:54:50.510653Z",
     "start_time": "2022-02-21T10:54:50.429362Z"
    }
   },
   "outputs": [
    {
     "data": {
      "application/vnd.jupyter.widget-view+json": {
       "model_id": "bcab206f10dc417996044ac9fb56c055",
       "version_major": 2,
       "version_minor": 0
      },
      "text/plain": [
       "  0%|          | 0/1024 [00:00<?, ?it/s]"
      ]
     },
     "metadata": {},
     "output_type": "display_data"
    },
    {
     "data": {
      "text/plain": [
       "14221.0311304573"
      ]
     },
     "execution_count": 43,
     "metadata": {},
     "output_type": "execute_result"
    }
   ],
   "source": [
    "\n",
    "def Z(N, w = 1):\n",
    "    s = 0\n",
    "    for i in tqdm(range(2**N)):\n",
    "        chain = 2*np.array(list(np.binary_repr(i,N)), dtype=int) - 1\n",
    "        s += np.exp(-w*chain[1:]*chain[:-1]).sum()\n",
    "    return s \n",
    "            \n",
    "Z(10)\n",
    "\n"
   ]
  }
 ],
 "metadata": {
  "hide_input": false,
  "kernelspec": {
   "display_name": "Python 3",
   "language": "python",
   "name": "python3"
  },
  "language_info": {
   "codemirror_mode": {
    "name": "ipython",
    "version": 3
   },
   "file_extension": ".py",
   "mimetype": "text/x-python",
   "name": "python",
   "nbconvert_exporter": "python",
   "pygments_lexer": "ipython3",
   "version": "3.6.13"
  },
  "toc": {
   "base_numbering": 1,
   "nav_menu": {},
   "number_sections": true,
   "sideBar": true,
   "skip_h1_title": false,
   "title_cell": "Table of Contents",
   "title_sidebar": "Contents",
   "toc_cell": false,
   "toc_position": {},
   "toc_section_display": true,
   "toc_window_display": false
  }
 },
 "nbformat": 4,
 "nbformat_minor": 5
}
