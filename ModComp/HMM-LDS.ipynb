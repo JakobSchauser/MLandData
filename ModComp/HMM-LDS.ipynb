{
 "cells": [
  {
   "cell_type": "code",
   "execution_count": null,
   "metadata": {},
   "outputs": [],
   "source": [
    "import numpy as np\n",
    "from matplotlib import pyplot as plt"
   ]
  },
  {
   "cell_type": "markdown",
   "metadata": {},
   "source": [
    "## A simple Markov model\n",
    "\n",
    "The simplest with just two states, $0$ and $1$, and transitions between them."
   ]
  },
  {
   "cell_type": "code",
   "execution_count": null,
   "metadata": {},
   "outputs": [],
   "source": [
    "T = 100\n",
    "x = np.zeros(shape=T, dtype=np.int32)\n",
    "alpha  = 0.1\n",
    "gamma = 0.5\n",
    "P = np.matrix([[1-gamma, gamma], [alpha, 1-alpha]])\n",
    "x[0] = np.random.binomial(n=1, p=0.5, size=1)\n",
    "for t in range(1, T):\n",
    "    x[t] = np.random.binomial(\n",
    "        n=1, \n",
    "        p=P[x[t-1], 1],\n",
    "        size=1)\n",
    "x"
   ]
  },
  {
   "cell_type": "code",
   "execution_count": null,
   "metadata": {},
   "outputs": [],
   "source": [
    "P # Matrix of transition probabilities"
   ]
  },
  {
   "cell_type": "markdown",
   "metadata": {},
   "source": [
    "We set up a vectorized simulation of $N$ such Markov models"
   ]
  },
  {
   "cell_type": "code",
   "execution_count": null,
   "metadata": {},
   "outputs": [],
   "source": [
    "N = 3\n",
    "x = np.zeros(shape=(N, T), dtype=np.int32)"
   ]
  },
  {
   "cell_type": "code",
   "execution_count": null,
   "metadata": {},
   "outputs": [],
   "source": [
    "x[:,0] = np.random.binomial(n=1, p=0.5, size=N)\n",
    "for t in range(1, T):\n",
    "    x[:, t] = np.random.binomial(n=1, p=P[x[:, t-1],1]).ravel()"
   ]
  },
  {
   "cell_type": "code",
   "execution_count": null,
   "metadata": {},
   "outputs": [],
   "source": [
    "plt.plot(x.T)"
   ]
  },
  {
   "cell_type": "code",
   "execution_count": null,
   "metadata": {},
   "outputs": [],
   "source": [
    "x"
   ]
  },
  {
   "cell_type": "markdown",
   "metadata": {},
   "source": [
    "## A linear dynamical system"
   ]
  },
  {
   "cell_type": "code",
   "execution_count": null,
   "metadata": {},
   "outputs": [],
   "source": [
    "A = np.matrix([[0.8, 0, -0.1],\n",
    "               [0, 0.8, 0.5],\n",
    "               [0.1, 0, 0.8]])\n",
    "H = np.matrix([[0, 1, 0],\n",
    "               [0, 0, 1]])"
   ]
  },
  {
   "cell_type": "code",
   "execution_count": null,
   "metadata": {},
   "outputs": [],
   "source": [
    "A\n",
    "\n",
    "n = 3\n",
    "m = 2\n",
    "T = 200\n",
    "epsilon = np.random.normal(0, 1, size=(n, T))\n",
    "delta = np.random.normal(0, 2, size=(m, T))"
   ]
  },
  {
   "cell_type": "code",
   "execution_count": null,
   "metadata": {},
   "outputs": [],
   "source": [
    "z = np.zeros(shape=(n, T)) # hidden\n",
    "x = np.zeros(shape=(m, T)) # observed\n",
    "for t in range(1, T):\n",
    "    z[:, t] = np.dot(A, z[:, t-1]) + epsilon[:, t]\n",
    "    x[:, t] = np.dot(H, z[:, t]) + delta[:, t]"
   ]
  },
  {
   "cell_type": "code",
   "execution_count": null,
   "metadata": {},
   "outputs": [],
   "source": [
    "plt.plot(z[1, :])\n",
    "plt.plot(z[2, :])\n",
    "#plt.plot(x[0, :])"
   ]
  },
  {
   "cell_type": "code",
   "execution_count": null,
   "metadata": {},
   "outputs": [],
   "source": [
    "plt.plot(x[0, :])\n",
    "plt.plot(x[1, :])"
   ]
  },
  {
   "cell_type": "code",
   "execution_count": null,
   "metadata": {},
   "outputs": [],
   "source": [
    "plt.plot(z[1, :])\n",
    "plt.plot(x[0, :])"
   ]
  }
 ],
 "metadata": {
  "language_info": {
   "name": "python"
  }
 },
 "nbformat": 4,
 "nbformat_minor": 4
}
