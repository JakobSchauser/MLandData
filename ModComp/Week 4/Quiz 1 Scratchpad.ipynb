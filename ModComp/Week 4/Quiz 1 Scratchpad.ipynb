{
 "cells": [
  {
   "cell_type": "code",
   "execution_count": 1,
   "id": "9acbbe09",
   "metadata": {
    "ExecuteTime": {
     "end_time": "2022-02-28T08:00:01.744960Z",
     "start_time": "2022-02-28T08:00:01.329687Z"
    }
   },
   "outputs": [],
   "source": [
    "import numpy as np"
   ]
  },
  {
   "cell_type": "code",
   "execution_count": 4,
   "id": "d7d70f07",
   "metadata": {
    "ExecuteTime": {
     "end_time": "2022-02-28T08:48:18.395516Z",
     "start_time": "2022-02-28T08:48:18.388535Z"
    }
   },
   "outputs": [
    {
     "name": "stdout",
     "output_type": "stream",
     "text": [
      "0.318208\n"
     ]
    }
   ],
   "source": [
    "px1 = 0.37\n",
    "pz1 = 1-0.68\n",
    "\n",
    "print(0.8*px1*(1-pz1) + 0.58*(1-px1)*pz1)"
   ]
  },
  {
   "cell_type": "code",
   "execution_count": 8,
   "id": "9f04faf6",
   "metadata": {
    "ExecuteTime": {
     "end_time": "2022-02-28T08:49:51.130433Z",
     "start_time": "2022-02-28T08:49:51.123455Z"
    }
   },
   "outputs": [
    {
     "data": {
      "text/plain": [
       "0.020469093826590845"
      ]
     },
     "execution_count": 8,
     "metadata": {},
     "output_type": "execute_result"
    }
   ],
   "source": [
    "a = 1\n",
    "b = 0.05 + 0.27 - 1\n",
    "c = 0.05*0.27\n",
    "\n",
    "\n",
    "(-b - np.sqrt(b**2-4*a*c))/(2*a)"
   ]
  },
  {
   "cell_type": "code",
   "execution_count": null,
   "id": "b300adfb",
   "metadata": {},
   "outputs": [],
   "source": []
  }
 ],
 "metadata": {
  "hide_input": false,
  "kernelspec": {
   "display_name": "Python 3",
   "language": "python",
   "name": "python3"
  },
  "language_info": {
   "codemirror_mode": {
    "name": "ipython",
    "version": 3
   },
   "file_extension": ".py",
   "mimetype": "text/x-python",
   "name": "python",
   "nbconvert_exporter": "python",
   "pygments_lexer": "ipython3",
   "version": "3.6.13"
  },
  "toc": {
   "base_numbering": 1,
   "nav_menu": {},
   "number_sections": true,
   "sideBar": true,
   "skip_h1_title": false,
   "title_cell": "Table of Contents",
   "title_sidebar": "Contents",
   "toc_cell": false,
   "toc_position": {},
   "toc_section_display": true,
   "toc_window_display": false
  }
 },
 "nbformat": 4,
 "nbformat_minor": 5
}
