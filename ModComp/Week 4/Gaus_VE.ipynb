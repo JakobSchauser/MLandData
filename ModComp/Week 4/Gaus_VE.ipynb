{
 "cells": [
  {
   "cell_type": "code",
   "execution_count": 1,
   "metadata": {},
   "outputs": [],
   "source": [
    "from scipy import stats\n",
    "import numpy as np\n",
    "from matplotlib import pyplot as plt"
   ]
  },
  {
   "cell_type": "markdown",
   "metadata": {},
   "source": [
    "# A Gaussian conditional distribution from a small Bayesian network\n",
    "\n",
    "In lecture, a small Gaussian Bayesian network is defined with four variables. The code below simulates $N$ realizations from the network by using the four update equations. The implementation is vectorized over the $N$ replications.\n",
    "\n",
    "Note that since Python uses zero-based indexing it is convenient to denote the variables as $X_0, X_1, X_2, X_3$ to avoid confusion."
   ]
  },
  {
   "cell_type": "code",
   "execution_count": 5,
   "metadata": {},
   "outputs": [],
   "source": [
    "N = 10000\n",
    "x = np.zeros(shape=(N, 4))\n",
    "z = np.random.normal(size=(N, 4))\n",
    "x[:, 0] = z[:, 0]\n",
    "x[:, 1] = 0.5 * z[:, 1]\n",
    "x[:, 2] = x[:, 0] + 4 * z[:, 2]\n",
    "x[:, 3] = x[:, 1] + 3 * x[:, 2] + 0.3 * z[:, 3]"
   ]
  },
  {
   "cell_type": "code",
   "execution_count": 6,
   "metadata": {},
   "outputs": [
    {
     "data": {
      "text/plain": [
       "(10000, 4)"
      ]
     },
     "execution_count": 6,
     "metadata": {},
     "output_type": "execute_result"
    }
   ],
   "source": [
    "x.shape"
   ]
  },
  {
   "cell_type": "code",
   "execution_count": 7,
   "metadata": {},
   "outputs": [
    {
     "data": {
      "text/plain": [
       "[<matplotlib.lines.Line2D at 0x1bec0461ef0>]"
      ]
     },
     "execution_count": 7,
     "metadata": {},
     "output_type": "execute_result"
    },
    {
     "data": {
      "image/png": "[encoded data removed]",
      "text/plain": [
       "<Figure size 432x288 with 1 Axes>"
      ]
     },
     "metadata": {
      "needs_background": "light"
     },
     "output_type": "display_data"
    }
   ],
   "source": [
    "plt.scatter(x[:, 0], x[:, 2])\n",
    "plt.plot(x[:, 0], x[:, 0], 'r')"
   ]
  },
  {
   "cell_type": "markdown",
   "metadata": {},
   "source": [
    "The plot of $x_2$ against $x_0$ illustrates that in the update equation \n",
    "$$X_2 = X_0 + 4 Z_2$$\n",
    "the variable $X_2$ is a linear function of $X_0$ with slope 1 and some independent noise. If we do a linear regression of $x_2$ against $x_0$ we recover that slope parameter (and the intercept being 0). "
   ]
  },
  {
   "cell_type": "code",
   "execution_count": 8,
   "metadata": {},
   "outputs": [
    {
     "data": {
      "text/plain": [
       "(0.9662060983893472, -0.040229641656718364)"
      ]
     },
     "execution_count": 8,
     "metadata": {},
     "output_type": "execute_result"
    }
   ],
   "source": [
    "# The slope and intercept parameters from a linear regression\n",
    "stats.linregress(x[:, 0], x[:, 2])[0:2]"
   ]
  },
  {
   "cell_type": "markdown",
   "metadata": {},
   "source": [
    "If we flip the perspective around and plot $x_0$ against $x_2$ we cannot directly extract the corresponding linear regression out of the equations defining the network. A naive solution to just \"solve the equations involving the two variables\" is wrong, because the noise, $4Z_2$, and $X_2$ are *dependent*. "
   ]
  },
  {
   "cell_type": "code",
   "execution_count": null,
   "metadata": {},
   "outputs": [],
   "source": [
    "plt.scatter(x[:, 2], x[:, 0])\n",
    "# Wrong (naive) regression line from update equations, dashed on plot\n",
    "plt.plot(x[:, 2], x[:, 2], 'r:')\n",
    "# Correct regression line from conditional distribution\n",
    "plt.plot(x[:, 2], x[:, 2] / 17, 'y')"
   ]
  },
  {
   "cell_type": "markdown",
   "metadata": {},
   "source": [
    "If we do the linear regression, we should compare the slope to $1/17 \\simeq 0.0588$."
   ]
  },
  {
   "cell_type": "code",
   "execution_count": null,
   "metadata": {},
   "outputs": [],
   "source": [
    "stats.linregress(x[:, 2], x[:, 0])[0:2]"
   ]
  },
  {
   "cell_type": "markdown",
   "metadata": {},
   "source": [
    "We can also estimate the residual variance, which should be compared to $16/17 \\simeq 0.9412$"
   ]
  },
  {
   "cell_type": "code",
   "execution_count": null,
   "metadata": {},
   "outputs": [],
   "source": [
    "sum((x[:, 0] -  x[:, 2] / 17) ** 2) / N"
   ]
  },
  {
   "cell_type": "markdown",
   "metadata": {},
   "source": [
    "# The autoregressive process"
   ]
  },
  {
   "cell_type": "markdown",
   "metadata": {},
   "source": [
    "The autoregressive process has the update equation\n",
    "$$X_i = \\alpha X_{i-1} + Z_i$$\n",
    "where $Z_1, \\ldots, Z_n$ are independent, and for this example $\\mathcal{N}(0, 1)$-distributed. We also take $X_0 \\sim \\mathcal{N}(0,1)$. We first implement a function that can simulate from this model for arbitrary parameter $\\alpha \\in \\mathbb{R}$ and $n$. For convenience in later use, it simulates $N$ replications in a vectorized manner."
   ]
  },
  {
   "cell_type": "code",
   "execution_count": null,
   "metadata": {},
   "outputs": [],
   "source": [
    "def auto_sim(alpha = 0, n = 100, N = 1):\n",
    "    x = np.zeros(shape = (N, n + 1))\n",
    "    z = np.random.normal(size = (N, n + 1))\n",
    "    x[:, 0] = z[:, 0]\n",
    "    for i in range(1, n + 1):\n",
    "        x[:, i] = alpha * x[:, i - 1] + z[:, i]\n",
    "    return(x)"
   ]
  },
  {
   "cell_type": "code",
   "execution_count": null,
   "metadata": {},
   "outputs": [],
   "source": [
    "# plot of three examples\n",
    "x1 = auto_sim(alpha = 0.9, N = 3)\n",
    "plt.plot(x1[0,:])\n",
    "plt.plot(x1[1,:])\n",
    "plt.plot(x1[2,:])"
   ]
  },
  {
   "cell_type": "markdown",
   "metadata": {},
   "source": [
    "The function below creates the information matrix $J$ for the joint distribution. It is a so-called band diagonal matrix with non-zero entries only in the diagonal and just above and just below the diagonal. The implementation below using a dense matrix is wasteful in terms of memory but the subsequent variable elimination is still efficient in terms of run time. An optimized implementation will avoid storing all the zeroes of the matrix $J$ and thus be memory efficient as well."
   ]
  },
  {
   "cell_type": "code",
   "execution_count": null,
   "metadata": {},
   "outputs": [],
   "source": [
    "def J_mat(alpha = 0, n = 100):\n",
    "    J = np.zeros(shape = (n + 1, n + 1))\n",
    "    J[0, 0] = 1 + alpha ** 2\n",
    "    J[0, 1] = - alpha\n",
    "    J[n, n] = 1\n",
    "    J[n, n - 1] = - alpha\n",
    "    for i in range(1, n):\n",
    "        J[i, i] = 1 + alpha ** 2\n",
    "        J[i, i - 1] = - alpha\n",
    "        J[i, i + 1] = - alpha\n",
    "    return(J)"
   ]
  },
  {
   "cell_type": "code",
   "execution_count": null,
   "metadata": {},
   "outputs": [],
   "source": [
    " J_mat(alpha = 0.9, n = 5)  # Note the band diagonal structure."
   ]
  },
  {
   "cell_type": "markdown",
   "metadata": {},
   "source": [
    "We implement variable elimination as described on slide 11, Friday 5/3, 2021. The function eliminates all variables but the first and returns the mean and variance. If called with an appropriate $h$-vector it computes the conditional mean and conditional variance of $X_0$ given $X_n = x_n$, say. Note how the zero entries of $J$ never become non-zero, and that the algorithm is linear in $n$."
   ]
  },
  {
   "cell_type": "code",
   "execution_count": null,
   "metadata": {},
   "outputs": [],
   "source": [
    "def sum_prod_VE(J, h):\n",
    "    n = len(h)\n",
    "    J = J.copy()\n",
    "    h = h.copy()\n",
    "    for i in reversed(range(1, n)):\n",
    "        J[i - 1, i - 1] -= J[i - 1, i] * J[i, i - 1] / J[i, i]\n",
    "        h[i - 1] -= h[i] * J[i - 1, i] / J[i, i]\n",
    "    return((h[0] / J[0, 0], 1 / J[0, 0]))"
   ]
  },
  {
   "cell_type": "markdown",
   "metadata": {},
   "source": [
    "The following shows how variable elimination is used for computing the conditional distribution of $X_0$ given $X_n$ for $n = 10$ and $\\alpha = 0.99$."
   ]
  },
  {
   "cell_type": "code",
   "execution_count": null,
   "metadata": {},
   "outputs": [],
   "source": [
    "n = 10\n",
    "alpha = 0.99\n",
    "xn = 1  # Evidence set to 1 will give slope of conditional distribution as intercept is known to be 0 in this example\n",
    "J = J_mat(alpha = alpha, n = n)\n",
    "h = np.zeros(shape = n)\n",
    "h[n - 1] = alpha * xn  # Updating the last entry of h corresponding to the conditioning operation\n",
    "sum_prod_VE(J[0:n], h[0:n]) # The slope and conditional variance of X_0 | X_n"
   ]
  },
  {
   "cell_type": "markdown",
   "metadata": {},
   "source": [
    "Now we could instead compute the inverse of $J$,\n",
    "$$\\Sigma = J^{-1},$$\n",
    "marginalize to the covariance matrix for $\\{X_0, X_n\\}$,  $\\Sigma_{\\{0,n\\}, \\{0,n\\}}$, and compute the conditional distribution of $X_0 \\mid X_n$ using the formulas from Theorem 7.4 (slide 15, Tuesday 2/3, 2021)."
   ]
  },
  {
   "cell_type": "code",
   "execution_count": null,
   "metadata": {},
   "outputs": [],
   "source": [
    "Sigma = np.linalg.inv(J)[0:(n+1):n, 0:(n+1):n] # The 2 x 2 covariance matrix of X_0, X_n"
   ]
  },
  {
   "cell_type": "code",
   "execution_count": null,
   "metadata": {},
   "outputs": [],
   "source": [
    "(Sigma[0,1] / Sigma[1, 1], Sigma[0, 0] - Sigma[0, 1] * Sigma[1, 0] / Sigma[1, 1]) # slope and conditional variance, same as VE above!"
   ]
  },
  {
   "cell_type": "markdown",
   "metadata": {},
   "source": [
    "We can again illustrate these computations in terms of linear regressions, where we simulate a large number, $N$, of data vectors from the Bayesian network, and then we do a linear regression of $x_0$ on $x_n$ to find the conditional distribution."
   ]
  },
  {
   "cell_type": "code",
   "execution_count": null,
   "metadata": {},
   "outputs": [],
   "source": [
    "N = 100000\n",
    "xx = auto_sim(alpha = alpha, n = n, N = N)\n",
    "stats.linregress(xx[:, n], xx[:, 0])[0:2]  # Slope and intercept, with intercept essentially 0"
   ]
  },
  {
   "cell_type": "code",
   "execution_count": null,
   "metadata": {},
   "outputs": [],
   "source": [
    "beta = stats.linregress(xx[:, n], xx[:, 0])[0]\n",
    "plt.scatter(xx[:, n], xx[:, 0])\n",
    "plt.plot(xx[:, n], beta * xx[:, n], 'r') "
   ]
  },
  {
   "cell_type": "code",
   "execution_count": null,
   "metadata": {},
   "outputs": [],
   "source": [
    "sum((xx[:, 0] -  beta * xx[:, n]) ** 2) / N  # (Conditional) variance estimate. Compare to the one computed above"
   ]
  }
 ],
 "metadata": {
  "interpreter": {
   "hash": "92f83c05426f4916f717e7ba5a412ec12a5b79535648172354d400e07f6c6f36"
  },
  "kernelspec": {
   "display_name": "Python 3.6.13 ('base')",
   "language": "python",
   "name": "python3"
  },
  "language_info": {
   "codemirror_mode": {
    "name": "ipython",
    "version": 3
   },
   "file_extension": ".py",
   "mimetype": "text/x-python",
   "name": "python",
   "nbconvert_exporter": "python",
   "pygments_lexer": "ipython3",
   "version": "3.6.13"
  }
 },
 "nbformat": 4,
 "nbformat_minor": 4
}
