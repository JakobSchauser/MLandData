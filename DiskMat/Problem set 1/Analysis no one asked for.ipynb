{
 "cells": [
  {
   "cell_type": "code",
   "execution_count": 1,
   "id": "f7dc498a",
   "metadata": {
    "ExecuteTime": {
     "end_time": "2022-02-10T11:06:19.921673Z",
     "start_time": "2022-02-10T11:06:19.033354Z"
    }
   },
   "outputs": [],
   "source": [
    "import matplotlib.pyplot as plt\n",
    "import time\n",
    "import numpy as np\n",
    "from tqdm import tqdm "
   ]
  },
  {
   "cell_type": "code",
   "execution_count": 16,
   "id": "09edea42",
   "metadata": {
    "ExecuteTime": {
     "end_time": "2022-02-10T11:09:03.949453Z",
     "start_time": "2022-02-10T11:09:03.935489Z"
    }
   },
   "outputs": [
    {
     "name": "stderr",
     "output_type": "stream",
     "text": [
      "  0%|                                                                                           | 0/10 [00:00<?, ?it/s]\n"
     ]
    }
   ],
   "source": [
    "def alg1(A,B):\n",
    "    n = len(A)\n",
    "    for i in range(n):\n",
    "        B[i] = 1\n",
    "        for j in range(i):\n",
    "            B[i] = B[i] * A[j]\n",
    "\n",
    "def alg2(A,B):\n",
    "    n = len(B)\n",
    "    for i in range(n):\n",
    "        if (A[i] < 0 or A[i] >= n):\n",
    "            return \"failure\"\n",
    "    i = 0\n",
    "    found = -1\n",
    "    while (i <= n and found < 0):\n",
    "        for j in range(n):\n",
    "            B[j] = False\n",
    "        j = i\n",
    "        while (B[j] == False):\n",
    "            B[j] = True\n",
    "            j = A[j]\n",
    "        if (A[A[j]] == j):\n",
    "            found = j\n",
    "        i = i + 1\n",
    "    return found\n",
    "\n",
    "def alg3(A,lo,hi):\n",
    "    if (A[lo] >= A[hi]):\n",
    "        return \"failure\"\n",
    "    elif (lo + 1 == hi):\n",
    "        return lo\n",
    "    else:\n",
    "        mid = int(np.floor((lo + hi) / 2))\n",
    "        if (A[mid] > A[lo]):\n",
    "            return alg3(A, lo, mid)\n",
    "        else:\n",
    "            return alg3 (A, mid , hi)\n",
    "                       \n",
    "\n",
    "N = 10        \n",
    "times = np.empty((2,N))      \n",
    "for i in tqdm(range(N)):\n",
    "    break\n",
    "    s = (i+1)*1000\n",
    "    A,B = np.random.random(s),np.random.random(s)\n",
    "    \n",
    "    t = time.time()\n",
    "    alg1(A,B)\n",
    "    times[0,i] = time.time()-t\n",
    "    \n",
    "#     t = time.time()\n",
    "#     alg2(A,B)\n",
    "#     times[1,i] = time.time()-t\n"
   ]
  },
  {
   "cell_type": "code",
   "execution_count": 118,
   "id": "1d8a9c2c",
   "metadata": {
    "ExecuteTime": {
     "end_time": "2022-02-09T13:43:25.242731Z",
     "start_time": "2022-02-09T13:43:24.977847Z"
    }
   },
   "outputs": [
    {
     "data": {
      "image/png": "[encoded data removed]",
      "text/plain": [
       "<Figure size 432x288 with 1 Axes>"
      ]
     },
     "metadata": {
      "needs_background": "light"
     },
     "output_type": "display_data"
    }
   ],
   "source": [
    "XX = [(i+1)*1000 for i in range(N)]\n",
    "\n",
    "plt.plot(XX,times[0,:]/times[0,0],'.',label =\"Algorithm 1\")\n",
    "plt.plot(XX,1.3*np.power(XX,2)/1e6, label = \"~$n^2$\")\n",
    "plt.legend()\n",
    "plt.xlabel(\"Array size\")\n",
    "plt.ylabel(\"Speedup in running time\")\n",
    "\n",
    "plt.show()\n",
    "\n",
    "# plt.plot(XX,times[1,:],'.')\n",
    "# # plt.plot(XX,np.power(XX,2)/1e6)\n",
    "# plt.show()"
   ]
  },
  {
   "cell_type": "code",
   "execution_count": 32,
   "id": "61faa63e",
   "metadata": {
    "ExecuteTime": {
     "end_time": "2022-02-10T11:11:37.001176Z",
     "start_time": "2022-02-10T11:11:36.995148Z"
    },
    "scrolled": true
   },
   "outputs": [
    {
     "name": "stdout",
     "output_type": "stream",
     "text": [
      "0\n"
     ]
    }
   ],
   "source": [
    "A = [0,1,2]\n",
    "\n",
    "res = alg3(A,0,len(A)-1)\n",
    "print(res)"
   ]
  }
 ],
 "metadata": {
  "hide_input": false,
  "kernelspec": {
   "display_name": "Python 3",
   "language": "python",
   "name": "python3"
  },
  "language_info": {
   "codemirror_mode": {
    "name": "ipython",
    "version": 3
   },
   "file_extension": ".py",
   "mimetype": "text/x-python",
   "name": "python",
   "nbconvert_exporter": "python",
   "pygments_lexer": "ipython3",
   "version": "3.6.13"
  },
  "toc": {
   "base_numbering": 1,
   "nav_menu": {},
   "number_sections": true,
   "sideBar": true,
   "skip_h1_title": false,
   "title_cell": "Table of Contents",
   "title_sidebar": "Contents",
   "toc_cell": false,
   "toc_position": {},
   "toc_section_display": true,
   "toc_window_display": false
  }
 },
 "nbformat": 4,
 "nbformat_minor": 5
}
