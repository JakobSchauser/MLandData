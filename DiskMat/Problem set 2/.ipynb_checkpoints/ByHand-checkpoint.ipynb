{
 "cells": [
  {
   "cell_type": "code",
   "execution_count": 57,
   "id": "20130fd7",
   "metadata": {
    "ExecuteTime": {
     "end_time": "2022-02-17T10:47:15.653620Z",
     "start_time": "2022-02-17T10:47:15.638661Z"
    }
   },
   "outputs": [],
   "source": [
    "import numpy as np\n",
    "\n",
    "array = np.array([5, 2, 19, 7, 6, 12, 10, 17, 13, 14])\n",
    "red = lambda s: f\"\\x1b[31m{s}\\x1b[0m\"\n",
    "\n",
    "\n",
    "def print_changed(A,changed):\n",
    "    print(\"[\",end='')\n",
    "    for k,a in enumerate(A):\n",
    "        if k in changed:\n",
    "            print(red(a),end='')\n",
    "        else:\n",
    "            print(a,end='')\n",
    "        if k != len(A)-1:\n",
    "            print(\", \",end='')\n",
    "        else:\n",
    "            print(\"]\")\n",
    "            \n",
    "def OptimizedBubbleSort_by_hand(A):\n",
    "    i = 1\n",
    "    swapped = True\n",
    "#     print(\"Array is \" + str(A))\n",
    "    print(str(list(A)))\n",
    "#     print(\"I enter the while loop\")\n",
    "    while (i <= len(A) and swapped):\n",
    "        swapped = False\n",
    "        for j in range(len(A)-1):\n",
    "            jj = j+1\n",
    "#             print(f\"I check A[{jj}] against A[{jj+1}]\")\n",
    "            if (A[j] > A[j + 1]):\n",
    "#                 print(f\"A[{jj}] ({A[j]}) is larger than A[{jj+1}] ({A[j+1]}), so I swap them!\")\n",
    "                tmp = A[j]\n",
    "                A[j] = A[j + 1]\n",
    "                A[j + 1] = tmp\n",
    "                swapped = True\n",
    "                print_changed(A,[j,j+1])\n",
    "                \n",
    "                        \n",
    "                \n",
    "            \n",
    "        i = i + 1\n",
    "    print(\"Done!\")\n"
   ]
  },
  {
   "cell_type": "code",
   "execution_count": 56,
   "id": "f1ab83dc",
   "metadata": {
    "ExecuteTime": {
     "end_time": "2022-02-17T10:40:28.284062Z",
     "start_time": "2022-02-17T10:40:28.258106Z"
    }
   },
   "outputs": [
    {
     "name": "stdout",
     "output_type": "stream",
     "text": [
      "[5, 2, 19, 7, 6, 12, 10, 17, 13, 14]\n",
      "[\u001b[31m2\u001b[0m, \u001b[31m5\u001b[0m, 19, 7, 6, 12, 10, 17, 13, 14]\n",
      "[2, 5, \u001b[31m7\u001b[0m, \u001b[31m19\u001b[0m, 6, 12, 10, 17, 13, 14]\n",
      "[2, 5, 7, \u001b[31m6\u001b[0m, \u001b[31m19\u001b[0m, 12, 10, 17, 13, 14]\n",
      "[2, 5, 7, 6, \u001b[31m12\u001b[0m, \u001b[31m19\u001b[0m, 10, 17, 13, 14]\n",
      "[2, 5, 7, 6, 12, \u001b[31m10\u001b[0m, \u001b[31m19\u001b[0m, 17, 13, 14]\n",
      "[2, 5, 7, 6, 12, 10, \u001b[31m17\u001b[0m, \u001b[31m19\u001b[0m, 13, 14]\n",
      "[2, 5, 7, 6, 12, 10, 17, \u001b[31m13\u001b[0m, \u001b[31m19\u001b[0m, 14]\n",
      "[2, 5, 7, 6, 12, 10, 17, 13, \u001b[31m14\u001b[0m, \u001b[31m19\u001b[0m]\n",
      "[2, 5, \u001b[31m6\u001b[0m, \u001b[31m7\u001b[0m, 12, 10, 17, 13, 14, 19]\n",
      "[2, 5, 6, 7, \u001b[31m10\u001b[0m, \u001b[31m12\u001b[0m, 17, 13, 14, 19]\n",
      "[2, 5, 6, 7, 10, 12, \u001b[31m13\u001b[0m, \u001b[31m17\u001b[0m, 14, 19]\n",
      "[2, 5, 6, 7, 10, 12, 13, \u001b[31m14\u001b[0m, \u001b[31m17\u001b[0m, 19]\n",
      "Done!\n"
     ]
    }
   ],
   "source": [
    "OptimizedBubbleSort_by_hand(array.copy())"
   ]
  },
  {
   "cell_type": "markdown",
   "id": "510d251b",
   "metadata": {},
   "source": [
    "Tastevejslængder\t3\t6\t10\t15\t21\t28\t36"
   ]
  },
  {
   "cell_type": "code",
   "execution_count": 73,
   "id": "b3ec21fa",
   "metadata": {
    "ExecuteTime": {
     "end_time": "2022-02-17T10:58:16.070283Z",
     "start_time": "2022-02-17T10:58:16.059313Z"
    }
   },
   "outputs": [
    {
     "name": "stdout",
     "output_type": "stream",
     "text": [
      "3\n",
      "6\n",
      "10\n",
      "15\n",
      "21\n"
     ]
    }
   ],
   "source": [
    "def TVS(i):\n",
    "    if i == 0:\n",
    "        return 1 + i + 2\n",
    "    else:\n",
    "        return TVS(i-1) + i + 2\n",
    "\n",
    "for i in range(5):\n",
    "    print(TVS(i))"
   ]
  }
 ],
 "metadata": {
  "hide_input": false,
  "kernelspec": {
   "display_name": "Python 3",
   "language": "python",
   "name": "python3"
  },
  "language_info": {
   "codemirror_mode": {
    "name": "ipython",
    "version": 3
   },
   "file_extension": ".py",
   "mimetype": "text/x-python",
   "name": "python",
   "nbconvert_exporter": "python",
   "pygments_lexer": "ipython3",
   "version": "3.6.13"
  },
  "toc": {
   "base_numbering": 1,
   "nav_menu": {},
   "number_sections": true,
   "sideBar": true,
   "skip_h1_title": false,
   "title_cell": "Table of Contents",
   "title_sidebar": "Contents",
   "toc_cell": false,
   "toc_position": {},
   "toc_section_display": true,
   "toc_window_display": false
  }
 },
 "nbformat": 4,
 "nbformat_minor": 5
}
