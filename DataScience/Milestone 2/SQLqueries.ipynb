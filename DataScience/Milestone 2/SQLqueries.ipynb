{
 "cells": [
  {
   "cell_type": "code",
   "execution_count": 48,
   "metadata": {},
   "outputs": [
    {
     "name": "stdout",
     "output_type": "stream",
     "text": [
      "(None, 0)\n",
      "('bias', 2)\n",
      "('clickbait', 1)\n",
      "('conspiracy', 1)\n",
      "('fake', 12)\n",
      "('political', 4)\n",
      "('unknown', 1)\n"
     ]
    }
   ],
   "source": [
    "import sqlite3\n",
    "import pandas as pd\n",
    "\n",
    "# con = sqlite3.connect('database.db')\n",
    "con = sqlite3.connect('sql_export_file.sql')\n",
    "\n",
    "# cur = con.cursor()\n",
    "\n",
    "quer1 = \"SELECT url FROM table_name WHERE type = 'fake' AND  instr(title, 'Trump') > 0\"\n",
    "\n",
    "quer2 = \"SELECT type, count(type) FROM table_name WHERE instr(title, 'Trump') > 0 GROUP BY type\"\n",
    "\n",
    "quer3 = \"SELECT authors, count(type) FROM table_name GROUP BY authors\"\n",
    "\n",
    "\n",
    "for row in cur.execute(quer2):\n",
    "    print(row)\n",
    "\n",
    "# data = pd.read_csv(\"C:/Users/jakob/Downloads/FakeNews/news_sample.csv\")\n",
    "# data.head()\n",
    "# data.to_sql(\"table_name\", con, if_exists='append', index=False)\n",
    "\n"
   ]
  }
 ],
 "metadata": {
  "interpreter": {
   "hash": "92f83c05426f4916f717e7ba5a412ec12a5b79535648172354d400e07f6c6f36"
  },
  "kernelspec": {
   "display_name": "Python 3.6.13 ('base')",
   "language": "python",
   "name": "python3"
  },
  "language_info": {
   "codemirror_mode": {
    "name": "ipython",
    "version": 3
   },
   "file_extension": ".py",
   "mimetype": "text/x-python",
   "name": "python",
   "nbconvert_exporter": "python",
   "pygments_lexer": "ipython3",
   "version": "3.6.13"
  },
  "orig_nbformat": 4
 },
 "nbformat": 4,
 "nbformat_minor": 2
}
