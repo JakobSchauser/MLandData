{
 "cells": [
  {
   "cell_type": "markdown",
   "id": "4e4cc83b",
   "metadata": {},
   "source": [
    "# Import Packages"
   ]
  },
  {
   "cell_type": "code",
   "execution_count": 1,
   "id": "e36216c1",
   "metadata": {},
   "outputs": [
    {
     "name": "stderr",
     "output_type": "stream",
     "text": [
      "Using TensorFlow backend.\n"
     ]
    }
   ],
   "source": [
    "# Import packages\n",
    "import psycopg2\n",
    "import pandas as pd\n",
    "import numpy as np\n",
    "import random\n",
    "from random import seed\n",
    "from random import randrange\n",
    "from sqlalchemy import create_engine\n",
    "from sklearn import model_selection, naive_bayes, svm \n",
    "from sklearn.feature_extraction.text import CountVectorizer\n",
    "from numpy import array\n",
    "from numpy import argmax\n",
    "from sklearn.preprocessing import LabelEncoder\n",
    "from sklearn.preprocessing import OneHotEncoder\n",
    "from sklearn.naive_bayes import MultinomialNB\n",
    "from sklearn.pipeline import Pipeline\n",
    "from sklearn.naive_bayes import MultinomialNB\n",
    "from sklearn.feature_extraction.text import CountVectorizer\n",
    "from sklearn.feature_extraction.text import TfidfTransformer\n",
    "from sklearn.pipeline import Pipeline\n",
    "from sklearn.linear_model import SGDClassifier\n",
    "from tqdm.notebook import trange, tqdm\n",
    "from tqdm import trange, tqdm\n",
    "from sklearn.feature_extraction.text import CountVectorizer\n",
    "\n",
    "import tensorflow as tf\n",
    "\n",
    "from sklearn.linear_model import SGDClassifier\n",
    "from sklearn.model_selection import GridSearchCV\n",
    "from nltk.stem.snowball import SnowballStemmer\n",
    "from sklearn.pipeline import Pipeline\n",
    "from sklearn.datasets import fetch_20newsgroups\n",
    "from sklearn.feature_extraction.text import CountVectorizer\n",
    "from sklearn.feature_extraction.text import TfidfTransformer\n",
    "from sklearn.naive_bayes import MultinomialNB\n",
    "import re\n",
    "from tqdm import tqdm_notebook\n",
    "from nltk.corpus import stopwords\n",
    "from tensorflow.keras import regularizers, initializers, optimizers, callbacks\n",
    "from tensorflow.keras.preprocessing.sequence import pad_sequences\n",
    "from tensorflow.keras.preprocessing.text import Tokenizer\n",
    "from keras.utils.np_utils import to_categorical\n",
    "from tensorflow.keras.layers import *\n",
    "from tensorflow.keras.models import Sequential\n",
    "import pandas as pd\n",
    "import numpy as np\n",
    "import pickle\n",
    "import matplotlib.pyplot as plt\n",
    "\n",
    "\n",
    "import timeit\n",
    "import time\n",
    "import nltk\n",
    "#nltk.download()\n",
    "from nltk.stem import WordNetLemmatizer\n",
    "from nltk import pos_tag\n",
    "\n",
    "import psycopg2\n",
    "#from tqdm.notebook import tqdm\n",
    "from sklearn.feature_extraction.text import TfidfVectorizer\n",
    "\n",
    "from sklearn.datasets import make_classification\n",
    "from sklearn.linear_model import LogisticRegression\n",
    "from sklearn.model_selection import train_test_split\n",
    "from sklearn.metrics import roc_curve\n",
    "from sklearn.metrics import roc_auc_score\n",
    "from matplotlib import pyplot"
   ]
  },
  {
   "cell_type": "markdown",
   "id": "74d3375b",
   "metadata": {},
   "source": [
    "# Import Data"
   ]
  },
  {
   "cell_type": "code",
   "execution_count": 3,
   "id": "ca8fac89",
   "metadata": {},
   "outputs": [],
   "source": [
    "# Read csv\n",
    "df = pd.read_csv(r'train_data.csv')\n",
    "#df = pd.read_csv(r'C:/Users/D870187/OneDrive - Santander Consumer Bank AS/DataScience/RawData/train_data.csv')\n",
    "\n",
    "#np.random.seed(42)\n",
    "#chosen_idx = np.random.choice(300000, replace=False, size=75000)\n",
    "\n",
    "#df = df.head(4000)\n",
    "#df = df.sample(500).reset_index()\n",
    "df = df.rename(columns={\"Unnamed: 0\": \"id\"})"
   ]
  },
  {
   "cell_type": "code",
   "execution_count": 6,
   "id": "a3f74f6f",
   "metadata": {
    "scrolled": true
   },
   "outputs": [
    {
     "data": {
      "text/html": [
       "<div>\n",
       "<style scoped>\n",
       "    .dataframe tbody tr th:only-of-type {\n",
       "        vertical-align: middle;\n",
       "    }\n",
       "\n",
       "    .dataframe tbody tr th {\n",
       "        vertical-align: top;\n",
       "    }\n",
       "\n",
       "    .dataframe thead th {\n",
       "        text-align: right;\n",
       "    }\n",
       "</style>\n",
       "<table border=\"1\" class=\"dataframe\">\n",
       "  <thead>\n",
       "    <tr style=\"text-align: right;\">\n",
       "      <th></th>\n",
       "      <th>id</th>\n",
       "      <th>content</th>\n",
       "      <th>title</th>\n",
       "      <th>label</th>\n",
       "      <th>meta_keywords</th>\n",
       "    </tr>\n",
       "  </thead>\n",
       "  <tbody>\n",
       "    <tr>\n",
       "      <th>0</th>\n",
       "      <td>271997</td>\n",
       "      <td>Innovative SEO Tips To Improve WordPress Websi...</td>\n",
       "      <td>Innovative SEO Tips To Improve WordPress Websi...</td>\n",
       "      <td>1</td>\n",
       "      <td>['']</td>\n",
       "    </tr>\n",
       "    <tr>\n",
       "      <th>1</th>\n",
       "      <td>486655</td>\n",
       "      <td>White House removed language that would have p...</td>\n",
       "      <td>Obama Administration Demanded Power To Indefin...</td>\n",
       "      <td>1</td>\n",
       "      <td>['']</td>\n",
       "    </tr>\n",
       "    <tr>\n",
       "      <th>2</th>\n",
       "      <td>25007</td>\n",
       "      <td>Suicidal Stupidity\\n\\n% of readers think this ...</td>\n",
       "      <td>Opinion - Conservative</td>\n",
       "      <td>1</td>\n",
       "      <td>['']</td>\n",
       "    </tr>\n",
       "    <tr>\n",
       "      <th>3</th>\n",
       "      <td>293280</td>\n",
       "      <td>As a society, we have an intense fascination w...</td>\n",
       "      <td>American crime – Awareness Act</td>\n",
       "      <td>1</td>\n",
       "      <td>['']</td>\n",
       "    </tr>\n",
       "    <tr>\n",
       "      <th>4</th>\n",
       "      <td>536927</td>\n",
       "      <td>\\n\\nIn any event, the morphological changes an...</td>\n",
       "      <td>Creation, where is the evidence? I see none., ...</td>\n",
       "      <td>1</td>\n",
       "      <td>['']</td>\n",
       "    </tr>\n",
       "  </tbody>\n",
       "</table>\n",
       "</div>"
      ],
      "text/plain": [
       "       id                                            content  \\\n",
       "0  271997  Innovative SEO Tips To Improve WordPress Websi...   \n",
       "1  486655  White House removed language that would have p...   \n",
       "2   25007  Suicidal Stupidity\\n\\n% of readers think this ...   \n",
       "3  293280  As a society, we have an intense fascination w...   \n",
       "4  536927  \\n\\nIn any event, the morphological changes an...   \n",
       "\n",
       "                                               title  label meta_keywords  \n",
       "0  Innovative SEO Tips To Improve WordPress Websi...      1          ['']  \n",
       "1  Obama Administration Demanded Power To Indefin...      1          ['']  \n",
       "2                             Opinion - Conservative      1          ['']  \n",
       "3                     American crime – Awareness Act      1          ['']  \n",
       "4  Creation, where is the evidence? I see none., ...      1          ['']  "
      ]
     },
     "execution_count": 6,
     "metadata": {},
     "output_type": "execute_result"
    }
   ],
   "source": [
    "df = df.drop(columns=['meta_description'])\n",
    "df.head()"
   ]
  },
  {
   "cell_type": "code",
   "execution_count": 41,
   "id": "364b8dd2",
   "metadata": {},
   "outputs": [
    {
     "data": {
      "text/plain": [
       "id               364931\n",
       "content          364931\n",
       "title            358702\n",
       "label            364931\n",
       "meta_keywords    364931\n",
       "dtype: int64"
      ]
     },
     "execution_count": 41,
     "metadata": {},
     "output_type": "execute_result"
    }
   ],
   "source": [
    "df.count()"
   ]
  },
  {
   "cell_type": "code",
   "execution_count": 42,
   "id": "8cc9467e",
   "metadata": {},
   "outputs": [
    {
     "name": "stdout",
     "output_type": "stream",
     "text": [
      "<class 'pandas.core.frame.DataFrame'>\n",
      "RangeIndex: 364931 entries, 0 to 364930\n",
      "Data columns (total 5 columns):\n",
      " #   Column         Non-Null Count   Dtype \n",
      "---  ------         --------------   ----- \n",
      " 0   id             364931 non-null  int64 \n",
      " 1   content        364931 non-null  object\n",
      " 2   title          358702 non-null  object\n",
      " 3   label          364931 non-null  int64 \n",
      " 4   meta_keywords  364931 non-null  object\n",
      "dtypes: int64(2), object(3)\n",
      "memory usage: 13.9+ MB\n"
     ]
    }
   ],
   "source": [
    "df.info()"
   ]
  },
  {
   "cell_type": "markdown",
   "id": "3f71f8df",
   "metadata": {},
   "source": [
    "# Model 1"
   ]
  },
  {
   "cell_type": "code",
   "execution_count": 7,
   "id": "8f461c0c",
   "metadata": {},
   "outputs": [],
   "source": [
    "def Model1 (training_data,validation_data):\n",
    "    \n",
    "    # 0 Make Model\n",
    "    #\n",
    "    grouped = training_data.groupby(by=['label']).id.count()\n",
    "    # \n",
    "    most_common_label = grouped.idxmax()\n",
    "    \n",
    "    \n",
    "    # 1 Model results\n",
    "    training_data['predicted'] = most_common_label    \n",
    "    \n",
    "    # 2 Validation Tests\n",
    "    validation_data['predicted'] = most_common_label\n",
    "    \n",
    "    # 3 Tests only run one time\n",
    "    \n",
    "    return training_data, validation_data"
   ]
  },
  {
   "cell_type": "markdown",
   "id": "7873d38d",
   "metadata": {},
   "source": [
    "# Model 2"
   ]
  },
  {
   "cell_type": "code",
   "execution_count": 8,
   "id": "2d95672e",
   "metadata": {},
   "outputs": [],
   "source": [
    "# Guess random every time\n",
    "def Model2 (train_data):\n",
    "    #predict = []\n",
    "\n",
    "    #for row in range(0,len(train_data)-1):\n",
    "        #predict.append(random.randint(0,1))\n",
    "        #train_data['predicted'].loc[row] = 1\n",
    "    \n",
    "       # def random_nbr():\n",
    "    #    return random.randint(1,9)\n",
    "    train_data['predicted'] = np.random.randint(0, 2, train_data.shape[0])   \n",
    "    #train_data = train_data.assign(predicted = lambda x : random_nbr() ) \n",
    "    return train_data\n",
    "    #return pd.DataFrame(predict, columns=['label'])\n",
    "   # return predict "
   ]
  },
  {
   "cell_type": "markdown",
   "id": "1d66e2b9",
   "metadata": {},
   "source": [
    "# Model 3 (SVM)"
   ]
  },
  {
   "cell_type": "code",
   "execution_count": 9,
   "id": "cc7b5a2b",
   "metadata": {},
   "outputs": [],
   "source": [
    "#The name Stochastic Gradient Descent - Classifier (SGD-Classifier) might mislead some user to think that SGD is a classifier. \n",
    "#But that’s not the case! SGD Classifier is a linear classifier (SVM, logistic regression, a.o.) optimized by the SGD.\n",
    "#These are two different concepts. While SGD is a optimization method, \n",
    "#Logistic Regression or linear Support Vector Machine is a machine learning algorithm/model\n",
    "text_clf = Pipeline([('vect', CountVectorizer()),\n",
    "                      ('tfidf', TfidfTransformer()),\n",
    "                      ('clf', MultinomialNB()),])\n",
    "text_clf = text_clf.fit(df['content'], df['label'])\n",
    "\n",
    "def Model3(train, validate): \n",
    "    \n",
    "    #X_train_counts, X_train_tfidf = PrepareData(train)\n",
    "    \n",
    "    text_clf_svm = Pipeline([('vect', CountVectorizer()),\n",
    "                          ('tfidf', TfidfTransformer()),\n",
    "                          ('clf-svm', SGDClassifier(loss='hinge', penalty='l2',alpha=1e-3, max_iter=100, random_state=42)),\n",
    "     ])\n",
    "\n",
    "    _ = text_clf_svm.fit(train['content'], train['label'])\n",
    "     \n",
    "    # Make Predictions on train data\n",
    "    train_predicted = text_clf_svm.predict(train['content'])\n",
    "    \n",
    "    # Make Predictions on validation data\n",
    "    predicted = text_clf.predict(validate['content'])\n",
    "    \n",
    "    #np.mean(predicted == validation['label'])\n",
    "\n",
    "    train['predicted'] = train_predicted\n",
    "    validate['predicted'] = predicted\n",
    "    \n",
    "    return train[['label','predicted']], validate[['label','predicted']]"
   ]
  },
  {
   "cell_type": "markdown",
   "id": "f323969a",
   "metadata": {},
   "source": [
    "# Model 4 ( Naive Bayes)"
   ]
  },
  {
   "cell_type": "code",
   "execution_count": 10,
   "id": "66750946",
   "metadata": {},
   "outputs": [],
   "source": [
    "def PrepareData(train):\n",
    "    #https://towardsdatascience.com/machine-learning-nlp-text-classification-using-scikit-learn-python-and-nltk-c52b92a7c73a \n",
    "    \n",
    "    # Extracting features from text.\n",
    "    # We need to convert the text into numerical feature vectors\n",
    "    # We will be using bag of words model\n",
    "    # We segment each text file into words (for English splitting by space),\n",
    "    # and count # of times each word occurs in each document \n",
    "    # and finally assign each word an integer id. \n",
    "    # Each unique word in our dictionary will correspond to a feature (descriptive feature)\n",
    "    \n",
    "    # Scikit-learn has a high level component which will create feature vectors\n",
    "    # https://scikit-learn.org/stable/modules/generated/sklearn.feature_extraction.text.CountVectorizer.html\n",
    "    count_vect = CountVectorizer()\n",
    "    \n",
    "    # We learns the vocabulary dictionary and it returns a Document-Term matrix. [n_samples, m_features].\n",
    "    X_train_counts = count_vect.fit_transform(train['content'])\n",
    "    #print(\"Count: Document-Term matrix shape:\", X_train_counts.shape)\n",
    "    \n",
    "    \n",
    "    # Term Frequency times inverse document frequency.\n",
    "    ## TF: Just counting the number of words in each document has 1 issue: \n",
    "    ## it will give more weightage to longer documents than shorter documents. \n",
    "    ## To avoid this, we can use frequency (TF - Term Frequencies) i.e. #count(word) / #Total words, in each document.\n",
    "    \n",
    "    ## TF-IDF: Finally, we can even reduce the weightage of more common words like (the, is, an etc.) \n",
    "    ## which occurs in all document. This is called as TF-IDF i.e Term Frequency times inverse document frequency.\n",
    "    \n",
    "    tfidf_transformer = TfidfTransformer()\n",
    "    X_train_tfidf = tfidf_transformer.fit_transform(X_train_counts)\n",
    "    #print(\"TF-IDF: Document-Term matrix shape:\", X_train_tfidf.shape)\n",
    "    return X_train_counts, X_train_tfidf"
   ]
  },
  {
   "cell_type": "code",
   "execution_count": 11,
   "id": "70ac538a",
   "metadata": {},
   "outputs": [],
   "source": [
    "\"\"\"\n",
    "from sklearn.pipeline import Pipeline\n",
    "from sklearn.naive_bayes import MultinomialNB\n",
    "from sklearn.feature_extraction.text import CountVectorizer\n",
    "from sklearn.feature_extraction.text import TfidfTransformer\n",
    "\n",
    "\"\"\"\n",
    "def Model4(train, validate): \n",
    "    \n",
    "    X_train_counts, X_train_tfidf = PrepareData(train)\n",
    "    \n",
    "    # Naive Bayes    \n",
    "    clf = MultinomialNB().fit(X_train_tfidf, train['label'])\n",
    "    \n",
    "    # Building a pipeline: We can write less code and do all of the above, by building a pipeline as follows:\n",
    "    # The names ‘vect’ , ‘tfidf’ and ‘clf’ are arbitrary but will be used later.\n",
    "    text_clf = Pipeline([('vect', CountVectorizer()),\n",
    "                          ('tfidf', TfidfTransformer()),\n",
    "                          ('clf', MultinomialNB()),])\n",
    "    \n",
    "    # Train the Naive Bayes Classifier on train data\n",
    "    text_clf = text_clf.fit(train['content'], train['label'])\n",
    "    \n",
    "    # Make Predictions on train data\n",
    "    train_predicted = text_clf.predict(train['content'])\n",
    "    \n",
    "    # Make Predictions on validation data\n",
    "    predicted = text_clf.predict(validate['content'])\n",
    "    \n",
    "    #np.mean(predicted == validation['label'])\n",
    "\n",
    "    train['predicted'] = train_predicted\n",
    "    validate['predicted'] = predicted\n",
    "    \n",
    "    return train[['label','predicted']], validate[['label','predicted']]\n",
    "\n",
    "\n",
    "#x = Model4(data[['content','label']],data[['content','label']])\n",
    "#print(x)"
   ]
  },
  {
   "cell_type": "markdown",
   "id": "0b5ac81b",
   "metadata": {},
   "source": [
    "# Model 5 (LSTM)"
   ]
  },
  {
   "cell_type": "code",
   "execution_count": 12,
   "id": "3af03a29",
   "metadata": {},
   "outputs": [],
   "source": [
    "# save the model to disk\n",
    "#r'C:/Users/D870187/OneDrive - Santander Consumer Bank AS/DataScience/RawData/\n",
    "#def save_model(model_saving):\n",
    "#    filename = 'finalized_model.sav'\n",
    "#    pickle.dump(model_saving, open(filename, 'wb'))\n",
    "#    pass\n",
    "\n"
   ]
  },
  {
   "cell_type": "code",
   "execution_count": 15,
   "id": "a23fcbe7",
   "metadata": {},
   "outputs": [],
   "source": [
    "#https://towardsdatascience.com/multi-class-text-classification-with-lstm-using-tensorflow-2-0-d88627c10a35\n",
    "def decode_article(text):\n",
    "    return ' '.join([reverse_word_index.get(i, '?') for i in text])\n",
    "    \n",
    "def Model5(train,validate):\n",
    "    vocab_size = 5000\n",
    "    embedding_dim = 64\n",
    "    max_length = 200\n",
    "    trunc_type = 'post'\n",
    "    padding_type = 'post'\n",
    "    oov_tok =  '<OOV>'\n",
    "\n",
    "    train_articles = train['content']\n",
    "    train_labels = train['label']\n",
    "    \n",
    "    validation_articles = validate['content']\n",
    "    validation_labels = validate['label']\n",
    "        \n",
    "    #\n",
    "    tokenizer = Tokenizer(num_words = vocab_size, oov_token=oov_tok)\n",
    "    tokenizer.fit_on_texts(train_articles)\n",
    "    word_index = tokenizer.word_index\n",
    "    #dict(list(word_index.items())[0:10])\n",
    "    #print(\"word_index\",word_index)\n",
    "    \n",
    "    \n",
    "    train_sequences = tokenizer.texts_to_sequences(train_articles)\n",
    "    #print(train_sequences[10])\n",
    "\n",
    "    # \n",
    "    train_padded = pad_sequences(train_sequences, maxlen=max_length, padding=padding_type, truncating=trunc_type)\n",
    "    #train_padded = pad_sequences(train_sequences,padding=padding_type, truncating=trunc_type)\n",
    "    #print(train_padded[10])\n",
    "\n",
    "    #\n",
    "    validation_sequences = tokenizer.texts_to_sequences(validation_articles)\n",
    "    validation_padded = pad_sequences(validation_sequences, maxlen=max_length, padding=padding_type, truncating=trunc_type)    \n",
    "    #print(\"validation_sequences\", len(validation_sequences))\n",
    "    #print(\"validation_padded\", validation_padded.shape)\n",
    "    \n",
    "    #\n",
    "    #print(\"train_labels\", train_labels)\n",
    "    label_tokenizer = Tokenizer()\n",
    "    label_tokenizer.fit_on_texts(word_index)\n",
    "    \n",
    "    training_label_seq = np.array(train_labels)\n",
    "    validation_label_seq = np.array(validation_labels)\n",
    "    #training_label_seq = np.array(label_tokenizer.texts_to_sequences(train_labels))\n",
    "    #validation_label_seq = np.array(label_tokenizer.texts_to_sequences(validation_labels))\n",
    "\n",
    "    reverse_word_index = dict([(value, key) for (key, value) in word_index.items()])\n",
    "    \n",
    "    #reverse_word_index = dict([(value, key) for (key, value) in word_index.items()])\n",
    "    \n",
    "    model5 = tf.keras.Sequential([\n",
    "    tf.keras.layers.Embedding(vocab_size, embedding_dim),\n",
    "    tf.keras.layers.Bidirectional(tf.keras.layers.LSTM(embedding_dim)),\n",
    "    tf.keras.layers.Dense(embedding_dim, activation='relu'),\n",
    "    tf.keras.layers.Dense(6, activation='softmax')])  \n",
    "        \n",
    "    model5.compile(loss='sparse_categorical_crossentropy', optimizer='adam', metrics=['accuracy'])\n",
    "    num_epochs = 5\n",
    "    history = model5.fit(train_padded, training_label_seq, epochs=num_epochs, validation_data=(validation_padded, validation_label_seq), verbose=2)\n",
    "    #save_model(model5)\n",
    "    #with open('model_pkl', 'wb') as files:\n",
    "    #    pickle.dump(model5, files)      \n",
    "       \n",
    "    #print(history.params)\n",
    "        \n",
    "    # check the keys of history object\n",
    "    #print(history.history.keys())\n",
    "\n",
    "    def plot_graphs(history, string):\n",
    "        plt.plot(history.history[string])\n",
    "        plt.plot(history.history['val_'+string])\n",
    "        plt.xlabel(\"Epochs\")\n",
    "        plt.ylabel(string)\n",
    "        plt.legend([string, 'val_'+string])\n",
    "        plt.show()\n",
    "\n",
    "    plot_graphs(history, 'accuracy')\n",
    "    plot_graphs(history, 'loss')    \n",
    " \n",
    "\n",
    "    \n",
    "    reverse_word_index = dict([(value, key) for (key, value) in word_index.items()])\n",
    "\n",
    "    def decode_article(text):\n",
    "        return ' '.join([reverse_word_index.get(i, '?') for i in text])\n",
    "    #print(decode_article(train_padded[10]))\n",
    "    #print('---')\n",
    "    #print(train_articles[10])\n",
    "    \"\"\"    \n",
    "    model5 = tf.keras.Sequential([\n",
    "    # Add an Embedding layer expecting input vocab of size 5000, and output embedding dimension of size 64 we set at the top\n",
    "    tf.keras.layers.Embedding(vocab_size, embedding_dim),\n",
    "    tf.keras.layers.Bidirectional(tf.keras.layers.LSTM(embedding_dim)),\n",
    "    #    tf.keras.layers.Bidirectional(tf.keras.layers.LSTM(32)),\n",
    "    # use ReLU in place of tanh function since they are very good alternatives of each other.\n",
    "    tf.keras.layers.Dense(embedding_dim, activation='relu'),\n",
    "    # Add a Dense layer with 6 units and softmax activation.\n",
    "    # When we have multiple outputs, softmax convert outputs layers into a probability distribution.\n",
    "    tf.keras.layers.Dense(6, activation='softmax')\n",
    "    ])\n",
    "    \"\"\"    \n",
    "\n",
    "    ########## Train\n",
    "    # Get predictions\n",
    "    x = model5.predict(train_padded) \n",
    "    x_class = x.argmax(axis=-1)  \n",
    "    \n",
    "    # Save numpy arrays to df\n",
    "    x_df = pd.DataFrame(train_labels,columns=['label'])      \n",
    "    x_class_df = pd.DataFrame(x_class,columns=['predicted'])  \n",
    "    #print(x_df)\n",
    "    #print(x_class_df)\n",
    "    \n",
    "    \n",
    "    # Combine df's\n",
    "    x_df_combined = pd.concat([x_df['label'].astype(int).reset_index(),x_class_df['predicted'].astype(int).reset_index()],axis=1) \n",
    "    #print(\"x_df_combined\",x_df_combined)\n",
    "    \n",
    "    \n",
    "    ##########Validation\n",
    "    # Get predictions\n",
    "    y = model5.predict(validation_padded) \n",
    "    y_class = y.argmax(axis=-1)\n",
    "    \n",
    "    # Save numpy arrays to df\n",
    "    y_df = pd.DataFrame(validation_labels,columns=['label'])    \n",
    "    y_class_df = pd.DataFrame(y_class,columns=['predicted'])\n",
    "    \n",
    "    # Combine df's\n",
    "    y_df_combined = pd.concat([y_df['label'].astype(int).reset_index(),y_class_df['predicted'].astype(int).reset_index()],axis=1) \n",
    "    #print(\"validation_labels_df_combined\",y_df_combined)\n",
    "    \n",
    "    ############\n",
    "    return x_df_combined[['label','predicted']], y_df_combined[['label','predicted']]"
   ]
  },
  {
   "cell_type": "code",
   "execution_count": 16,
   "id": "91427f20",
   "metadata": {},
   "outputs": [
    {
     "ename": "AttributeError",
     "evalue": "'google.protobuf.pyext._message.RepeatedCompositeCo' object has no attribute 'append'",
     "output_type": "error",
     "traceback": [
      "\u001b[1;31m---------------------------------------------------------------------------\u001b[0m",
      "\u001b[1;31mAttributeError\u001b[0m                            Traceback (most recent call last)",
      "\u001b[1;32m<ipython-input-16-cf6a601573a8>\u001b[0m in \u001b[0;36m<module>\u001b[1;34m\u001b[0m\n\u001b[1;32m----> 1\u001b[1;33m \u001b[0mreturn_5\u001b[0m \u001b[1;33m=\u001b[0m \u001b[0mModel5\u001b[0m\u001b[1;33m(\u001b[0m\u001b[0mdf\u001b[0m\u001b[1;33m.\u001b[0m\u001b[0mloc\u001b[0m\u001b[1;33m[\u001b[0m\u001b[1;36m0\u001b[0m\u001b[1;33m:\u001b[0m\u001b[1;36m9\u001b[0m\u001b[1;33m]\u001b[0m\u001b[1;33m,\u001b[0m \u001b[0mdf\u001b[0m\u001b[1;33m.\u001b[0m\u001b[0mloc\u001b[0m\u001b[1;33m[\u001b[0m\u001b[1;36m10\u001b[0m\u001b[1;33m:\u001b[0m\u001b[1;36m19\u001b[0m\u001b[1;33m]\u001b[0m\u001b[1;33m)\u001b[0m\u001b[1;33m\u001b[0m\u001b[1;33m\u001b[0m\u001b[0m\n\u001b[0m",
      "\u001b[1;32m<ipython-input-15-8040bd06420d>\u001b[0m in \u001b[0;36mModel5\u001b[1;34m(train, validate)\u001b[0m\n\u001b[0;32m     57\u001b[0m     \u001b[0mtf\u001b[0m\u001b[1;33m.\u001b[0m\u001b[0mkeras\u001b[0m\u001b[1;33m.\u001b[0m\u001b[0mlayers\u001b[0m\u001b[1;33m.\u001b[0m\u001b[0mBidirectional\u001b[0m\u001b[1;33m(\u001b[0m\u001b[0mtf\u001b[0m\u001b[1;33m.\u001b[0m\u001b[0mkeras\u001b[0m\u001b[1;33m.\u001b[0m\u001b[0mlayers\u001b[0m\u001b[1;33m.\u001b[0m\u001b[0mLSTM\u001b[0m\u001b[1;33m(\u001b[0m\u001b[0membedding_dim\u001b[0m\u001b[1;33m)\u001b[0m\u001b[1;33m)\u001b[0m\u001b[1;33m,\u001b[0m\u001b[1;33m\u001b[0m\u001b[1;33m\u001b[0m\u001b[0m\n\u001b[0;32m     58\u001b[0m     \u001b[0mtf\u001b[0m\u001b[1;33m.\u001b[0m\u001b[0mkeras\u001b[0m\u001b[1;33m.\u001b[0m\u001b[0mlayers\u001b[0m\u001b[1;33m.\u001b[0m\u001b[0mDense\u001b[0m\u001b[1;33m(\u001b[0m\u001b[0membedding_dim\u001b[0m\u001b[1;33m,\u001b[0m \u001b[0mactivation\u001b[0m\u001b[1;33m=\u001b[0m\u001b[1;34m'relu'\u001b[0m\u001b[1;33m)\u001b[0m\u001b[1;33m,\u001b[0m\u001b[1;33m\u001b[0m\u001b[1;33m\u001b[0m\u001b[0m\n\u001b[1;32m---> 59\u001b[1;33m     tf.keras.layers.Dense(6, activation='softmax')])  \n\u001b[0m\u001b[0;32m     60\u001b[0m \u001b[1;33m\u001b[0m\u001b[0m\n\u001b[0;32m     61\u001b[0m     \u001b[0mmodel5\u001b[0m\u001b[1;33m.\u001b[0m\u001b[0mcompile\u001b[0m\u001b[1;33m(\u001b[0m\u001b[0mloss\u001b[0m\u001b[1;33m=\u001b[0m\u001b[1;34m'sparse_categorical_crossentropy'\u001b[0m\u001b[1;33m,\u001b[0m \u001b[0moptimizer\u001b[0m\u001b[1;33m=\u001b[0m\u001b[1;34m'adam'\u001b[0m\u001b[1;33m,\u001b[0m \u001b[0mmetrics\u001b[0m\u001b[1;33m=\u001b[0m\u001b[1;33m[\u001b[0m\u001b[1;34m'accuracy'\u001b[0m\u001b[1;33m]\u001b[0m\u001b[1;33m)\u001b[0m\u001b[1;33m\u001b[0m\u001b[1;33m\u001b[0m\u001b[0m\n",
      "\u001b[1;32mc:\\Users\\jakob\\Anaconda3\\lib\\site-packages\\tensorflow\\python\\training\\tracking\\base.py\u001b[0m in \u001b[0;36m_method_wrapper\u001b[1;34m(self, *args, **kwargs)\u001b[0m\n\u001b[0;32m    515\u001b[0m     \u001b[0mself\u001b[0m\u001b[1;33m.\u001b[0m\u001b[0m_self_setattr_tracking\u001b[0m \u001b[1;33m=\u001b[0m \u001b[1;32mFalse\u001b[0m  \u001b[1;31m# pylint: disable=protected-access\u001b[0m\u001b[1;33m\u001b[0m\u001b[1;33m\u001b[0m\u001b[0m\n\u001b[0;32m    516\u001b[0m     \u001b[1;32mtry\u001b[0m\u001b[1;33m:\u001b[0m\u001b[1;33m\u001b[0m\u001b[1;33m\u001b[0m\u001b[0m\n\u001b[1;32m--> 517\u001b[1;33m       \u001b[0mresult\u001b[0m \u001b[1;33m=\u001b[0m \u001b[0mmethod\u001b[0m\u001b[1;33m(\u001b[0m\u001b[0mself\u001b[0m\u001b[1;33m,\u001b[0m \u001b[1;33m*\u001b[0m\u001b[0margs\u001b[0m\u001b[1;33m,\u001b[0m \u001b[1;33m**\u001b[0m\u001b[0mkwargs\u001b[0m\u001b[1;33m)\u001b[0m\u001b[1;33m\u001b[0m\u001b[1;33m\u001b[0m\u001b[0m\n\u001b[0m\u001b[0;32m    518\u001b[0m     \u001b[1;32mfinally\u001b[0m\u001b[1;33m:\u001b[0m\u001b[1;33m\u001b[0m\u001b[1;33m\u001b[0m\u001b[0m\n\u001b[0;32m    519\u001b[0m       \u001b[0mself\u001b[0m\u001b[1;33m.\u001b[0m\u001b[0m_self_setattr_tracking\u001b[0m \u001b[1;33m=\u001b[0m \u001b[0mprevious_value\u001b[0m  \u001b[1;31m# pylint: disable=protected-access\u001b[0m\u001b[1;33m\u001b[0m\u001b[1;33m\u001b[0m\u001b[0m\n",
      "\u001b[1;32mc:\\Users\\jakob\\Anaconda3\\lib\\site-packages\\tensorflow\\python\\keras\\engine\\sequential.py\u001b[0m in \u001b[0;36m__init__\u001b[1;34m(self, layers, name)\u001b[0m\n\u001b[0;32m    116\u001b[0m     \u001b[1;31m# Skip the init in FunctionalModel since model doesn't have input/output yet\u001b[0m\u001b[1;33m\u001b[0m\u001b[1;33m\u001b[0m\u001b[1;33m\u001b[0m\u001b[0m\n\u001b[0;32m    117\u001b[0m     super(functional.Functional, self).__init__(  # pylint: disable=bad-super-call\n\u001b[1;32m--> 118\u001b[1;33m         name=name, autocast=False)\n\u001b[0m\u001b[0;32m    119\u001b[0m     \u001b[0mbase_layer\u001b[0m\u001b[1;33m.\u001b[0m\u001b[0mkeras_api_gauge\u001b[0m\u001b[1;33m.\u001b[0m\u001b[0mget_cell\u001b[0m\u001b[1;33m(\u001b[0m\u001b[1;34m'Sequential'\u001b[0m\u001b[1;33m)\u001b[0m\u001b[1;33m.\u001b[0m\u001b[0mset\u001b[0m\u001b[1;33m(\u001b[0m\u001b[1;32mTrue\u001b[0m\u001b[1;33m)\u001b[0m\u001b[1;33m\u001b[0m\u001b[1;33m\u001b[0m\u001b[0m\n\u001b[0;32m    120\u001b[0m     \u001b[0mself\u001b[0m\u001b[1;33m.\u001b[0m\u001b[0msupports_masking\u001b[0m \u001b[1;33m=\u001b[0m \u001b[1;32mTrue\u001b[0m\u001b[1;33m\u001b[0m\u001b[1;33m\u001b[0m\u001b[0m\n",
      "\u001b[1;32mc:\\Users\\jakob\\Anaconda3\\lib\\site-packages\\tensorflow\\python\\training\\tracking\\base.py\u001b[0m in \u001b[0;36m_method_wrapper\u001b[1;34m(self, *args, **kwargs)\u001b[0m\n\u001b[0;32m    515\u001b[0m     \u001b[0mself\u001b[0m\u001b[1;33m.\u001b[0m\u001b[0m_self_setattr_tracking\u001b[0m \u001b[1;33m=\u001b[0m \u001b[1;32mFalse\u001b[0m  \u001b[1;31m# pylint: disable=protected-access\u001b[0m\u001b[1;33m\u001b[0m\u001b[1;33m\u001b[0m\u001b[0m\n\u001b[0;32m    516\u001b[0m     \u001b[1;32mtry\u001b[0m\u001b[1;33m:\u001b[0m\u001b[1;33m\u001b[0m\u001b[1;33m\u001b[0m\u001b[0m\n\u001b[1;32m--> 517\u001b[1;33m       \u001b[0mresult\u001b[0m \u001b[1;33m=\u001b[0m \u001b[0mmethod\u001b[0m\u001b[1;33m(\u001b[0m\u001b[0mself\u001b[0m\u001b[1;33m,\u001b[0m \u001b[1;33m*\u001b[0m\u001b[0margs\u001b[0m\u001b[1;33m,\u001b[0m \u001b[1;33m**\u001b[0m\u001b[0mkwargs\u001b[0m\u001b[1;33m)\u001b[0m\u001b[1;33m\u001b[0m\u001b[1;33m\u001b[0m\u001b[0m\n\u001b[0m\u001b[0;32m    518\u001b[0m     \u001b[1;32mfinally\u001b[0m\u001b[1;33m:\u001b[0m\u001b[1;33m\u001b[0m\u001b[1;33m\u001b[0m\u001b[0m\n\u001b[0;32m    519\u001b[0m       \u001b[0mself\u001b[0m\u001b[1;33m.\u001b[0m\u001b[0m_self_setattr_tracking\u001b[0m \u001b[1;33m=\u001b[0m \u001b[0mprevious_value\u001b[0m  \u001b[1;31m# pylint: disable=protected-access\u001b[0m\u001b[1;33m\u001b[0m\u001b[1;33m\u001b[0m\u001b[0m\n",
      "\u001b[1;32mc:\\Users\\jakob\\Anaconda3\\lib\\site-packages\\tensorflow\\python\\keras\\engine\\training.py\u001b[0m in \u001b[0;36m__init__\u001b[1;34m(self, *args, **kwargs)\u001b[0m\n\u001b[0;32m    291\u001b[0m     \u001b[0mself\u001b[0m\u001b[1;33m.\u001b[0m\u001b[0m_steps_per_execution\u001b[0m \u001b[1;33m=\u001b[0m \u001b[1;32mNone\u001b[0m\u001b[1;33m\u001b[0m\u001b[1;33m\u001b[0m\u001b[0m\n\u001b[0;32m    292\u001b[0m \u001b[1;33m\u001b[0m\u001b[0m\n\u001b[1;32m--> 293\u001b[1;33m     \u001b[0mself\u001b[0m\u001b[1;33m.\u001b[0m\u001b[0m_init_batch_counters\u001b[0m\u001b[1;33m(\u001b[0m\u001b[1;33m)\u001b[0m\u001b[1;33m\u001b[0m\u001b[1;33m\u001b[0m\u001b[0m\n\u001b[0m\u001b[0;32m    294\u001b[0m     \u001b[0mself\u001b[0m\u001b[1;33m.\u001b[0m\u001b[0m_base_model_initialized\u001b[0m \u001b[1;33m=\u001b[0m \u001b[1;32mTrue\u001b[0m\u001b[1;33m\u001b[0m\u001b[1;33m\u001b[0m\u001b[0m\n\u001b[0;32m    295\u001b[0m \u001b[1;33m\u001b[0m\u001b[0m\n",
      "\u001b[1;32mc:\\Users\\jakob\\Anaconda3\\lib\\site-packages\\tensorflow\\python\\training\\tracking\\base.py\u001b[0m in \u001b[0;36m_method_wrapper\u001b[1;34m(self, *args, **kwargs)\u001b[0m\n\u001b[0;32m    515\u001b[0m     \u001b[0mself\u001b[0m\u001b[1;33m.\u001b[0m\u001b[0m_self_setattr_tracking\u001b[0m \u001b[1;33m=\u001b[0m \u001b[1;32mFalse\u001b[0m  \u001b[1;31m# pylint: disable=protected-access\u001b[0m\u001b[1;33m\u001b[0m\u001b[1;33m\u001b[0m\u001b[0m\n\u001b[0;32m    516\u001b[0m     \u001b[1;32mtry\u001b[0m\u001b[1;33m:\u001b[0m\u001b[1;33m\u001b[0m\u001b[1;33m\u001b[0m\u001b[0m\n\u001b[1;32m--> 517\u001b[1;33m       \u001b[0mresult\u001b[0m \u001b[1;33m=\u001b[0m \u001b[0mmethod\u001b[0m\u001b[1;33m(\u001b[0m\u001b[0mself\u001b[0m\u001b[1;33m,\u001b[0m \u001b[1;33m*\u001b[0m\u001b[0margs\u001b[0m\u001b[1;33m,\u001b[0m \u001b[1;33m**\u001b[0m\u001b[0mkwargs\u001b[0m\u001b[1;33m)\u001b[0m\u001b[1;33m\u001b[0m\u001b[1;33m\u001b[0m\u001b[0m\n\u001b[0m\u001b[0;32m    518\u001b[0m     \u001b[1;32mfinally\u001b[0m\u001b[1;33m:\u001b[0m\u001b[1;33m\u001b[0m\u001b[1;33m\u001b[0m\u001b[0m\n\u001b[0;32m    519\u001b[0m       \u001b[0mself\u001b[0m\u001b[1;33m.\u001b[0m\u001b[0m_self_setattr_tracking\u001b[0m \u001b[1;33m=\u001b[0m \u001b[0mprevious_value\u001b[0m  \u001b[1;31m# pylint: disable=protected-access\u001b[0m\u001b[1;33m\u001b[0m\u001b[1;33m\u001b[0m\u001b[0m\n",
      "\u001b[1;32mc:\\Users\\jakob\\Anaconda3\\lib\\site-packages\\tensorflow\\python\\keras\\engine\\training.py\u001b[0m in \u001b[0;36m_init_batch_counters\u001b[1;34m(self)\u001b[0m\n\u001b[0;32m    299\u001b[0m     \u001b[1;31m# `evaluate`, and `predict`.\u001b[0m\u001b[1;33m\u001b[0m\u001b[1;33m\u001b[0m\u001b[1;33m\u001b[0m\u001b[0m\n\u001b[0;32m    300\u001b[0m     \u001b[0magg\u001b[0m \u001b[1;33m=\u001b[0m \u001b[0mvariables\u001b[0m\u001b[1;33m.\u001b[0m\u001b[0mVariableAggregationV2\u001b[0m\u001b[1;33m.\u001b[0m\u001b[0mONLY_FIRST_REPLICA\u001b[0m\u001b[1;33m\u001b[0m\u001b[1;33m\u001b[0m\u001b[0m\n\u001b[1;32m--> 301\u001b[1;33m     \u001b[0mself\u001b[0m\u001b[1;33m.\u001b[0m\u001b[0m_train_counter\u001b[0m \u001b[1;33m=\u001b[0m \u001b[0mvariables\u001b[0m\u001b[1;33m.\u001b[0m\u001b[0mVariable\u001b[0m\u001b[1;33m(\u001b[0m\u001b[1;36m0\u001b[0m\u001b[1;33m,\u001b[0m \u001b[0mdtype\u001b[0m\u001b[1;33m=\u001b[0m\u001b[1;34m'int64'\u001b[0m\u001b[1;33m,\u001b[0m \u001b[0maggregation\u001b[0m\u001b[1;33m=\u001b[0m\u001b[0magg\u001b[0m\u001b[1;33m)\u001b[0m\u001b[1;33m\u001b[0m\u001b[1;33m\u001b[0m\u001b[0m\n\u001b[0m\u001b[0;32m    302\u001b[0m     \u001b[0mself\u001b[0m\u001b[1;33m.\u001b[0m\u001b[0m_test_counter\u001b[0m \u001b[1;33m=\u001b[0m \u001b[0mvariables\u001b[0m\u001b[1;33m.\u001b[0m\u001b[0mVariable\u001b[0m\u001b[1;33m(\u001b[0m\u001b[1;36m0\u001b[0m\u001b[1;33m,\u001b[0m \u001b[0mdtype\u001b[0m\u001b[1;33m=\u001b[0m\u001b[1;34m'int64'\u001b[0m\u001b[1;33m,\u001b[0m \u001b[0maggregation\u001b[0m\u001b[1;33m=\u001b[0m\u001b[0magg\u001b[0m\u001b[1;33m)\u001b[0m\u001b[1;33m\u001b[0m\u001b[1;33m\u001b[0m\u001b[0m\n\u001b[0;32m    303\u001b[0m     self._predict_counter = variables.Variable(\n",
      "\u001b[1;32mc:\\Users\\jakob\\Anaconda3\\lib\\site-packages\\tensorflow\\python\\ops\\variables.py\u001b[0m in \u001b[0;36m__call__\u001b[1;34m(cls, *args, **kwargs)\u001b[0m\n\u001b[0;32m    260\u001b[0m       \u001b[1;32mreturn\u001b[0m \u001b[0mcls\u001b[0m\u001b[1;33m.\u001b[0m\u001b[0m_variable_v1_call\u001b[0m\u001b[1;33m(\u001b[0m\u001b[1;33m*\u001b[0m\u001b[0margs\u001b[0m\u001b[1;33m,\u001b[0m \u001b[1;33m**\u001b[0m\u001b[0mkwargs\u001b[0m\u001b[1;33m)\u001b[0m\u001b[1;33m\u001b[0m\u001b[1;33m\u001b[0m\u001b[0m\n\u001b[0;32m    261\u001b[0m     \u001b[1;32melif\u001b[0m \u001b[0mcls\u001b[0m \u001b[1;32mis\u001b[0m \u001b[0mVariable\u001b[0m\u001b[1;33m:\u001b[0m\u001b[1;33m\u001b[0m\u001b[1;33m\u001b[0m\u001b[0m\n\u001b[1;32m--> 262\u001b[1;33m       \u001b[1;32mreturn\u001b[0m \u001b[0mcls\u001b[0m\u001b[1;33m.\u001b[0m\u001b[0m_variable_v2_call\u001b[0m\u001b[1;33m(\u001b[0m\u001b[1;33m*\u001b[0m\u001b[0margs\u001b[0m\u001b[1;33m,\u001b[0m \u001b[1;33m**\u001b[0m\u001b[0mkwargs\u001b[0m\u001b[1;33m)\u001b[0m\u001b[1;33m\u001b[0m\u001b[1;33m\u001b[0m\u001b[0m\n\u001b[0m\u001b[0;32m    263\u001b[0m     \u001b[1;32melse\u001b[0m\u001b[1;33m:\u001b[0m\u001b[1;33m\u001b[0m\u001b[1;33m\u001b[0m\u001b[0m\n\u001b[0;32m    264\u001b[0m       \u001b[1;32mreturn\u001b[0m \u001b[0msuper\u001b[0m\u001b[1;33m(\u001b[0m\u001b[0mVariableMetaclass\u001b[0m\u001b[1;33m,\u001b[0m \u001b[0mcls\u001b[0m\u001b[1;33m)\u001b[0m\u001b[1;33m.\u001b[0m\u001b[0m__call__\u001b[0m\u001b[1;33m(\u001b[0m\u001b[1;33m*\u001b[0m\u001b[0margs\u001b[0m\u001b[1;33m,\u001b[0m \u001b[1;33m**\u001b[0m\u001b[0mkwargs\u001b[0m\u001b[1;33m)\u001b[0m\u001b[1;33m\u001b[0m\u001b[1;33m\u001b[0m\u001b[0m\n",
      "\u001b[1;32mc:\\Users\\jakob\\Anaconda3\\lib\\site-packages\\tensorflow\\python\\ops\\variables.py\u001b[0m in \u001b[0;36m_variable_v2_call\u001b[1;34m(cls, initial_value, trainable, validate_shape, caching_device, name, variable_def, dtype, import_scope, constraint, synchronization, aggregation, shape)\u001b[0m\n\u001b[0;32m    254\u001b[0m         \u001b[0msynchronization\u001b[0m\u001b[1;33m=\u001b[0m\u001b[0msynchronization\u001b[0m\u001b[1;33m,\u001b[0m\u001b[1;33m\u001b[0m\u001b[1;33m\u001b[0m\u001b[0m\n\u001b[0;32m    255\u001b[0m         \u001b[0maggregation\u001b[0m\u001b[1;33m=\u001b[0m\u001b[0maggregation\u001b[0m\u001b[1;33m,\u001b[0m\u001b[1;33m\u001b[0m\u001b[1;33m\u001b[0m\u001b[0m\n\u001b[1;32m--> 256\u001b[1;33m         shape=shape)\n\u001b[0m\u001b[0;32m    257\u001b[0m \u001b[1;33m\u001b[0m\u001b[0m\n\u001b[0;32m    258\u001b[0m   \u001b[1;32mdef\u001b[0m \u001b[0m__call__\u001b[0m\u001b[1;33m(\u001b[0m\u001b[0mcls\u001b[0m\u001b[1;33m,\u001b[0m \u001b[1;33m*\u001b[0m\u001b[0margs\u001b[0m\u001b[1;33m,\u001b[0m \u001b[1;33m**\u001b[0m\u001b[0mkwargs\u001b[0m\u001b[1;33m)\u001b[0m\u001b[1;33m:\u001b[0m\u001b[1;33m\u001b[0m\u001b[1;33m\u001b[0m\u001b[0m\n",
      "\u001b[1;32mc:\\Users\\jakob\\Anaconda3\\lib\\site-packages\\tensorflow\\python\\ops\\variables.py\u001b[0m in \u001b[0;36m<lambda>\u001b[1;34m(**kws)\u001b[0m\n\u001b[0;32m    235\u001b[0m                         shape=None):\n\u001b[0;32m    236\u001b[0m     \u001b[1;34m\"\"\"Call on Variable class. Useful to force the signature.\"\"\"\u001b[0m\u001b[1;33m\u001b[0m\u001b[1;33m\u001b[0m\u001b[0m\n\u001b[1;32m--> 237\u001b[1;33m     \u001b[0mprevious_getter\u001b[0m \u001b[1;33m=\u001b[0m \u001b[1;32mlambda\u001b[0m \u001b[1;33m**\u001b[0m\u001b[0mkws\u001b[0m\u001b[1;33m:\u001b[0m \u001b[0mdefault_variable_creator_v2\u001b[0m\u001b[1;33m(\u001b[0m\u001b[1;32mNone\u001b[0m\u001b[1;33m,\u001b[0m \u001b[1;33m**\u001b[0m\u001b[0mkws\u001b[0m\u001b[1;33m)\u001b[0m\u001b[1;33m\u001b[0m\u001b[1;33m\u001b[0m\u001b[0m\n\u001b[0m\u001b[0;32m    238\u001b[0m     \u001b[1;32mfor\u001b[0m \u001b[0m_\u001b[0m\u001b[1;33m,\u001b[0m \u001b[0mgetter\u001b[0m \u001b[1;32min\u001b[0m \u001b[0mops\u001b[0m\u001b[1;33m.\u001b[0m\u001b[0mget_default_graph\u001b[0m\u001b[1;33m(\u001b[0m\u001b[1;33m)\u001b[0m\u001b[1;33m.\u001b[0m\u001b[0m_variable_creator_stack\u001b[0m\u001b[1;33m:\u001b[0m  \u001b[1;31m# pylint: disable=protected-access\u001b[0m\u001b[1;33m\u001b[0m\u001b[1;33m\u001b[0m\u001b[0m\n\u001b[0;32m    239\u001b[0m       \u001b[0mprevious_getter\u001b[0m \u001b[1;33m=\u001b[0m \u001b[0m_make_getter\u001b[0m\u001b[1;33m(\u001b[0m\u001b[0mgetter\u001b[0m\u001b[1;33m,\u001b[0m \u001b[0mprevious_getter\u001b[0m\u001b[1;33m)\u001b[0m\u001b[1;33m\u001b[0m\u001b[1;33m\u001b[0m\u001b[0m\n",
      "\u001b[1;32mc:\\Users\\jakob\\Anaconda3\\lib\\site-packages\\tensorflow\\python\\ops\\variable_scope.py\u001b[0m in \u001b[0;36mdefault_variable_creator_v2\u001b[1;34m(next_creator, **kwargs)\u001b[0m\n\u001b[0;32m   2665\u001b[0m       \u001b[0msynchronization\u001b[0m\u001b[1;33m=\u001b[0m\u001b[0msynchronization\u001b[0m\u001b[1;33m,\u001b[0m\u001b[1;33m\u001b[0m\u001b[1;33m\u001b[0m\u001b[0m\n\u001b[0;32m   2666\u001b[0m       \u001b[0maggregation\u001b[0m\u001b[1;33m=\u001b[0m\u001b[0maggregation\u001b[0m\u001b[1;33m,\u001b[0m\u001b[1;33m\u001b[0m\u001b[1;33m\u001b[0m\u001b[0m\n\u001b[1;32m-> 2667\u001b[1;33m       shape=shape)\n\u001b[0m\u001b[0;32m   2668\u001b[0m \u001b[1;33m\u001b[0m\u001b[0m\n\u001b[0;32m   2669\u001b[0m \u001b[1;33m\u001b[0m\u001b[0m\n",
      "\u001b[1;32mc:\\Users\\jakob\\Anaconda3\\lib\\site-packages\\tensorflow\\python\\ops\\variables.py\u001b[0m in \u001b[0;36m__call__\u001b[1;34m(cls, *args, **kwargs)\u001b[0m\n\u001b[0;32m    262\u001b[0m       \u001b[1;32mreturn\u001b[0m \u001b[0mcls\u001b[0m\u001b[1;33m.\u001b[0m\u001b[0m_variable_v2_call\u001b[0m\u001b[1;33m(\u001b[0m\u001b[1;33m*\u001b[0m\u001b[0margs\u001b[0m\u001b[1;33m,\u001b[0m \u001b[1;33m**\u001b[0m\u001b[0mkwargs\u001b[0m\u001b[1;33m)\u001b[0m\u001b[1;33m\u001b[0m\u001b[1;33m\u001b[0m\u001b[0m\n\u001b[0;32m    263\u001b[0m     \u001b[1;32melse\u001b[0m\u001b[1;33m:\u001b[0m\u001b[1;33m\u001b[0m\u001b[1;33m\u001b[0m\u001b[0m\n\u001b[1;32m--> 264\u001b[1;33m       \u001b[1;32mreturn\u001b[0m \u001b[0msuper\u001b[0m\u001b[1;33m(\u001b[0m\u001b[0mVariableMetaclass\u001b[0m\u001b[1;33m,\u001b[0m \u001b[0mcls\u001b[0m\u001b[1;33m)\u001b[0m\u001b[1;33m.\u001b[0m\u001b[0m__call__\u001b[0m\u001b[1;33m(\u001b[0m\u001b[1;33m*\u001b[0m\u001b[0margs\u001b[0m\u001b[1;33m,\u001b[0m \u001b[1;33m**\u001b[0m\u001b[0mkwargs\u001b[0m\u001b[1;33m)\u001b[0m\u001b[1;33m\u001b[0m\u001b[1;33m\u001b[0m\u001b[0m\n\u001b[0m\u001b[0;32m    265\u001b[0m \u001b[1;33m\u001b[0m\u001b[0m\n\u001b[0;32m    266\u001b[0m \u001b[1;33m\u001b[0m\u001b[0m\n",
      "\u001b[1;32mc:\\Users\\jakob\\Anaconda3\\lib\\site-packages\\tensorflow\\python\\ops\\resource_variable_ops.py\u001b[0m in \u001b[0;36m__init__\u001b[1;34m(self, initial_value, trainable, collections, validate_shape, caching_device, name, dtype, variable_def, import_scope, constraint, distribute_strategy, synchronization, aggregation, shape)\u001b[0m\n\u001b[0;32m   1583\u001b[0m           \u001b[0maggregation\u001b[0m\u001b[1;33m=\u001b[0m\u001b[0maggregation\u001b[0m\u001b[1;33m,\u001b[0m\u001b[1;33m\u001b[0m\u001b[1;33m\u001b[0m\u001b[0m\n\u001b[0;32m   1584\u001b[0m           \u001b[0mshape\u001b[0m\u001b[1;33m=\u001b[0m\u001b[0mshape\u001b[0m\u001b[1;33m,\u001b[0m\u001b[1;33m\u001b[0m\u001b[1;33m\u001b[0m\u001b[0m\n\u001b[1;32m-> 1585\u001b[1;33m           distribute_strategy=distribute_strategy)\n\u001b[0m\u001b[0;32m   1586\u001b[0m \u001b[1;33m\u001b[0m\u001b[0m\n\u001b[0;32m   1587\u001b[0m   def _init_from_args(self,\n",
      "\u001b[1;32mc:\\Users\\jakob\\Anaconda3\\lib\\site-packages\\tensorflow\\python\\ops\\resource_variable_ops.py\u001b[0m in \u001b[0;36m_init_from_args\u001b[1;34m(self, initial_value, trainable, collections, caching_device, name, dtype, constraint, synchronization, aggregation, distribute_strategy, shape)\u001b[0m\n\u001b[0;32m   1731\u001b[0m               \u001b[0mshared_name\u001b[0m\u001b[1;33m=\u001b[0m\u001b[0mshared_name\u001b[0m\u001b[1;33m,\u001b[0m\u001b[1;33m\u001b[0m\u001b[1;33m\u001b[0m\u001b[0m\n\u001b[0;32m   1732\u001b[0m               \u001b[0mname\u001b[0m\u001b[1;33m=\u001b[0m\u001b[0mname\u001b[0m\u001b[1;33m,\u001b[0m\u001b[1;33m\u001b[0m\u001b[1;33m\u001b[0m\u001b[0m\n\u001b[1;32m-> 1733\u001b[1;33m               graph_mode=self._in_graph_mode)\n\u001b[0m\u001b[0;32m   1734\u001b[0m         \u001b[1;31m# pylint: disable=protected-access\u001b[0m\u001b[1;33m\u001b[0m\u001b[1;33m\u001b[0m\u001b[1;33m\u001b[0m\u001b[0m\n\u001b[0;32m   1735\u001b[0m         if (self._in_graph_mode and initial_value is not None and\n",
      "\u001b[1;32mc:\\Users\\jakob\\Anaconda3\\lib\\site-packages\\tensorflow\\python\\ops\\resource_variable_ops.py\u001b[0m in \u001b[0;36meager_safe_variable_handle\u001b[1;34m(initial_value, shape, shared_name, name, graph_mode)\u001b[0m\n\u001b[0;32m    235\u001b[0m   \u001b[0mdtype\u001b[0m \u001b[1;33m=\u001b[0m \u001b[0minitial_value\u001b[0m\u001b[1;33m.\u001b[0m\u001b[0mdtype\u001b[0m\u001b[1;33m.\u001b[0m\u001b[0mbase_dtype\u001b[0m\u001b[1;33m\u001b[0m\u001b[1;33m\u001b[0m\u001b[0m\n\u001b[0;32m    236\u001b[0m   return _variable_handle_from_shape_and_dtype(shape, dtype, shared_name, name,\n\u001b[1;32m--> 237\u001b[1;33m                                                graph_mode, initial_value)\n\u001b[0m\u001b[0;32m    238\u001b[0m \u001b[1;33m\u001b[0m\u001b[0m\n\u001b[0;32m    239\u001b[0m \u001b[1;33m\u001b[0m\u001b[0m\n",
      "\u001b[1;32mc:\\Users\\jakob\\Anaconda3\\lib\\site-packages\\tensorflow\\python\\ops\\resource_variable_ops.py\u001b[0m in \u001b[0;36m_variable_handle_from_shape_and_dtype\u001b[1;34m(shape, dtype, shared_name, name, graph_mode, initial_value)\u001b[0m\n\u001b[0;32m    173\u001b[0m     \u001b[0mhandle_data\u001b[0m \u001b[1;33m=\u001b[0m \u001b[0mcpp_shape_inference_pb2\u001b[0m\u001b[1;33m.\u001b[0m\u001b[0mCppShapeInferenceResult\u001b[0m\u001b[1;33m.\u001b[0m\u001b[0mHandleData\u001b[0m\u001b[1;33m(\u001b[0m\u001b[1;33m)\u001b[0m\u001b[1;33m\u001b[0m\u001b[1;33m\u001b[0m\u001b[0m\n\u001b[0;32m    174\u001b[0m     \u001b[0mhandle_data\u001b[0m\u001b[1;33m.\u001b[0m\u001b[0mis_set\u001b[0m \u001b[1;33m=\u001b[0m \u001b[1;32mTrue\u001b[0m\u001b[1;33m\u001b[0m\u001b[1;33m\u001b[0m\u001b[0m\n\u001b[1;32m--> 175\u001b[1;33m     handle_data.shape_and_type.append(\n\u001b[0m\u001b[0;32m    176\u001b[0m         cpp_shape_inference_pb2.CppShapeInferenceResult.HandleShapeAndType(\n\u001b[0;32m    177\u001b[0m             shape=shape.as_proto(), dtype=dtype.as_datatype_enum))\n",
      "\u001b[1;31mAttributeError\u001b[0m: 'google.protobuf.pyext._message.RepeatedCompositeCo' object has no attribute 'append'"
     ]
    }
   ],
   "source": [
    "return_5 = Model5(df.loc[0:9], df.loc[10:19])"
   ]
  },
  {
   "cell_type": "code",
   "execution_count": 498,
   "id": "cec6d0f4",
   "metadata": {},
   "outputs": [],
   "source": [
    "# load the model from disk\n",
    "# load saved model\n",
    "#with open('model_pkl' , 'rb') as f:\n",
    "#    lr = pickle.load(f)\n",
    "    \n",
    "# check prediction\n",
    "\n",
    "#a = lr.predict([1,0]) # similar\n",
    "#loaded_model = pickle.load(open(filename, 'rb'))\n",
    "#result = loaded_model.score(df.loc[0:124], df.loc[125:249])"
   ]
  },
  {
   "cell_type": "code",
   "execution_count": 462,
   "id": "ac017d41",
   "metadata": {},
   "outputs": [
    {
     "name": "stdout",
     "output_type": "stream",
     "text": [
      "Epoch 1/100\n",
      "16/16 - 7s - loss: 1.5422 - accuracy: 0.4900 - val_loss: 0.7612 - val_accuracy: 0.4700 - 7s/epoch - 431ms/step\n",
      "Epoch 2/100\n",
      "16/16 - 5s - loss: 0.6947 - accuracy: 0.5560 - val_loss: 0.7300 - val_accuracy: 0.4700 - 5s/epoch - 301ms/step\n",
      "Epoch 3/100\n",
      "16/16 - 5s - loss: 0.6728 - accuracy: 0.5920 - val_loss: 0.6637 - val_accuracy: 0.6160 - 5s/epoch - 307ms/step\n",
      "Epoch 4/100\n",
      "16/16 - 5s - loss: 0.6460 - accuracy: 0.6280 - val_loss: 0.6621 - val_accuracy: 0.6120 - 5s/epoch - 312ms/step\n",
      "Epoch 5/100\n",
      "16/16 - 5s - loss: 0.5847 - accuracy: 0.7340 - val_loss: 0.6194 - val_accuracy: 0.6460 - 5s/epoch - 308ms/step\n",
      "Epoch 6/100\n",
      "16/16 - 5s - loss: 0.4231 - accuracy: 0.8060 - val_loss: 0.5876 - val_accuracy: 0.6580 - 5s/epoch - 314ms/step\n",
      "Epoch 7/100\n",
      "16/16 - 5s - loss: 0.4437 - accuracy: 0.7900 - val_loss: 0.6825 - val_accuracy: 0.6020 - 5s/epoch - 305ms/step\n",
      "Epoch 8/100\n",
      "16/16 - 5s - loss: 0.5632 - accuracy: 0.7340 - val_loss: 0.5878 - val_accuracy: 0.6640 - 5s/epoch - 314ms/step\n",
      "Epoch 9/100\n",
      "16/16 - 5s - loss: 0.3527 - accuracy: 0.9100 - val_loss: 0.4870 - val_accuracy: 0.7660 - 5s/epoch - 323ms/step\n",
      "Epoch 10/100\n",
      "16/16 - 5s - loss: 0.1437 - accuracy: 0.9800 - val_loss: 0.4770 - val_accuracy: 0.8160 - 5s/epoch - 328ms/step\n",
      "Epoch 11/100\n",
      "16/16 - 5s - loss: 0.0622 - accuracy: 0.9780 - val_loss: 0.4475 - val_accuracy: 0.8320 - 5s/epoch - 330ms/step\n",
      "Epoch 12/100\n",
      "16/16 - 5s - loss: 0.0160 - accuracy: 1.0000 - val_loss: 0.4791 - val_accuracy: 0.8260 - 5s/epoch - 325ms/step\n",
      "Epoch 13/100\n",
      "16/16 - 5s - loss: 0.0054 - accuracy: 1.0000 - val_loss: 0.5378 - val_accuracy: 0.8160 - 5s/epoch - 324ms/step\n",
      "Epoch 14/100\n",
      "16/16 - 5s - loss: 0.0028 - accuracy: 1.0000 - val_loss: 0.6037 - val_accuracy: 0.8320 - 5s/epoch - 323ms/step\n",
      "Epoch 15/100\n",
      "16/16 - 5s - loss: 0.0019 - accuracy: 1.0000 - val_loss: 0.6014 - val_accuracy: 0.8260 - 5s/epoch - 323ms/step\n",
      "Epoch 16/100\n",
      "16/16 - 5s - loss: 0.0013 - accuracy: 1.0000 - val_loss: 0.6223 - val_accuracy: 0.8240 - 5s/epoch - 301ms/step\n",
      "Epoch 17/100\n",
      "16/16 - 5s - loss: 9.7470e-04 - accuracy: 1.0000 - val_loss: 0.6573 - val_accuracy: 0.8300 - 5s/epoch - 301ms/step\n",
      "Epoch 18/100\n",
      "16/16 - 5s - loss: 7.7819e-04 - accuracy: 1.0000 - val_loss: 0.6722 - val_accuracy: 0.8280 - 5s/epoch - 301ms/step\n",
      "Epoch 19/100\n",
      "16/16 - 5s - loss: 6.4460e-04 - accuracy: 1.0000 - val_loss: 0.6861 - val_accuracy: 0.8280 - 5s/epoch - 306ms/step\n",
      "Epoch 20/100\n",
      "16/16 - 5s - loss: 5.4472e-04 - accuracy: 1.0000 - val_loss: 0.7016 - val_accuracy: 0.8280 - 5s/epoch - 309ms/step\n",
      "Epoch 21/100\n",
      "16/16 - 5s - loss: 4.6907e-04 - accuracy: 1.0000 - val_loss: 0.7199 - val_accuracy: 0.8280 - 5s/epoch - 305ms/step\n",
      "Epoch 22/100\n",
      "16/16 - 5s - loss: 4.0666e-04 - accuracy: 1.0000 - val_loss: 0.7328 - val_accuracy: 0.8180 - 5s/epoch - 304ms/step\n",
      "Epoch 23/100\n",
      "16/16 - 5s - loss: 3.5594e-04 - accuracy: 1.0000 - val_loss: 0.7458 - val_accuracy: 0.8140 - 5s/epoch - 305ms/step\n",
      "Epoch 24/100\n",
      "16/16 - 5s - loss: 3.1386e-04 - accuracy: 1.0000 - val_loss: 0.7592 - val_accuracy: 0.8140 - 5s/epoch - 305ms/step\n",
      "Epoch 25/100\n",
      "16/16 - 5s - loss: 2.7818e-04 - accuracy: 1.0000 - val_loss: 0.7723 - val_accuracy: 0.8140 - 5s/epoch - 310ms/step\n",
      "Epoch 26/100\n",
      "16/16 - 5s - loss: 2.4773e-04 - accuracy: 1.0000 - val_loss: 0.7842 - val_accuracy: 0.8180 - 5s/epoch - 307ms/step\n",
      "Epoch 27/100\n",
      "16/16 - 5s - loss: 2.2163e-04 - accuracy: 1.0000 - val_loss: 0.7966 - val_accuracy: 0.8160 - 5s/epoch - 305ms/step\n",
      "Epoch 28/100\n",
      "16/16 - 5s - loss: 2.0021e-04 - accuracy: 1.0000 - val_loss: 0.8089 - val_accuracy: 0.8120 - 5s/epoch - 314ms/step\n",
      "Epoch 29/100\n",
      "16/16 - 5s - loss: 1.8211e-04 - accuracy: 1.0000 - val_loss: 0.8196 - val_accuracy: 0.8080 - 5s/epoch - 309ms/step\n",
      "Epoch 30/100\n",
      "16/16 - 5s - loss: 1.6597e-04 - accuracy: 1.0000 - val_loss: 0.8309 - val_accuracy: 0.8080 - 5s/epoch - 308ms/step\n",
      "Epoch 31/100\n",
      "16/16 - 5s - loss: 1.5226e-04 - accuracy: 1.0000 - val_loss: 0.8415 - val_accuracy: 0.8080 - 5s/epoch - 309ms/step\n",
      "Epoch 32/100\n",
      "16/16 - 5s - loss: 1.3993e-04 - accuracy: 1.0000 - val_loss: 0.8508 - val_accuracy: 0.8080 - 5s/epoch - 310ms/step\n",
      "Epoch 33/100\n",
      "16/16 - 5s - loss: 1.2947e-04 - accuracy: 1.0000 - val_loss: 0.8607 - val_accuracy: 0.8080 - 5s/epoch - 309ms/step\n",
      "Epoch 34/100\n",
      "16/16 - 5s - loss: 1.1989e-04 - accuracy: 1.0000 - val_loss: 0.8698 - val_accuracy: 0.8080 - 5s/epoch - 308ms/step\n",
      "Epoch 35/100\n",
      "16/16 - 5s - loss: 1.1156e-04 - accuracy: 1.0000 - val_loss: 0.8787 - val_accuracy: 0.8060 - 5s/epoch - 316ms/step\n",
      "Epoch 36/100\n",
      "16/16 - 5s - loss: 1.0388e-04 - accuracy: 1.0000 - val_loss: 0.8868 - val_accuracy: 0.8060 - 5s/epoch - 311ms/step\n",
      "Epoch 37/100\n",
      "16/16 - 5s - loss: 9.7249e-05 - accuracy: 1.0000 - val_loss: 0.8954 - val_accuracy: 0.8040 - 5s/epoch - 313ms/step\n",
      "Epoch 38/100\n",
      "16/16 - 5s - loss: 9.0882e-05 - accuracy: 1.0000 - val_loss: 0.9032 - val_accuracy: 0.8040 - 5s/epoch - 312ms/step\n",
      "Epoch 39/100\n",
      "16/16 - 5s - loss: 8.5379e-05 - accuracy: 1.0000 - val_loss: 0.9104 - val_accuracy: 0.8040 - 5s/epoch - 312ms/step\n",
      "Epoch 40/100\n",
      "16/16 - 5s - loss: 8.0302e-05 - accuracy: 1.0000 - val_loss: 0.9175 - val_accuracy: 0.8020 - 5s/epoch - 311ms/step\n",
      "Epoch 41/100\n",
      "16/16 - 5s - loss: 7.5605e-05 - accuracy: 1.0000 - val_loss: 0.9248 - val_accuracy: 0.8000 - 5s/epoch - 322ms/step\n",
      "Epoch 42/100\n",
      "16/16 - 5s - loss: 7.1401e-05 - accuracy: 1.0000 - val_loss: 0.9314 - val_accuracy: 0.8000 - 5s/epoch - 314ms/step\n",
      "Epoch 43/100\n",
      "16/16 - 5s - loss: 6.7468e-05 - accuracy: 1.0000 - val_loss: 0.9377 - val_accuracy: 0.7980 - 5s/epoch - 315ms/step\n",
      "Epoch 44/100\n",
      "16/16 - 5s - loss: 6.3888e-05 - accuracy: 1.0000 - val_loss: 0.9447 - val_accuracy: 0.7980 - 5s/epoch - 316ms/step\n",
      "Epoch 45/100\n",
      "16/16 - 5s - loss: 6.0553e-05 - accuracy: 1.0000 - val_loss: 0.9506 - val_accuracy: 0.7980 - 5s/epoch - 312ms/step\n",
      "Epoch 46/100\n",
      "16/16 - 5s - loss: 5.7564e-05 - accuracy: 1.0000 - val_loss: 0.9558 - val_accuracy: 0.7980 - 5s/epoch - 314ms/step\n",
      "Epoch 47/100\n",
      "16/16 - 5s - loss: 5.4645e-05 - accuracy: 1.0000 - val_loss: 0.9623 - val_accuracy: 0.7980 - 5s/epoch - 312ms/step\n",
      "Epoch 48/100\n",
      "16/16 - 5s - loss: 5.2045e-05 - accuracy: 1.0000 - val_loss: 0.9678 - val_accuracy: 0.7980 - 5s/epoch - 315ms/step\n",
      "Epoch 49/100\n",
      "16/16 - 5s - loss: 4.9573e-05 - accuracy: 1.0000 - val_loss: 0.9729 - val_accuracy: 0.7980 - 5s/epoch - 317ms/step\n",
      "Epoch 50/100\n",
      "16/16 - 5s - loss: 4.7305e-05 - accuracy: 1.0000 - val_loss: 0.9784 - val_accuracy: 0.7980 - 5s/epoch - 317ms/step\n",
      "Epoch 51/100\n",
      "16/16 - 5s - loss: 4.5203e-05 - accuracy: 1.0000 - val_loss: 0.9829 - val_accuracy: 0.7960 - 5s/epoch - 317ms/step\n",
      "Epoch 52/100\n",
      "16/16 - 5s - loss: 4.3164e-05 - accuracy: 1.0000 - val_loss: 0.9887 - val_accuracy: 0.7980 - 5s/epoch - 333ms/step\n",
      "Epoch 53/100\n",
      "16/16 - 5s - loss: 4.1368e-05 - accuracy: 1.0000 - val_loss: 0.9934 - val_accuracy: 0.7960 - 5s/epoch - 315ms/step\n",
      "Epoch 54/100\n",
      "16/16 - 5s - loss: 3.9586e-05 - accuracy: 1.0000 - val_loss: 0.9990 - val_accuracy: 0.7980 - 5s/epoch - 313ms/step\n",
      "Epoch 55/100\n",
      "16/16 - 5s - loss: 3.7920e-05 - accuracy: 1.0000 - val_loss: 1.0035 - val_accuracy: 0.7960 - 5s/epoch - 321ms/step\n",
      "Epoch 56/100\n",
      "16/16 - 5s - loss: 3.6405e-05 - accuracy: 1.0000 - val_loss: 1.0075 - val_accuracy: 0.7940 - 5s/epoch - 333ms/step\n",
      "Epoch 57/100\n",
      "16/16 - 5s - loss: 3.4940e-05 - accuracy: 1.0000 - val_loss: 1.0122 - val_accuracy: 0.7940 - 5s/epoch - 333ms/step\n",
      "Epoch 58/100\n",
      "16/16 - 5s - loss: 3.3584e-05 - accuracy: 1.0000 - val_loss: 1.0162 - val_accuracy: 0.7940 - 5s/epoch - 333ms/step\n",
      "Epoch 59/100\n",
      "16/16 - 5s - loss: 3.2283e-05 - accuracy: 1.0000 - val_loss: 1.0205 - val_accuracy: 0.7940 - 5s/epoch - 329ms/step\n",
      "Epoch 60/100\n",
      "16/16 - 5s - loss: 3.1055e-05 - accuracy: 1.0000 - val_loss: 1.0251 - val_accuracy: 0.7980 - 5s/epoch - 315ms/step\n",
      "Epoch 61/100\n",
      "16/16 - 5s - loss: 2.9924e-05 - accuracy: 1.0000 - val_loss: 1.0289 - val_accuracy: 0.7980 - 5s/epoch - 324ms/step\n",
      "Epoch 62/100\n",
      "16/16 - 5s - loss: 2.8816e-05 - accuracy: 1.0000 - val_loss: 1.0321 - val_accuracy: 0.7980 - 5s/epoch - 312ms/step\n",
      "Epoch 63/100\n",
      "16/16 - 5s - loss: 2.7796e-05 - accuracy: 1.0000 - val_loss: 1.0373 - val_accuracy: 0.7980 - 5s/epoch - 319ms/step\n",
      "Epoch 64/100\n",
      "16/16 - 5s - loss: 2.6802e-05 - accuracy: 1.0000 - val_loss: 1.0402 - val_accuracy: 0.7960 - 5s/epoch - 314ms/step\n",
      "Epoch 65/100\n",
      "16/16 - 5s - loss: 2.5873e-05 - accuracy: 1.0000 - val_loss: 1.0435 - val_accuracy: 0.7940 - 5s/epoch - 321ms/step\n"
     ]
    },
    {
     "name": "stdout",
     "output_type": "stream",
     "text": [
      "Epoch 66/100\n",
      "16/16 - 5s - loss: 2.4989e-05 - accuracy: 1.0000 - val_loss: 1.0478 - val_accuracy: 0.7940 - 5s/epoch - 314ms/step\n",
      "Epoch 67/100\n",
      "16/16 - 5s - loss: 2.4158e-05 - accuracy: 1.0000 - val_loss: 1.0515 - val_accuracy: 0.7940 - 5s/epoch - 318ms/step\n",
      "Epoch 68/100\n",
      "16/16 - 5s - loss: 2.3346e-05 - accuracy: 1.0000 - val_loss: 1.0553 - val_accuracy: 0.7960 - 5s/epoch - 324ms/step\n",
      "Epoch 69/100\n",
      "16/16 - 5s - loss: 2.2598e-05 - accuracy: 1.0000 - val_loss: 1.0592 - val_accuracy: 0.7960 - 5s/epoch - 319ms/step\n",
      "Epoch 70/100\n",
      "16/16 - 5s - loss: 2.1862e-05 - accuracy: 1.0000 - val_loss: 1.0624 - val_accuracy: 0.7980 - 5s/epoch - 328ms/step\n",
      "Epoch 71/100\n",
      "16/16 - 5s - loss: 2.1164e-05 - accuracy: 1.0000 - val_loss: 1.0651 - val_accuracy: 0.7980 - 5s/epoch - 324ms/step\n",
      "Epoch 72/100\n",
      "16/16 - 5s - loss: 2.0503e-05 - accuracy: 1.0000 - val_loss: 1.0693 - val_accuracy: 0.7980 - 5s/epoch - 326ms/step\n",
      "Epoch 73/100\n",
      "16/16 - 5s - loss: 1.9860e-05 - accuracy: 1.0000 - val_loss: 1.0725 - val_accuracy: 0.7980 - 5s/epoch - 317ms/step\n",
      "Epoch 74/100\n",
      "16/16 - 5s - loss: 1.9252e-05 - accuracy: 1.0000 - val_loss: 1.0758 - val_accuracy: 0.7980 - 5s/epoch - 319ms/step\n",
      "Epoch 75/100\n",
      "16/16 - 5s - loss: 1.8674e-05 - accuracy: 1.0000 - val_loss: 1.0794 - val_accuracy: 0.8000 - 5s/epoch - 322ms/step\n",
      "Epoch 76/100\n",
      "16/16 - 5s - loss: 1.8124e-05 - accuracy: 1.0000 - val_loss: 1.0825 - val_accuracy: 0.7980 - 5s/epoch - 329ms/step\n",
      "Epoch 77/100\n",
      "16/16 - 5s - loss: 1.7581e-05 - accuracy: 1.0000 - val_loss: 1.0858 - val_accuracy: 0.7980 - 5s/epoch - 324ms/step\n",
      "Epoch 78/100\n",
      "16/16 - 5s - loss: 1.7076e-05 - accuracy: 1.0000 - val_loss: 1.0898 - val_accuracy: 0.7980 - 5s/epoch - 317ms/step\n",
      "Epoch 79/100\n",
      "16/16 - 5s - loss: 1.6588e-05 - accuracy: 1.0000 - val_loss: 1.0929 - val_accuracy: 0.7980 - 5s/epoch - 318ms/step\n",
      "Epoch 80/100\n",
      "16/16 - 5s - loss: 1.6111e-05 - accuracy: 1.0000 - val_loss: 1.0963 - val_accuracy: 0.7980 - 5s/epoch - 318ms/step\n",
      "Epoch 81/100\n",
      "16/16 - 5s - loss: 1.5665e-05 - accuracy: 1.0000 - val_loss: 1.0990 - val_accuracy: 0.7980 - 5s/epoch - 315ms/step\n",
      "Epoch 82/100\n",
      "16/16 - 5s - loss: 1.5227e-05 - accuracy: 1.0000 - val_loss: 1.1022 - val_accuracy: 0.7980 - 5s/epoch - 321ms/step\n",
      "Epoch 83/100\n",
      "16/16 - 5s - loss: 1.4812e-05 - accuracy: 1.0000 - val_loss: 1.1054 - val_accuracy: 0.7980 - 5s/epoch - 328ms/step\n",
      "Epoch 84/100\n",
      "16/16 - 5s - loss: 1.4405e-05 - accuracy: 1.0000 - val_loss: 1.1083 - val_accuracy: 0.7960 - 5s/epoch - 331ms/step\n",
      "Epoch 85/100\n",
      "16/16 - 5s - loss: 1.4027e-05 - accuracy: 1.0000 - val_loss: 1.1116 - val_accuracy: 0.7960 - 5s/epoch - 315ms/step\n",
      "Epoch 86/100\n",
      "16/16 - 5s - loss: 1.3660e-05 - accuracy: 1.0000 - val_loss: 1.1150 - val_accuracy: 0.7980 - 5s/epoch - 310ms/step\n",
      "Epoch 87/100\n",
      "16/16 - 5s - loss: 1.3306e-05 - accuracy: 1.0000 - val_loss: 1.1180 - val_accuracy: 0.7980 - 5s/epoch - 336ms/step\n",
      "Epoch 88/100\n",
      "16/16 - 5s - loss: 1.2962e-05 - accuracy: 1.0000 - val_loss: 1.1207 - val_accuracy: 0.7980 - 5s/epoch - 323ms/step\n",
      "Epoch 89/100\n",
      "16/16 - 5s - loss: 1.2638e-05 - accuracy: 1.0000 - val_loss: 1.1242 - val_accuracy: 0.7980 - 5s/epoch - 320ms/step\n",
      "Epoch 90/100\n",
      "16/16 - 5s - loss: 1.2324e-05 - accuracy: 1.0000 - val_loss: 1.1271 - val_accuracy: 0.7980 - 5s/epoch - 323ms/step\n",
      "Epoch 91/100\n",
      "16/16 - 5s - loss: 1.2009e-05 - accuracy: 1.0000 - val_loss: 1.1299 - val_accuracy: 0.7980 - 5s/epoch - 323ms/step\n",
      "Epoch 92/100\n",
      "16/16 - 5s - loss: 1.1704e-05 - accuracy: 1.0000 - val_loss: 1.1330 - val_accuracy: 0.7980 - 5s/epoch - 321ms/step\n",
      "Epoch 93/100\n",
      "16/16 - 5s - loss: 1.1416e-05 - accuracy: 1.0000 - val_loss: 1.1360 - val_accuracy: 0.7980 - 5s/epoch - 324ms/step\n",
      "Epoch 94/100\n",
      "16/16 - 5s - loss: 1.1138e-05 - accuracy: 1.0000 - val_loss: 1.1390 - val_accuracy: 0.7980 - 5s/epoch - 321ms/step\n",
      "Epoch 95/100\n",
      "16/16 - 5s - loss: 1.0873e-05 - accuracy: 1.0000 - val_loss: 1.1416 - val_accuracy: 0.7980 - 5s/epoch - 319ms/step\n",
      "Epoch 96/100\n",
      "16/16 - 5s - loss: 1.0615e-05 - accuracy: 1.0000 - val_loss: 1.1447 - val_accuracy: 0.7980 - 5s/epoch - 317ms/step\n",
      "Epoch 97/100\n",
      "16/16 - 5s - loss: 1.0360e-05 - accuracy: 1.0000 - val_loss: 1.1473 - val_accuracy: 0.7980 - 5s/epoch - 319ms/step\n",
      "Epoch 98/100\n",
      "16/16 - 5s - loss: 1.0127e-05 - accuracy: 1.0000 - val_loss: 1.1503 - val_accuracy: 0.7980 - 5s/epoch - 314ms/step\n",
      "Epoch 99/100\n",
      "16/16 - 5s - loss: 9.8807e-06 - accuracy: 1.0000 - val_loss: 1.1532 - val_accuracy: 0.7980 - 5s/epoch - 323ms/step\n",
      "Epoch 100/100\n",
      "16/16 - 5s - loss: 9.6570e-06 - accuracy: 1.0000 - val_loss: 1.1562 - val_accuracy: 0.7980 - 5s/epoch - 321ms/step\n"
     ]
    },
    {
     "data": {
      "image/png": "[encoded data removed]",
      "text/plain": [
       "<Figure size 432x288 with 1 Axes>"
      ]
     },
     "metadata": {
      "needs_background": "light"
     },
     "output_type": "display_data"
    },
    {
     "data": {
      "image/png": "[encoded data removed]",
      "text/plain": [
       "<Figure size 432x288 with 1 Axes>"
      ]
     },
     "metadata": {
      "needs_background": "light"
     },
     "output_type": "display_data"
    },
    {
     "name": "stdout",
     "output_type": "stream",
     "text": [
      "16/16 [==============================] - 2s 76ms/step\n",
      "16/16 [==============================] - 1s 75ms/step\n"
     ]
    }
   ],
   "source": [
    "#return_5 = Model5(df.loc[0:49], df.loc[50:99])"
   ]
  },
  {
   "cell_type": "code",
   "execution_count": 455,
   "id": "c4aa4b00",
   "metadata": {
    "scrolled": false
   },
   "outputs": [
    {
     "name": "stdout",
     "output_type": "stream",
     "text": [
      "Epoch 1/10\n",
      "152/152 - 56s - loss: 0.6662 - accuracy: 0.6803 - val_loss: 0.3577 - val_accuracy: 0.8591 - 56s/epoch - 370ms/step\n",
      "Epoch 2/10\n",
      "152/152 - 53s - loss: 0.2775 - accuracy: 0.8831 - val_loss: 0.2535 - val_accuracy: 0.9060 - 53s/epoch - 352ms/step\n",
      "Epoch 3/10\n",
      "152/152 - 53s - loss: 0.1553 - accuracy: 0.9369 - val_loss: 0.3879 - val_accuracy: 0.8322 - 53s/epoch - 349ms/step\n",
      "Epoch 4/10\n",
      "152/152 - 51s - loss: 0.0802 - accuracy: 0.9728 - val_loss: 0.4097 - val_accuracy: 0.8658 - 51s/epoch - 335ms/step\n",
      "Epoch 5/10\n",
      "152/152 - 53s - loss: 0.0375 - accuracy: 0.9895 - val_loss: 0.5269 - val_accuracy: 0.8591 - 53s/epoch - 348ms/step\n",
      "Epoch 6/10\n",
      "152/152 - 53s - loss: 0.0229 - accuracy: 0.9946 - val_loss: 0.6146 - val_accuracy: 0.8591 - 53s/epoch - 349ms/step\n",
      "Epoch 7/10\n",
      "152/152 - 53s - loss: 0.0101 - accuracy: 0.9979 - val_loss: 0.7862 - val_accuracy: 0.8456 - 53s/epoch - 347ms/step\n",
      "Epoch 8/10\n",
      "152/152 - 53s - loss: 0.0045 - accuracy: 0.9992 - val_loss: 0.9555 - val_accuracy: 0.8389 - 53s/epoch - 346ms/step\n",
      "Epoch 9/10\n",
      "152/152 - 53s - loss: 0.0063 - accuracy: 0.9984 - val_loss: 0.8698 - val_accuracy: 0.8389 - 53s/epoch - 347ms/step\n",
      "Epoch 10/10\n",
      "152/152 - 54s - loss: 0.0063 - accuracy: 0.9984 - val_loss: 1.1323 - val_accuracy: 0.8322 - 54s/epoch - 355ms/step\n"
     ]
    },
    {
     "data": {
      "image/png": "[encoded data removed]",
      "text/plain": [
       "<Figure size 432x288 with 1 Axes>"
      ]
     },
     "metadata": {
      "needs_background": "light"
     },
     "output_type": "display_data"
    },
    {
     "data": {
      "image/png": "[encoded data removed]",
      "text/plain": [
       "<Figure size 432x288 with 1 Axes>"
      ]
     },
     "metadata": {
      "needs_background": "light"
     },
     "output_type": "display_data"
    },
    {
     "name": "stdout",
     "output_type": "stream",
     "text": [
      "152/152 [==============================] - 18s 113ms/step\n",
      "5/5 [==============================] - 1s 110ms/step\n"
     ]
    }
   ],
   "source": [
    "#return_5 = Model5(df.loc[0:4750], df.loc[4751:4999])"
   ]
  },
  {
   "cell_type": "markdown",
   "id": "a9fb36fd",
   "metadata": {},
   "source": [
    "# Assesing Performance"
   ]
  },
  {
   "cell_type": "code",
   "execution_count": 51,
   "id": "dcfb4ef0",
   "metadata": {},
   "outputs": [
    {
     "name": "stdout",
     "output_type": "stream",
     "text": [
      "training size:  291944\n",
      "test_index size:  72987\n",
      "Run (cross-validation):  1  out of  5\n",
      "-------------------------- Model 1 \n",
      "Model 1 done in   0.040998000000001866 \n",
      "\n",
      "-------------------------- Model 2 \n",
      "Model 2 done in  0.032637999999963085\n",
      "-------------------------- Model 3 \n",
      "-------------------------- Model 3 done in  117.27551799999998 \n",
      "\n",
      "-------------------------- Model 4 \n",
      "Model 4 done in  171.68185699999998\n",
      "-------------------------- Model 5 \n",
      "Epoch 1/5\n",
      "9124/9124 - 469s - loss: 0.2345 - accuracy: 0.9005 - val_loss: 0.1888 - val_accuracy: 0.9209 - 469s/epoch - 51ms/step\n",
      "Epoch 2/5\n",
      "9124/9124 - 474s - loss: 0.1714 - accuracy: 0.9292 - val_loss: 0.1691 - val_accuracy: 0.9309 - 474s/epoch - 52ms/step\n",
      "Epoch 3/5\n",
      "9124/9124 - 468s - loss: 0.1446 - accuracy: 0.9419 - val_loss: 0.1631 - val_accuracy: 0.9347 - 468s/epoch - 51ms/step\n",
      "Epoch 4/5\n",
      "9124/9124 - 468s - loss: 0.1226 - accuracy: 0.9519 - val_loss: 0.1626 - val_accuracy: 0.9369 - 468s/epoch - 51ms/step\n",
      "Epoch 5/5\n",
      "9124/9124 - 470s - loss: 0.1021 - accuracy: 0.9612 - val_loss: 0.1711 - val_accuracy: 0.9322 - 470s/epoch - 51ms/step\n"
     ]
    },
    {
     "name": "stderr",
     "output_type": "stream",
     "text": [
      "WARNING:absl:Found untraced functions such as lstm_cell_40_layer_call_fn, lstm_cell_40_layer_call_and_return_conditional_losses, lstm_cell_41_layer_call_fn, lstm_cell_41_layer_call_and_return_conditional_losses while saving (showing 4 of 4). These functions will not be directly callable after loading.\n"
     ]
    },
    {
     "name": "stdout",
     "output_type": "stream",
     "text": [
      "INFO:tensorflow:Assets written to: ram://af02f8fc-7070-42c8-a3b8-51bd6834a0db/assets\n"
     ]
    },
    {
     "name": "stderr",
     "output_type": "stream",
     "text": [
      "INFO:tensorflow:Assets written to: ram://af02f8fc-7070-42c8-a3b8-51bd6834a0db/assets\n",
      "WARNING:absl:Found untraced functions such as lstm_cell_40_layer_call_fn, lstm_cell_40_layer_call_and_return_conditional_losses, lstm_cell_41_layer_call_fn, lstm_cell_41_layer_call_and_return_conditional_losses while saving (showing 4 of 4). These functions will not be directly callable after loading.\n"
     ]
    },
    {
     "name": "stdout",
     "output_type": "stream",
     "text": [
      "INFO:tensorflow:Assets written to: ram://ef8a4576-ef66-425d-9909-e26f160ecb22/assets\n"
     ]
    },
    {
     "name": "stderr",
     "output_type": "stream",
     "text": [
      "INFO:tensorflow:Assets written to: ram://ef8a4576-ef66-425d-9909-e26f160ecb22/assets\n"
     ]
    },
    {
     "data": {
      "image/png": "[encoded data removed]",
      "text/plain": [
       "<Figure size 432x288 with 1 Axes>"
      ]
     },
     "metadata": {
      "needs_background": "light"
     },
     "output_type": "display_data"
    },
    {
     "data": {
      "image/png": "[encoded data removed]",
      "text/plain": [
       "<Figure size 432x288 with 1 Axes>"
      ]
     },
     "metadata": {
      "needs_background": "light"
     },
     "output_type": "display_data"
    },
    {
     "name": "stdout",
     "output_type": "stream",
     "text": [
      "9124/9124 [==============================] - 115s 13ms/step\n",
      "2281/2281 [==============================] - 29s 13ms/step\n",
      "Model 5 done in  5323.040146 \n",
      "\n",
      "training size:  291945\n",
      "test_index size:  72986\n",
      "Run (cross-validation):  2  out of  5\n",
      "-------------------------- Model 1 \n",
      "Model 1 done in   0.032185000000026776 \n",
      "\n",
      "-------------------------- Model 2 \n",
      "Model 2 done in  0.03432299999985844\n",
      "-------------------------- Model 3 \n",
      "-------------------------- Model 3 done in  117.19499799999994 \n",
      "\n",
      "-------------------------- Model 4 \n",
      "Model 4 done in  170.51838399999997\n",
      "-------------------------- Model 5 \n",
      "Epoch 1/5\n",
      "9124/9124 - 469s - loss: 0.2278 - accuracy: 0.9043 - val_loss: 0.1836 - val_accuracy: 0.9233 - 469s/epoch - 51ms/step\n",
      "Epoch 2/5\n",
      "9124/9124 - 467s - loss: 0.1656 - accuracy: 0.9323 - val_loss: 0.1679 - val_accuracy: 0.9317 - 467s/epoch - 51ms/step\n",
      "Epoch 3/5\n",
      "9124/9124 - 464s - loss: 0.1408 - accuracy: 0.9441 - val_loss: 0.1627 - val_accuracy: 0.9346 - 464s/epoch - 51ms/step\n",
      "Epoch 4/5\n",
      "9124/9124 - 464s - loss: 0.1200 - accuracy: 0.9534 - val_loss: 0.1667 - val_accuracy: 0.9349 - 464s/epoch - 51ms/step\n",
      "Epoch 5/5\n",
      "9124/9124 - 466s - loss: 0.1003 - accuracy: 0.9618 - val_loss: 0.1821 - val_accuracy: 0.9294 - 466s/epoch - 51ms/step\n"
     ]
    },
    {
     "name": "stderr",
     "output_type": "stream",
     "text": [
      "WARNING:absl:Found untraced functions such as lstm_cell_43_layer_call_fn, lstm_cell_43_layer_call_and_return_conditional_losses, lstm_cell_44_layer_call_fn, lstm_cell_44_layer_call_and_return_conditional_losses while saving (showing 4 of 4). These functions will not be directly callable after loading.\n"
     ]
    },
    {
     "name": "stdout",
     "output_type": "stream",
     "text": [
      "INFO:tensorflow:Assets written to: ram://35192c57-4c7e-4ea2-8b82-96490322e5a8/assets\n"
     ]
    },
    {
     "name": "stderr",
     "output_type": "stream",
     "text": [
      "INFO:tensorflow:Assets written to: ram://35192c57-4c7e-4ea2-8b82-96490322e5a8/assets\n",
      "WARNING:absl:Found untraced functions such as lstm_cell_43_layer_call_fn, lstm_cell_43_layer_call_and_return_conditional_losses, lstm_cell_44_layer_call_fn, lstm_cell_44_layer_call_and_return_conditional_losses while saving (showing 4 of 4). These functions will not be directly callable after loading.\n"
     ]
    },
    {
     "name": "stdout",
     "output_type": "stream",
     "text": [
      "INFO:tensorflow:Assets written to: ram://dc9d9a48-ef9f-43c8-8d08-a039b02e84ae/assets\n"
     ]
    },
    {
     "name": "stderr",
     "output_type": "stream",
     "text": [
      "INFO:tensorflow:Assets written to: ram://dc9d9a48-ef9f-43c8-8d08-a039b02e84ae/assets\n"
     ]
    },
    {
     "data": {
      "image/png": "[encoded data removed]",
      "text/plain": [
       "<Figure size 432x288 with 1 Axes>"
      ]
     },
     "metadata": {
      "needs_background": "light"
     },
     "output_type": "display_data"
    },
    {
     "data": {
      "image/png": "[encoded data removed]",
      "text/plain": [
       "<Figure size 432x288 with 1 Axes>"
      ]
     },
     "metadata": {
      "needs_background": "light"
     },
     "output_type": "display_data"
    },
    {
     "name": "stdout",
     "output_type": "stream",
     "text": [
      "9124/9124 [==============================] - 116s 13ms/step\n",
      "2281/2281 [==============================] - 29s 13ms/step\n",
      "Model 5 done in  5294.564642 \n",
      "\n",
      "training size:  291945\n",
      "test_index size:  72986\n",
      "Run (cross-validation):  3  out of  5\n",
      "-------------------------- Model 1 \n",
      "Model 1 done in   0.029173000000810134 \n",
      "\n",
      "-------------------------- Model 2 \n",
      "Model 2 done in  0.034895000000688015\n",
      "-------------------------- Model 3 \n",
      "-------------------------- Model 3 done in  118.13562300000012 \n",
      "\n",
      "-------------------------- Model 4 \n",
      "Model 4 done in  171.04259600000114\n",
      "-------------------------- Model 5 \n",
      "Epoch 1/5\n",
      "9124/9124 - 467s - loss: 0.2272 - accuracy: 0.9041 - val_loss: 0.1861 - val_accuracy: 0.9245 - 467s/epoch - 51ms/step\n",
      "Epoch 2/5\n",
      "9124/9124 - 469s - loss: 0.1689 - accuracy: 0.9310 - val_loss: 0.1681 - val_accuracy: 0.9312 - 469s/epoch - 51ms/step\n",
      "Epoch 3/5\n",
      "9124/9124 - 468s - loss: 0.1446 - accuracy: 0.9421 - val_loss: 0.1671 - val_accuracy: 0.9347 - 468s/epoch - 51ms/step\n",
      "Epoch 4/5\n",
      "9124/9124 - 466s - loss: 0.1245 - accuracy: 0.9509 - val_loss: 0.1666 - val_accuracy: 0.9315 - 466s/epoch - 51ms/step\n",
      "Epoch 5/5\n",
      "9124/9124 - 466s - loss: 0.1054 - accuracy: 0.9595 - val_loss: 0.1729 - val_accuracy: 0.9335 - 466s/epoch - 51ms/step\n"
     ]
    },
    {
     "name": "stderr",
     "output_type": "stream",
     "text": [
      "WARNING:absl:Found untraced functions such as lstm_cell_46_layer_call_fn, lstm_cell_46_layer_call_and_return_conditional_losses, lstm_cell_47_layer_call_fn, lstm_cell_47_layer_call_and_return_conditional_losses while saving (showing 4 of 4). These functions will not be directly callable after loading.\n"
     ]
    },
    {
     "name": "stdout",
     "output_type": "stream",
     "text": [
      "INFO:tensorflow:Assets written to: ram://de350fe6-dfe4-4102-a3a5-34ab7c3f35c4/assets\n"
     ]
    },
    {
     "name": "stderr",
     "output_type": "stream",
     "text": [
      "INFO:tensorflow:Assets written to: ram://de350fe6-dfe4-4102-a3a5-34ab7c3f35c4/assets\n",
      "WARNING:absl:Found untraced functions such as lstm_cell_46_layer_call_fn, lstm_cell_46_layer_call_and_return_conditional_losses, lstm_cell_47_layer_call_fn, lstm_cell_47_layer_call_and_return_conditional_losses while saving (showing 4 of 4). These functions will not be directly callable after loading.\n"
     ]
    },
    {
     "name": "stdout",
     "output_type": "stream",
     "text": [
      "INFO:tensorflow:Assets written to: ram://ccbc81b0-b613-4ddb-97c4-7dd1147b83cf/assets\n"
     ]
    },
    {
     "name": "stderr",
     "output_type": "stream",
     "text": [
      "INFO:tensorflow:Assets written to: ram://ccbc81b0-b613-4ddb-97c4-7dd1147b83cf/assets\n"
     ]
    },
    {
     "data": {
      "image/png": "[encoded data removed]",
      "text/plain": [
       "<Figure size 432x288 with 1 Axes>"
      ]
     },
     "metadata": {
      "needs_background": "light"
     },
     "output_type": "display_data"
    },
    {
     "data": {
      "image/png": "[encoded data removed]",
      "text/plain": [
       "<Figure size 432x288 with 1 Axes>"
      ]
     },
     "metadata": {
      "needs_background": "light"
     },
     "output_type": "display_data"
    },
    {
     "name": "stdout",
     "output_type": "stream",
     "text": [
      "9124/9124 [==============================] - 115s 13ms/step\n",
      "2281/2281 [==============================] - 29s 13ms/step\n",
      "Model 5 done in  5304.217556 \n",
      "\n",
      "training size:  291945\n",
      "test_index size:  72986\n",
      "Run (cross-validation):  4  out of  5\n",
      "-------------------------- Model 1 \n",
      "Model 1 done in   0.03211799999917275 \n",
      "\n",
      "-------------------------- Model 2 \n",
      "Model 2 done in  0.029325000003154855\n",
      "-------------------------- Model 3 \n",
      "-------------------------- Model 3 done in  117.98625100000208 \n",
      "\n",
      "-------------------------- Model 4 \n",
      "Model 4 done in  171.19580199999837\n",
      "-------------------------- Model 5 \n",
      "Epoch 1/5\n",
      "9124/9124 - 467s - loss: 0.2206 - accuracy: 0.9067 - val_loss: 0.1822 - val_accuracy: 0.9258 - 467s/epoch - 51ms/step\n",
      "Epoch 2/5\n",
      "9124/9124 - 467s - loss: 0.1611 - accuracy: 0.9352 - val_loss: 0.1691 - val_accuracy: 0.9304 - 467s/epoch - 51ms/step\n",
      "Epoch 3/5\n",
      "9124/9124 - 467s - loss: 0.1365 - accuracy: 0.9455 - val_loss: 0.1663 - val_accuracy: 0.9352 - 467s/epoch - 51ms/step\n",
      "Epoch 4/5\n",
      "9124/9124 - 468s - loss: 0.1172 - accuracy: 0.9544 - val_loss: 0.1643 - val_accuracy: 0.9354 - 468s/epoch - 51ms/step\n",
      "Epoch 5/5\n",
      "9124/9124 - 467s - loss: 0.0991 - accuracy: 0.9625 - val_loss: 0.1801 - val_accuracy: 0.9344 - 467s/epoch - 51ms/step\n"
     ]
    },
    {
     "name": "stderr",
     "output_type": "stream",
     "text": [
      "WARNING:absl:Found untraced functions such as lstm_cell_49_layer_call_fn, lstm_cell_49_layer_call_and_return_conditional_losses, lstm_cell_50_layer_call_fn, lstm_cell_50_layer_call_and_return_conditional_losses while saving (showing 4 of 4). These functions will not be directly callable after loading.\n"
     ]
    },
    {
     "name": "stdout",
     "output_type": "stream",
     "text": [
      "INFO:tensorflow:Assets written to: ram://f0a375a3-806f-4ff5-a794-1e967463ff8b/assets\n"
     ]
    },
    {
     "name": "stderr",
     "output_type": "stream",
     "text": [
      "INFO:tensorflow:Assets written to: ram://f0a375a3-806f-4ff5-a794-1e967463ff8b/assets\n",
      "WARNING:absl:Found untraced functions such as lstm_cell_49_layer_call_fn, lstm_cell_49_layer_call_and_return_conditional_losses, lstm_cell_50_layer_call_fn, lstm_cell_50_layer_call_and_return_conditional_losses while saving (showing 4 of 4). These functions will not be directly callable after loading.\n"
     ]
    },
    {
     "name": "stdout",
     "output_type": "stream",
     "text": [
      "INFO:tensorflow:Assets written to: ram://ab794258-7d08-4df9-b44e-6d8f12bf8b90/assets\n"
     ]
    },
    {
     "name": "stderr",
     "output_type": "stream",
     "text": [
      "INFO:tensorflow:Assets written to: ram://ab794258-7d08-4df9-b44e-6d8f12bf8b90/assets\n"
     ]
    },
    {
     "data": {
      "image/png": "[encoded data removed]",
      "text/plain": [
       "<Figure size 432x288 with 1 Axes>"
      ]
     },
     "metadata": {
      "needs_background": "light"
     },
     "output_type": "display_data"
    },
    {
     "data": {
      "image/png": "[encoded data removed]",
      "text/plain": [
       "<Figure size 432x288 with 1 Axes>"
      ]
     },
     "metadata": {
      "needs_background": "light"
     },
     "output_type": "display_data"
    },
    {
     "name": "stdout",
     "output_type": "stream",
     "text": [
      "9124/9124 [==============================] - 115s 13ms/step\n",
      "2281/2281 [==============================] - 29s 13ms/step\n",
      "Model 5 done in  5301.975055999999 \n",
      "\n",
      "training size:  291945\n",
      "test_index size:  72986\n",
      "Run (cross-validation):  5  out of  5\n",
      "-------------------------- Model 1 \n",
      "Model 1 done in   0.02958000000216998 \n",
      "\n",
      "-------------------------- Model 2 \n",
      "Model 2 done in  0.02906799999982468\n",
      "-------------------------- Model 3 \n",
      "-------------------------- Model 3 done in  118.3355670000019 \n",
      "\n",
      "-------------------------- Model 4 \n",
      "Model 4 done in  171.71438200000193\n",
      "-------------------------- Model 5 \n",
      "Epoch 1/5\n",
      "9124/9124 - 467s - loss: 0.2320 - accuracy: 0.9027 - val_loss: 0.1968 - val_accuracy: 0.9157 - 467s/epoch - 51ms/step\n",
      "Epoch 2/5\n",
      "9124/9124 - 467s - loss: 0.1714 - accuracy: 0.9299 - val_loss: 0.1708 - val_accuracy: 0.9311 - 467s/epoch - 51ms/step\n",
      "Epoch 3/5\n",
      "9124/9124 - 468s - loss: 0.1464 - accuracy: 0.9412 - val_loss: 0.1671 - val_accuracy: 0.9320 - 468s/epoch - 51ms/step\n",
      "Epoch 4/5\n",
      "9124/9124 - 468s - loss: 0.1252 - accuracy: 0.9507 - val_loss: 0.1621 - val_accuracy: 0.9358 - 468s/epoch - 51ms/step\n",
      "Epoch 5/5\n",
      "9124/9124 - 466s - loss: 0.1052 - accuracy: 0.9593 - val_loss: 0.1695 - val_accuracy: 0.9361 - 466s/epoch - 51ms/step\n"
     ]
    },
    {
     "name": "stderr",
     "output_type": "stream",
     "text": [
      "WARNING:absl:Found untraced functions such as lstm_cell_52_layer_call_fn, lstm_cell_52_layer_call_and_return_conditional_losses, lstm_cell_53_layer_call_fn, lstm_cell_53_layer_call_and_return_conditional_losses while saving (showing 4 of 4). These functions will not be directly callable after loading.\n"
     ]
    },
    {
     "name": "stdout",
     "output_type": "stream",
     "text": [
      "INFO:tensorflow:Assets written to: ram://c46af6ec-0b5e-43cb-beb7-7e947f5387eb/assets\n"
     ]
    },
    {
     "name": "stderr",
     "output_type": "stream",
     "text": [
      "INFO:tensorflow:Assets written to: ram://c46af6ec-0b5e-43cb-beb7-7e947f5387eb/assets\n",
      "WARNING:absl:Found untraced functions such as lstm_cell_52_layer_call_fn, lstm_cell_52_layer_call_and_return_conditional_losses, lstm_cell_53_layer_call_fn, lstm_cell_53_layer_call_and_return_conditional_losses while saving (showing 4 of 4). These functions will not be directly callable after loading.\n"
     ]
    },
    {
     "name": "stdout",
     "output_type": "stream",
     "text": [
      "INFO:tensorflow:Assets written to: ram://c687364a-920a-49f5-85ec-f02176bb2921/assets\n"
     ]
    },
    {
     "name": "stderr",
     "output_type": "stream",
     "text": [
      "INFO:tensorflow:Assets written to: ram://c687364a-920a-49f5-85ec-f02176bb2921/assets\n"
     ]
    },
    {
     "data": {
      "image/png": "[encoded data removed]",
      "text/plain": [
       "<Figure size 432x288 with 1 Axes>"
      ]
     },
     "metadata": {
      "needs_background": "light"
     },
     "output_type": "display_data"
    },
    {
     "data": {
      "image/png": "[encoded data removed]",
      "text/plain": [
       "<Figure size 432x288 with 1 Axes>"
      ]
     },
     "metadata": {
      "needs_background": "light"
     },
     "output_type": "display_data"
    },
    {
     "name": "stdout",
     "output_type": "stream",
     "text": [
      "9124/9124 [==============================] - 116s 13ms/step\n",
      "2281/2281 [==============================] - 29s 13ms/step\n",
      "Model 5 done in  5310.418042000001 \n",
      "\n",
      "Complete\n"
     ]
    }
   ],
   "source": [
    "#train,test = model_selection.train_test_split(df,test_size=0.2, shuffle=True)\n",
    "\n",
    "n = 5\n",
    "\n",
    "kf = model_selection.KFold(n_splits=n)\n",
    "\n",
    "#\n",
    "def confusMatrix(d):\n",
    "    tp = d[['label','predicted','count']].query('label == 1 and predicted == 1')\n",
    "    tp = 0 if tp['count'].empty else tp['count'].values[0]    \n",
    "    tn = d[['label','predicted','count']].query('label == 0 and predicted == 0')\n",
    "    tn = 0 if tn['count'].empty else tn['count'].values[0]\n",
    "    fp = d[['label','predicted','count']].query('label == 0 and predicted == 1')\n",
    "    fp = 0 if fp['count'].empty else fp['count'].values[0]\n",
    "    fn = d[['label','predicted','count']].query('label == 1 and predicted == 0')\n",
    "    fn = 0 if fn['count'].empty else fn['count'].values[0]   \n",
    "    return tp,tn,fp,fn\n",
    "    \n",
    "result = []\n",
    "result_detailed = []\n",
    "\n",
    "i = 1\n",
    "df = df[['id','content','label']]\n",
    "\n",
    "#for train, test in tqdm(kfold.split(x, y), total=kfold.get_n_splits(), desc=\"k-fold\"):\n",
    "for train_index, test_index in kf.split(df):\n",
    "    print(\"training size: \",len(train_index))\n",
    "    print(\"test_index size: \",len(test_index))\n",
    "    \n",
    "    #for train_index, test_index in tqdm(kf.split(df), total=kfold.get_n_splits(), desc=\"k-fold\"):\n",
    "    print(\"Run (cross-validation): \", i, \" out of \",n)\n",
    "    \n",
    "    ###############\n",
    "    # Model 1\n",
    "    ####################\n",
    "    print(\"-------------------------- Model 1 \")\n",
    "    start = time.process_time()\n",
    "    train,test = Model1(df.loc[train_index], df.loc[test_index])\n",
    "        \n",
    "    ##### Training\n",
    "    tp,tn,fp,fn = confusMatrix(train.groupby(['label','predicted']).size().reset_index(name='count'))\n",
    "    result.append([tp,tn,fp,fn,'train','model1']) \n",
    "    result_detailed.append([train['label'],train['predicted'],'train','model1',i])\n",
    "    \n",
    "    ##### Validate\n",
    "    tp,tn,fp,fn = confusMatrix(test.groupby(['label','predicted']).size().reset_index(name='count'))    \n",
    "    result.append([tp,tn,fp,fn,'validate','model1'])\n",
    "    result_detailed.append([test['label'],test['predicted'],'validate','model1',i])\n",
    "    \n",
    "    print(\"Model 1 done in  \", time.process_time() - start ,\"\\n\")\n",
    "    \n",
    "    \n",
    "    ###############\n",
    "    # Model 2\n",
    "    ###############\n",
    "    print(\"-------------------------- Model 2 \")\n",
    "    start = time.process_time()\n",
    "    train,test = Model2(df.loc[train_index]), Model2(df.loc[test_index])\n",
    "\n",
    "    ##### Training\n",
    "    tp,tn,fp,fn = confusMatrix(train.groupby(['label','predicted']).size().reset_index(name='count'))\n",
    "    result.append([tp,tn,fp,fn,'train','model2'])  \n",
    "    result_detailed.append([train['label'],train['predicted'],'train','model2',i])\n",
    "    \n",
    "    ##### Validate\n",
    "    tp,tn,fp,fn = confusMatrix(test.groupby(['label','predicted']).size().reset_index(name='count'))    \n",
    "    result.append([tp,tn,fp,fn,'validate','model2'])\n",
    "    result_detailed.append([test['label'],test['predicted'],'validate','model2',i])\n",
    "    \n",
    "    print(\"Model 2 done in \", time.process_time() - start)\n",
    "    \n",
    "    ###############\n",
    "    # Model 3: Support Vector Machine (SVM)\n",
    "    ###############\n",
    "    print(\"-------------------------- Model 3 \")\n",
    "    start = time.process_time()\n",
    "    train, test = Model3(df.loc[train_index], df.loc[test_index])\n",
    "    \n",
    "    ##### Training\n",
    "    tp,tn,fp,fn = confusMatrix(train.groupby(['label','predicted']).size().reset_index(name='count'))\n",
    "    result.append([tp,tn,fp,fn,'train','model3'])\n",
    "    result_detailed.append([train['label'],train['predicted'],'train','model3',i])\n",
    "    \n",
    "    # Validate\n",
    "    tp,tn,fp,fn = confusMatrix(test.groupby(['label','predicted']).size().reset_index(name='count'))  \n",
    "    result.append([tp,tn,fp,fn,'validate','model3'])\n",
    "    result_detailed.append([test['label'],test['predicted'],'validate','model3',i])\n",
    "    \n",
    "    print(\"-------------------------- Model 3 done in \", time.process_time() - start,'\\n')\n",
    "    \n",
    "    ###############\n",
    "    # Model 4: Naive Bayes\n",
    "    ###############\n",
    "    print(\"-------------------------- Model 4 \")\n",
    "    start = time.process_time()\n",
    "    train, test = Model4(df.loc[train_index], df.loc[test_index])   \n",
    "    ###### Training\n",
    "    tp,tn,fp,fn = confusMatrix(train.groupby(['label','predicted']).size().reset_index(name='count'))\n",
    "    result.append([tp,tn,fp,fn,'train','model4'])\n",
    "    result_detailed.append([train['label'],train['predicted'],'train','model4',i])\n",
    "    \n",
    "    ###### Validate\n",
    "    tp,tn,fp,fn = confusMatrix(test.groupby(['label','predicted']).size().reset_index(name='count'))  \n",
    "    result.append([tp,tn,fp,fn,'validate','model4'])\n",
    "    result_detailed.append([test['label'],test['predicted'],'validate','model4',i])\n",
    "    \n",
    "    print(\"Model 4 done in \", time.process_time() - start)\n",
    "    \n",
    "    ###############\n",
    "    # Model 5: Long Short-Term Memory (LSTM)\n",
    "    ###############\n",
    "     \n",
    "    print(\"-------------------------- Model 5 \")\n",
    "    start = time.process_time()\n",
    "    train, test = Model5(df.loc[train_index], df.loc[test_index])\n",
    "    \n",
    "    ##### Training\n",
    "    tp,tn,fp,fn = confusMatrix(train.groupby(['label','predicted']).size().reset_index(name='count'))\n",
    "    result.append([tp,tn,fp,fn,'train','model5'])\n",
    "    result_detailed.append([train['label'],train['predicted'],'train','model5',i])\n",
    "    \n",
    "     # Validate\n",
    "    tp,tn,fp,fn = confusMatrix(test.groupby(['label','predicted']).size().reset_index(name='count'))  \n",
    "    result.append([tp,tn,fp,fn,'validate','model5'])\n",
    "    result_detailed.append([test['label'],test['predicted'],'validate','model5',i])\n",
    "    \n",
    "    print(\"Model 5 done in \", time.process_time() - start ,\"\\n\")\n",
    "    \n",
    "        \n",
    "    i += 1\n",
    "    \n",
    "def safe_division(n, d):\n",
    "    return n / d if d else 0\n",
    "  \n",
    "print(\"Complete\")\n",
    "\n",
    "d = pd.DataFrame(result, columns=['tp','tn','fp','fn','type','model'])\n",
    "d = d.assign(total_count = lambda x : (d['tp']+d['tn']+d['fp']+d['fn']) ) \n",
    "d = d.assign(precision = lambda x : (d['tp']).div(d['tp']+d['fp']) ) \n",
    "d = d.assign(recall = lambda x : (d['tp']).div(d['tp']+d['fn']) ) \n",
    "d = d.assign(specificity = lambda x : (d['tn']).div(d['tn']+d['fp']) )\n",
    "d = d.assign(Neg_pred_value = lambda x : (d['tn']).div(d['tn']+d['fn']) )\n",
    "\n",
    "d = d.assign(Accuracy = lambda x : (d['tp']+d['tn']).div(d['tp']+d['tn']+d['fp']+d['fn']) )\n",
    "d = d.assign(f1 = lambda x : 2*(d['precision']*d['recall']).div(d['precision']+d['recall']) ) \n"
   ]
  },
  {
   "cell_type": "code",
   "execution_count": 52,
   "id": "e638af50",
   "metadata": {},
   "outputs": [
    {
     "data": {
      "text/html": [
       "<div>\n",
       "<style scoped>\n",
       "    .dataframe tbody tr th:only-of-type {\n",
       "        vertical-align: middle;\n",
       "    }\n",
       "\n",
       "    .dataframe tbody tr th {\n",
       "        vertical-align: top;\n",
       "    }\n",
       "\n",
       "    .dataframe thead th {\n",
       "        text-align: right;\n",
       "    }\n",
       "</style>\n",
       "<table border=\"1\" class=\"dataframe\">\n",
       "  <thead>\n",
       "    <tr style=\"text-align: right;\">\n",
       "      <th></th>\n",
       "      <th></th>\n",
       "      <th>tp</th>\n",
       "      <th>tn</th>\n",
       "      <th>fp</th>\n",
       "      <th>fn</th>\n",
       "      <th>total_count</th>\n",
       "      <th>precision</th>\n",
       "      <th>recall</th>\n",
       "      <th>specificity</th>\n",
       "      <th>Neg_pred_value</th>\n",
       "      <th>Accuracy</th>\n",
       "      <th>f1</th>\n",
       "    </tr>\n",
       "    <tr>\n",
       "      <th>model</th>\n",
       "      <th>type</th>\n",
       "      <th></th>\n",
       "      <th></th>\n",
       "      <th></th>\n",
       "      <th></th>\n",
       "      <th></th>\n",
       "      <th></th>\n",
       "      <th></th>\n",
       "      <th></th>\n",
       "      <th></th>\n",
       "      <th></th>\n",
       "      <th></th>\n",
       "    </tr>\n",
       "  </thead>\n",
       "  <tbody>\n",
       "    <tr>\n",
       "      <th rowspan=\"2\" valign=\"top\">model1</th>\n",
       "      <th>train</th>\n",
       "      <td>0.0</td>\n",
       "      <td>157948.8</td>\n",
       "      <td>0.0</td>\n",
       "      <td>133996.0</td>\n",
       "      <td>291944.8</td>\n",
       "      <td>NaN</td>\n",
       "      <td>0.000000</td>\n",
       "      <td>1.000000</td>\n",
       "      <td>0.541023</td>\n",
       "      <td>0.541023</td>\n",
       "      <td>NaN</td>\n",
       "    </tr>\n",
       "    <tr>\n",
       "      <th>validate</th>\n",
       "      <td>0.0</td>\n",
       "      <td>39487.2</td>\n",
       "      <td>0.0</td>\n",
       "      <td>33499.0</td>\n",
       "      <td>72986.2</td>\n",
       "      <td>NaN</td>\n",
       "      <td>0.000000</td>\n",
       "      <td>1.000000</td>\n",
       "      <td>0.541023</td>\n",
       "      <td>0.541023</td>\n",
       "      <td>NaN</td>\n",
       "    </tr>\n",
       "    <tr>\n",
       "      <th rowspan=\"2\" valign=\"top\">model2</th>\n",
       "      <th>train</th>\n",
       "      <td>66969.4</td>\n",
       "      <td>78967.4</td>\n",
       "      <td>78981.4</td>\n",
       "      <td>67026.6</td>\n",
       "      <td>291944.8</td>\n",
       "      <td>0.458849</td>\n",
       "      <td>0.499788</td>\n",
       "      <td>0.499955</td>\n",
       "      <td>0.540895</td>\n",
       "      <td>0.499878</td>\n",
       "      <td>0.478444</td>\n",
       "    </tr>\n",
       "    <tr>\n",
       "      <th>validate</th>\n",
       "      <td>16709.2</td>\n",
       "      <td>19749.2</td>\n",
       "      <td>19738.0</td>\n",
       "      <td>16789.8</td>\n",
       "      <td>72986.2</td>\n",
       "      <td>0.458456</td>\n",
       "      <td>0.498794</td>\n",
       "      <td>0.500150</td>\n",
       "      <td>0.540497</td>\n",
       "      <td>0.499525</td>\n",
       "      <td>0.477770</td>\n",
       "    </tr>\n",
       "    <tr>\n",
       "      <th rowspan=\"2\" valign=\"top\">model3</th>\n",
       "      <th>train</th>\n",
       "      <td>87419.8</td>\n",
       "      <td>155546.2</td>\n",
       "      <td>2402.6</td>\n",
       "      <td>46576.2</td>\n",
       "      <td>291944.8</td>\n",
       "      <td>0.973255</td>\n",
       "      <td>0.652404</td>\n",
       "      <td>0.984788</td>\n",
       "      <td>0.769567</td>\n",
       "      <td>0.832233</td>\n",
       "      <td>0.781163</td>\n",
       "    </tr>\n",
       "    <tr>\n",
       "      <th>validate</th>\n",
       "      <td>24195.8</td>\n",
       "      <td>38181.2</td>\n",
       "      <td>1306.0</td>\n",
       "      <td>9303.2</td>\n",
       "      <td>72986.2</td>\n",
       "      <td>0.948785</td>\n",
       "      <td>0.722278</td>\n",
       "      <td>0.966927</td>\n",
       "      <td>0.804079</td>\n",
       "      <td>0.854641</td>\n",
       "      <td>0.820179</td>\n",
       "    </tr>\n",
       "    <tr>\n",
       "      <th rowspan=\"2\" valign=\"top\">model4</th>\n",
       "      <th>train</th>\n",
       "      <td>95751.2</td>\n",
       "      <td>153062.0</td>\n",
       "      <td>4886.8</td>\n",
       "      <td>38244.8</td>\n",
       "      <td>291944.8</td>\n",
       "      <td>0.951442</td>\n",
       "      <td>0.714582</td>\n",
       "      <td>0.969061</td>\n",
       "      <td>0.800087</td>\n",
       "      <td>0.852261</td>\n",
       "      <td>0.816174</td>\n",
       "    </tr>\n",
       "    <tr>\n",
       "      <th>validate</th>\n",
       "      <td>23337.6</td>\n",
       "      <td>38143.0</td>\n",
       "      <td>1344.2</td>\n",
       "      <td>10161.4</td>\n",
       "      <td>72986.2</td>\n",
       "      <td>0.945537</td>\n",
       "      <td>0.696664</td>\n",
       "      <td>0.965960</td>\n",
       "      <td>0.789637</td>\n",
       "      <td>0.842359</td>\n",
       "      <td>0.802240</td>\n",
       "    </tr>\n",
       "    <tr>\n",
       "      <th rowspan=\"2\" valign=\"top\">model5</th>\n",
       "      <th>train</th>\n",
       "      <td>128779.0</td>\n",
       "      <td>155418.2</td>\n",
       "      <td>2530.6</td>\n",
       "      <td>5217.0</td>\n",
       "      <td>291944.8</td>\n",
       "      <td>0.980815</td>\n",
       "      <td>0.961063</td>\n",
       "      <td>0.983977</td>\n",
       "      <td>0.967604</td>\n",
       "      <td>0.973462</td>\n",
       "      <td>0.970786</td>\n",
       "    </tr>\n",
       "    <tr>\n",
       "      <th>validate</th>\n",
       "      <td>30687.8</td>\n",
       "      <td>37417.4</td>\n",
       "      <td>2069.8</td>\n",
       "      <td>2811.2</td>\n",
       "      <td>72986.2</td>\n",
       "      <td>0.937034</td>\n",
       "      <td>0.916090</td>\n",
       "      <td>0.947593</td>\n",
       "      <td>0.930200</td>\n",
       "      <td>0.933124</td>\n",
       "      <td>0.926347</td>\n",
       "    </tr>\n",
       "  </tbody>\n",
       "</table>\n",
       "</div>"
      ],
      "text/plain": [
       "                       tp        tn       fp        fn  total_count  \\\n",
       "model  type                                                           \n",
       "model1 train          0.0  157948.8      0.0  133996.0     291944.8   \n",
       "       validate       0.0   39487.2      0.0   33499.0      72986.2   \n",
       "model2 train      66969.4   78967.4  78981.4   67026.6     291944.8   \n",
       "       validate   16709.2   19749.2  19738.0   16789.8      72986.2   \n",
       "model3 train      87419.8  155546.2   2402.6   46576.2     291944.8   \n",
       "       validate   24195.8   38181.2   1306.0    9303.2      72986.2   \n",
       "model4 train      95751.2  153062.0   4886.8   38244.8     291944.8   \n",
       "       validate   23337.6   38143.0   1344.2   10161.4      72986.2   \n",
       "model5 train     128779.0  155418.2   2530.6    5217.0     291944.8   \n",
       "       validate   30687.8   37417.4   2069.8    2811.2      72986.2   \n",
       "\n",
       "                 precision    recall  specificity  Neg_pred_value  Accuracy  \\\n",
       "model  type                                                                   \n",
       "model1 train           NaN  0.000000     1.000000        0.541023  0.541023   \n",
       "       validate        NaN  0.000000     1.000000        0.541023  0.541023   \n",
       "model2 train      0.458849  0.499788     0.499955        0.540895  0.499878   \n",
       "       validate   0.458456  0.498794     0.500150        0.540497  0.499525   \n",
       "model3 train      0.973255  0.652404     0.984788        0.769567  0.832233   \n",
       "       validate   0.948785  0.722278     0.966927        0.804079  0.854641   \n",
       "model4 train      0.951442  0.714582     0.969061        0.800087  0.852261   \n",
       "       validate   0.945537  0.696664     0.965960        0.789637  0.842359   \n",
       "model5 train      0.980815  0.961063     0.983977        0.967604  0.973462   \n",
       "       validate   0.937034  0.916090     0.947593        0.930200  0.933124   \n",
       "\n",
       "                       f1  \n",
       "model  type                \n",
       "model1 train          NaN  \n",
       "       validate       NaN  \n",
       "model2 train     0.478444  \n",
       "       validate  0.477770  \n",
       "model3 train     0.781163  \n",
       "       validate  0.820179  \n",
       "model4 train     0.816174  \n",
       "       validate  0.802240  \n",
       "model5 train     0.970786  \n",
       "       validate  0.926347  "
      ]
     },
     "execution_count": 52,
     "metadata": {},
     "output_type": "execute_result"
    }
   ],
   "source": [
    "# Model 3 = SVM\n",
    "# Model 4 = Naive Bayes\n",
    "# Model 5 = LSTM ; Epoch = 5\n",
    "d.groupby([\"model\",'type']).mean()"
   ]
  },
  {
   "cell_type": "code",
   "execution_count": 53,
   "id": "2cdffe65",
   "metadata": {},
   "outputs": [
    {
     "data": {
      "image/png": "[encoded data removed]",
      "text/plain": [
       "<Figure size 432x288 with 1 Axes>"
      ]
     },
     "metadata": {
      "needs_background": "light"
     },
     "output_type": "display_data"
    }
   ],
   "source": [
    "# generate a no skill prediction (majority class)\n",
    "#ns_probs = [0 for _ in range(len(test['label']))]\n",
    "\n",
    "\n",
    "# calculate scores\n",
    "#ns_auc = roc_auc_score(validate['label'], ns_probs)\n",
    "#lr_auc = roc_auc_score(test['label'], test['predicted'])\n",
    "\n",
    "# summarize scores\n",
    "#print('No Skill: ROC AUC=%.3f' % (ns_auc))\n",
    "#print('Logistic: ROC AUC=%.3f' % (lr_auc))\n",
    "\n",
    "\n",
    "# calculate roc curves\n",
    "plt_df = pd.DataFrame(result_detailed, columns=['label','predicted','type','model','cross_validation_run'])\n",
    "\n",
    "# No Skill\n",
    "ns_probs = [0 for _ in range(len(train['label']))]\n",
    "\n",
    "# Model 1 \n",
    "a = plt_df[['label','predicted','type','model','cross_validation_run']].query('type == \"validate\" and model == \"model1\"and cross_validation_run == 4').explode(['label','predicted']).reset_index()\n",
    "# Model 2\n",
    "b = plt_df[['label','predicted','type','model','cross_validation_run']].query('type == \"validate\" and model == \"model2\"and cross_validation_run == 4').explode(['label','predicted']).reset_index()\n",
    "# Model 3\n",
    "c = plt_df[['label','predicted','type','model','cross_validation_run']].query('type == \"validate\" and model == \"model3\"and cross_validation_run == 4').explode(['label','predicted']).reset_index()\n",
    "# Model 4\n",
    "d = plt_df[['label','predicted','type','model','cross_validation_run']].query('type == \"validate\" and model == \"model4\"and cross_validation_run == 4').explode(['label','predicted']).reset_index()\n",
    "# Model 5\n",
    "e = plt_df[['label','predicted','type','model','cross_validation_run']].query('type == \"validate\" and model == \"model5\"and cross_validation_run == 4').explode(['label','predicted']).reset_index()\n",
    "\n",
    "# No Skill\n",
    "ns_probs = [0 for _ in range(len(e['predicted']))]\n",
    "\n",
    "\n",
    "#a = a_df[['label','predicted','type','model','cross_validation_run']].query('type == \"validate\" and model == \"model2\"and cross_validation_run == 11').copy()\n",
    "#a = a.explode(['label','predicted']).reset_index()\n",
    "\n",
    "#b = a_df[['label','predicted']].query('type == validate and model == model2')\n",
    "#c = a_df[['label','predicted']].query('type == validate and model == model3')\n",
    "#temp = a['label'].astype(int)\n",
    "#print(temp)\n",
    "#ns_fpr, ns_tpr, _ = roc_curve(a['label'], a['predicted'])\n",
    "ns_fpr, ns_tpr, _ = roc_curve(a['label'].astype(int), a['predicted'].astype(int))\n",
    "b1, b2, _ = roc_curve(b['label'].astype(int), b['predicted'].astype(int))\n",
    "c1, c2, _ = roc_curve(c['label'].astype(int), c['predicted'].astype(int))\n",
    "d1, d2, _ = roc_curve(d['label'].astype(int), d['predicted'].astype(int))\n",
    "e1, e2, _ = roc_curve(e['label'].astype(int), e['predicted'].astype(int))\n",
    "ns_1, ns_2, _ = roc_curve(e['label'].astype(int), ns_probs)\n",
    "\n",
    "\n",
    "#lr_fpr, lr_tpr, _ = roc_curve(b['label'], b['predicted'])\n",
    "#c1, c2, _ = roc_curve(c['label'], c['predicted'])\n",
    "\n",
    "# plot the roc curve for the model\n",
    "\n",
    "pyplot.plot(ns_fpr, ns_tpr, marker='s', linestyle='--', label='model1')\n",
    "pyplot.plot(b1, b2, marker='v', linestyle='--', label='model2')\n",
    "pyplot.plot(c1, c2, marker='o', linestyle='--', label='model3')\n",
    "pyplot.plot(d1, d2,  marker='x', linestyle='--', label='model4')\n",
    "pyplot.plot(e1, e2, marker='*', linestyle='--', label='model5')\n",
    "pyplot.plot(ns_1, ns_2, marker='.', label='no skills')\n",
    "\n",
    "#pyplot.plot(lr_fpr, lr_tpr, marker='.', label='model2')\n",
    "#pyplot.plot(c1, c2, marker='.', label='model3')\n",
    "\n",
    "# axis labels\n",
    "pyplot.xlabel('False Positive Rate')\n",
    "pyplot.ylabel('True Positive Rate')\n",
    "# show the legend\n",
    "pyplot.legend()\n",
    "# show the plot\n",
    "pyplot.show()"
   ]
  },
  {
   "cell_type": "code",
   "execution_count": 54,
   "id": "cb1d4531",
   "metadata": {},
   "outputs": [],
   "source": [
    "# Save as CSV\n",
    "plt_df.explode(['label','predicted']).to_csv(\"model_export_data.csv\", sep=',')"
   ]
  }
 ],
 "metadata": {
  "interpreter": {
   "hash": "90ddd5eea33bf34e5045df3efad123ec5baf581e702e7e2d1915bea2be814a0a"
  },
  "kernelspec": {
   "display_name": "Python 3.6.13 ('base')",
   "language": "python",
   "name": "python3"
  },
  "language_info": {
   "codemirror_mode": {
    "name": "ipython",
    "version": 3
   },
   "file_extension": ".py",
   "mimetype": "text/x-python",
   "name": "python",
   "nbconvert_exporter": "python",
   "pygments_lexer": "ipython3",
   "version": "3.6.13"
  }
 },
 "nbformat": 4,
 "nbformat_minor": 5
}
