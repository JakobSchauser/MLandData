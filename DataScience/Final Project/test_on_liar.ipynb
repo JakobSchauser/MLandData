{
 "cells": [
  {
   "cell_type": "code",
   "execution_count": 34,
   "metadata": {},
   "outputs": [],
   "source": [
    "import numpy as np\n",
    "import tensorflow as tf\n",
    "from tensorflow import keras\n",
    "import pickle\n",
    "import pandas as pd\n",
    "import matplotlib.pyplot as plt"
   ]
  },
  {
   "cell_type": "code",
   "execution_count": 12,
   "metadata": {},
   "outputs": [],
   "source": [
    "# !pip install -U protobuf==3.11.3"
   ]
  },
  {
   "cell_type": "code",
   "execution_count": 10,
   "metadata": {},
   "outputs": [],
   "source": [
    "# keras.models.load_model(\"model_5.pkl\")\n",
    "\n",
    "# keras.models.load_model(\"savetest1.h5\")"
   ]
  },
  {
   "cell_type": "code",
   "execution_count": 11,
   "metadata": {},
   "outputs": [],
   "source": [
    "# for l in open(\"model_5.npy\"):\n",
    "#     print(l)"
   ]
  },
  {
   "cell_type": "code",
   "execution_count": 23,
   "metadata": {},
   "outputs": [],
   "source": [
    "liar = pd.read_csv(\"liar_dataset/train.tsv\", sep='\\t' , names=[\"file\",\"fake\",\"content\",\"tags\",\"speaker\",\"job\",\"state\", \"political_leaning\",\"n1\",\"n2\",\"n3\",\"n4\",\"n5\", \"where\"])\n",
    "fake = pd.read_csv(\"train_data.csv\")"
   ]
  },
  {
   "cell_type": "code",
   "execution_count": 24,
   "metadata": {},
   "outputs": [],
   "source": [
    "liar = liar[\"content\"]\n",
    "fake = fake[\"content\"]"
   ]
  },
  {
   "cell_type": "code",
   "execution_count": 82,
   "metadata": {},
   "outputs": [],
   "source": [
    "fakecounts = np.array([l.count(\" \") for l in fake])\n",
    "liarcounts = np.array([l.count(\" \") for l in liar])\n",
    "liarcounts = liarcounts[liarcounts<80]"
   ]
  },
  {
   "cell_type": "code",
   "execution_count": 105,
   "metadata": {},
   "outputs": [
    {
     "name": "stdout",
     "output_type": "stream",
     "text": [
      "Fake mean 513.5616212379874\n",
      "Fake median 329.0\n",
      "liar mean 16.912572042590604\n",
      "liar median 16.0\n"
     ]
    }
   ],
   "source": [
    "print(\"Fake mean\",\n",
    "np.mean(fakecounts))\n",
    "print(\"Fake median\",\n",
    "np.median(fakecounts))\n",
    "print(\"liar mean\",\n",
    "np.mean(liarcounts))\n",
    "print(\"liar median\",\n",
    "np.median(liarcounts))"
   ]
  },
  {
   "cell_type": "code",
   "execution_count": 101,
   "metadata": {},
   "outputs": [
    {
     "data": {
      "image/png": "[encoded data removed]",
      "text/plain": [
       "<Figure size 504x216 with 2 Axes>"
      ]
     },
     "metadata": {},
     "output_type": "display_data"
    }
   ],
   "source": [
    "import seaborn as sns\n",
    "sns.set(style = \"ticks\")\n",
    "\n",
    "fig, axs = plt.subplots(1,2, sharey= True, figsize = (7,3))\n",
    "\n",
    "hist, bins = np.histogram(fakecounts, bins = 20)\n",
    "\n",
    "axs[0].bar((bins[1:] + bins[:-1])/2, np.log(hist)/np.log(sum(fakecounts)), align = \"center\",  width= (bins[1]-bins[0])*0.8)\n",
    "\n",
    "hist, bins = np.histogram(liarcounts, bins = 20)\n",
    "axs[1].bar((bins[1:] + bins[:-1])/2, np.log(hist)/np.log(sum(liarcounts)), align = \"center\",  width= (bins[1]-bins[0])*0.8)\n",
    "axs[1].set_xlim(0,70)\n",
    "axs[0].set_ylabel(\"log(count/total)\")\n",
    "\n",
    "axs[0].set_title(\"Fake News Corpus\")\n",
    "axs[1].set_title(\"LIAR data-set\")\n",
    "fig.suptitle(\"Frequency of word counts\")\n",
    "axs[0].set_xlabel(\"Word count\")\n",
    "plt.xlabel(\"Word count\")\n",
    "fig.tight_layout()\n",
    "plt.show()"
   ]
  },
  {
   "cell_type": "code",
   "execution_count": 133,
   "metadata": {},
   "outputs": [
    {
     "data": {
      "text/plain": [
       "0.0032659863237109073"
      ]
     },
     "execution_count": 133,
     "metadata": {},
     "output_type": "execute_result"
    }
   ],
   "source": [
    "np.std([0.9330, 0.9370, 0.9290])"
   ]
  },
  {
   "cell_type": "code",
   "execution_count": 130,
   "metadata": {},
   "outputs": [
    {
     "data": {
      "text/plain": [
       "0.499791"
      ]
     },
     "execution_count": 130,
     "metadata": {},
     "output_type": "execute_result"
    }
   ],
   "source": [
    "np.mean(np.round(np.random.random(1000000)) == np.random.choice([0,1], 1000000, p = [0.45,0.55],))"
   ]
  }
 ],
 "metadata": {
  "interpreter": {
   "hash": "90ddd5eea33bf34e5045df3efad123ec5baf581e702e7e2d1915bea2be814a0a"
  },
  "kernelspec": {
   "display_name": "Python 3.6.13 ('base')",
   "language": "python",
   "name": "python3"
  },
  "language_info": {
   "codemirror_mode": {
    "name": "ipython",
    "version": 3
   },
   "file_extension": ".py",
   "mimetype": "text/x-python",
   "name": "python",
   "nbconvert_exporter": "python",
   "pygments_lexer": "ipython3",
   "version": "3.6.13"
  },
  "orig_nbformat": 4
 },
 "nbformat": 4,
 "nbformat_minor": 2
}
