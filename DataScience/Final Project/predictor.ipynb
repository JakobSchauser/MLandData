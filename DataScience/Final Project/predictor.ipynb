{
 "cells": [
  {
   "cell_type": "code",
   "execution_count": 71,
   "metadata": {},
   "outputs": [],
   "source": [
    "import numpy as np\n",
    "from sklearn.neighbors import KNeighborsClassifier\n",
    "from sklearn.ensemble import RandomForestClassifier\n",
    "from sklearn.feature_extraction.text import CountVectorizer\n",
    "import pandas as pd"
   ]
  },
  {
   "cell_type": "markdown",
   "metadata": {},
   "source": [
    "Get data"
   ]
  },
  {
   "cell_type": "code",
   "execution_count": 72,
   "metadata": {},
   "outputs": [],
   "source": [
    "dat = pd.read_csv(\"train_data.csv\", delimiter = \",\",encoding= \"utf8\")\n",
    "X_str, y = dat[\"content\"], dat[\"label\"]"
   ]
  },
  {
   "cell_type": "markdown",
   "metadata": {},
   "source": [
    "Transform data"
   ]
  },
  {
   "cell_type": "code",
   "execution_count": 75,
   "metadata": {},
   "outputs": [],
   "source": [
    "X = CountVectorizer().fit_transform(X_str)\n",
    "\n",
    "X_train, X_test = X[:-1000], X[-1000:]\n",
    "y_train, y_test = y[:-1000], y[-1000:]"
   ]
  },
  {
   "cell_type": "markdown",
   "metadata": {},
   "source": [
    "Train KNN"
   ]
  },
  {
   "cell_type": "code",
   "execution_count": 85,
   "metadata": {},
   "outputs": [
    {
     "name": "stdout",
     "output_type": "stream",
     "text": [
      "Accuracy: 0.829\n",
      "Accuracy: 0.823\n",
      "Accuracy: 0.831\n",
      "Accuracy: 0.814\n",
      "Accuracy: 0.839\n",
      "Accuracy: 0.824\n",
      "Accuracy: 0.846\n",
      "Accuracy: 0.826\n",
      "Accuracy: 0.843\n",
      "Accuracy: 0.821\n",
      "Accuracy: 0.832\n",
      "Accuracy: 0.813\n",
      "Accuracy: 0.832\n",
      "Accuracy: 0.823\n"
     ]
    }
   ],
   "source": [
    "for i in range(1,15):\n",
    "    knn = KNeighborsClassifier(n_neighbors= i)\n",
    "\n",
    "    knn.fit(X_train, y_train)\n",
    "\n",
    "    knn_pred = knn.predict(X_test)\n",
    "\n",
    "    print(f\"Accuracy: {(knn_pred == y_test).mean():.3}\")"
   ]
  },
  {
   "cell_type": "markdown",
   "metadata": {},
   "source": [
    "Train Random Forest"
   ]
  },
  {
   "cell_type": "code",
   "execution_count": 84,
   "metadata": {},
   "outputs": [
    {
     "name": "stdout",
     "output_type": "stream",
     "text": [
      "Accuracy: 0.875\n"
     ]
    }
   ],
   "source": [
    "RF = RandomForestClassifier(verbose = 0, max_depth = 50, n_estimators= 10)\n",
    "\n",
    "RF.fit(X_train,y_train)\n",
    "\n",
    "RF_pred = RF.predict(X_test)\n",
    "\n",
    "print(f\"Accuracy: {(RF_pred == y_test).mean():.3}\")"
   ]
  }
 ],
 "metadata": {
  "interpreter": {
   "hash": "90ddd5eea33bf34e5045df3efad123ec5baf581e702e7e2d1915bea2be814a0a"
  },
  "kernelspec": {
   "display_name": "Python 3.6.13 ('base')",
   "language": "python",
   "name": "python3"
  },
  "language_info": {
   "codemirror_mode": {
    "name": "ipython",
    "version": 3
   },
   "file_extension": ".py",
   "mimetype": "text/x-python",
   "name": "python",
   "nbconvert_exporter": "python",
   "pygments_lexer": "ipython3",
   "version": "3.6.13"
  },
  "orig_nbformat": 4
 },
 "nbformat": 4,
 "nbformat_minor": 2
}
