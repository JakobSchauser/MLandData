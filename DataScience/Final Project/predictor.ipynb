{
 "cells": [
  {
   "cell_type": "markdown",
   "metadata": {},
   "source": [
    "Import stuff"
   ]
  },
  {
   "cell_type": "code",
   "execution_count": 29,
   "metadata": {},
   "outputs": [],
   "source": [
    "import numpy as np\n",
    "from sklearn.neighbors import KNeighborsClassifier\n",
    "from sklearn.ensemble import RandomForestClassifier\n",
    "from sklearn.feature_extraction.text import CountVectorizer\n",
    "from sklearn.model_selection import cross_val_score\n",
    "import pandas as pd"
   ]
  },
  {
   "cell_type": "markdown",
   "metadata": {},
   "source": [
    "Get data"
   ]
  },
  {
   "cell_type": "code",
   "execution_count": 30,
   "metadata": {},
   "outputs": [],
   "source": [
    "dat = pd.read_csv(\"train_data.csv\", delimiter = \",\",encoding= \"utf8\")\n",
    "X_str, y = dat[\"content\"], dat[\"label\"]"
   ]
  },
  {
   "cell_type": "markdown",
   "metadata": {},
   "source": [
    "Transform data"
   ]
  },
  {
   "cell_type": "code",
   "execution_count": 31,
   "metadata": {},
   "outputs": [],
   "source": [
    "vec =CountVectorizer() \n",
    "X = vec.fit_transform(X_str)\n",
    "\n",
    "X_train, X_test = X[:-1000], X[-1000:]\n",
    "y_train, y_test = y[:-1000], y[-1000:]"
   ]
  },
  {
   "cell_type": "markdown",
   "metadata": {},
   "source": [
    "Train KNN"
   ]
  },
  {
   "cell_type": "code",
   "execution_count": 6,
   "metadata": {},
   "outputs": [
    {
     "name": "stdout",
     "output_type": "stream",
     "text": [
      "Accuracy: 0.846\n"
     ]
    }
   ],
   "source": [
    "knn = KNeighborsClassifier(n_neighbors= 7)\n",
    "\n",
    "knn.fit(X_train, y_train)\n",
    "knn_pred = knn.predict(X_test)\n",
    "\n",
    "\n",
    "print(f\"Accuracy: {(knn_pred == y_test).mean():.3}\")"
   ]
  },
  {
   "cell_type": "markdown",
   "metadata": {},
   "source": [
    "Train Random Forest"
   ]
  },
  {
   "cell_type": "code",
   "execution_count": 32,
   "metadata": {},
   "outputs": [
    {
     "data": {
      "text/plain": [
       "RandomForestClassifier(max_depth=50, n_estimators=10)"
      ]
     },
     "execution_count": 32,
     "metadata": {},
     "output_type": "execute_result"
    }
   ],
   "source": [
    "RF = RandomForestClassifier(verbose = 0, max_depth = 50, n_estimators= 10)\n",
    "\n",
    "RF.fit(X_train,y_train)\n",
    "\n",
    "# RF_pred = RF.predict(X_test)\n",
    "\n",
    "# print(f\"Accuracy: {(RF_pred == y_test).mean():.3}\")"
   ]
  },
  {
   "cell_type": "code",
   "execution_count": 59,
   "metadata": {},
   "outputs": [],
   "source": [
    "accs = []\n",
    "precs = []\n",
    "recas = []\n",
    "f1s =[]\n",
    "for i in range(3):\n",
    "    X, y = X_train[(i*(X_train.shape[0]))//10:((i+1)*(X_train.shape[0]))//10], y_train[(i*(X_train.shape[0]))//10:((i+1)*(X_train.shape[0]))//10]\n",
    "    pred = RF.predict(X)\n",
    "    acc = (pred == y)\n",
    "    accs.append(acc.mean())\n",
    "\n",
    "    TP = (pred & y).mean()\n",
    "    FP = (pred & ~y).mean()\n",
    "    TN = (~pred & ~y).mean() \n",
    "    FN = (~pred & y).mean() \n",
    "\n",
    "    prec =  TP/(TP+FP)  #TP/(TP + FP)\n",
    "\n",
    "    recall = TP/(TP+FN) # TP/(TP + FN)\n",
    "\n",
    "    precs.append(prec)\n",
    "    recas.append(recall)\n",
    "    f1s.append(TP/(TP+(FP+FN)/2))"
   ]
  },
  {
   "cell_type": "code",
   "execution_count": 60,
   "metadata": {},
   "outputs": [
    {
     "name": "stdout",
     "output_type": "stream",
     "text": [
      "accuracy\n",
      "mean: 0.916 err 0.00109\n",
      "precision\n",
      "mean: 0.948 err 0.00128\n",
      "recall\n",
      "mean: 0.864 err 0.00121\n",
      "f1\n",
      "mean: 0.904 err 0.000941\n"
     ]
    }
   ],
   "source": [
    "def me(ns):\n",
    "    print(f\"mean: {np.mean(ns):.3} err {np.std(ns):.3}\")\n",
    "\n",
    "\n",
    "print(\"accuracy\")\n",
    "me(accs)\n",
    "print(\"precision\")\n",
    "me(precs)\n",
    "print(\"recall\")\n",
    "me(recas)\n",
    "print(\"f1\")\n",
    "me(f1s)\n"
   ]
  },
  {
   "cell_type": "code",
   "execution_count": 17,
   "metadata": {},
   "outputs": [],
   "source": [
    "liar = pd.read_csv(\"liar_dataset/train.tsv\", sep='\\t' , names=[\"file\",\"fake\",\"content\",\"tags\",\"speaker\",\"job\",\"state\", \"political_leaning\",\"n1\",\"n2\",\"n3\",\"n4\",\"n5\", \"where\"])\n"
   ]
  },
  {
   "cell_type": "code",
   "execution_count": 9,
   "metadata": {},
   "outputs": [],
   "source": [
    "lX = vec.transform(liar[\"content\"])\n",
    "\n",
    "liarpred = RF.predict(lX)"
   ]
  },
  {
   "cell_type": "code",
   "execution_count": 22,
   "metadata": {},
   "outputs": [
    {
     "name": "stdout",
     "output_type": "stream",
     "text": [
      "Accuracy: 0.448\n"
     ]
    }
   ],
   "source": [
    "trues = (liar[\"fake\"] == \"true\") | (liar[\"fake\"] == \"mostly-true\")\n",
    "falses = (liar[\"fake\"] == \"pants-fire\") | (liar[\"fake\"] == \"false\")\n",
    "\n",
    "liar = liar[trues | falses]\n",
    "liarpred = liarpred[trues | falses]\n",
    "\n",
    "tf = (liar[\"fake\"] == \"true\") | (liar[\"fake\"] == \"mostly-true\").astype(int)\n",
    "print(f\"Accuracy: {(liarpred  == tf).mean():.3}\")\n"
   ]
  }
 ],
 "metadata": {
  "interpreter": {
   "hash": "90ddd5eea33bf34e5045df3efad123ec5baf581e702e7e2d1915bea2be814a0a"
  },
  "kernelspec": {
   "display_name": "Python 3.6.13 ('base')",
   "language": "python",
   "name": "python3"
  },
  "language_info": {
   "codemirror_mode": {
    "name": "ipython",
    "version": 3
   },
   "file_extension": ".py",
   "mimetype": "text/x-python",
   "name": "python",
   "nbconvert_exporter": "python",
   "pygments_lexer": "ipython3",
   "version": "3.6.13"
  },
  "orig_nbformat": 4
 },
 "nbformat": 4,
 "nbformat_minor": 2
}
