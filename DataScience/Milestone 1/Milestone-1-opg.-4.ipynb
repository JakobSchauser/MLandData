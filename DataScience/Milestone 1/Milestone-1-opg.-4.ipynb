{
 "cells": [
  {
   "cell_type": "code",
   "execution_count": 65,
   "id": "b0a173b1",
   "metadata": {
    "ExecuteTime": {
     "end_time": "2022-02-24T14:24:04.425254Z",
     "start_time": "2022-02-24T14:24:04.420269Z"
    }
   },
   "outputs": [],
   "source": [
    "# Import stuff <3\n",
    "import pandas as pd\n",
    "import requests\n",
    "from bs4 import BeautifulSoup\n",
    "import re\n",
    "from tqdm.notebook import tqdm"
   ]
  },
  {
   "cell_type": "code",
   "execution_count": 66,
   "id": "43d4c339",
   "metadata": {
    "ExecuteTime": {
     "end_time": "2022-02-24T14:24:04.650034Z",
     "start_time": "2022-02-24T14:24:04.645050Z"
    }
   },
   "outputs": [],
   "source": [
    "# Find our letters\n",
    "group_nr = 2\n",
    "letters = \"ABCDEFGHIJKLMNOPRSTUVWZABCDEFGHIJKLMNOPRSTUVWZ\"[group_nr%23:group_nr%23+10]"
   ]
  },
  {
   "cell_type": "code",
   "execution_count": 79,
   "id": "75c64740",
   "metadata": {
    "ExecuteTime": {
     "end_time": "2022-02-24T14:29:07.525036Z",
     "start_time": "2022-02-24T14:29:07.521049Z"
    }
   },
   "outputs": [],
   "source": [
    "base = \"https://en.wikinews.org\" # For later use\n",
    "\n",
    "# Create list with urls depending on letters\n",
    "url_list = []\n",
    "for l in letters:\n",
    "    url_list.append(f'https://en.wikinews.org/w/index.php?title=Category:Politics_and_conflicts&from={l}')\n"
   ]
  },
  {
   "cell_type": "code",
   "execution_count": 80,
   "id": "8d683908",
   "metadata": {
    "ExecuteTime": {
     "end_time": "2022-02-24T14:29:22.760441Z",
     "start_time": "2022-02-24T14:29:08.104612Z"
    }
   },
   "outputs": [],
   "source": [
    "# Create empty lists\n",
    "all_titles = []\n",
    "all_links = []\n",
    "all_dates = []\n",
    "all_content = []\n",
    "all_sources = []\n",
    "\n",
    "# Loops through url list to retrieve titles and links\n",
    "for url, l in zip(url_list,letters):\n",
    "    \n",
    "    # Needed for doing multiple passes\n",
    "    all_found = False\n",
    "    page_url = url\n",
    "    \n",
    "    # While there are still some articles not found\n",
    "    while not all_found:\n",
    "        response = requests.get(page_url)\n",
    "        soup = BeautifulSoup(response.content, \"html.parser\")\n",
    "        container = soup.find(id = \"mw-pages\")\n",
    "        data = container.find_all('li')\n",
    "        \n",
    "        # Added so it only takes titles with the correct first letter\n",
    "        titles = [m.text for m in data if m.text[0].upper()==l]\n",
    "        \n",
    "        # Append the titles to the running list\n",
    "        all_titles += titles\n",
    "        \n",
    "        # Add links to our list\n",
    "        links = [base + link.get('href') for link in container.find_all('a') if link.get('href')[:6] == \"/wiki/\"]\n",
    "        \n",
    "        all_links += links[:len(titles)]\n",
    "        \n",
    "\n",
    "        \n",
    "        # If the last element on the page is not part of our letter we go to the next\n",
    "        if data[-1].text[0] != l:\n",
    "            break\n",
    "            \n",
    "        # Otherwise we find the \"next page\" button and follows it\n",
    "        buttons = soup.findAll('a', href=True)\n",
    "        for b in buttons:\n",
    "            try:\n",
    "                if b.contents[0] == \"next page\":\n",
    "                    page_url = base + b[\"href\"]\n",
    "            except:\n",
    "                pass"
   ]
  },
  {
   "cell_type": "code",
   "execution_count": 81,
   "id": "b4e17615",
   "metadata": {
    "ExecuteTime": {
     "end_time": "2022-02-24T14:38:00.786821Z",
     "start_time": "2022-02-24T14:29:22.762418Z"
    }
   },
   "outputs": [
    {
     "data": {
      "application/vnd.jupyter.widget-view+json": {
       "model_id": "21570c4d6a9748d49b100e2bc82f96e6",
       "version_major": 2,
       "version_minor": 0
      },
      "text/plain": [
       "  0%|          | 0/2645 [00:00<?, ?it/s]"
      ]
     },
     "metadata": {},
     "output_type": "display_data"
    }
   ],
   "source": [
    "# Loops through links to retrieve data from each articles\n",
    "for article in tqdm(all_links):\n",
    "    response = requests.get(article)\n",
    "    soup = BeautifulSoup(response.content, \"html.parser\")\n",
    "    container = soup.find('div', class_ = \"mw-parser-output\")\n",
    "\n",
    "    # Date\n",
    "    date = [d.text for d in container.find_all(\"strong\", class_ = \"published\")]\n",
    "    all_dates.append(date)\n",
    "\n",
    "    # Content\n",
    "    content = [c.text for c in container.find_all(\"p\")[1:]]\n",
    "    all_content.append(content)\n",
    "\n",
    "    # Sources\n",
    "    sources = [s.text for s in container.find_all(\"span\", class_ = \"sourceTemplate\")]\n",
    "    all_sources.append(sources)"
   ]
  },
  {
   "cell_type": "code",
   "execution_count": 82,
   "id": "d498f194",
   "metadata": {
    "ExecuteTime": {
     "end_time": "2022-02-24T14:38:00.794758Z",
     "start_time": "2022-02-24T14:38:00.789770Z"
    }
   },
   "outputs": [],
   "source": [
    "# Organizing data\n",
    "data = {'Title': all_titles, 'Link': all_links, 'Date': all_dates, 'Content': all_content, 'Sources': all_sources}"
   ]
  },
  {
   "cell_type": "code",
   "execution_count": 84,
   "id": "caa30ec4",
   "metadata": {
    "ExecuteTime": {
     "end_time": "2022-02-24T14:38:13.564425Z",
     "start_time": "2022-02-24T14:38:13.528011Z"
    }
   },
   "outputs": [],
   "source": [
    "# Create dataframe from data\n",
    "df = pd.DataFrame(data)\n",
    "\n",
    "# Export data as csv and excel\n",
    "df.to_csv(\"/Users/gabriellemadsen/Library/CloudStorage/OneDrive-Personligt/Uddannelse/Machine Learning & Datavidenskab/2. semester/DS/Milestone_1/wikinewsdata.csv\")\n",
    "df.to_excel(\"/Users/gabriellemadsen/Library/CloudStorage/OneDrive-Personligt/Uddannelse/Machine Learning & Datavidenskab/2. semester/DS/Milestone_1/wikinewsdata.xlsx\")"
   ]
  }
 ],
 "metadata": {
  "hide_input": false,
  "kernelspec": {
   "display_name": "Python 3",
   "language": "python",
   "name": "python3"
  },
  "language_info": {
   "codemirror_mode": {
    "name": "ipython",
    "version": 3
   },
   "file_extension": ".py",
   "mimetype": "text/x-python",
   "name": "python",
   "nbconvert_exporter": "python",
   "pygments_lexer": "ipython3",
   "version": "3.6.13"
  },
  "toc": {
   "base_numbering": 1,
   "nav_menu": {},
   "number_sections": true,
   "sideBar": true,
   "skip_h1_title": false,
   "title_cell": "Table of Contents",
   "title_sidebar": "Contents",
   "toc_cell": false,
   "toc_position": {},
   "toc_section_display": true,
   "toc_window_display": false
  }
 },
 "nbformat": 4,
 "nbformat_minor": 5
}
