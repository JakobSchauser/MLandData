{
 "cells": [
  {
   "cell_type": "markdown",
   "id": "be571b37",
   "metadata": {},
   "source": [
    "The data set you produce\n",
    "should contain fields corresponding to the content of the article, in addition to some\n",
    "metadata fields like the date when the article was written"
   ]
  },
  {
   "cell_type": "code",
   "execution_count": 157,
   "id": "83d9ffa0",
   "metadata": {
    "ExecuteTime": {
     "end_time": "2022-02-17T15:05:05.912161Z",
     "start_time": "2022-02-17T15:04:54.608080Z"
    }
   },
   "outputs": [],
   "source": [
    "# Import stuff\n",
    "import pandas as pd\n",
    "import requests\n",
    "from bs4 import BeautifulSoup\n",
    "\n",
    "# The url to check\n",
    "url = \"https://en.wikinews.org/wiki/Category:Politics_and_conflicts\"\n",
    "\n",
    "# The base url - will be needed for links later\n",
    "base =  \"https://en.wikinews.org/\"\n",
    "\n",
    "# Find our letters\n",
    "group_nr = 42\n",
    "letters = \"ABCDEFGHIJKLMNOPRSTUVWZABCDEFGHIJKLMNOPRSTUVWZ\"[group_nr%23:group_nr%23+10]\n",
    "letters = [l for l in letters]\n",
    "\n",
    "# Finds the main page and its content\n",
    "site = requests.get(url)\n",
    "soup = BeautifulSoup(site.content, 'html.parser')\n",
    "_all = soup.findAll(\"div\",class_ = \"mw-category-group\")\n",
    "\n",
    "\n",
    "# Finds all sections with a title in our list of letters and append the links to a list\n",
    "links = []\n",
    "for a in _all:\n",
    "    if a.find(\"h3\").contents[0] in letters:\n",
    "        for href in a.findAll('a', href=True):\n",
    "            links.append(href['href'])\n",
    "\n",
    "\n",
    "# Runs through all the links and find the data for each site, so far the \"last edited\" and \"title\" is saved\n",
    "times = []\n",
    "titles= []\n",
    "for l in links:\n",
    "    subsite = requests.get(base+l)\n",
    "    soup = BeautifulSoup(subsite.content, 'html.parser')\n",
    "    times.append(soup.find(\"li\", id = \"footer-info-lastmod\").contents[0][len(\" This page was last edited on \"):-1])\n",
    "    titles.append(soup.find(\"meta\", property = \"og:title\").get(\"content\"))\n",
    "\n",
    "#Check if it works\n",
    "print(times)"
   ]
  }
 ],
 "metadata": {
  "hide_input": false,
  "kernelspec": {
   "display_name": "Python 3",
   "language": "python",
   "name": "python3"
  },
  "language_info": {
   "codemirror_mode": {
    "name": "ipython",
    "version": 3
   },
   "file_extension": ".py",
   "mimetype": "text/x-python",
   "name": "python",
   "nbconvert_exporter": "python",
   "pygments_lexer": "ipython3",
   "version": "3.6.13"
  },
  "toc": {
   "base_numbering": 1,
   "nav_menu": {},
   "number_sections": true,
   "sideBar": true,
   "skip_h1_title": false,
   "title_cell": "Table of Contents",
   "title_sidebar": "Contents",
   "toc_cell": false,
   "toc_position": {},
   "toc_section_display": true,
   "toc_window_display": false
  }
 },
 "nbformat": 4,
 "nbformat_minor": 5
}
