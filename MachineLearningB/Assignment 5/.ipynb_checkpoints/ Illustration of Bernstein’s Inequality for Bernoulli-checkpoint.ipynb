{
 "cells": [
  {
   "cell_type": "code",
   "execution_count": 12,
   "id": "df34a915",
   "metadata": {
    "ExecuteTime": {
     "end_time": "2022-01-03T12:42:29.671573Z",
     "start_time": "2022-01-03T12:42:28.764842Z"
    }
   },
   "outputs": [],
   "source": [
    "import numpy as np\n",
    "import matplotlib.pyplot as plt"
   ]
  },
  {
   "cell_type": "code",
   "execution_count": null,
   "id": "6d5aa9ba",
   "metadata": {},
   "outputs": [],
   "source": [
    "exp = np.round(np.random.random((20,int(1e6))))"
   ]
  },
  {
   "cell_type": "code",
   "execution_count": 15,
   "id": "a371bc57",
   "metadata": {
    "ExecuteTime": {
     "end_time": "2022-01-03T12:54:38.891715Z",
     "start_time": "2022-01-03T12:54:38.600307Z"
    }
   },
   "outputs": [
    {
     "data": {
      "text/plain": [
       "[<matplotlib.lines.Line2D at 0x155a8696668>]"
      ]
     },
     "execution_count": 15,
     "metadata": {},
     "output_type": "execute_result"
    },
    {
     "data": {
      "image/png": "[encoded data removed]",
      "text/plain": [
       "<Figure size 432x288 with 1 Axes>"
      ]
     },
     "metadata": {
      "needs_background": "light"
     },
     "output_type": "display_data"
    }
   ],
   "source": [
    "exp_c = np.sum(exp,axis = 0)/20\n",
    "\n",
    "A = np.linspace(0.5,1,11)\n",
    "\n",
    "empirical = [np.sum(exp_c>a)/len(exp_c) for a in A]\n",
    "plt.plot(A, empirical)"
   ]
  },
  {
   "cell_type": "code",
   "execution_count": null,
   "id": "bea8e157",
   "metadata": {},
   "outputs": [],
   "source": []
  }
 ],
 "metadata": {
  "hide_input": false,
  "kernelspec": {
   "display_name": "Python 3",
   "language": "python",
   "name": "python3"
  },
  "language_info": {
   "codemirror_mode": {
    "name": "ipython",
    "version": 3
   },
   "file_extension": ".py",
   "mimetype": "text/x-python",
   "name": "python",
   "nbconvert_exporter": "python",
   "pygments_lexer": "ipython3",
   "version": "3.6.13"
  },
  "toc": {
   "base_numbering": 1,
   "nav_menu": {},
   "number_sections": true,
   "sideBar": true,
   "skip_h1_title": false,
   "title_cell": "Table of Contents",
   "title_sidebar": "Contents",
   "toc_cell": false,
   "toc_position": {},
   "toc_section_display": true,
   "toc_window_display": false
  }
 },
 "nbformat": 4,
 "nbformat_minor": 5
}
