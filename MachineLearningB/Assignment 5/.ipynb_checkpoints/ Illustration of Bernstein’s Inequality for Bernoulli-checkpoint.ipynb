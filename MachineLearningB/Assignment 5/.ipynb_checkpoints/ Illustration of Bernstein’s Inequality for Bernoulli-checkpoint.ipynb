{
 "cells": [
  {
   "cell_type": "code",
   "execution_count": 26,
   "id": "fc9caba4",
   "metadata": {
    "ExecuteTime": {
     "end_time": "2022-01-03T13:59:43.098823Z",
     "start_time": "2022-01-03T13:59:43.091914Z"
    }
   },
   "outputs": [],
   "source": [
    "import numpy as np\n",
    "import matplotlib.pyplot as plt\n",
    "\n",
    "N = 20"
   ]
  },
  {
   "cell_type": "code",
   "execution_count": 27,
   "id": "93ae292c",
   "metadata": {
    "ExecuteTime": {
     "end_time": "2022-01-03T13:59:47.360607Z",
     "start_time": "2022-01-03T13:59:44.808146Z"
    }
   },
   "outputs": [],
   "source": [
    "exp = np.round(np.random.random((N,int(1e6))))"
   ]
  },
  {
   "cell_type": "code",
   "execution_count": 28,
   "id": "87ae4d51",
   "metadata": {
    "ExecuteTime": {
     "end_time": "2022-01-03T13:59:49.291163Z",
     "start_time": "2022-01-03T13:59:49.197699Z"
    }
   },
   "outputs": [],
   "source": [
    "exp_c = np.sum(exp,axis = 0)/20\n",
    "\n",
    "A = np.linspace(0.5,1,11)\n",
    "\n",
    "empirical = [np.sum(exp_c>a)/len(exp_c) for a in A]\n"
   ]
  },
  {
   "cell_type": "code",
   "execution_count": 33,
   "id": "dcce4aa1",
   "metadata": {
    "ExecuteTime": {
     "end_time": "2022-01-03T14:01:46.119247Z",
     "start_time": "2022-01-03T14:01:46.113948Z"
    }
   },
   "outputs": [],
   "source": [
    "hoeff = lambda x: np.minimum(1,np.exp(-2*N*x*x))"
   ]
  },
  {
   "cell_type": "code",
   "execution_count": 35,
   "id": "5a323cf2",
   "metadata": {
    "ExecuteTime": {
     "end_time": "2022-01-03T14:40:43.463909Z",
     "start_time": "2022-01-03T14:40:43.283973Z"
    }
   },
   "outputs": [
    {
     "data": {
      "text/plain": [
       "[<matplotlib.lines.Line2D at 0x155a99876a0>]"
      ]
     },
     "execution_count": 35,
     "metadata": {},
     "output_type": "execute_result"
    },
    {
     "data": {
      "image/png": "[encoded data removed]",
      "text/plain": [
       "<Figure size 432x288 with 1 Axes>"
      ]
     },
     "metadata": {
      "needs_background": "light"
     },
     "output_type": "display_data"
    }
   ],
   "source": [
    "plt.plot(A, empirical)\n",
    "plt.plot(A,hoeff(0.5-A))"
   ]
  },
  {
   "cell_type": "code",
   "execution_count": null,
   "id": "306d542c",
   "metadata": {},
   "outputs": [],
   "source": [
    "def berstein(x):\n",
    "    return 2*(KL(rho, pi) + np.log(2*nu/delta))/N\n"
   ]
  }
 ],
 "metadata": {
  "hide_input": false,
  "kernelspec": {
   "display_name": "Python 3",
   "language": "python",
   "name": "python3"
  },
  "language_info": {
   "codemirror_mode": {
    "name": "ipython",
    "version": 3
   },
   "file_extension": ".py",
   "mimetype": "text/x-python",
   "name": "python",
   "nbconvert_exporter": "python",
   "pygments_lexer": "ipython3",
   "version": "3.6.13"
  },
  "toc": {
   "base_numbering": 1,
   "nav_menu": {},
   "number_sections": true,
   "sideBar": true,
   "skip_h1_title": false,
   "title_cell": "Table of Contents",
   "title_sidebar": "Contents",
   "toc_cell": false,
   "toc_position": {},
   "toc_section_display": true,
   "toc_window_display": false
  }
 },
 "nbformat": 4,
 "nbformat_minor": 5
}
