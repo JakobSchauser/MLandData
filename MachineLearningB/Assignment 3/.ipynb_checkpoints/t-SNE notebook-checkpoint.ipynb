{
 "cells": [
  {
   "cell_type": "code",
   "execution_count": 269,
   "id": "1826f7e8",
   "metadata": {
    "ExecuteTime": {
     "end_time": "2021-12-13T16:14:07.134209Z",
     "start_time": "2021-12-13T16:14:07.074397Z"
    }
   },
   "outputs": [
    {
     "name": "stdout",
     "output_type": "stream",
     "text": [
      "(4000, 3)\n"
     ]
    }
   ],
   "source": [
    "import numpy as np\n",
    "import matplotlib.pyplot as plt\n",
    "from scipy.spatial.distance import squareform, pdist\n",
    "\n",
    "points = np.genfromtxt(\"dataset1.txt\",delimiter = \",\")\n",
    "\n",
    "print(points.shape)\n",
    "\n",
    "\n",
    "\n",
    "N = len(points)\n",
    "\n"
   ]
  },
  {
   "cell_type": "code",
   "execution_count": 270,
   "id": "cd94740c",
   "metadata": {
    "ExecuteTime": {
     "end_time": "2021-12-13T16:14:07.243185Z",
     "start_time": "2021-12-13T16:14:07.238398Z"
    }
   },
   "outputs": [],
   "source": [
    "# points = points[:10]\n",
    "# sigmas = np.ones(len(points))\n",
    "\n",
    "# get_perplex(sigmas)"
   ]
  },
  {
   "cell_type": "code",
   "execution_count": 271,
   "id": "53b5017e",
   "metadata": {
    "ExecuteTime": {
     "end_time": "2021-12-13T16:15:06.913331Z",
     "start_time": "2021-12-13T16:14:07.395702Z"
    }
   },
   "outputs": [
    {
     "name": "stderr",
     "output_type": "stream",
     "text": [
      "C:\\Users\\jakob\\Anaconda3\\lib\\site-packages\\ipykernel_launcher.py:34: RuntimeWarning: divide by zero encountered in log2\n"
     ]
    },
    {
     "name": "stdout",
     "output_type": "stream",
     "text": [
      "Run 0 Cleanness: 3084.7903040505303 How many: 0\n",
      "Run 1 Cleanness: 1221.1476868860352 How many: 0\n",
      "Run 2 Cleanness: 276.67040078228223 How many: 0\n",
      "Run 3 Cleanness: 34.99665427086716 How many: 0\n",
      "Run 4 Cleanness: -30.45890691098477 How many: 0\n",
      "Run 5 Cleanness: -4.859409570569108 How many: 0\n",
      "Run 6 Cleanness: -0.5441120840165627 How many: 0\n",
      "Run 7 Cleanness: 0.0852855272309927 How many: 0\n",
      "Run 8 Cleanness: 0.1018160038295068 How many: 0\n",
      "Run 9 Cleanness: 0.025032506851048447 How many: 0\n",
      "Run 10 Cleanness: -0.0025026479131218535 How many: 0\n",
      "Run 11 Cleanness: -0.0005534849091509138 How many: 4\n",
      "Run 12 Cleanness: 0.0014522376096654669 How many: 2\n",
      "Run 13 Cleanness: 0.0021186319989367135 How many: 6\n",
      "Run 14 Cleanness: 0.0006429403452604596 How many: 13\n",
      "Run 15 Cleanness: 0.00036613179129640374 How many: 23\n",
      "Run 16 Cleanness: 0.00020538023660084549 How many: 41\n",
      "Run 17 Cleanness: 9.68898072985045e-05 How many: 100\n",
      "Run 18 Cleanness: -4.324571215216544e-05 How many: 239\n",
      "Run 19 Cleanness: 1.395904801382919e-05 How many: 412\n",
      "Run 20 Cleanness: -8.907120918983936e-07 How many: 881\n",
      "Run 21 Cleanness: -3.2037163202343065e-06 How many: 1716\n",
      "Run 22 Cleanness: -6.108153167279085e-07 How many: 3399\n"
     ]
    }
   ],
   "source": [
    "# points = np.array([[1,2,3],[3,2,1],[0,1,2]])\n",
    "# sigma = np.array([1,1,1])\n",
    "\n",
    "\n",
    "\n",
    "def low_dim_affinities(Ys):\n",
    "    \n",
    "    lowdists = squareform(pdist(Ys))**2\n",
    "    \n",
    "    top = 1/(1 + lowdists)\n",
    "    \n",
    "    np.fill_diagonal(top,0)\n",
    "    \n",
    "    bottom = np.sum(1/(1+top)) - 1\n",
    "    \n",
    "    return top/bottom\n",
    "\n",
    "\n",
    "def get_affinities(sigma):\n",
    "    dists = squareform(pdist(points))**2\n",
    "    \n",
    "    top = np.exp(-dists/(2*sigma**2))\n",
    "    \n",
    "    np.fill_diagonal(top,0)\n",
    "\n",
    "    bottom = np.sum(top,axis = 0)\n",
    "    \n",
    "    return top/bottom\n",
    "\n",
    "\n",
    "def get_perplex(sigma):\n",
    "    aff = get_affinities(sigma)\n",
    "\n",
    "    logs = np.nan_to_num(np.log2(aff))\n",
    "\n",
    "    perplex = np.power(2,np.sum(-aff*logs,axis = 0))\n",
    "\n",
    "    return perplex\n",
    "\n",
    "perplex_goal = 50\n",
    "sigma_max = np.ones(N)*1e50\n",
    "sigma_min = np.ones(N)*1e-50\n",
    "sigmas = np.ones(N)\n",
    "n_true = 0\n",
    "\n",
    "ind = 0\n",
    "\n",
    "while (n_true < len(sigmas)):\n",
    "    perp = get_perplex(sigmas)\n",
    "    print(\"Run\",ind,\"Cleanness:\",np.sum(perp-perplex_goal)/len(perp),\"How many:\",n_true)\n",
    "    \n",
    "    above = perp > perplex_goal\n",
    "    below = perp < perplex_goal\n",
    "    \n",
    "    sigma_max[above] = sigmas[above]\n",
    "    sigma_min[below] = sigmas[below]\n",
    "    \n",
    "    sigmas = (sigma_max + sigma_min)/2\n",
    "    n_true = np.sum(np.isclose(perp,perplex_goal))\n",
    "    ind += 1\n",
    "    \n",
    "    "
   ]
  },
  {
   "cell_type": "code",
   "execution_count": 276,
   "id": "a537fab5",
   "metadata": {
    "ExecuteTime": {
     "end_time": "2021-12-13T16:32:33.100392Z",
     "start_time": "2021-12-13T16:24:04.907830Z"
    }
   },
   "outputs": [
    {
     "name": "stdout",
     "output_type": "stream",
     "text": [
      "Here\n",
      "Starting now\n"
     ]
    },
    {
     "data": {
      "application/vnd.jupyter.widget-view+json": {
       "model_id": "3a59f694344e4b30a23e8215b0c8c2aa",
       "version_major": 2,
       "version_minor": 0
      },
      "text/plain": [
       "  0%|          | 0/200 [00:00<?, ?it/s]"
      ]
     },
     "metadata": {},
     "output_type": "display_data"
    }
   ],
   "source": [
    "from tqdm.notebook import trange\n",
    "\n",
    "# Number of iterations\n",
    "T = 200\n",
    "\n",
    "# Learning rate\n",
    "eta = 100\n",
    "\n",
    "# Momentum\n",
    "alpha = lambda t: 0.1\n",
    "\n",
    "\n",
    "print(\"Here\")\n",
    "\n",
    "\n",
    "# Begin\n",
    "def do_reg():\n",
    "    affinities = get_affinities(sigmas)\n",
    "    Ys = np.random.normal(0.0, 1e-4, (N,2))\n",
    "    last_Ys = Ys.copy()\n",
    "    second_Ys = Ys.copy()\n",
    "\n",
    "    print(\"Starting now\")\n",
    "    for t in trange(T):\n",
    "#         print(\"Running iteration\",t)\n",
    "        low_dim = low_dim_affinities(Ys)\n",
    "\n",
    "        # Calculate gradients\n",
    "#         out = np.empty((N,N,2))\n",
    "#         for i in range(N):\n",
    "#             for j in range(N):\n",
    "#                 out[i,j] = Ys[i] - Ys[j]\n",
    "        \n",
    "        pminusq = affinities - low_dim\n",
    "        \n",
    "        out = Ys[None,:,:] - Ys[:,None,:]\n",
    "        \n",
    "        left = np.dstack((pminusq,pminusq))*out\n",
    "        \n",
    "        right = 1+squareform(pdist(Ys))**2\n",
    "        \n",
    "        dCdy = 4 * np.sum(left/np.dstack((right,right)), axis = 0)\n",
    "\n",
    "        Ys += -eta*dCdy + alpha(t)*(last_Ys-second_Ys)\n",
    "\n",
    "        second_Ys = last_Ys.copy()\n",
    "        last_Ys = Ys.copy()\n",
    "        pass\n",
    "\n",
    "    return Ys\n",
    "\n",
    "Ys = do_reg()\n"
   ]
  },
  {
   "cell_type": "code",
   "execution_count": 277,
   "id": "24ed45ca",
   "metadata": {
    "ExecuteTime": {
     "end_time": "2021-12-13T16:32:33.301814Z",
     "start_time": "2021-12-13T16:32:33.104343Z"
    }
   },
   "outputs": [
    {
     "data": {
      "text/plain": [
       "<matplotlib.collections.PathCollection at 0x18799887390>"
      ]
     },
     "execution_count": 277,
     "metadata": {},
     "output_type": "execute_result"
    },
    {
     "data": {
      "image/png": "[encoded data removed]",
      "text/plain": [
       "<Figure size 432x288 with 1 Axes>"
      ]
     },
     "metadata": {
      "needs_background": "light"
     },
     "output_type": "display_data"
    }
   ],
   "source": [
    "plt.scatter(Ys[:,0],Ys[:,1],s=0.4)"
   ]
  },
  {
   "cell_type": "code",
   "execution_count": null,
   "id": "32c6360b",
   "metadata": {},
   "outputs": [],
   "source": []
  }
 ],
 "metadata": {
  "hide_input": false,
  "kernelspec": {
   "display_name": "Python 3",
   "language": "python",
   "name": "python3"
  },
  "language_info": {
   "codemirror_mode": {
    "name": "ipython",
    "version": 3
   },
   "file_extension": ".py",
   "mimetype": "text/x-python",
   "name": "python",
   "nbconvert_exporter": "python",
   "pygments_lexer": "ipython3",
   "version": "3.6.12"
  },
  "toc": {
   "base_numbering": 1,
   "nav_menu": {},
   "number_sections": true,
   "sideBar": true,
   "skip_h1_title": false,
   "title_cell": "Table of Contents",
   "title_sidebar": "Contents",
   "toc_cell": false,
   "toc_position": {},
   "toc_section_display": true,
   "toc_window_display": false
  }
 },
 "nbformat": 4,
 "nbformat_minor": 5
}
