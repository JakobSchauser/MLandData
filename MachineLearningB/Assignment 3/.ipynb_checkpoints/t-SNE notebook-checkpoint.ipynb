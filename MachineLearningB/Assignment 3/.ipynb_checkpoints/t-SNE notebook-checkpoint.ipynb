{
 "cells": [
  {
   "cell_type": "code",
   "execution_count": 106,
   "id": "a1710bb0",
   "metadata": {
    "ExecuteTime": {
     "end_time": "2021-12-13T13:54:37.208834Z",
     "start_time": "2021-12-13T13:54:37.131320Z"
    }
   },
   "outputs": [
    {
     "name": "stdout",
     "output_type": "stream",
     "text": [
      "(4000, 3)\n"
     ]
    }
   ],
   "source": [
    "import numpy as np\n",
    "import matplotlib.pyplot as plt\n",
    "from scipy.spatial.distance import squareform, pdist\n",
    "\n",
    "points = np.genfromtxt(\"dataset1.txt\",delimiter = \",\")\n",
    "\n",
    "print(points.shape)\n",
    "\n",
    "\n",
    "\n",
    "N = len(points)\n",
    "\n"
   ]
  },
  {
   "cell_type": "code",
   "execution_count": 50,
   "id": "04dd1957",
   "metadata": {
    "ExecuteTime": {
     "end_time": "2021-12-13T13:03:32.811830Z",
     "start_time": "2021-12-13T13:03:32.804847Z"
    }
   },
   "outputs": [
    {
     "data": {
      "text/plain": [
       "array([[ 0.44709508,  0.43156471, -0.22451806],\n",
       "       [-1.30118768, -0.11936147,  0.11973185],\n",
       "       [-1.29831754,  0.62444336, -0.13538934],\n",
       "       ...,\n",
       "       [ 1.14036031, -0.23544926, -0.7653798 ],\n",
       "       [-0.66381006, -0.11193013, -0.41187739],\n",
       "       [ 0.85528716,  0.17333574, -0.77281012]])"
      ]
     },
     "execution_count": 50,
     "metadata": {},
     "output_type": "execute_result"
    }
   ],
   "source": [
    "points"
   ]
  },
  {
   "cell_type": "code",
   "execution_count": 144,
   "id": "368a378a",
   "metadata": {
    "ExecuteTime": {
     "end_time": "2021-12-13T14:28:17.159306Z",
     "start_time": "2021-12-13T14:27:13.237547Z"
    }
   },
   "outputs": [
    {
     "name": "stderr",
     "output_type": "stream",
     "text": [
      "C:\\Users\\jakob\\Anaconda3\\lib\\site-packages\\ipykernel_launcher.py:21: RuntimeWarning: divide by zero encountered in log2\n"
     ]
    },
    {
     "name": "stdout",
     "output_type": "stream",
     "text": [
      "Run 0 Cleanness: 84.6766904567575 How many: 0\n",
      "Run 1 Cleanness: 55.128147673186525 How many: 0\n",
      "Run 2 Cleanness: 19.52469844910978 How many: 0\n",
      "Run 3 Cleanness: -9.37595030332182 How many: 0\n",
      "Run 4 Cleanness: 7.371621108235392 How many: 0\n",
      "Run 5 Cleanness: 0.1356531190488104 How many: 0\n",
      "Run 6 Cleanness: -0.05263715783820711 How many: 0\n",
      "Run 7 Cleanness: -0.028004879272099367 How many: 0\n",
      "Run 8 Cleanness: -0.0218996000772795 How many: 2\n",
      "Run 9 Cleanness: -0.010209435638107346 How many: 0\n",
      "Run 10 Cleanness: -0.002371939761120661 How many: 5\n",
      "Run 11 Cleanness: 0.0007632519438266989 How many: 8\n",
      "Run 12 Cleanness: 0.00012150869252278618 How many: 13\n",
      "Run 13 Cleanness: 0.0004254617424870002 How many: 38\n",
      "Run 14 Cleanness: 0.00019826725729377693 How many: 64\n",
      "Run 15 Cleanness: 8.899473239531907e-05 How many: 112\n",
      "Run 16 Cleanness: 5.9901330360306204e-05 How many: 248\n",
      "Run 17 Cleanness: 2.2431069132279548e-05 How many: 450\n",
      "Run 18 Cleanness: 1.5453950072005896e-05 How many: 911\n",
      "Run 19 Cleanness: 6.486703197538191e-06 How many: 1942\n",
      "Run 20 Cleanness: 4.891630568852889e-07 How many: 3736\n",
      "[0.16410589 0.15353918 0.14160395 ... 0.15856218 0.17209959 0.14610815]\n"
     ]
    }
   ],
   "source": [
    "# points = np.array([[1,2,3],[3,2,1],[0,1,2]])\n",
    "# sigma = np.array([1,1,1])\n",
    "\n",
    "\n",
    "\n",
    "def get_affinities(sigma):\n",
    "    dists = squareform(pdist(points))**2\n",
    "    \n",
    "    top = np.exp(-dists/(2*sigma**2))\n",
    "    \n",
    "    np.fill_diagonal(top,0)\n",
    "\n",
    "    bottom = np.sum(top,axis = 0)\n",
    "    \n",
    "    return top/bottom\n",
    "\n",
    "\n",
    "def get_perplex(sigma):\n",
    "    aff = get_affinities(sigma)\n",
    "\n",
    "    logs = np.nan_to_num(np.log2(aff))\n",
    "\n",
    "    perplex = np.power(np.sum(-aff*logs,axis = 0),2)\n",
    "\n",
    "    return perplex\n",
    "\n",
    "perplex_goal = 50\n",
    "sigma_max = np.ones(N)*1e50\n",
    "sigma_min = np.ones(N)*1e-50\n",
    "sigmas = np.ones(N)\n",
    "n_true = 0\n",
    "\n",
    "ind = 0\n",
    "while (n_true < len(sigmas)):\n",
    "# for i in range(100):\n",
    "    \n",
    "    perp = get_perplex(sigmas)\n",
    "    print(\"Run\",ind,\"Cleanness:\",np.sum(perp-perplex_goal)/len(perp),\"How many:\",n_true)\n",
    "    \n",
    "    above = perp > perplex_goal\n",
    "    below = perp < perplex_goal\n",
    "    \n",
    "    sigma_max[above] = sigmas[above]\n",
    "    sigma_min[below] = sigmas[below]\n",
    "    \n",
    "    sigmas = (sigma_max + sigma_min)/2\n",
    "    n_true = np.sum(np.isclose(perp,perplex_goal))\n",
    "    ind += 1\n",
    "    \n",
    "        \n",
    "\n",
    "def low_dim(i,j,Ys):\n",
    "    top = 1/(1 + lowdists)\n",
    "    \n",
    "    np.fill_diagonal(top,0)\n",
    "    \n",
    "    bottom = np.sum(1/(top))\n",
    "    return top/bottom\n",
    "\n",
    "\n",
    "def get_low_dim(Ys):\n",
    "    new_low_dim_affinities = np.zeros((N,N))\n",
    "\n",
    "    for i in range(n):\n",
    "        for j in range(n):\n",
    "            if i == j:\n",
    "                new_low_dim_affinities[i,j] = 0\n",
    "            else:\n",
    "                new_low_dim_affinities[i,j] = low_dim(i, j, Ys)\n",
    "\n",
    "    return new_low_dim_affinities\n"
   ]
  },
  {
   "cell_type": "code",
   "execution_count": 10,
   "id": "b058ae28",
   "metadata": {
    "ExecuteTime": {
     "end_time": "2021-12-13T11:56:17.856725Z",
     "start_time": "2021-12-13T11:53:41.010507Z"
    }
   },
   "outputs": [
    {
     "name": "stdout",
     "output_type": "stream",
     "text": [
      "Here\n"
     ]
    },
    {
     "name": "stderr",
     "output_type": "stream",
     "text": [
      "<ipython-input-9-aafdcf60bddd>:10: NumbaWarning: \u001b[1m\n",
      "Compilation is falling back to object mode WITH looplifting enabled because Function \"get_affinities\" failed type inference due to: \u001b[1mUntyped global name 'perp':\u001b[0m \u001b[1m\u001b[1mcannot determine Numba type of <class 'function'>\u001b[0m\n",
      "\u001b[1m\n",
      "File \"<ipython-input-9-aafdcf60bddd>\", line 18:\u001b[0m\n",
      "\u001b[1mdef get_affinities():\n",
      "    <source elided>\n",
      "            else:\n",
      "\u001b[1m                new_affinities[i,j] = (perp(i,j) + perp(j,i))/(2*N)\n",
      "\u001b[0m                \u001b[1m^\u001b[0m\u001b[0m\n",
      "\u001b[0m\u001b[0m\n",
      "  @jit\n",
      "<ipython-input-9-aafdcf60bddd>:10: NumbaWarning: \u001b[1m\n",
      "Compilation is falling back to object mode WITHOUT looplifting enabled because Function \"get_affinities\" failed type inference due to: \u001b[1m\u001b[1mcannot determine Numba type of <class 'numba.core.dispatcher.LiftedLoop'>\u001b[0m\n",
      "\u001b[1m\n",
      "File \"<ipython-input-9-aafdcf60bddd>\", line 13:\u001b[0m\n",
      "\u001b[1mdef get_affinities():\n",
      "    <source elided>\n",
      "    new_affinities = np.zeros((N,N)) \n",
      "\u001b[1m    for i in range(N):\n",
      "\u001b[0m    \u001b[1m^\u001b[0m\u001b[0m\n",
      "\u001b[0m\u001b[0m\n",
      "  @jit\n",
      "C:\\Users\\jakob\\Anaconda3\\lib\\site-packages\\numba\\core\\object_mode_passes.py:178: NumbaWarning: \u001b[1mFunction \"get_affinities\" was compiled in object mode without forceobj=True, but has lifted loops.\n",
      "\u001b[1m\n",
      "File \"<ipython-input-9-aafdcf60bddd>\", line 12:\u001b[0m\n",
      "\u001b[1mdef get_affinities():\n",
      "\u001b[1m    new_affinities = np.zeros((N,N)) \n",
      "\u001b[0m    \u001b[1m^\u001b[0m\u001b[0m\n",
      "\u001b[0m\n",
      "  state.func_ir.loc))\n",
      "C:\\Users\\jakob\\Anaconda3\\lib\\site-packages\\numba\\core\\object_mode_passes.py:188: NumbaDeprecationWarning: \u001b[1m\n",
      "Fall-back from the nopython compilation path to the object mode compilation path has been detected, this is deprecated behaviour.\n",
      "\n",
      "For more information visit https://numba.pydata.org/numba-doc/latest/reference/deprecation.html#deprecation-of-object-mode-fall-back-behaviour-when-using-jit\n",
      "\u001b[1m\n",
      "File \"<ipython-input-9-aafdcf60bddd>\", line 12:\u001b[0m\n",
      "\u001b[1mdef get_affinities():\n",
      "\u001b[1m    new_affinities = np.zeros((N,N)) \n",
      "\u001b[0m    \u001b[1m^\u001b[0m\u001b[0m\n",
      "\u001b[0m\n",
      "  state.func_ir.loc))\n",
      "<ipython-input-9-aafdcf60bddd>:10: NumbaWarning: \u001b[1m\n",
      "Compilation is falling back to object mode WITHOUT looplifting enabled because Function \"get_affinities\" failed type inference due to: \u001b[1mUntyped global name 'perp':\u001b[0m \u001b[1m\u001b[1mcannot determine Numba type of <class 'function'>\u001b[0m\n",
      "\u001b[1m\n",
      "File \"<ipython-input-9-aafdcf60bddd>\", line 18:\u001b[0m\n",
      "\u001b[1mdef get_affinities():\n",
      "    <source elided>\n",
      "            else:\n",
      "\u001b[1m                new_affinities[i,j] = (perp(i,j) + perp(j,i))/(2*N)\n",
      "\u001b[0m                \u001b[1m^\u001b[0m\u001b[0m\n",
      "\u001b[0m\u001b[0m\n",
      "  @jit\n",
      "C:\\Users\\jakob\\Anaconda3\\lib\\site-packages\\numba\\core\\object_mode_passes.py:178: NumbaWarning: \u001b[1mFunction \"get_affinities\" was compiled in object mode without forceobj=True.\n",
      "\u001b[1m\n",
      "File \"<ipython-input-9-aafdcf60bddd>\", line 13:\u001b[0m\n",
      "\u001b[1mdef get_affinities():\n",
      "    <source elided>\n",
      "    new_affinities = np.zeros((N,N)) \n",
      "\u001b[1m    for i in range(N):\n",
      "\u001b[0m    \u001b[1m^\u001b[0m\u001b[0m\n",
      "\u001b[0m\n",
      "  state.func_ir.loc))\n",
      "C:\\Users\\jakob\\Anaconda3\\lib\\site-packages\\numba\\core\\object_mode_passes.py:188: NumbaDeprecationWarning: \u001b[1m\n",
      "Fall-back from the nopython compilation path to the object mode compilation path has been detected, this is deprecated behaviour.\n",
      "\n",
      "For more information visit https://numba.pydata.org/numba-doc/latest/reference/deprecation.html#deprecation-of-object-mode-fall-back-behaviour-when-using-jit\n",
      "\u001b[1m\n",
      "File \"<ipython-input-9-aafdcf60bddd>\", line 13:\u001b[0m\n",
      "\u001b[1mdef get_affinities():\n",
      "    <source elided>\n",
      "    new_affinities = np.zeros((N,N)) \n",
      "\u001b[1m    for i in range(N):\n",
      "\u001b[0m    \u001b[1m^\u001b[0m\u001b[0m\n",
      "\u001b[0m\n",
      "  state.func_ir.loc))\n"
     ]
    },
    {
     "ename": "KeyboardInterrupt",
     "evalue": "",
     "output_type": "error",
     "traceback": [
      "\u001b[1;31m---------------------------------------------------------------------------\u001b[0m",
      "\u001b[1;31mKeyboardInterrupt\u001b[0m                         Traceback (most recent call last)",
      "\u001b[1;32m<ipython-input-10-0b1b207c9cf2>\u001b[0m in \u001b[0;36m<module>\u001b[1;34m\u001b[0m\n\u001b[0;32m     37\u001b[0m     \u001b[1;32mreturn\u001b[0m \u001b[0mYs\u001b[0m\u001b[1;33m\u001b[0m\u001b[1;33m\u001b[0m\u001b[0m\n\u001b[0;32m     38\u001b[0m \u001b[1;33m\u001b[0m\u001b[0m\n\u001b[1;32m---> 39\u001b[1;33m \u001b[0mYs\u001b[0m \u001b[1;33m=\u001b[0m \u001b[0mdo_reg\u001b[0m\u001b[1;33m(\u001b[0m\u001b[1;33m)\u001b[0m\u001b[1;33m\u001b[0m\u001b[1;33m\u001b[0m\u001b[0m\n\u001b[0m",
      "\u001b[1;32m<ipython-input-10-0b1b207c9cf2>\u001b[0m in \u001b[0;36mdo_reg\u001b[1;34m()\u001b[0m\n\u001b[0;32m     14\u001b[0m \u001b[1;31m# Begin\u001b[0m\u001b[1;33m\u001b[0m\u001b[1;33m\u001b[0m\u001b[1;33m\u001b[0m\u001b[0m\n\u001b[0;32m     15\u001b[0m \u001b[1;32mdef\u001b[0m \u001b[0mdo_reg\u001b[0m\u001b[1;33m(\u001b[0m\u001b[1;33m)\u001b[0m\u001b[1;33m:\u001b[0m\u001b[1;33m\u001b[0m\u001b[1;33m\u001b[0m\u001b[0m\n\u001b[1;32m---> 16\u001b[1;33m     \u001b[0maffinities\u001b[0m \u001b[1;33m=\u001b[0m \u001b[0mget_affinities\u001b[0m\u001b[1;33m(\u001b[0m\u001b[1;33m)\u001b[0m\u001b[1;33m\u001b[0m\u001b[1;33m\u001b[0m\u001b[0m\n\u001b[0m\u001b[0;32m     17\u001b[0m     \u001b[0mYs\u001b[0m \u001b[1;33m=\u001b[0m \u001b[0mnp\u001b[0m\u001b[1;33m.\u001b[0m\u001b[0mrandom\u001b[0m\u001b[1;33m.\u001b[0m\u001b[0mnormal\u001b[0m\u001b[1;33m(\u001b[0m\u001b[1;36m0.0\u001b[0m\u001b[1;33m,\u001b[0m \u001b[1;36m1e-4\u001b[0m\u001b[1;33m,\u001b[0m \u001b[1;33m(\u001b[0m\u001b[0mN\u001b[0m\u001b[1;33m,\u001b[0m\u001b[0mlen\u001b[0m\u001b[1;33m(\u001b[0m\u001b[0mpoints\u001b[0m\u001b[1;33m[\u001b[0m\u001b[1;36m0\u001b[0m\u001b[1;33m]\u001b[0m\u001b[1;33m)\u001b[0m\u001b[1;33m)\u001b[0m\u001b[1;33m)\u001b[0m\u001b[1;33m\u001b[0m\u001b[1;33m\u001b[0m\u001b[0m\n\u001b[0;32m     18\u001b[0m     \u001b[0mlast_Ys\u001b[0m \u001b[1;33m=\u001b[0m \u001b[0mYs\u001b[0m\u001b[1;33m.\u001b[0m\u001b[0mcopy\u001b[0m\u001b[1;33m(\u001b[0m\u001b[1;33m)\u001b[0m\u001b[1;33m\u001b[0m\u001b[1;33m\u001b[0m\u001b[0m\n",
      "\u001b[1;32m<ipython-input-9-aafdcf60bddd>\u001b[0m in \u001b[0;36mperp\u001b[1;34m(i, j)\u001b[0m\n\u001b[0;32m      6\u001b[0m \u001b[1;33m\u001b[0m\u001b[0m\n\u001b[0;32m      7\u001b[0m \u001b[1;32mdef\u001b[0m \u001b[0mperp\u001b[0m\u001b[1;33m(\u001b[0m\u001b[0mi\u001b[0m\u001b[1;33m,\u001b[0m\u001b[0mj\u001b[0m\u001b[1;33m)\u001b[0m\u001b[1;33m:\u001b[0m\u001b[1;33m\u001b[0m\u001b[1;33m\u001b[0m\u001b[0m\n\u001b[1;32m----> 8\u001b[1;33m     \u001b[1;32mreturn\u001b[0m \u001b[0mexp\u001b[0m\u001b[1;33m(\u001b[0m\u001b[0mpoints\u001b[0m\u001b[1;33m[\u001b[0m\u001b[0mi\u001b[0m\u001b[1;33m]\u001b[0m\u001b[1;33m,\u001b[0m\u001b[0mpoints\u001b[0m\u001b[1;33m[\u001b[0m\u001b[0mj\u001b[0m\u001b[1;33m]\u001b[0m\u001b[1;33m)\u001b[0m\u001b[1;33m/\u001b[0m\u001b[0mnp\u001b[0m\u001b[1;33m.\u001b[0m\u001b[0msum\u001b[0m\u001b[1;33m(\u001b[0m\u001b[1;33m[\u001b[0m\u001b[0mexp\u001b[0m\u001b[1;33m(\u001b[0m\u001b[0mpoints\u001b[0m\u001b[1;33m[\u001b[0m\u001b[0mi\u001b[0m\u001b[1;33m]\u001b[0m\u001b[1;33m,\u001b[0m\u001b[0mk\u001b[0m\u001b[1;33m)\u001b[0m\u001b[1;33m*\u001b[0m\u001b[1;33m(\u001b[0m\u001b[0mk\u001b[0m\u001b[1;33m!=\u001b[0m\u001b[0mj\u001b[0m\u001b[1;33m)\u001b[0m \u001b[1;32mfor\u001b[0m \u001b[0mk\u001b[0m \u001b[1;32min\u001b[0m \u001b[0mrange\u001b[0m\u001b[1;33m(\u001b[0m\u001b[0mN\u001b[0m\u001b[1;33m)\u001b[0m\u001b[1;33m]\u001b[0m\u001b[1;33m)\u001b[0m\u001b[1;33m\u001b[0m\u001b[1;33m\u001b[0m\u001b[0m\n\u001b[0m\u001b[0;32m      9\u001b[0m \u001b[1;33m\u001b[0m\u001b[0m\n\u001b[0;32m     10\u001b[0m \u001b[1;33m@\u001b[0m\u001b[0mjit\u001b[0m\u001b[1;33m\u001b[0m\u001b[1;33m\u001b[0m\u001b[0m\n",
      "\u001b[1;32m<ipython-input-9-aafdcf60bddd>\u001b[0m in \u001b[0;36m<listcomp>\u001b[1;34m(.0)\u001b[0m\n\u001b[0;32m      6\u001b[0m \u001b[1;33m\u001b[0m\u001b[0m\n\u001b[0;32m      7\u001b[0m \u001b[1;32mdef\u001b[0m \u001b[0mperp\u001b[0m\u001b[1;33m(\u001b[0m\u001b[0mi\u001b[0m\u001b[1;33m,\u001b[0m\u001b[0mj\u001b[0m\u001b[1;33m)\u001b[0m\u001b[1;33m:\u001b[0m\u001b[1;33m\u001b[0m\u001b[1;33m\u001b[0m\u001b[0m\n\u001b[1;32m----> 8\u001b[1;33m     \u001b[1;32mreturn\u001b[0m \u001b[0mexp\u001b[0m\u001b[1;33m(\u001b[0m\u001b[0mpoints\u001b[0m\u001b[1;33m[\u001b[0m\u001b[0mi\u001b[0m\u001b[1;33m]\u001b[0m\u001b[1;33m,\u001b[0m\u001b[0mpoints\u001b[0m\u001b[1;33m[\u001b[0m\u001b[0mj\u001b[0m\u001b[1;33m]\u001b[0m\u001b[1;33m)\u001b[0m\u001b[1;33m/\u001b[0m\u001b[0mnp\u001b[0m\u001b[1;33m.\u001b[0m\u001b[0msum\u001b[0m\u001b[1;33m(\u001b[0m\u001b[1;33m[\u001b[0m\u001b[0mexp\u001b[0m\u001b[1;33m(\u001b[0m\u001b[0mpoints\u001b[0m\u001b[1;33m[\u001b[0m\u001b[0mi\u001b[0m\u001b[1;33m]\u001b[0m\u001b[1;33m,\u001b[0m\u001b[0mk\u001b[0m\u001b[1;33m)\u001b[0m\u001b[1;33m*\u001b[0m\u001b[1;33m(\u001b[0m\u001b[0mk\u001b[0m\u001b[1;33m!=\u001b[0m\u001b[0mj\u001b[0m\u001b[1;33m)\u001b[0m \u001b[1;32mfor\u001b[0m \u001b[0mk\u001b[0m \u001b[1;32min\u001b[0m \u001b[0mrange\u001b[0m\u001b[1;33m(\u001b[0m\u001b[0mN\u001b[0m\u001b[1;33m)\u001b[0m\u001b[1;33m]\u001b[0m\u001b[1;33m)\u001b[0m\u001b[1;33m\u001b[0m\u001b[1;33m\u001b[0m\u001b[0m\n\u001b[0m\u001b[0;32m      9\u001b[0m \u001b[1;33m\u001b[0m\u001b[0m\n\u001b[0;32m     10\u001b[0m \u001b[1;33m@\u001b[0m\u001b[0mjit\u001b[0m\u001b[1;33m\u001b[0m\u001b[1;33m\u001b[0m\u001b[0m\n",
      "\u001b[1;32m<ipython-input-9-aafdcf60bddd>\u001b[0m in \u001b[0;36mexp\u001b[1;34m(a, b)\u001b[0m\n\u001b[0;32m      3\u001b[0m \u001b[1;33m\u001b[0m\u001b[0m\n\u001b[0;32m      4\u001b[0m \u001b[1;32mdef\u001b[0m \u001b[0mexp\u001b[0m\u001b[1;33m(\u001b[0m\u001b[0ma\u001b[0m\u001b[1;33m,\u001b[0m\u001b[0mb\u001b[0m\u001b[1;33m)\u001b[0m\u001b[1;33m:\u001b[0m\u001b[1;33m\u001b[0m\u001b[1;33m\u001b[0m\u001b[0m\n\u001b[1;32m----> 5\u001b[1;33m     \u001b[1;32mreturn\u001b[0m \u001b[0mnp\u001b[0m\u001b[1;33m.\u001b[0m\u001b[0mexp\u001b[0m\u001b[1;33m(\u001b[0m\u001b[1;33m-\u001b[0m\u001b[0mlensqr\u001b[0m\u001b[1;33m(\u001b[0m\u001b[0ma\u001b[0m\u001b[1;33m,\u001b[0m \u001b[0mb\u001b[0m\u001b[1;33m)\u001b[0m\u001b[1;33m/\u001b[0m\u001b[1;33m(\u001b[0m\u001b[1;36m2\u001b[0m\u001b[1;33m*\u001b[0m\u001b[0msigma\u001b[0m\u001b[1;33m[\u001b[0m\u001b[0mi\u001b[0m\u001b[1;33m]\u001b[0m\u001b[1;33m**\u001b[0m\u001b[1;36m2\u001b[0m\u001b[1;33m)\u001b[0m\u001b[1;33m)\u001b[0m\u001b[1;33m\u001b[0m\u001b[1;33m\u001b[0m\u001b[0m\n\u001b[0m\u001b[0;32m      6\u001b[0m \u001b[1;33m\u001b[0m\u001b[0m\n\u001b[0;32m      7\u001b[0m \u001b[1;32mdef\u001b[0m \u001b[0mperp\u001b[0m\u001b[1;33m(\u001b[0m\u001b[0mi\u001b[0m\u001b[1;33m,\u001b[0m\u001b[0mj\u001b[0m\u001b[1;33m)\u001b[0m\u001b[1;33m:\u001b[0m\u001b[1;33m\u001b[0m\u001b[1;33m\u001b[0m\u001b[0m\n",
      "\u001b[1;31mKeyboardInterrupt\u001b[0m: "
     ]
    }
   ],
   "source": [
    "\n",
    "\n",
    "# Number of iterations\n",
    "T = 10\n",
    "\n",
    "# Learning rate\n",
    "eta = 0.1\n",
    "\n",
    "# Momentum\n",
    "alpha = lambda t: 0.5\n",
    "\n",
    "\n",
    "print(\"Here\")\n",
    "\n",
    "\n",
    "# Begin\n",
    "def do_reg():\n",
    "    affinities = get_affinities()\n",
    "    Ys = np.random.normal(0.0, 1e-4, (N,len(points[0])))\n",
    "    last_Ys = Ys.copy()\n",
    "    second_Ys = Ys.copy()\n",
    "\n",
    "    low_dim_affinities = np.zeros((N,N))\n",
    "    print(\"Starting now\")\n",
    "    for t in range(T):\n",
    "        print(\"Running iteration\",t)\n",
    "        low_dim_affinities = get_low_dim(Ys)\n",
    "\n",
    "        # Calculate gradients\n",
    "        dCdy[i] = 4 * np.sum((affinities[i,j] - low_dim_affinities[i,j])*(Ys[i] - Ys[j])/(1+lensqr(Ys[i], Ys[j])))\n",
    "\n",
    "\n",
    "        Ys += eta*dCdy + alpha(t)*(last_Ys-second_Ys)\n",
    "\n",
    "        second_Ys = last_Ys.copy()\n",
    "        last_Ys = Ys.copy()\n",
    "        pass\n",
    "\n",
    "    return Ys\n",
    "\n",
    "Ys = do_reg()\n"
   ]
  }
 ],
 "metadata": {
  "hide_input": false,
  "kernelspec": {
   "display_name": "Python 3",
   "language": "python",
   "name": "python3"
  },
  "language_info": {
   "codemirror_mode": {
    "name": "ipython",
    "version": 3
   },
   "file_extension": ".py",
   "mimetype": "text/x-python",
   "name": "python",
   "nbconvert_exporter": "python",
   "pygments_lexer": "ipython3",
   "version": "3.6.12"
  },
  "toc": {
   "base_numbering": 1,
   "nav_menu": {},
   "number_sections": true,
   "sideBar": true,
   "skip_h1_title": false,
   "title_cell": "Table of Contents",
   "title_sidebar": "Contents",
   "toc_cell": false,
   "toc_position": {},
   "toc_section_display": true,
   "toc_window_display": false
  }
 },
 "nbformat": 4,
 "nbformat_minor": 5
}
