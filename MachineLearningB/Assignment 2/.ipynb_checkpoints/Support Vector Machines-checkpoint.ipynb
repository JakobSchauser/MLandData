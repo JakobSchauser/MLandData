{
 "cells": [
  {
   "cell_type": "code",
   "execution_count": 22,
   "id": "8acb0201",
   "metadata": {
    "ExecuteTime": {
     "end_time": "2021-12-06T12:42:07.561981Z",
     "start_time": "2021-12-06T12:42:07.556993Z"
    }
   },
   "outputs": [],
   "source": [
    "import numpy as np\n",
    "import matplotlib.pyplot as plt\n",
    "from sklearn.svm import SVC\n",
    "from sklearn.preprocessing import StandardScaler"
   ]
  },
  {
   "cell_type": "code",
   "execution_count": 41,
   "id": "cf2a0142",
   "metadata": {
    "ExecuteTime": {
     "end_time": "2021-12-06T12:48:09.361977Z",
     "start_time": "2021-12-06T12:48:09.316100Z"
    },
    "scrolled": true
   },
   "outputs": [
    {
     "name": "stdout",
     "output_type": "stream",
     "text": [
      "Train: [45.33333333 54.66666667]\n",
      "Test: [46.95121951 53.04878049]\n"
     ]
    }
   ],
   "source": [
    "kernel = lambda x,z, gamma: np.exp(-gamma*np.square(x-z))\n",
    "\n",
    "y_train = np.loadtxt(\"y_train1-1.csv\", delimiter=',')\n",
    "y_test = np.loadtxt(\"y_test1-1.csv\", delimiter=',')\n",
    "X_train = np.loadtxt(\"X_train_binary.csv\", delimiter=',')\n",
    "X_test = np.loadtxt(\"X_test_binary.csv\", delimiter=',')\n",
    "                  \n",
    "freq = lambda dat: np.unique(dat,return_counts = True)[1]/len(dat)*100\n",
    "\n",
    "print(\"Train:\", freq(y_train))\n",
    "print(\"Test:\",freq(y_test))"
   ]
  },
  {
   "cell_type": "code",
   "execution_count": 42,
   "id": "b8541974",
   "metadata": {
    "ExecuteTime": {
     "end_time": "2021-12-06T12:48:09.756405Z",
     "start_time": "2021-12-06T12:48:09.751407Z"
    }
   },
   "outputs": [],
   "source": [
    "scale = StandardScaler()\n",
    "X_train_scaled = scale.fit_transform(X_train)"
   ]
  },
  {
   "cell_type": "code",
   "execution_count": 58,
   "id": "7b28a9b0",
   "metadata": {
    "ExecuteTime": {
     "end_time": "2021-12-06T12:51:52.341271Z",
     "start_time": "2021-12-06T12:51:52.337283Z"
    }
   },
   "outputs": [],
   "source": [
    "# np.mean(X_train,axis=0)"
   ]
  },
  {
   "cell_type": "code",
   "execution_count": 149,
   "id": "c28ed4d0",
   "metadata": {
    "ExecuteTime": {
     "end_time": "2021-12-07T15:39:32.313202Z",
     "start_time": "2021-12-07T15:39:32.309214Z"
    }
   },
   "outputs": [],
   "source": [
    "# for p in np.mean(X_test,axis = 0):\n",
    "#     print(p,\"\\\\\\\\\")"
   ]
  },
  {
   "cell_type": "code",
   "execution_count": 60,
   "id": "0dfa35a2",
   "metadata": {
    "ExecuteTime": {
     "end_time": "2021-12-06T12:51:53.277950Z",
     "start_time": "2021-12-06T12:51:53.273962Z"
    }
   },
   "outputs": [],
   "source": [
    "# scale.mean_"
   ]
  },
  {
   "cell_type": "code",
   "execution_count": 61,
   "id": "2b68550d",
   "metadata": {
    "ExecuteTime": {
     "end_time": "2021-12-06T12:51:55.420732Z",
     "start_time": "2021-12-06T12:51:55.416725Z"
    }
   },
   "outputs": [],
   "source": [
    "# scale.scale_"
   ]
  },
  {
   "cell_type": "code",
   "execution_count": 62,
   "id": "26ac3fea",
   "metadata": {
    "ExecuteTime": {
     "end_time": "2021-12-06T12:52:17.190278Z",
     "start_time": "2021-12-06T12:52:17.186281Z"
    }
   },
   "outputs": [],
   "source": [
    "X_test_scaled = scale.transform(X_test)"
   ]
  },
  {
   "cell_type": "code",
   "execution_count": 154,
   "id": "f1cf9184",
   "metadata": {
    "ExecuteTime": {
     "end_time": "2021-12-07T15:51:12.494287Z",
     "start_time": "2021-12-07T15:51:12.486331Z"
    }
   },
   "outputs": [
    {
     "name": "stdout",
     "output_type": "stream",
     "text": [
      "0.00818103484013775\n",
      "0.027485045179543525\n",
      "0.003988238064868953\n",
      "0.006434737998624761\n",
      "0.0014331475429971785\n",
      "0.011757019982914422\n",
      "0.01095995713647802\n",
      "0.044753660055481835\n",
      "0.07227552586568121\n",
      "0.006473789523390826\n",
      "0.00019994473915672088\n",
      "0.0033065601728591\n",
      "0.00019289492299259678\n",
      "1.2075329503805255e-05\n",
      "0.017568553131504714\n",
      "0.000548933070479963\n",
      "0.01695166105250329\n",
      "0.017050810289467314\n",
      "0.0006359665755679548\n",
      "0.010122219864806034\n",
      "0.22622016205279885\n",
      "0.011677425152956493\n",
      "0.002326953014423597\n",
      "0.01359784463968003\n",
      "0.012231603531367492\n",
      "0.00030602906824184315\n",
      "0.010341930129403867\n",
      "0.016052861217867573\n",
      "0.03340165140176351\n",
      "4.8844202140411745e-05\n",
      "0.001117666952099609\n",
      "2.465253903715869e-05\n",
      "0.040066743829121884\n",
      "9.168907738034425e-05\n",
      "0.0060395068919048694\n",
      "0.02958205416278769\n",
      "0.09059450293714984\n",
      "0.03147033386953783\n",
      "0.0022556494313266963\n",
      "0.0005526613202017679\n",
      "0.006693210209047084\n",
      "0.04898208716296525\n",
      "0.0016395221658653265\n",
      "0.013493361347442437\n",
      "0.0008883198142365452\n",
      "0.010883533100989625\n",
      "0.0132427004412103\n",
      "0.009220894643592164\n",
      "0.004743332551534849\n",
      "0.002521596396935956\n",
      "0.017445272906563728\n",
      "0.0012469113392968476\n",
      "1.2813629154499487e-06\n",
      "6.878410188013238e-05\n",
      "0.051828418326467084\n",
      "0.0012839782959931751\n",
      "0.018880858623942492\n",
      "0.018661476352068107\n",
      "0.0017221460785713113\n",
      "0.00011874340175349185\n",
      "0.003062671568174079\n"
     ]
    }
   ],
   "source": [
    " for p in np.mean(X_test_scaled,axis = 0):\n",
    "    print(p**2)#,\"\\\\\\\\\")"
   ]
  },
  {
   "cell_type": "code",
   "execution_count": 224,
   "id": "6adba3de",
   "metadata": {
    "ExecuteTime": {
     "end_time": "2021-12-07T18:01:50.726288Z",
     "start_time": "2021-12-07T18:01:50.702127Z"
    }
   },
   "outputs": [
    {
     "ename": "TypeError",
     "evalue": "__init__() missing 2 required positional arguments: 'estimator' and 'param_grid'",
     "output_type": "error",
     "traceback": [
      "\u001b[1;31m---------------------------------------------------------------------------\u001b[0m",
      "\u001b[1;31mTypeError\u001b[0m                                 Traceback (most recent call last)",
      "\u001b[1;32m<ipython-input-224-6fb8f8566813>\u001b[0m in \u001b[0;36m<module>\u001b[1;34m\u001b[0m\n\u001b[0;32m     13\u001b[0m \u001b[1;33m\u001b[0m\u001b[0m\n\u001b[0;32m     14\u001b[0m \u001b[0mgrid\u001b[0m \u001b[1;33m=\u001b[0m \u001b[1;33m{\u001b[0m\u001b[1;34m'gamma'\u001b[0m\u001b[1;33m:\u001b[0m \u001b[0mGs\u001b[0m\u001b[1;33m,\u001b[0m\u001b[1;34m'C'\u001b[0m\u001b[1;33m:\u001b[0m \u001b[0mCs\u001b[0m\u001b[1;33m}\u001b[0m\u001b[1;33m\u001b[0m\u001b[1;33m\u001b[0m\u001b[0m\n\u001b[1;32m---> 15\u001b[1;33m \u001b[0mgridsearch\u001b[0m \u001b[1;33m=\u001b[0m \u001b[0mGridSearchCV\u001b[0m\u001b[1;33m(\u001b[0m\u001b[1;33m)\u001b[0m\u001b[1;33m\u001b[0m\u001b[1;33m\u001b[0m\u001b[0m\n\u001b[0m\u001b[0;32m     16\u001b[0m \u001b[1;32mfor\u001b[0m \u001b[0my\u001b[0m\u001b[1;33m,\u001b[0m \u001b[0mG\u001b[0m \u001b[1;32min\u001b[0m \u001b[0menumerate\u001b[0m\u001b[1;33m(\u001b[0m\u001b[0mSigs\u001b[0m\u001b[1;33m)\u001b[0m\u001b[1;33m:\u001b[0m\u001b[1;33m\u001b[0m\u001b[1;33m\u001b[0m\u001b[0m\n\u001b[0;32m     17\u001b[0m     \u001b[1;32mfor\u001b[0m \u001b[0mx\u001b[0m\u001b[1;33m,\u001b[0m\u001b[0mC\u001b[0m \u001b[1;32min\u001b[0m \u001b[0menumerate\u001b[0m\u001b[1;33m(\u001b[0m\u001b[0mCs\u001b[0m\u001b[1;33m)\u001b[0m\u001b[1;33m:\u001b[0m\u001b[1;33m\u001b[0m\u001b[1;33m\u001b[0m\u001b[0m\n",
      "\u001b[1;32m~\\Anaconda3\\lib\\site-packages\\sklearn\\utils\\validation.py\u001b[0m in \u001b[0;36minner_f\u001b[1;34m(*args, **kwargs)\u001b[0m\n\u001b[0;32m     61\u001b[0m             \u001b[0mextra_args\u001b[0m \u001b[1;33m=\u001b[0m \u001b[0mlen\u001b[0m\u001b[1;33m(\u001b[0m\u001b[0margs\u001b[0m\u001b[1;33m)\u001b[0m \u001b[1;33m-\u001b[0m \u001b[0mlen\u001b[0m\u001b[1;33m(\u001b[0m\u001b[0mall_args\u001b[0m\u001b[1;33m)\u001b[0m\u001b[1;33m\u001b[0m\u001b[1;33m\u001b[0m\u001b[0m\n\u001b[0;32m     62\u001b[0m             \u001b[1;32mif\u001b[0m \u001b[0mextra_args\u001b[0m \u001b[1;33m<=\u001b[0m \u001b[1;36m0\u001b[0m\u001b[1;33m:\u001b[0m\u001b[1;33m\u001b[0m\u001b[1;33m\u001b[0m\u001b[0m\n\u001b[1;32m---> 63\u001b[1;33m                 \u001b[1;32mreturn\u001b[0m \u001b[0mf\u001b[0m\u001b[1;33m(\u001b[0m\u001b[1;33m*\u001b[0m\u001b[0margs\u001b[0m\u001b[1;33m,\u001b[0m \u001b[1;33m**\u001b[0m\u001b[0mkwargs\u001b[0m\u001b[1;33m)\u001b[0m\u001b[1;33m\u001b[0m\u001b[1;33m\u001b[0m\u001b[0m\n\u001b[0m\u001b[0;32m     64\u001b[0m \u001b[1;33m\u001b[0m\u001b[0m\n\u001b[0;32m     65\u001b[0m             \u001b[1;31m# extra_args > 0\u001b[0m\u001b[1;33m\u001b[0m\u001b[1;33m\u001b[0m\u001b[1;33m\u001b[0m\u001b[0m\n",
      "\u001b[1;31mTypeError\u001b[0m: __init__() missing 2 required positional arguments: 'estimator' and 'param_grid'"
     ]
    }
   ],
   "source": [
    "from sklearn.model_selection import cross_val_score\n",
    "from sklearn.model_selection import GridSearchCV\n",
    "\n",
    "Cs = np.logspace(-3,2,6)\n",
    "Gs = np.logspace(-3,2,6)\n",
    "\n",
    "\n",
    "Sigs = gamma_to_sig(Gs)\n",
    "\n",
    "model = SVC()\n",
    "scores = np.zeros((100,100))\n",
    "\n",
    "grid = {'gamma': Gs,'C': Cs}\n",
    "gridsearch = GridSearchCV()\n",
    "for y, G in enumerate(Sigs):\n",
    "    for x,C in enumerate(Cs):\n",
    "        model = SVC(C = C, kernel = \"rbf\", gamma = G)\n",
    "        score = cross_val_score(model, X_train_scaled, y_train, cv=5)\n",
    "        scores[x,y] = score.mean()\n",
    "\n",
    "\n",
    "\n",
    "top = np.unravel_index(np.argmax(scores, axis=None), scores.shape)\n",
    "\n",
    "model = SVC(C = Cs[top[0]], kernel = \"rbf\", gamma = Sigs[top[1]])\n",
    "model.fit(X_train_scaled,y_train)\n",
    "\n",
    "print(\"Best C:\",Cs[top[0]], \" Best gamma:\", Gs[top[1]])"
   ]
  },
  {
   "cell_type": "code",
   "execution_count": 176,
   "id": "4c9dccec",
   "metadata": {
    "ExecuteTime": {
     "end_time": "2021-12-07T16:42:01.798750Z",
     "start_time": "2021-12-07T16:42:01.609238Z"
    }
   },
   "outputs": [
    {
     "data": {
      "text/plain": [
       "Text(0, 0.5, 'Sigma')"
      ]
     },
     "execution_count": 176,
     "metadata": {},
     "output_type": "execute_result"
    },
    {
     "data": {
      "image/png": "[encoded data removed]",
      "text/plain": [
       "<Figure size 720x720 with 1 Axes>"
      ]
     },
     "metadata": {
      "needs_background": "light"
     },
     "output_type": "display_data"
    }
   ],
   "source": [
    "fig, axs = plt.subplots(1,1,figsize =(10,10))\n",
    "axs.imshow(scores)\n",
    "axs.set_xlabel(\"C\")\n",
    "axs.set_ylabel(\"Sigma\")"
   ]
  },
  {
   "cell_type": "code",
   "execution_count": 219,
   "id": "02c7b13d",
   "metadata": {
    "ExecuteTime": {
     "end_time": "2021-12-07T17:56:09.844490Z",
     "start_time": "2021-12-07T17:56:09.805543Z"
    }
   },
   "outputs": [
    {
     "name": "stdout",
     "output_type": "stream",
     "text": [
      "train 1.0\n",
      "test 0.7621951219512195\n"
     ]
    }
   ],
   "source": [
    "print(\"train\",sum(model.predict(X_train_scaled) == y_train)/len(y_train))\n",
    "print(\"test\",sum(model.predict(X_test_scaled) == y_test)/len(y_test))\n"
   ]
  },
  {
   "cell_type": "code",
   "execution_count": 190,
   "id": "dc57b882",
   "metadata": {
    "ExecuteTime": {
     "end_time": "2021-12-07T17:39:54.941966Z",
     "start_time": "2021-12-07T17:39:54.708695Z"
    }
   },
   "outputs": [],
   "source": [
    "\n",
    "svs = []\n",
    "coeffs = []\n",
    "cs = []\n",
    "for c in range(1,100):\n",
    "    model = SVC(C = c/10, kernel = \"rbf\", gamma = Sigs[top[1]])\n",
    "    model.fit(X_train_scaled,y_train)\n",
    "    svs.append(model.support_vectors_)\n",
    "    coeffs.append(model.dual_coef_)\n",
    "    cs.append(c/10)"
   ]
  },
  {
   "cell_type": "code",
   "execution_count": 218,
   "id": "399a320a",
   "metadata": {
    "ExecuteTime": {
     "end_time": "2021-12-07T17:52:37.094624Z",
     "start_time": "2021-12-07T17:52:36.703257Z"
    }
   },
   "outputs": [
    {
     "ename": "AttributeError",
     "evalue": "module 'matplotlib.pyplot' has no attribute 'free'",
     "output_type": "error",
     "traceback": [
      "\u001b[1;31m---------------------------------------------------------------------------\u001b[0m",
      "\u001b[1;31mAttributeError\u001b[0m                            Traceback (most recent call last)",
      "\u001b[1;32m<ipython-input-218-e529c9e2574d>\u001b[0m in \u001b[0;36m<module>\u001b[1;34m\u001b[0m\n\u001b[0;32m      8\u001b[0m \u001b[0mplt\u001b[0m\u001b[1;33m.\u001b[0m\u001b[0mplot\u001b[0m\u001b[1;33m(\u001b[0m\u001b[0mbounds\u001b[0m\u001b[1;33m)\u001b[0m\u001b[1;33m\u001b[0m\u001b[1;33m\u001b[0m\u001b[0m\n\u001b[0;32m      9\u001b[0m \u001b[1;33m\u001b[0m\u001b[0m\n\u001b[1;32m---> 10\u001b[1;33m \u001b[0mplt\u001b[0m\u001b[1;33m.\u001b[0m\u001b[0mfree\u001b[0m\u001b[1;33m(\u001b[0m\u001b[0mbounds\u001b[0m\u001b[1;33m)\u001b[0m\u001b[1;33m\u001b[0m\u001b[1;33m\u001b[0m\u001b[0m\n\u001b[0m",
      "\u001b[1;31mAttributeError\u001b[0m: module 'matplotlib.pyplot' has no attribute 'free'"
     ]
    },
    {
     "data": {
      "image/png": "[encoded data removed]",
      "text/plain": [
       "<Figure size 432x288 with 1 Axes>"
      ]
     },
     "metadata": {
      "needs_background": "light"
     },
     "output_type": "display_data"
    }
   ],
   "source": [
    "bounds = []\n",
    "free = []\n",
    "for c,C in zip(coeffs,cs):\n",
    "    free.append(sum(np.logical_and((np.array(c)<C)[0], (np.array(c)>0)[0])))\n",
    "    bounds.append(sum((np.abs(c)==C)[0]))\n",
    "    \n",
    "    \n",
    "plt.plot(bounds)\n",
    "    \n",
    "plt.free(bounds)\n"
   ]
  }
 ],
 "metadata": {
  "hide_input": false,
  "kernelspec": {
   "display_name": "Python 3",
   "language": "python",
   "name": "python3"
  },
  "language_info": {
   "codemirror_mode": {
    "name": "ipython",
    "version": 3
   },
   "file_extension": ".py",
   "mimetype": "text/x-python",
   "name": "python",
   "nbconvert_exporter": "python",
   "pygments_lexer": "ipython3",
   "version": "3.6.12"
  },
  "toc": {
   "base_numbering": 1,
   "nav_menu": {},
   "number_sections": true,
   "sideBar": true,
   "skip_h1_title": false,
   "title_cell": "Table of Contents",
   "title_sidebar": "Contents",
   "toc_cell": false,
   "toc_position": {},
   "toc_section_display": true,
   "toc_window_display": false
  }
 },
 "nbformat": 4,
 "nbformat_minor": 5
}
