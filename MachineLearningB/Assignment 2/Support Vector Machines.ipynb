{
 "cells": [
  {
   "cell_type": "code",
   "execution_count": 22,
   "id": "a88170cc",
   "metadata": {
    "ExecuteTime": {
     "end_time": "2021-12-06T12:42:07.561981Z",
     "start_time": "2021-12-06T12:42:07.556993Z"
    }
   },
   "outputs": [],
   "source": [
    "import numpy as np\n",
    "import matplotlib.pyplot as plt\n",
    "from sklearn.svm import SVC\n",
    "from sklearn.preprocessing import StandardScaler"
   ]
  },
  {
   "cell_type": "code",
   "execution_count": 41,
   "id": "095af7f1",
   "metadata": {
    "ExecuteTime": {
     "end_time": "2021-12-06T12:48:09.361977Z",
     "start_time": "2021-12-06T12:48:09.316100Z"
    },
    "scrolled": true
   },
   "outputs": [
    {
     "name": "stdout",
     "output_type": "stream",
     "text": [
      "Train: [45.33333333 54.66666667]\n",
      "Test: [46.95121951 53.04878049]\n"
     ]
    }
   ],
   "source": [
    "kernel = lambda x,z, gamma: np.exp(-gamma*np.square(x-z))\n",
    "\n",
    "y_train = np.loadtxt(\"y_train1-1.csv\", delimiter=',')\n",
    "y_test = np.loadtxt(\"y_test1-1.csv\", delimiter=',')\n",
    "X_train = np.loadtxt(\"X_train_binary.csv\", delimiter=',')\n",
    "X_test = np.loadtxt(\"X_test_binary.csv\", delimiter=',')\n",
    "                  \n",
    "freq = lambda dat: np.unique(dat,return_counts = True)[1]/len(dat)*100\n",
    "\n",
    "print(\"Train:\", freq(y_train))\n",
    "print(\"Test:\",freq(y_test))"
   ]
  },
  {
   "cell_type": "code",
   "execution_count": 42,
   "id": "0b857db9",
   "metadata": {
    "ExecuteTime": {
     "end_time": "2021-12-06T12:48:09.756405Z",
     "start_time": "2021-12-06T12:48:09.751407Z"
    }
   },
   "outputs": [],
   "source": [
    "scale = StandardScaler()\n",
    "X_train_scaled = scale.fit_transform(X_train)"
   ]
  },
  {
   "cell_type": "code",
   "execution_count": 58,
   "id": "7fe9b035",
   "metadata": {
    "ExecuteTime": {
     "end_time": "2021-12-06T12:51:52.341271Z",
     "start_time": "2021-12-06T12:51:52.337283Z"
    }
   },
   "outputs": [],
   "source": [
    "# np.mean(X_train,axis=0)"
   ]
  },
  {
   "cell_type": "code",
   "execution_count": 149,
   "id": "fb1e1e79",
   "metadata": {
    "ExecuteTime": {
     "end_time": "2021-12-07T15:39:32.313202Z",
     "start_time": "2021-12-07T15:39:32.309214Z"
    }
   },
   "outputs": [],
   "source": [
    "# for p in np.mean(X_test,axis = 0):\n",
    "#     print(p,\"\\\\\\\\\")"
   ]
  },
  {
   "cell_type": "code",
   "execution_count": 60,
   "id": "40eb9b55",
   "metadata": {
    "ExecuteTime": {
     "end_time": "2021-12-06T12:51:53.277950Z",
     "start_time": "2021-12-06T12:51:53.273962Z"
    }
   },
   "outputs": [],
   "source": [
    "# scale.mean_"
   ]
  },
  {
   "cell_type": "code",
   "execution_count": 61,
   "id": "405e2d2a",
   "metadata": {
    "ExecuteTime": {
     "end_time": "2021-12-06T12:51:55.420732Z",
     "start_time": "2021-12-06T12:51:55.416725Z"
    }
   },
   "outputs": [],
   "source": [
    "# scale.scale_"
   ]
  },
  {
   "cell_type": "code",
   "execution_count": 62,
   "id": "e7c10e8a",
   "metadata": {
    "ExecuteTime": {
     "end_time": "2021-12-06T12:52:17.190278Z",
     "start_time": "2021-12-06T12:52:17.186281Z"
    }
   },
   "outputs": [],
   "source": [
    "X_test_scaled = scale.transform(X_test)"
   ]
  },
  {
   "cell_type": "code",
   "execution_count": 154,
   "id": "400ccf7e",
   "metadata": {
    "ExecuteTime": {
     "end_time": "2021-12-07T15:51:12.494287Z",
     "start_time": "2021-12-07T15:51:12.486331Z"
    }
   },
   "outputs": [
    {
     "name": "stdout",
     "output_type": "stream",
     "text": [
      "0.00818103484013775\n",
      "0.027485045179543525\n",
      "0.003988238064868953\n",
      "0.006434737998624761\n",
      "0.0014331475429971785\n",
      "0.011757019982914422\n",
      "0.01095995713647802\n",
      "0.044753660055481835\n",
      "0.07227552586568121\n",
      "0.006473789523390826\n",
      "0.00019994473915672088\n",
      "0.0033065601728591\n",
      "0.00019289492299259678\n",
      "1.2075329503805255e-05\n",
      "0.017568553131504714\n",
      "0.000548933070479963\n",
      "0.01695166105250329\n",
      "0.017050810289467314\n",
      "0.0006359665755679548\n",
      "0.010122219864806034\n",
      "0.22622016205279885\n",
      "0.011677425152956493\n",
      "0.002326953014423597\n",
      "0.01359784463968003\n",
      "0.012231603531367492\n",
      "0.00030602906824184315\n",
      "0.010341930129403867\n",
      "0.016052861217867573\n",
      "0.03340165140176351\n",
      "4.8844202140411745e-05\n",
      "0.001117666952099609\n",
      "2.465253903715869e-05\n",
      "0.040066743829121884\n",
      "9.168907738034425e-05\n",
      "0.0060395068919048694\n",
      "0.02958205416278769\n",
      "0.09059450293714984\n",
      "0.03147033386953783\n",
      "0.0022556494313266963\n",
      "0.0005526613202017679\n",
      "0.006693210209047084\n",
      "0.04898208716296525\n",
      "0.0016395221658653265\n",
      "0.013493361347442437\n",
      "0.0008883198142365452\n",
      "0.010883533100989625\n",
      "0.0132427004412103\n",
      "0.009220894643592164\n",
      "0.004743332551534849\n",
      "0.002521596396935956\n",
      "0.017445272906563728\n",
      "0.0012469113392968476\n",
      "1.2813629154499487e-06\n",
      "6.878410188013238e-05\n",
      "0.051828418326467084\n",
      "0.0012839782959931751\n",
      "0.018880858623942492\n",
      "0.018661476352068107\n",
      "0.0017221460785713113\n",
      "0.00011874340175349185\n",
      "0.003062671568174079\n"
     ]
    }
   ],
   "source": [
    " for p in np.mean(X_test_scaled,axis = 0):\n",
    "    print(p**2)#,\"\\\\\\\\\")"
   ]
  },
  {
   "cell_type": "code",
   "execution_count": 242,
   "id": "4a72a9d0",
   "metadata": {
    "ExecuteTime": {
     "end_time": "2021-12-07T18:12:59.090253Z",
     "start_time": "2021-12-07T18:12:16.370217Z"
    }
   },
   "outputs": [
    {
     "data": {
      "text/plain": [
       "GridSearchCV(cv=5, estimator=SVC(),\n",
       "             param_grid={'C': array([ 0.01      ,  0.01193777,  0.01425103,  0.01701254,  0.02030918,\n",
       "        0.02424462,  0.02894266,  0.03455107,  0.04124626,  0.04923883,\n",
       "        0.05878016,  0.07017038,  0.08376776,  0.1       ,  0.11937766,\n",
       "        0.14251027,  0.17012543,  0.20309176,  0.2424462 ,  0.28942661,\n",
       "        0.34551073,  0.41246264,  0.49238826,  0.58780161,  0.70170383,\n",
       "        0.83767764,  1.        ,  1.19377664,  1.42510...\n",
       "       0.00242446, 0.00289427, 0.00345511, 0.00412463, 0.00492388,\n",
       "       0.00587802, 0.00701704, 0.00837678, 0.01      , 0.01193777,\n",
       "       0.01425103, 0.01701254, 0.02030918, 0.02424462, 0.02894266,\n",
       "       0.03455107, 0.04124626, 0.04923883, 0.05878016, 0.07017038,\n",
       "       0.08376776, 0.1       , 0.11937766, 0.14251027, 0.17012543,\n",
       "       0.20309176, 0.2424462 , 0.28942661, 0.34551073, 0.41246264,\n",
       "       0.49238826, 0.58780161, 0.70170383, 0.83767764, 1.        ])})"
      ]
     },
     "execution_count": 242,
     "metadata": {},
     "output_type": "execute_result"
    }
   ],
   "source": [
    "from sklearn.model_selection import cross_val_score\n",
    "from sklearn.model_selection import GridSearchCV\n",
    "\n",
    "Cs = np.logspace(-2,1,40)\n",
    "Gs = np.logspace(-3,0,40)\n",
    "\n",
    "\n",
    "Sigs = gamma_to_sig(Gs)\n",
    "\n",
    "model = SVC()\n",
    "\n",
    "grid = {'gamma': Gs,'C': Cs}\n",
    "gridsearch = GridSearchCV(model, grid, cv = 5)\n",
    "gridsearch.fit(X_train_scaled,y_train)\n",
    "# for y, G in enumerate(Sigs):\n",
    "#     for x,C in enumerate(Cs):\n",
    "#         model = SVC(C = C, kernel = \"rbf\", gamma = G)\n",
    "#         score = cross_val_score(model, X_train_scaled, y_train, cv=5)\n",
    "#         scores[x,y] = score.mean()\n",
    "\n",
    "\n",
    "\n",
    "# top = np.unravel_index(np.argmax(scores, axis=None), scores.shape)\n",
    "\n",
    "# model = SVC(C = Cs[top[0]], kernel = \"rbf\", gamma = Sigs[top[1]])\n",
    "# model.fit(X_train_scaled,y_train)\n",
    "\n",
    "# print(\"Best C:\",Cs[top[0]], \" Best gamma:\", Gs[top[1]])\n",
    "\n"
   ]
  },
  {
   "cell_type": "code",
   "execution_count": 243,
   "id": "e0be64d8",
   "metadata": {
    "ExecuteTime": {
     "end_time": "2021-12-07T18:13:10.199365Z",
     "start_time": "2021-12-07T18:13:10.186800Z"
    }
   },
   "outputs": [
    {
     "name": "stdout",
     "output_type": "stream",
     "text": [
      "{'C': 1.1937766417144369, 'gamma': 0.0345510729459222}\n"
     ]
    }
   ],
   "source": [
    "gridsearch.score(X_train_scaled,y_train)\n",
    "print(gridsearch.best_params_)"
   ]
  },
  {
   "cell_type": "code",
   "execution_count": 176,
   "id": "41459a63",
   "metadata": {
    "ExecuteTime": {
     "end_time": "2021-12-07T16:42:01.798750Z",
     "start_time": "2021-12-07T16:42:01.609238Z"
    }
   },
   "outputs": [
    {
     "data": {
      "text/plain": [
       "Text(0, 0.5, 'Sigma')"
      ]
     },
     "execution_count": 176,
     "metadata": {},
     "output_type": "execute_result"
    },
    {
     "data": {
      "image/png": "[encoded data removed]",
      "text/plain": [
       "<Figure size 720x720 with 1 Axes>"
      ]
     },
     "metadata": {
      "needs_background": "light"
     },
     "output_type": "display_data"
    }
   ],
   "source": [
    "fig, axs = plt.subplots(1,1,figsize =(10,10))\n",
    "axs.imshow(scores)\n",
    "axs.set_xlabel(\"C\")\n",
    "axs.set_ylabel(\"Sigma\")"
   ]
  },
  {
   "cell_type": "code",
   "execution_count": 244,
   "id": "8cde2aa6",
   "metadata": {
    "ExecuteTime": {
     "end_time": "2021-12-07T18:13:13.820808Z",
     "start_time": "2021-12-07T18:13:13.799290Z"
    }
   },
   "outputs": [
    {
     "name": "stdout",
     "output_type": "stream",
     "text": [
      "train 1.0\n",
      "test 0.774390243902439\n"
     ]
    }
   ],
   "source": [
    "print(\"train\",sum(gridsearch.predict(X_train_scaled) == y_train)/len(y_train))\n",
    "print(\"test\",sum(gridsearch.predict(X_test_scaled) == y_test)/len(y_test))\n"
   ]
  },
  {
   "cell_type": "code",
   "execution_count": 293,
   "id": "626387c2",
   "metadata": {
    "ExecuteTime": {
     "end_time": "2021-12-07T18:36:57.737443Z",
     "start_time": "2021-12-07T18:36:56.615850Z"
    }
   },
   "outputs": [
    {
     "data": {
      "text/plain": [
       "Text(0.5, 0, 'C')"
      ]
     },
     "execution_count": 293,
     "metadata": {},
     "output_type": "execute_result"
    },
    {
     "data": {
      "image/png": "[encoded data removed]",
      "text/plain": [
       "<Figure size 432x288 with 1 Axes>"
      ]
     },
     "metadata": {
      "needs_background": "light"
     },
     "output_type": "display_data"
    },
    {
     "data": {
      "image/png": "[encoded data removed]",
      "text/plain": [
       "<Figure size 432x288 with 1 Axes>"
      ]
     },
     "metadata": {
      "needs_background": "light"
     },
     "output_type": "display_data"
    }
   ],
   "source": [
    "\n",
    "svs = []\n",
    "coeffs = []\n",
    "cs = []\n",
    "for c in range(1,100):\n",
    "    model = SVC(C = c/10, kernel = \"rbf\", gamma = 0.03)\n",
    "    model.fit(X_train_scaled,y_train)\n",
    "    svs.append(model.support_vectors_)\n",
    "    coeffs.append(model.dual_coef_)\n",
    "    cs.append(c/10)\n",
    "    \n",
    "\n",
    "bounds = []\n",
    "free = []\n",
    "for c,C in zip(coeffs,cs):\n",
    "    free.append(sum(np.logical_and((np.array(c)<C)[0], (np.array(c)>0)[0])))\n",
    "    bounds.append(sum((np.abs(c)==C)[0]))\n",
    "    \n",
    "    \n",
    "plt.plot(cs,bounds)\n",
    "plt.title(\"Bound\")\n",
    "plt.xlabel(\"C\")\n",
    "\n",
    "plt.figure()\n",
    "plt.title(\"Free\")\n",
    "plt.plot(cs,free)\n",
    "plt.xlabel(\"C\")"
   ]
  },
  {
   "cell_type": "code",
   "execution_count": null,
   "id": "6e26c447",
   "metadata": {},
   "outputs": [],
   "source": []
  }
 ],
 "metadata": {
  "hide_input": false,
  "kernelspec": {
   "display_name": "Python 3",
   "language": "python",
   "name": "python3"
  },
  "language_info": {
   "codemirror_mode": {
    "name": "ipython",
    "version": 3
   },
   "file_extension": ".py",
   "mimetype": "text/x-python",
   "name": "python",
   "nbconvert_exporter": "python",
   "pygments_lexer": "ipython3",
   "version": "3.6.12"
  },
  "toc": {
   "base_numbering": 1,
   "nav_menu": {},
   "number_sections": true,
   "sideBar": true,
   "skip_h1_title": false,
   "title_cell": "Table of Contents",
   "title_sidebar": "Contents",
   "toc_cell": false,
   "toc_position": {},
   "toc_section_display": true,
   "toc_window_display": false
  }
 },
 "nbformat": 4,
 "nbformat_minor": 5
}
