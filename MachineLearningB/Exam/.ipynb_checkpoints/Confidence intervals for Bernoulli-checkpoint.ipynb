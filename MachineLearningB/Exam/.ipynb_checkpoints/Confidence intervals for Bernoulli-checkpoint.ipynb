{
 "cells": [
  {
   "cell_type": "code",
   "execution_count": 89,
   "id": "0464c838",
   "metadata": {
    "ExecuteTime": {
     "end_time": "2022-01-17T17:32:13.190814Z",
     "start_time": "2022-01-17T17:32:12.321536Z"
    }
   },
   "outputs": [],
   "source": [
    "import numpy as np\n",
    "import matplotlib.pyplot as plt"
   ]
  },
  {
   "cell_type": "code",
   "execution_count": 64,
   "id": "9edabd2b",
   "metadata": {
    "ExecuteTime": {
     "end_time": "2022-01-17T17:18:00.081859Z",
     "start_time": "2022-01-17T17:18:00.047912Z"
    }
   },
   "outputs": [],
   "source": [
    "S = np.genfromtxt(\"S.csv\")\n",
    "Sprime = np.genfromtxt(\"Sprime.csv\")\n",
    "\n",
    "delta = 0.05\n",
    "n = len(S)"
   ]
  },
  {
   "cell_type": "code",
   "execution_count": 65,
   "id": "783ebde5",
   "metadata": {
    "ExecuteTime": {
     "end_time": "2022-01-17T17:18:00.197449Z",
     "start_time": "2022-01-17T17:18:00.192457Z"
    }
   },
   "outputs": [
    {
     "name": "stdout",
     "output_type": "stream",
     "text": [
      "0.7894736842105263 0.5285714285714286\n"
     ]
    }
   ],
   "source": [
    "print(np.mean(S),np.mean(Sprime))"
   ]
  },
  {
   "attachments": {
    "image.png": {
     "image/png": "[encoded data removed]"
    }
   },
   "cell_type": "markdown",
   "id": "95b62e4c",
   "metadata": {
    "ExecuteTime": {
     "end_time": "2022-01-14T23:46:58.499482Z",
     "start_time": "2022-01-14T23:46:58.492248Z"
    }
   },
   "source": [
    "Hoeffding ![image.png](attachment:image.png)"
   ]
  },
  {
   "cell_type": "code",
   "execution_count": 76,
   "id": "5dedaa68",
   "metadata": {
    "ExecuteTime": {
     "end_time": "2022-01-17T17:19:47.731776Z",
     "start_time": "2022-01-17T17:19:47.727810Z"
    }
   },
   "outputs": [],
   "source": [
    "hoeffding = lambda x: np.sqrt(np.log(2/(0.05))/(2*len(x)))\n",
    "\n",
    "ns = np.mean(S)\n"
   ]
  },
  {
   "cell_type": "code",
   "execution_count": 80,
   "id": "51a47544",
   "metadata": {
    "ExecuteTime": {
     "end_time": "2022-01-17T17:27:14.693013Z",
     "start_time": "2022-01-17T17:27:14.688866Z"
    }
   },
   "outputs": [],
   "source": [
    "#Bersntein\n",
    "bern = lambda x: np.sqrt(2*sample_variance(x)/(len(x))*np.log(4/delta)) + 7*np.log(4/delta)/(3*(len(x)-1))\n",
    "\n"
   ]
  },
  {
   "attachments": {
    "image-2.png": {
     "image/png": "[encoded data removed]"
    },
    "image.png": {
     "image/png": "[encoded data removed]"
    }
   },
   "cell_type": "markdown",
   "id": "c60a3295",
   "metadata": {},
   "source": [
    "![image.png](attachment:image.png)\n",
    "![image-2.png](attachment:image-2.png)"
   ]
  },
  {
   "cell_type": "code",
   "execution_count": 93,
   "id": "ae55054f",
   "metadata": {
    "ExecuteTime": {
     "end_time": "2022-01-17T17:35:30.963537Z",
     "start_time": "2022-01-17T17:35:30.957553Z"
    }
   },
   "outputs": [],
   "source": [
    "def sample_variance(x):\n",
    "    s = 0\n",
    "    for i in range(len(x)-1):\n",
    "        for j in range(i+1,len(x)):\n",
    "            s += (x[i]-x[j])**2\n",
    "        \n",
    "    return s/(n*n-n)\n"
   ]
  },
  {
   "cell_type": "code",
   "execution_count": 132,
   "id": "63061fd6",
   "metadata": {
    "ExecuteTime": {
     "end_time": "2022-01-17T17:54:15.205197Z",
     "start_time": "2022-01-17T17:54:15.193264Z"
    }
   },
   "outputs": [],
   "source": [
    "# Stolen from my assignment 4\n",
    "#  (if you were wondering why it is vectorized)\n",
    "def binary_search(p_emp,_z,n,higher = True):\n",
    "    z = np.log((n+1)/_z)/n\n",
    "    def kl(p,q):\n",
    "        left, right = np.zeros_like(p_emp), np.zeros_like(p_emp)\n",
    "        \n",
    "        p_not_one = np.where(p != 1)\n",
    "        p_not_zero = np.where(p != 0)\n",
    "        right[p_not_one] = (1-p[p_not_one])* np.log((1-p[p_not_one])/(1-q[p_not_one]))\n",
    "        left[p_not_zero]  = np.nan_to_num(p[p_not_zero]*np.log(p[p_not_zero]/q[p_not_zero]))\n",
    "            \n",
    "        return left + right\n",
    "    \n",
    "    if higher:\n",
    "        pmin = np.ones_like(p_emp)*p_emp\n",
    "        pmax = np.ones_like(p_emp)\n",
    "    else:\n",
    "        pmin = np.zeros_like(p_emp)\n",
    "        pmax = np.ones_like(p_emp)*p_emp\n",
    "    \n",
    "    for i in range(9999999999):\n",
    "        p = (pmin + pmax)/2\n",
    "        diff = kl(p_emp,p) - z\n",
    "        close = np.isclose(diff,0)\n",
    "\n",
    "        if np.all(close):\n",
    "            return p\n",
    "        \n",
    "        if higher :\n",
    "            pmin[diff < 0] = p[diff < 0]\n",
    "            pmax[diff > 0] = p[diff > 0]\n",
    "        else:\n",
    "            pmin[diff > 0] = p[diff > 0]\n",
    "            pmax[diff < 0] = p[diff < 0]\n",
    "    return  p\n",
    "\n",
    "KL_up = lambda x: binary_search(np.array([np.mean(x)]),0.05,n,True)[0]\n",
    "KL_low = lambda x: binary_search(np.array([np.mean(x)]),0.05,n,False)[0]\n",
    "\n"
   ]
  },
  {
   "cell_type": "code",
   "execution_count": 102,
   "id": "2d60ecc4",
   "metadata": {
    "ExecuteTime": {
     "end_time": "2022-01-17T17:37:12.823031Z",
     "start_time": "2022-01-17T17:37:12.786126Z"
    }
   },
   "outputs": [
    {
     "data": {
      "text/plain": [
       "0.1668806161745828"
      ]
     },
     "execution_count": 102,
     "metadata": {},
     "output_type": "execute_result"
    }
   ],
   "source": [
    "sample_variance(S)"
   ]
  },
  {
   "cell_type": "code",
   "execution_count": 96,
   "id": "221c2e95",
   "metadata": {
    "ExecuteTime": {
     "end_time": "2022-01-17T17:35:37.238557Z",
     "start_time": "2022-01-17T17:35:37.161764Z"
    }
   },
   "outputs": [
    {
     "name": "stdout",
     "output_type": "stream",
     "text": [
      " (0.7030597541065199, 0.8758876143145328) \n",
      " (0.6709600381480808, 0.9079873302729718) \n",
      " (0.6708648487141257, 0.8820727749874717)\n"
     ]
    }
   ],
   "source": [
    "h = (ns - hoeffding(S), ns + hoeffding(S))\n",
    "b = (ns - bern(S),ns + bern(S))\n",
    "k = (KL_low(S),KL_up(S))\n",
    "\n",
    "print(\"\",h,\"\\n\",b,\"\\n\",k)"
   ]
  },
  {
   "cell_type": "code",
   "execution_count": 133,
   "id": "3ea17573",
   "metadata": {
    "ExecuteTime": {
     "end_time": "2022-01-17T17:54:17.916766Z",
     "start_time": "2022-01-17T17:54:17.860887Z"
    }
   },
   "outputs": [
    {
     "name": "stdout",
     "output_type": "stream",
     "text": [
      " (0.4348535203611036, 0.6222893367817536) \n",
      " (0.3927720615250485, 0.6643707956178087) \n",
      " (0.3984778659684317, 0.6560938707419804)\n"
     ]
    }
   ],
   "source": [
    "nps = np.mean(Sprime)\n",
    "hp = (nps - hoeffding(Sprime), nps + hoeffding(Sprime))\n",
    "bp = (nps - bern(Sprime),nps + bern(Sprime))\n",
    "kp = (KL_low(Sprime),KL_up(Sprime))\n",
    "\n",
    "print(\"\",hp,\"\\n\",bp,\"\\n\",kp)"
   ]
  },
  {
   "cell_type": "code",
   "execution_count": 87,
   "id": "a782cc1a",
   "metadata": {
    "ExecuteTime": {
     "end_time": "2022-01-17T17:29:51.484758Z",
     "start_time": "2022-01-17T17:29:51.477821Z"
    }
   },
   "outputs": [
    {
     "data": {
      "text/plain": [
       "0.5285714285714286"
      ]
     },
     "execution_count": 87,
     "metadata": {},
     "output_type": "execute_result"
    }
   ],
   "source": [
    "(Sprime)"
   ]
  },
  {
   "cell_type": "code",
   "execution_count": 131,
   "id": "8fa201ed",
   "metadata": {
    "ExecuteTime": {
     "end_time": "2022-01-17T17:51:32.126856Z",
     "start_time": "2022-01-17T17:51:31.842576Z"
    }
   },
   "outputs": [
    {
     "data": {
      "image/png": "[encoded data removed]",
      "text/plain": [
       "<Figure size 432x288 with 1 Axes>"
      ]
     },
     "metadata": {
      "needs_background": "light"
     },
     "output_type": "display_data"
    }
   ],
   "source": [
    "fig, ax = plt.subplots()\n",
    "ax.errorbar([0,1,2],[ns,ns,ns],yerr=[[hoeffding(S),bern(S),KL_low(S)-ns],[hoeffding(S),bern(S),ns-KL_up(S)]],fmt =\".\",capsize=4)\n",
    "\n",
    "ax.errorbar([0,1,2],[nps,nps,nps],yerr=[[hoeffding(Sprime),bern(Sprime),KL_low(Sprime)-nps],[hoeffding(Sprime),bern(Sprime),nps-KL_up(Sprime)]],fmt =\".\",capsize=4)\n",
    "\n",
    "ax.set_xticks([0,1,2])\n",
    "ax.set_xticklabels([\"Hoeffding\",\"Berstein\",\"KL\"])\n",
    "\n",
    "ax.hlines(ns,0,2,ls='--',label=\"S\")\n",
    "ax.hlines(nps,0,2,ls='--',color=\"orange\",label=\"S prime\")\n",
    "\n",
    "plt.legend()\n",
    "plt.show()"
   ]
  }
 ],
 "metadata": {
  "hide_input": false,
  "kernelspec": {
   "display_name": "Python 3",
   "language": "python",
   "name": "python3"
  },
  "language_info": {
   "codemirror_mode": {
    "name": "ipython",
    "version": 3
   },
   "file_extension": ".py",
   "mimetype": "text/x-python",
   "name": "python",
   "nbconvert_exporter": "python",
   "pygments_lexer": "ipython3",
   "version": "3.6.13"
  },
  "toc": {
   "base_numbering": 1,
   "nav_menu": {},
   "number_sections": true,
   "sideBar": true,
   "skip_h1_title": false,
   "title_cell": "Table of Contents",
   "title_sidebar": "Contents",
   "toc_cell": false,
   "toc_position": {},
   "toc_section_display": true,
   "toc_window_display": false
  }
 },
 "nbformat": 4,
 "nbformat_minor": 5
}
