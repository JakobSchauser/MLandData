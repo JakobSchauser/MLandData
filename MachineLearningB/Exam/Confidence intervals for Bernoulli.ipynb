{
 "cells": [
  {
   "cell_type": "code",
   "execution_count": 97,
   "id": "2bf48e30",
   "metadata": {
    "ExecuteTime": {
     "end_time": "2022-01-17T21:35:11.579345Z",
     "start_time": "2022-01-17T21:35:11.574351Z"
    }
   },
   "outputs": [],
   "source": [
    "import numpy as np\n",
    "import matplotlib.pyplot as plt\n",
    "import seaborn as sns\n",
    "sns.set_style(\"ticks\")"
   ]
  },
  {
   "cell_type": "code",
   "execution_count": 223,
   "id": "94137702",
   "metadata": {
    "ExecuteTime": {
     "end_time": "2022-01-17T22:47:04.352692Z",
     "start_time": "2022-01-17T22:47:04.343168Z"
    }
   },
   "outputs": [],
   "source": [
    "S = np.genfromtxt(\"S.csv\")\n",
    "Sprime = np.genfromtxt(\"Sprime.csv\")\n",
    "\n",
    "delta = 0.01\n",
    "\n",
    "n = len(S)"
   ]
  },
  {
   "cell_type": "code",
   "execution_count": 224,
   "id": "55be24d0",
   "metadata": {
    "ExecuteTime": {
     "end_time": "2022-01-17T22:47:04.480702Z",
     "start_time": "2022-01-17T22:47:04.475746Z"
    }
   },
   "outputs": [
    {
     "name": "stdout",
     "output_type": "stream",
     "text": [
      "0.7894736842105263 0.5285714285714286\n"
     ]
    }
   ],
   "source": [
    "print(np.mean(S),np.mean(Sprime))"
   ]
  },
  {
   "attachments": {
    "image.png": {
     "image/png": "[encoded data removed]"
    }
   },
   "cell_type": "markdown",
   "id": "948b8310",
   "metadata": {
    "ExecuteTime": {
     "end_time": "2022-01-14T23:46:58.499482Z",
     "start_time": "2022-01-14T23:46:58.492248Z"
    }
   },
   "source": [
    "Hoeffding ![image.png](attachment:image.png)"
   ]
  },
  {
   "cell_type": "code",
   "execution_count": 225,
   "id": "33031e20",
   "metadata": {
    "ExecuteTime": {
     "end_time": "2022-01-17T22:47:05.001833Z",
     "start_time": "2022-01-17T22:47:04.997787Z"
    }
   },
   "outputs": [],
   "source": [
    "hoeffding = lambda x: np.sqrt(np.log(2/(delta))/(2*len(x)))\n",
    "\n",
    "ns = np.mean(S)\n"
   ]
  },
  {
   "cell_type": "code",
   "execution_count": 226,
   "id": "b4d8c80f",
   "metadata": {
    "ExecuteTime": {
     "end_time": "2022-01-17T22:47:05.120977Z",
     "start_time": "2022-01-17T22:47:05.115953Z"
    }
   },
   "outputs": [],
   "source": [
    "def sample_variance(x):\n",
    "    s = 0\n",
    "    for i in range(len(x)):\n",
    "        for j in range(i+1,len(x)):\n",
    "            s += (x[i]-x[j])**2\n",
    "        \n",
    "    return s/(n*n-n)\n"
   ]
  },
  {
   "cell_type": "code",
   "execution_count": 235,
   "id": "56cb7588",
   "metadata": {
    "ExecuteTime": {
     "end_time": "2022-01-17T22:48:21.814222Z",
     "start_time": "2022-01-17T22:48:21.808238Z"
    }
   },
   "outputs": [],
   "source": [
    "#Bersntein\n",
    "def bern(x):\n",
    "    return np.sqrt(2*sample_variance(x)/len(x) * np.log(4/delta)) + 7*np.log(4/delta)/(3*(len(x)-1))\n",
    "\n"
   ]
  },
  {
   "attachments": {
    "image-2.png": {
     "image/png": "[encoded data removed]"
    },
    "image.png": {
     "image/png": "[encoded data removed]"
    }
   },
   "cell_type": "markdown",
   "id": "edcfbf2f",
   "metadata": {},
   "source": [
    "![image.png](attachment:image.png)\n",
    "![image-2.png](attachment:image-2.png)"
   ]
  },
  {
   "cell_type": "code",
   "execution_count": 236,
   "id": "5e6a1162",
   "metadata": {
    "ExecuteTime": {
     "end_time": "2022-01-17T22:48:22.092889Z",
     "start_time": "2022-01-17T22:48:22.078962Z"
    }
   },
   "outputs": [],
   "source": [
    "# Stolen from my assignment 4\n",
    "#  (if you were wondering why it is vectorized)\n",
    "def binary_search(p_emp,_z,n,higher = True):\n",
    "    z = np.log((n+1)/_z)/n\n",
    "    def kl(p,q):\n",
    "        left, right = np.zeros_like(p_emp), np.zeros_like(p_emp)\n",
    "        \n",
    "        p_not_one = np.where(p != 1)\n",
    "        p_not_zero = np.where(p != 0)\n",
    "        right[p_not_one] = (1-p[p_not_one])* np.log((1-p[p_not_one])/(1-q[p_not_one]))\n",
    "        left[p_not_zero]  = np.nan_to_num(p[p_not_zero]*np.log(p[p_not_zero]/q[p_not_zero]))\n",
    "            \n",
    "        return left + right\n",
    "    \n",
    "    if higher:\n",
    "        pmin = np.ones_like(p_emp)*p_emp\n",
    "        pmax = np.ones_like(p_emp)\n",
    "    else:\n",
    "        pmin = np.zeros_like(p_emp)\n",
    "        pmax = np.ones_like(p_emp)*p_emp\n",
    "    \n",
    "    for i in range(9999999999):\n",
    "        p = (pmin + pmax)/2\n",
    "        diff = kl(p_emp,p) - z\n",
    "        close = np.isclose(diff,0)\n",
    "\n",
    "        if np.all(close):\n",
    "            return p\n",
    "        \n",
    "        if higher :\n",
    "            pmin[diff < 0] = p[diff < 0]\n",
    "            pmax[diff > 0] = p[diff > 0]\n",
    "        else:\n",
    "            pmin[diff > 0] = p[diff > 0]\n",
    "            pmax[diff < 0] = p[diff < 0]\n",
    "    return  p\n",
    "\n",
    "KL_up = lambda x: binary_search(np.array([np.mean(x)]),0.05,len(x),True)[0]\n",
    "KL_low = lambda x: binary_search(np.array([np.mean(x)]),0.05,len(x),False)[0]\n",
    "\n"
   ]
  },
  {
   "cell_type": "code",
   "execution_count": 237,
   "id": "5ba5dd53",
   "metadata": {
    "ExecuteTime": {
     "end_time": "2022-01-17T22:48:22.226724Z",
     "start_time": "2022-01-17T22:48:22.189824Z"
    }
   },
   "outputs": [
    {
     "data": {
      "text/plain": [
       "0.1668806161745828"
      ]
     },
     "execution_count": 237,
     "metadata": {},
     "output_type": "execute_result"
    }
   ],
   "source": [
    "sample_variance(S)"
   ]
  },
  {
   "cell_type": "code",
   "execution_count": 242,
   "id": "f1983fb7",
   "metadata": {
    "ExecuteTime": {
     "end_time": "2022-01-17T23:08:13.887905Z",
     "start_time": "2022-01-17T23:08:13.815105Z"
    }
   },
   "outputs": [
    {
     "name": "stdout",
     "output_type": "stream",
     "text": [
      " (0.6859104726019621, 0.8930368958190905) \n",
      " (0.6426661513734566, 0.936281217047596) \n",
      " (0.6708648487141257, 0.8820727749874717) \n",
      "\n",
      " 0.20712642321712837 \n",
      " 0.2936150656741394 \n",
      " 0.21120792627334606\n"
     ]
    }
   ],
   "source": [
    "h = (ns - hoeffding(S), ns + hoeffding(S))\n",
    "b = (ns - bern(S),ns + bern(S))\n",
    "k = (KL_low(S),KL_up(S))\n",
    "\n",
    "print(\"\",h,\"\\n\",b,\"\\n\",k,\"\\n\")\n",
    "print(\"\",h[1]-h[0],\"\\n\",b[1]-b[0],\"\\n\",k[1]-k[0])"
   ]
  },
  {
   "cell_type": "code",
   "execution_count": 243,
   "id": "885bcc86",
   "metadata": {
    "ExecuteTime": {
     "end_time": "2022-01-17T23:09:35.293525Z",
     "start_time": "2022-01-17T23:09:35.231666Z"
    }
   },
   "outputs": [
    {
     "name": "stdout",
     "output_type": "stream",
     "text": [
      " (0.41625472745835324, 0.6408881296845039) \n",
      " (0.36009483062032693, 0.6970480265225303) \n",
      " (0.38909123625074116, 0.6650942836488996)\n",
      " 0.2246334022261507 \n",
      " 0.33695319590220335 \n",
      " 0.2760030473981584\n"
     ]
    }
   ],
   "source": [
    "nps = np.mean(Sprime)\n",
    "hp = (nps - hoeffding(Sprime), nps + hoeffding(Sprime))\n",
    "bp = (nps - bern(Sprime),nps + bern(Sprime))\n",
    "kp = (KL_low(Sprime),KL_up(Sprime))\n",
    "\n",
    "print(\"\",hp,\"\\n\",bp,\"\\n\",kp)\n",
    "print(\"\",hp[1]-hp[0],\"\\n\",bp[1]-bp[0],\"\\n\",kp[1]-kp[0])"
   ]
  },
  {
   "cell_type": "code",
   "execution_count": 240,
   "id": "e2f3e09e",
   "metadata": {
    "ExecuteTime": {
     "end_time": "2022-01-17T22:48:22.540880Z",
     "start_time": "2022-01-17T22:48:22.532931Z"
    }
   },
   "outputs": [
    {
     "data": {
      "text/plain": [
       "array([0., 1., 1., 0., 1., 0., 0., 0., 1., 0., 0., 0., 1., 1., 1., 1., 0.,\n",
       "       0., 1., 1., 1., 1., 0., 0., 1., 1., 1., 0., 1., 1., 1., 0., 0., 0.,\n",
       "       0., 1., 1., 1., 0., 1., 0., 1., 1., 0., 0., 1., 1., 0., 0., 0., 0.,\n",
       "       0., 0., 0., 0., 0., 1., 1., 0., 0., 0., 0., 1., 1., 1., 1., 1., 0.,\n",
       "       1., 0., 0., 0., 1., 0., 1., 0., 1., 0., 0., 0., 1., 1., 0., 1., 0.,\n",
       "       0., 1., 1., 1., 1., 0., 1., 1., 1., 1., 1., 1., 0., 0., 1., 1., 0.,\n",
       "       1., 1., 0., 0., 0., 1., 1., 1., 0., 0., 0., 1., 1., 0., 0., 0., 0.,\n",
       "       0., 1., 0., 1., 1., 1., 1., 0., 0., 0., 1., 1., 1., 0., 0., 1., 0.,\n",
       "       0., 0., 0., 0., 1., 0., 1., 1., 0., 0., 0., 1., 1., 0., 0., 0., 1.,\n",
       "       0., 1., 0., 0., 0., 0., 1., 1., 1., 1., 1., 1., 0., 1., 0., 1., 1.,\n",
       "       1., 0., 1., 0., 1., 1., 1., 1., 1., 1., 1., 0., 1., 1., 1., 0., 0.,\n",
       "       1., 1., 1., 0., 1., 0., 0., 0., 0., 1., 1., 1., 0., 1., 1., 1., 1.,\n",
       "       1., 0., 0., 1., 1., 1.])"
      ]
     },
     "execution_count": 240,
     "metadata": {},
     "output_type": "execute_result"
    }
   ],
   "source": [
    "(Sprime)"
   ]
  },
  {
   "cell_type": "code",
   "execution_count": 241,
   "id": "b0c45376",
   "metadata": {
    "ExecuteTime": {
     "end_time": "2022-01-17T22:48:22.911242Z",
     "start_time": "2022-01-17T22:48:22.657881Z"
    }
   },
   "outputs": [
    {
     "data": {
      "image/png": "[encoded data removed]",
      "text/plain": [
       "<Figure size 360x288 with 1 Axes>"
      ]
     },
     "metadata": {},
     "output_type": "display_data"
    }
   ],
   "source": [
    "fig, ax = plt.subplots(figsize = (5,4))\n",
    "ax.errorbar([0,1,2],[ns,ns,ns],yerr=[[hoeffding(S),bern(S),ns-KL_low(S)],[hoeffding(S),bern(S),KL_up(S)-ns]],fmt =\".\",capsize=4)\n",
    "\n",
    "ax.errorbar([0,1,2],[nps,nps,nps],yerr=[[hoeffding(Sprime),bern(Sprime),nps-KL_low(Sprime)],[hoeffding(Sprime),bern(Sprime),KL_up(Sprime)-nps]],fmt =\".\",capsize=4)\n",
    "\n",
    "ax.set_xticks([0,1,2])\n",
    "ax.set_xticklabels([\"Hoeffding\",\"Berstein\",\"KL\"])\n",
    "\n",
    "ax.hlines(ns,0,2,ls='--',label=\"S\")\n",
    "ax.hlines(nps,0,2,ls='--',color=\"orange\",label=\"S prime\")\n",
    "\n",
    "ax.set_ylabel(\"$\\mu$\")\n",
    "ax.set_title(\"The confidence intervals for the means with 99% probability\")\n",
    "plt.legend(loc = (0.6,0.8))\n",
    "plt.show()"
   ]
  },
  {
   "cell_type": "code",
   "execution_count": null,
   "id": "41f4d898",
   "metadata": {},
   "outputs": [],
   "source": []
  },
  {
   "cell_type": "code",
   "execution_count": null,
   "id": "4f498980",
   "metadata": {},
   "outputs": [],
   "source": []
  },
  {
   "cell_type": "code",
   "execution_count": null,
   "id": "0a6ab988",
   "metadata": {},
   "outputs": [],
   "source": []
  }
 ],
 "metadata": {
  "hide_input": false,
  "kernelspec": {
   "display_name": "Python 3",
   "language": "python",
   "name": "python3"
  },
  "language_info": {
   "codemirror_mode": {
    "name": "ipython",
    "version": 3
   },
   "file_extension": ".py",
   "mimetype": "text/x-python",
   "name": "python",
   "nbconvert_exporter": "python",
   "pygments_lexer": "ipython3",
   "version": "3.6.13"
  },
  "toc": {
   "base_numbering": 1,
   "nav_menu": {},
   "number_sections": true,
   "sideBar": true,
   "skip_h1_title": false,
   "title_cell": "Table of Contents",
   "title_sidebar": "Contents",
   "toc_cell": false,
   "toc_position": {},
   "toc_section_display": true,
   "toc_window_display": false
  }
 },
 "nbformat": 4,
 "nbformat_minor": 5
}
