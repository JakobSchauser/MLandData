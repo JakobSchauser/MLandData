{
  "cells": [
    {
      "cell_type": "markdown",
      "metadata": {
        "id": "diBOWISLz3fV"
      },
      "source": [
        "# Basic CNN for traffic sign recognition\n",
        "## ADL 2022\n",
        "\n",
        "This notebook provides a template for a small CNN for the German Traffic Sign Recognition Benchmark. The data is described in:\n",
        "\n",
        "Johannes Stallkamp, Marc Schlipsing, Jan Salmen, and Christian Igel. Man vs. Computer: Benchmarking Machine Learning Algorithms for Traffic Sign Recognition. *Neural Networks* **32**, pp. 323-332, 2012\n",
        "\n",
        "This notebook is a template, without modification the model does not even come close to the state-of-the-art. \n",
        "\n",
        "Please [contact Stefan](mailto:sommer@di.ku.dk) if you have suggestions for improving the notebook.\n",
        "\n",
        "The original version of the notebook was written by [Christian Igel](mailto:igel@di.ku.dk). It has been slightly modified by [Stefan Sommer](mailto:sommer@di.ku.dk) and the TAs of ADL 2022."
      ]
    },
    {
      "cell_type": "markdown",
      "metadata": {
        "id": "7hh3zJV20NKO"
      },
      "source": [
        "Do the imports first:"
      ]
    },
    {
      "cell_type": "code",
      "execution_count": 1,
      "metadata": {
        "id": "_DEmCw_O1N4m"
      },
      "outputs": [
        {
          "ename": "ModuleNotFoundError",
          "evalue": "No module named 'matplotlib'",
          "output_type": "error",
          "traceback": [
            "\u001b[1;31m---------------------------------------------------------------------------\u001b[0m",
            "\u001b[1;31mModuleNotFoundError\u001b[0m                       Traceback (most recent call last)",
            "\u001b[1;32m~\\AppData\\Local\\Temp\\ipykernel_9984\\1674386264.py\u001b[0m in \u001b[0;36m<module>\u001b[1;34m\u001b[0m\n\u001b[0;32m      1\u001b[0m \u001b[1;32mimport\u001b[0m \u001b[0mos\u001b[0m\u001b[1;33m\u001b[0m\u001b[1;33m\u001b[0m\u001b[0m\n\u001b[1;32m----> 2\u001b[1;33m \u001b[1;32mimport\u001b[0m \u001b[0mmatplotlib\u001b[0m\u001b[1;33m.\u001b[0m\u001b[0mpyplot\u001b[0m \u001b[1;32mas\u001b[0m \u001b[0mplt\u001b[0m\u001b[1;33m\u001b[0m\u001b[1;33m\u001b[0m\u001b[0m\n\u001b[0m\u001b[0;32m      3\u001b[0m \u001b[1;32mimport\u001b[0m \u001b[0mnumpy\u001b[0m \u001b[1;32mas\u001b[0m \u001b[0mnp\u001b[0m\u001b[1;33m\u001b[0m\u001b[1;33m\u001b[0m\u001b[0m\n\u001b[0;32m      4\u001b[0m \u001b[1;33m\u001b[0m\u001b[0m\n\u001b[0;32m      5\u001b[0m \u001b[1;32mimport\u001b[0m \u001b[0mtorch\u001b[0m\u001b[1;33m\u001b[0m\u001b[1;33m\u001b[0m\u001b[0m\n",
            "\u001b[1;31mModuleNotFoundError\u001b[0m: No module named 'matplotlib'"
          ]
        }
      ],
      "source": [
        "import os\n",
        "import matplotlib.pyplot as plt\n",
        "import numpy as np\n",
        "\n",
        "import torch \n",
        "import torch.optim as optim\n",
        "\n",
        "import torch.nn as nn\n",
        "import torch.nn.functional as F\n",
        "import torchvision\n",
        "from torchvision import datasets, transforms\n",
        "from torch.utils.data.dataset import Dataset\n",
        "from torchvision.datasets.utils import download_url, extract_archive\n",
        "\n",
        "from torch.utils.tensorboard import SummaryWriter\n",
        "writer = SummaryWriter()\n",
        "# Load the TensorBoard notebook extension\n",
        "# %load_ext tensorboard"
      ]
    },
    {
      "cell_type": "markdown",
      "metadata": {
        "id": "VCmU86Yn0VW0"
      },
      "source": [
        "Check if a GPU is available:"
      ]
    },
    {
      "cell_type": "code",
      "execution_count": 2,
      "metadata": {
        "colab": {
          "base_uri": "https://localhost:8080/"
        },
        "id": "ypjWR1XCKZzo",
        "outputId": "865de350-3989-4516-986a-72ca36a180f5"
      },
      "outputs": [
        {
          "name": "stdout",
          "output_type": "stream",
          "text": [
            "device: cuda:0\n"
          ]
        }
      ],
      "source": [
        "gpu = torch.cuda.is_available()\n",
        "device = torch.device(\"cuda:0\" if gpu else \"cpu\")\n",
        "print(\"device:\", device)"
      ]
    },
    {
      "cell_type": "markdown",
      "metadata": {
        "id": "Krrag66A0Y7n"
      },
      "source": [
        "The GTSRB data wrapped in a `Dataset`:"
      ]
    },
    {
      "cell_type": "code",
      "execution_count": 3,
      "metadata": {
        "id": "uKBCYtfv1YNC"
      },
      "outputs": [],
      "source": [
        "class GTSRBTrafficSigns(Dataset):\n",
        "  def __init__(self, root = './', url = 'https://sid.erda.dk/share_redirect/EB0rrpZwuI', filename='EB0rrpZwuI.zip', train=True, force_download=False): \n",
        "    self.img_height  = 32  \n",
        "    self.img_width   = self.img_height\n",
        "    self.img_height_crop = 28  \n",
        "    self.img_width_crop  = self.img_height_crop\n",
        "\n",
        "    self.train = train\n",
        "    archive = os.path.join(root, filename)\n",
        "\n",
        "    if self.train:\n",
        "      self.data_folder = os.path.join(root, 'GTSRB/train')\n",
        "    else:\n",
        "      self.data_folder = os.path.join(root, 'GTSRB/test')\n",
        "\n",
        "    if (not os.path.exists(self.data_folder)) or force_download:\n",
        "       download_url(url, root, filename)\n",
        "       extract_archive(archive, root, False)\n",
        "    else:\n",
        "      print('Using existing', self.data_folder)\n",
        "\n",
        "    self.dataset_train = datasets.ImageFolder(self.data_folder)\n",
        "\n",
        "  def __getitem__(self, index):\n",
        "      image, label = self.dataset_train.__getitem__(index)\n",
        "      image = transforms.Resize((self.img_width,self.img_height))(image)\n",
        "      \n",
        "      if self.train:\n",
        "        image = transforms.RandomAffine((-5,5))(image)\n",
        "        image = transforms.RandomCrop((self.img_width_crop, self.img_height_crop))(image)\n",
        "        image = transforms.ColorJitter(0.8, contrast = 0.4)(image)\n",
        "        if label in [11, 12, 13, 17, 18, 26, 30, 35]:\n",
        "          image = transforms.RandomHorizontalFlip(p=0.5)(image)\n",
        "        # image = transforms.RandomPerspective(distortion_scale=0.4, p=0.3)(image)\n",
        "      else:\n",
        "        image = transforms.CenterCrop((self.img_width_crop, self.img_height_crop))(image)\n",
        "\n",
        "      image = transforms.ToTensor()(image)\n",
        "\n",
        "      return image, label\n",
        "\n",
        "  def __len__(self):\n",
        "      return self.dataset_train.__len__()"
      ]
    },
    {
      "cell_type": "code",
      "execution_count": 4,
      "metadata": {
        "colab": {
          "base_uri": "https://localhost:8080/"
        },
        "id": "kxLuzusI3wgY",
        "outputId": "c52074eb-a457-4b59-c132-da2b4500b60b"
      },
      "outputs": [
        {
          "name": "stdout",
          "output_type": "stream",
          "text": [
            "Using existing ./GTSRB/train\n",
            "Using existing ./GTSRB/test\n"
          ]
        }
      ],
      "source": [
        "dataset_train = GTSRBTrafficSigns()\n",
        "dataset_test = GTSRBTrafficSigns(train = False)"
      ]
    },
    {
      "cell_type": "markdown",
      "metadata": {
        "id": "qEoOq0fR0shZ"
      },
      "source": [
        "Define the data loader for training:"
      ]
    },
    {
      "cell_type": "code",
      "execution_count": 5,
      "metadata": {
        "id": "cMvy6psj4Da3"
      },
      "outputs": [],
      "source": [
        "batch_size = 128\n",
        "# generator_train = torch.utils.data.DataLoader(dataset_train, batch_size=batch_size, shuffle=True, num_workers=2,drop_last = True)\n",
        "criterion = nn.CrossEntropyLoss()\n"
      ]
    },
    {
      "cell_type": "markdown",
      "metadata": {
        "id": "Z4EPJdLb0yrN"
      },
      "source": [
        "Let's visualize some input images. This visualization is very important, among others to verify that the data augmentation works as expected."
      ]
    },
    {
      "cell_type": "code",
      "execution_count": 6,
      "metadata": {
        "id": "g3bfL8fr4oby"
      },
      "outputs": [],
      "source": [
        "# functions to show an image\n",
        "def imshow(img):\n",
        "    npimg = img.numpy()\n",
        "    plt.imshow(np.transpose(npimg, (1, 2, 0)))\n",
        "    plt.axis('off')\n",
        "    plt.show()\n",
        "\n",
        "\n",
        "# # get some random training images\n",
        "# dataiter = iter(generator_train)\n",
        "# images, labels = dataiter.next()\n",
        "\n",
        "# # show images\n",
        "# imshow(torchvision.utils.make_grid(images))"
      ]
    },
    {
      "cell_type": "markdown",
      "metadata": {
        "id": "yYoceXxa1LgG"
      },
      "source": [
        "Let's look at some images in the batch with their label:"
      ]
    },
    {
      "cell_type": "code",
      "execution_count": 7,
      "metadata": {
        "id": "Rr9Zq9-O_TmF"
      },
      "outputs": [],
      "source": [
        "# for i in range(20,1030,30):\n",
        "#   if labels[i].item() == 13:\n",
        "#     imshow(images[i])\n",
        "#     print(labels[i].item(), \"\\n\\n\")\n"
      ]
    },
    {
      "cell_type": "markdown",
      "metadata": {
        "id": "yoAs-l1luD0H"
      },
      "source": [
        "To implement:\n",
        "\n",
        "![image.png](data:image/png;base64,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)"
      ]
    },
    {
      "cell_type": "markdown",
      "metadata": {
        "id": "RCAWy9O-19t8"
      },
      "source": [
        "Define the neural network:"
      ]
    },
    {
      "cell_type": "code",
      "execution_count": 8,
      "metadata": {
        "id": "ZTehyjtbAbUl"
      },
      "outputs": [],
      "source": [
        "class Net(nn.Module):\n",
        "    def __init__(self, img_size=28,batch_norm = True):\n",
        "        super(Net, self).__init__()\n",
        "\n",
        "        self.conv1 = nn.Conv2d(3, 64, kernel_size=(5,5), stride=(1,1))\n",
        "        # self.batchnorm1 = nn.BatchNorm2d(64, affine=False)\n",
        "        self.conv2 = nn.Conv2d(64, 32, kernel_size=(5,5), stride=(1,1))\n",
        "        if batch_norm:\n",
        "          self.batchnorm2 = nn.BatchNorm2d(32, affine=False)\n",
        "        else:\n",
        "          self.batchnorm2 = lambda x: x\n",
        "        self.pool1 = nn.MaxPool2d(2,stride = 2,padding = 0, dilation = 1, ceil_mode = False)\n",
        "        self.conv3 = nn.Conv2d(32, 32, kernel_size=(3,3), stride=(1,1))\n",
        "        if batch_norm:\n",
        "          self.batchnorm3 = nn.BatchNorm2d(32, affine=False)\n",
        "        else:\n",
        "          self.batchnorm3 = lambda x: x\n",
        "\n",
        "        self.pool2 = nn.MaxPool2d(2, stride = 2, padding = 0, dilation = 1, ceil_mode = False)\n",
        "        self.fc3   = nn.Linear(512, 53, bias = True) \n",
        "\n",
        "    def forward(self, x):\n",
        "        # Reshape?\n",
        "        x = F.elu(self.conv1(x))\n",
        "        x = F.elu(self.batchnorm2(self.conv2(x)))\n",
        "        x = self.pool1(x)\n",
        "        x = F.elu(self.batchnorm3(self.conv3(x)))\n",
        "        x = self.pool2(x)\n",
        "        x = x.view(-1,512)\n",
        "        x = self.fc3(x)\n",
        "\n",
        "        # Reshape?\n",
        "        return x\n",
        "\n",
        "# net = Net()\n"
      ]
    },
    {
      "cell_type": "markdown",
      "metadata": {
        "id": "PdQ3MDpY2QOJ"
      },
      "source": [
        "Instantiate the neural network and potentially move it to GPU:"
      ]
    },
    {
      "cell_type": "markdown",
      "metadata": {
        "id": "QYFQ3dJf2a7q"
      },
      "source": [
        "Define loss and optimization algorithm:"
      ]
    },
    {
      "cell_type": "code",
      "execution_count": 9,
      "metadata": {
        "id": "P4zMyMCTAQb4"
      },
      "outputs": [],
      "source": [
        "## switch optimizer\n",
        "# optimizer = optim.Adam(net.parameters(), lr=0.01, eps=0.1)\n",
        "# optimizer = optim.SGD(net.parameters(), lr = 0.01, momentum = 0.01)"
      ]
    },
    {
      "cell_type": "markdown",
      "metadata": {
        "id": "ln380IT62sj-"
      },
      "source": [
        "These lines can be used to continue training:"
      ]
    },
    {
      "cell_type": "markdown",
      "metadata": {
        "id": "oMaDlTva28hU"
      },
      "source": [
        "Do the training:"
      ]
    },
    {
      "cell_type": "code",
      "execution_count": 10,
      "metadata": {
        "id": "TzaIsMCVJQK6"
      },
      "outputs": [],
      "source": [
        "\n",
        "\n",
        "def run_training(optimizer, net,no_epochs = 200):\n",
        "  \n",
        "  dataset_train = GTSRBTrafficSigns()\n",
        "  generator_train = torch.utils.data.DataLoader(dataset_train, batch_size=batch_size, shuffle=True, num_workers=2,drop_last = True)\n",
        "\n",
        "  dataset_test = GTSRBTrafficSigns(train=False)\n",
        "  generator_test = torch.utils.data.DataLoader(dataset_test, batch_size=batch_size, shuffle=True, num_workers=2)\n",
        "  net.train()\n",
        "\n",
        "  losses = []\n",
        "  test_acc = []\n",
        "  for epoch in range(no_epochs):  # Loop over the dataset multiple times\n",
        "      epoch_loss = running_loss = 0.0\n",
        "      for i, data in enumerate(generator_train, 0):\n",
        "          # Get the inputs; data is a list of [inputs, labels]\n",
        "          if (gpu):\n",
        "            inputs, labels = data[0].to(device), data[1].to(device)\n",
        "          else:\n",
        "            inputs, labels = data\n",
        "          # Zero the parameter gradients\n",
        "          optimizer.zero_grad()\n",
        "\n",
        "          # Forward + backward + optimize\n",
        "          outputs = net(inputs)\n",
        "          loss = criterion(outputs, labels)\n",
        "          loss.backward()\n",
        "          optimizer.step()\n",
        "\n",
        "          # Print statistics\n",
        "\n",
        "\n",
        "\n",
        "          reporting_interval = 100\n",
        "          epoch_loss += loss.item()\n",
        "          running_loss += loss.item()\n",
        "          if i % reporting_interval == reporting_interval-1:  # Print every reporting_interval mini-batches\n",
        "              # report_loss = running_loss / reproint\n",
        "\n",
        "              test_dat = next(iter(generator_test))\n",
        "              if (gpu):\n",
        "                test_images, test_labels = test_dat[0].to(device), test_dat[1].to(device)\n",
        "              else:\n",
        "                test_images, test_labels = test_dat\n",
        "              outputs = net(test_images)\n",
        "\n",
        "\n",
        "              if epoch + 1 == 30:\n",
        "                generator_test = torch.utils.data.DataLoader(dataset_test, batch_size=batch_size, shuffle=True, num_workers=2)\n",
        "\n",
        "              _, predicted = torch.max(outputs.data, 1)\n",
        "\n",
        "              a = (predicted == test_labels).sum().item()/test_labels.shape[0]\n",
        "              l = running_loss / reporting_interval\n",
        "              print('[%d, %5d] Loss: %.3f Acc: %.3f' %\n",
        "                    (epoch + 1, i + 1, l, a))\n",
        "              \n",
        "              test_acc.append(a)\n",
        "              losses.append(l)\n",
        "              running_loss = 0.0\n",
        "\n",
        "      \n",
        "      # Log to tensorboard\n",
        "      # writer.add_scalar(\"Loss/train\", epoch_loss/(i+1.), epoch)\n",
        "\n",
        "\n",
        "  print('Finished Training')\n",
        "  writer.flush()\n",
        "\n",
        "  return losses, test_acc\n",
        "\n",
        "\n",
        "# run_training(optimizer, net, 200)"
      ]
    },
    {
      "cell_type": "markdown",
      "metadata": {
        "id": "aN5_Zt8V3GFj"
      },
      "source": [
        "Evaluate on test set:"
      ]
    },
    {
      "cell_type": "code",
      "execution_count": 11,
      "metadata": {
        "id": "ZueXQjDVJhAj"
      },
      "outputs": [],
      "source": [
        "def evaluate(net):\n",
        "  net.eval()\n",
        "  dataset_test = GTSRBTrafficSigns(train=False)\n",
        "  generator_test = torch.utils.data.DataLoader(dataset_test, batch_size=batch_size, shuffle=True, num_workers=2)\n",
        "\n",
        "  correct = 0\n",
        "  total = 0\n",
        "\n",
        "  wrongs = []\n",
        "  alls = []\n",
        "  with torch.no_grad():\n",
        "      for data in generator_test:\n",
        "          if (gpu):\n",
        "            images, labels = data[0].to(device), data[1].to(device)\n",
        "          else:\n",
        "            images, labels = data\n",
        "          outputs = net(images)\n",
        "          _, predicted = torch.max(outputs.data, 1)\n",
        "          total += labels.size(0)\n",
        "          correct += (predicted == labels).sum().item()\n",
        "          wrong = labels[predicted != labels]\n",
        "          wrongs.append(wrong.cpu().numpy())\n",
        "          alls.append(labels.cpu().numpy())\n",
        "  print('Accuracy of the network on test images: %.2f %%' % (100 * correct / total))\n",
        "  return (100 * correct / total), wrongs, alls\n",
        "\n",
        "# acc, wrongs, alls = evaluate(net)"
      ]
    },
    {
      "cell_type": "markdown",
      "metadata": {
        "id": "uWyvZX0y3IzO"
      },
      "source": [
        "Save network:"
      ]
    },
    {
      "cell_type": "code",
      "execution_count": 12,
      "metadata": {
        "colab": {
          "base_uri": "https://localhost:8080/"
        },
        "id": "WJO44bcgbyNe",
        "outputId": "8f8c0fd4-9567-4f9e-b317-31b9bdca5c03"
      },
      "outputs": [
        {
          "name": "stdout",
          "output_type": "stream",
          "text": [
            "Drive already mounted at /content/gdrive; to attempt to forcibly remount, call drive.mount(\"/content/gdrive\", force_remount=True).\n"
          ]
        }
      ],
      "source": [
        "from google.colab import drive\n",
        "drive.mount('/content/gdrive')"
      ]
    },
    {
      "cell_type": "code",
      "execution_count": 12,
      "metadata": {
        "id": "mVhX7gAIcBjY"
      },
      "outputs": [],
      "source": []
    },
    {
      "cell_type": "code",
      "execution_count": null,
      "metadata": {
        "colab": {
          "base_uri": "https://localhost:8080/"
        },
        "id": "fzbr1Y1lJjXU",
        "outputId": "8a64ee37-7697-45df-cdd9-010b74390b76"
      },
      "outputs": [
        {
          "name": "stdout",
          "output_type": "stream",
          "text": [
            "Using existing ./GTSRB/train\n",
            "Using existing ./GTSRB/test\n",
            "[1,   100] Loss: 3.511 Acc: 0.359\n",
            "[1,   200] Loss: 2.947 Acc: 0.453\n",
            "[1,   300] Loss: 2.668 Acc: 0.492\n",
            "[2,   100] Loss: 2.477 Acc: 0.469\n",
            "[2,   200] Loss: 2.328 Acc: 0.523\n",
            "[2,   300] Loss: 2.205 Acc: 0.500\n",
            "[3,   100] Loss: 2.103 Acc: 0.609\n",
            "[3,   200] Loss: 2.010 Acc: 0.688\n",
            "[3,   300] Loss: 1.937 Acc: 0.656\n",
            "[4,   100] Loss: 1.855 Acc: 0.609\n",
            "[4,   200] Loss: 1.773 Acc: 0.680\n",
            "[4,   300] Loss: 1.729 Acc: 0.758\n",
            "[5,   100] Loss: 1.665 Acc: 0.711\n",
            "[5,   200] Loss: 1.591 Acc: 0.703\n",
            "[5,   300] Loss: 1.551 Acc: 0.758\n",
            "[6,   100] Loss: 1.489 Acc: 0.719\n",
            "[6,   200] Loss: 1.456 Acc: 0.805\n",
            "[6,   300] Loss: 1.418 Acc: 0.789\n",
            "[7,   100] Loss: 1.361 Acc: 0.805\n",
            "[7,   200] Loss: 1.315 Acc: 0.742\n",
            "[7,   300] Loss: 1.290 Acc: 0.781\n",
            "[8,   100] Loss: 1.240 Acc: 0.766\n",
            "[8,   200] Loss: 1.212 Acc: 0.734\n",
            "[8,   300] Loss: 1.201 Acc: 0.828\n",
            "[9,   100] Loss: 1.144 Acc: 0.867\n",
            "[9,   200] Loss: 1.123 Acc: 0.812\n",
            "[9,   300] Loss: 1.112 Acc: 0.797\n",
            "[10,   100] Loss: 1.071 Acc: 0.844\n",
            "[10,   200] Loss: 1.055 Acc: 0.906\n",
            "[10,   300] Loss: 1.041 Acc: 0.859\n",
            "[11,   100] Loss: 1.009 Acc: 0.883\n",
            "[11,   200] Loss: 0.993 Acc: 0.891\n",
            "[11,   300] Loss: 0.968 Acc: 0.836\n",
            "[12,   100] Loss: 0.929 Acc: 0.828\n",
            "[12,   200] Loss: 0.935 Acc: 0.875\n",
            "[12,   300] Loss: 0.919 Acc: 0.953\n",
            "[13,   100] Loss: 0.892 Acc: 0.859\n",
            "[13,   200] Loss: 0.891 Acc: 0.891\n",
            "[13,   300] Loss: 0.870 Acc: 0.867\n",
            "[14,   100] Loss: 0.852 Acc: 0.844\n",
            "[14,   200] Loss: 0.842 Acc: 0.883\n",
            "[14,   300] Loss: 0.826 Acc: 0.883\n",
            "[15,   100] Loss: 0.803 Acc: 0.938\n",
            "[15,   200] Loss: 0.787 Acc: 0.898\n",
            "[15,   300] Loss: 0.786 Acc: 0.867\n",
            "[16,   100] Loss: 0.774 Acc: 0.891\n",
            "[16,   200] Loss: 0.766 Acc: 0.922\n",
            "[16,   300] Loss: 0.748 Acc: 0.914\n",
            "[17,   100] Loss: 0.719 Acc: 0.914\n",
            "[17,   200] Loss: 0.735 Acc: 0.906\n",
            "[17,   300] Loss: 0.732 Acc: 0.930\n",
            "[18,   100] Loss: 0.693 Acc: 0.875\n",
            "[18,   200] Loss: 0.702 Acc: 0.906\n",
            "[18,   300] Loss: 0.698 Acc: 0.953\n",
            "[19,   100] Loss: 0.684 Acc: 0.930\n",
            "[19,   200] Loss: 0.670 Acc: 0.938\n",
            "[19,   300] Loss: 0.654 Acc: 0.867\n",
            "[20,   100] Loss: 0.653 Acc: 0.898\n",
            "[20,   200] Loss: 0.648 Acc: 0.914\n",
            "[20,   300] Loss: 0.641 Acc: 0.945\n",
            "[21,   100] Loss: 0.628 Acc: 0.922\n",
            "[21,   200] Loss: 0.618 Acc: 0.906\n",
            "[21,   300] Loss: 0.604 Acc: 0.945\n",
            "[22,   100] Loss: 0.615 Acc: 0.883\n",
            "[22,   200] Loss: 0.594 Acc: 0.875\n",
            "[22,   300] Loss: 0.591 Acc: 0.898\n",
            "[23,   100] Loss: 0.583 Acc: 0.922\n",
            "[23,   200] Loss: 0.592 Acc: 0.930\n",
            "[23,   300] Loss: 0.580 Acc: 0.883\n",
            "[24,   100] Loss: 0.562 Acc: 0.922\n",
            "[24,   200] Loss: 0.578 Acc: 0.930\n",
            "[24,   300] Loss: 0.550 Acc: 0.914\n",
            "[25,   100] Loss: 0.558 Acc: 0.914\n",
            "[25,   200] Loss: 0.546 Acc: 0.953\n",
            "[25,   300] Loss: 0.531 Acc: 0.883\n",
            "[26,   100] Loss: 0.524 Acc: 0.914\n",
            "[26,   200] Loss: 0.533 Acc: 0.945\n",
            "[26,   300] Loss: 0.532 Acc: 0.938\n",
            "[27,   100] Loss: 0.512 Acc: 0.891\n",
            "[27,   200] Loss: 0.511 Acc: 0.945\n",
            "[27,   300] Loss: 0.509 Acc: 0.945\n",
            "[28,   100] Loss: 0.510 Acc: 0.930\n",
            "[28,   200] Loss: 0.499 Acc: 0.938\n",
            "[28,   300] Loss: 0.490 Acc: 0.938\n",
            "[29,   100] Loss: 0.498 Acc: 0.984\n",
            "[29,   200] Loss: 0.479 Acc: 0.883\n",
            "[29,   300] Loss: 0.485 Acc: 0.938\n",
            "[30,   100] Loss: 0.474 Acc: 0.930\n",
            "[30,   200] Loss: 0.478 Acc: 0.883\n",
            "[30,   300] Loss: 0.481 Acc: 0.961\n",
            "[31,   100] Loss: 0.472 Acc: 0.922\n",
            "[31,   200] Loss: 0.460 Acc: 0.945\n",
            "[31,   300] Loss: 0.464 Acc: 0.953\n",
            "[32,   100] Loss: 0.452 Acc: 0.898\n",
            "[32,   200] Loss: 0.466 Acc: 0.891\n",
            "[32,   300] Loss: 0.447 Acc: 0.961\n",
            "[33,   100] Loss: 0.450 Acc: 0.930\n",
            "[33,   200] Loss: 0.446 Acc: 0.922\n",
            "[33,   300] Loss: 0.437 Acc: 0.930\n",
            "[34,   100] Loss: 0.434 Acc: 0.945\n",
            "[34,   200] Loss: 0.428 Acc: 0.953\n",
            "[34,   300] Loss: 0.433 Acc: 0.961\n",
            "[35,   100] Loss: 0.430 Acc: 0.945\n",
            "[35,   200] Loss: 0.432 Acc: 0.930\n",
            "[35,   300] Loss: 0.428 Acc: 0.953\n",
            "[36,   100] Loss: 0.408 Acc: 0.953\n",
            "[36,   200] Loss: 0.417 Acc: 0.953\n",
            "[36,   300] Loss: 0.418 Acc: 0.930\n",
            "[37,   100] Loss: 0.404 Acc: 0.945\n",
            "[37,   200] Loss: 0.413 Acc: 0.938\n",
            "[37,   300] Loss: 0.402 Acc: 0.977\n",
            "[38,   100] Loss: 0.405 Acc: 0.938\n",
            "[38,   200] Loss: 0.402 Acc: 0.977\n",
            "[38,   300] Loss: 0.397 Acc: 0.938\n",
            "[39,   100] Loss: 0.393 Acc: 0.883\n",
            "[39,   200] Loss: 0.398 Acc: 0.945\n",
            "[39,   300] Loss: 0.380 Acc: 0.922\n",
            "[40,   100] Loss: 0.384 Acc: 0.969\n",
            "[40,   200] Loss: 0.383 Acc: 0.953\n",
            "[40,   300] Loss: 0.376 Acc: 0.977\n",
            "[41,   100] Loss: 0.385 Acc: 0.953\n",
            "[41,   200] Loss: 0.385 Acc: 0.953\n",
            "[41,   300] Loss: 0.368 Acc: 0.914\n",
            "[42,   100] Loss: 0.366 Acc: 0.938\n",
            "[42,   200] Loss: 0.370 Acc: 0.961\n",
            "[42,   300] Loss: 0.365 Acc: 0.961\n",
            "[43,   100] Loss: 0.362 Acc: 0.914\n",
            "[43,   200] Loss: 0.372 Acc: 0.953\n",
            "[43,   300] Loss: 0.366 Acc: 0.953\n",
            "[44,   100] Loss: 0.379 Acc: 0.914\n",
            "[44,   200] Loss: 0.356 Acc: 0.945\n",
            "[44,   300] Loss: 0.339 Acc: 0.953\n",
            "[45,   100] Loss: 0.352 Acc: 0.961\n",
            "[45,   200] Loss: 0.345 Acc: 0.953\n",
            "[45,   300] Loss: 0.350 Acc: 0.938\n",
            "[46,   100] Loss: 0.359 Acc: 0.945\n",
            "[46,   200] Loss: 0.336 Acc: 0.930\n",
            "[46,   300] Loss: 0.343 Acc: 0.945\n",
            "[47,   100] Loss: 0.347 Acc: 0.945\n",
            "[47,   200] Loss: 0.338 Acc: 0.914\n",
            "[47,   300] Loss: 0.338 Acc: 0.953\n",
            "[48,   100] Loss: 0.342 Acc: 0.977\n",
            "[48,   200] Loss: 0.337 Acc: 0.961\n",
            "[48,   300] Loss: 0.342 Acc: 0.984\n",
            "[49,   100] Loss: 0.337 Acc: 0.953\n",
            "[49,   200] Loss: 0.333 Acc: 0.945\n",
            "[49,   300] Loss: 0.327 Acc: 0.922\n",
            "[50,   100] Loss: 0.326 Acc: 0.898\n",
            "[50,   200] Loss: 0.329 Acc: 0.945\n",
            "[50,   300] Loss: 0.322 Acc: 0.961\n",
            "[51,   100] Loss: 0.333 Acc: 0.961\n",
            "[51,   200] Loss: 0.318 Acc: 0.969\n",
            "[51,   300] Loss: 0.320 Acc: 0.953\n",
            "[52,   100] Loss: 0.321 Acc: 0.945\n",
            "[52,   200] Loss: 0.312 Acc: 0.945\n",
            "[52,   300] Loss: 0.309 Acc: 0.961\n",
            "[53,   100] Loss: 0.325 Acc: 0.938\n",
            "[53,   200] Loss: 0.303 Acc: 0.953\n",
            "[53,   300] Loss: 0.308 Acc: 0.938\n",
            "[54,   100] Loss: 0.304 Acc: 0.938\n",
            "[54,   200] Loss: 0.296 Acc: 0.984\n",
            "[54,   300] Loss: 0.299 Acc: 0.953\n",
            "[55,   100] Loss: 0.297 Acc: 0.953\n",
            "[55,   200] Loss: 0.310 Acc: 0.984\n",
            "[55,   300] Loss: 0.295 Acc: 0.984\n",
            "[56,   100] Loss: 0.304 Acc: 0.938\n",
            "[56,   200] Loss: 0.295 Acc: 0.945\n",
            "[56,   300] Loss: 0.305 Acc: 0.922\n",
            "[57,   100] Loss: 0.298 Acc: 0.977\n",
            "[57,   200] Loss: 0.294 Acc: 0.984\n",
            "[57,   300] Loss: 0.289 Acc: 0.945\n",
            "[58,   100] Loss: 0.287 Acc: 0.961\n",
            "[58,   200] Loss: 0.299 Acc: 0.969\n",
            "[58,   300] Loss: 0.287 Acc: 0.930\n",
            "[59,   100] Loss: 0.280 Acc: 0.906\n",
            "[59,   200] Loss: 0.280 Acc: 0.938\n",
            "[59,   300] Loss: 0.297 Acc: 0.953\n",
            "[60,   100] Loss: 0.283 Acc: 0.938\n",
            "[60,   200] Loss: 0.278 Acc: 0.930\n",
            "[60,   300] Loss: 0.300 Acc: 0.977\n",
            "[61,   100] Loss: 0.277 Acc: 0.961\n",
            "[61,   200] Loss: 0.272 Acc: 0.945\n",
            "[61,   300] Loss: 0.276 Acc: 0.961\n",
            "[62,   100] Loss: 0.270 Acc: 0.953\n",
            "[62,   200] Loss: 0.282 Acc: 0.969\n",
            "[62,   300] Loss: 0.276 Acc: 0.977\n",
            "[63,   100] Loss: 0.276 Acc: 0.953\n",
            "[63,   200] Loss: 0.265 Acc: 0.922\n",
            "[63,   300] Loss: 0.281 Acc: 0.930\n",
            "[64,   100] Loss: 0.275 Acc: 0.961\n",
            "[64,   200] Loss: 0.271 Acc: 0.961\n",
            "[64,   300] Loss: 0.268 Acc: 0.969\n",
            "[65,   100] Loss: 0.265 Acc: 0.969\n",
            "[65,   200] Loss: 0.260 Acc: 0.945\n",
            "[65,   300] Loss: 0.272 Acc: 0.945\n",
            "[66,   100] Loss: 0.265 Acc: 0.953\n",
            "[66,   200] Loss: 0.266 Acc: 0.953\n",
            "[66,   300] Loss: 0.263 Acc: 0.984\n",
            "[67,   100] Loss: 0.273 Acc: 0.969\n",
            "[67,   200] Loss: 0.257 Acc: 0.945\n",
            "[67,   300] Loss: 0.257 Acc: 0.992\n",
            "[68,   100] Loss: 0.247 Acc: 0.984\n",
            "[68,   200] Loss: 0.263 Acc: 0.969\n",
            "[68,   300] Loss: 0.254 Acc: 0.961\n",
            "[69,   100] Loss: 0.260 Acc: 0.930\n",
            "[69,   200] Loss: 0.269 Acc: 0.945\n",
            "[69,   300] Loss: 0.242 Acc: 0.969\n",
            "[70,   100] Loss: 0.249 Acc: 0.984\n",
            "[70,   200] Loss: 0.254 Acc: 0.961\n",
            "[70,   300] Loss: 0.252 Acc: 0.961\n",
            "[71,   100] Loss: 0.254 Acc: 0.945\n",
            "[71,   200] Loss: 0.240 Acc: 0.953\n",
            "[71,   300] Loss: 0.253 Acc: 0.961\n",
            "[72,   100] Loss: 0.242 Acc: 0.977\n",
            "[72,   200] Loss: 0.244 Acc: 0.969\n",
            "[72,   300] Loss: 0.234 Acc: 0.961\n",
            "[73,   100] Loss: 0.252 Acc: 0.945\n",
            "[73,   200] Loss: 0.238 Acc: 0.969\n",
            "[73,   300] Loss: 0.244 Acc: 0.945\n",
            "[74,   100] Loss: 0.235 Acc: 0.914\n",
            "[74,   200] Loss: 0.239 Acc: 0.961\n",
            "[74,   300] Loss: 0.237 Acc: 0.953\n",
            "[75,   100] Loss: 0.247 Acc: 0.992\n",
            "[75,   200] Loss: 0.238 Acc: 0.969\n",
            "[75,   300] Loss: 0.241 Acc: 0.977\n",
            "[76,   100] Loss: 0.248 Acc: 0.984\n",
            "[76,   200] Loss: 0.235 Acc: 0.938\n",
            "[76,   300] Loss: 0.237 Acc: 0.969\n",
            "[77,   100] Loss: 0.240 Acc: 0.922\n",
            "[77,   200] Loss: 0.231 Acc: 0.961\n",
            "[77,   300] Loss: 0.246 Acc: 0.961\n",
            "[78,   100] Loss: 0.230 Acc: 0.961\n",
            "[78,   200] Loss: 0.231 Acc: 0.969\n",
            "[78,   300] Loss: 0.232 Acc: 0.945\n",
            "[79,   100] Loss: 0.233 Acc: 0.961\n",
            "[79,   200] Loss: 0.231 Acc: 0.969\n",
            "[79,   300] Loss: 0.233 Acc: 0.969\n",
            "[80,   100] Loss: 0.231 Acc: 0.984\n",
            "[80,   200] Loss: 0.222 Acc: 0.984\n",
            "[80,   300] Loss: 0.228 Acc: 0.977\n",
            "[81,   100] Loss: 0.238 Acc: 0.953\n",
            "[81,   200] Loss: 0.222 Acc: 0.969\n",
            "[81,   300] Loss: 0.227 Acc: 0.953\n",
            "[82,   100] Loss: 0.222 Acc: 0.961\n",
            "[82,   200] Loss: 0.230 Acc: 0.953\n",
            "[82,   300] Loss: 0.212 Acc: 0.938\n",
            "[83,   100] Loss: 0.214 Acc: 0.977\n",
            "[83,   200] Loss: 0.217 Acc: 0.922\n",
            "[83,   300] Loss: 0.222 Acc: 0.969\n",
            "[84,   100] Loss: 0.230 Acc: 0.969\n",
            "[84,   200] Loss: 0.222 Acc: 0.961\n",
            "[84,   300] Loss: 0.215 Acc: 0.945\n",
            "[85,   100] Loss: 0.214 Acc: 0.969\n",
            "[85,   200] Loss: 0.228 Acc: 0.953\n",
            "[85,   300] Loss: 0.214 Acc: 0.953\n",
            "[86,   100] Loss: 0.211 Acc: 0.953\n",
            "[86,   200] Loss: 0.215 Acc: 0.977\n",
            "[86,   300] Loss: 0.221 Acc: 0.969\n",
            "[87,   100] Loss: 0.214 Acc: 0.930\n",
            "[87,   200] Loss: 0.220 Acc: 0.938\n",
            "[87,   300] Loss: 0.217 Acc: 0.969\n",
            "[88,   100] Loss: 0.210 Acc: 0.961\n",
            "[88,   200] Loss: 0.217 Acc: 0.984\n",
            "[88,   300] Loss: 0.211 Acc: 0.984\n",
            "[89,   100] Loss: 0.209 Acc: 0.961\n",
            "[89,   200] Loss: 0.213 Acc: 0.969\n",
            "[89,   300] Loss: 0.208 Acc: 0.969\n",
            "[90,   100] Loss: 0.225 Acc: 0.969\n",
            "[90,   200] Loss: 0.203 Acc: 0.977\n",
            "[90,   300] Loss: 0.209 Acc: 1.000\n",
            "[91,   100] Loss: 0.193 Acc: 0.977\n",
            "[91,   200] Loss: 0.212 Acc: 0.977\n",
            "[91,   300] Loss: 0.202 Acc: 0.938\n",
            "[92,   100] Loss: 0.204 Acc: 0.969\n",
            "[92,   200] Loss: 0.208 Acc: 0.961\n",
            "[92,   300] Loss: 0.207 Acc: 0.984\n",
            "[93,   100] Loss: 0.202 Acc: 0.938\n",
            "[93,   200] Loss: 0.218 Acc: 0.969\n",
            "[93,   300] Loss: 0.201 Acc: 0.977\n",
            "[94,   100] Loss: 0.199 Acc: 0.969\n",
            "[94,   200] Loss: 0.202 Acc: 0.977\n",
            "[94,   300] Loss: 0.204 Acc: 0.961\n",
            "[95,   100] Loss: 0.204 Acc: 0.953\n",
            "[95,   200] Loss: 0.205 Acc: 0.953\n",
            "[95,   300] Loss: 0.210 Acc: 0.953\n",
            "[96,   100] Loss: 0.205 Acc: 0.969\n",
            "[96,   200] Loss: 0.201 Acc: 0.984\n",
            "[96,   300] Loss: 0.194 Acc: 0.977\n",
            "[97,   100] Loss: 0.197 Acc: 0.945\n",
            "[97,   200] Loss: 0.197 Acc: 0.977\n",
            "[97,   300] Loss: 0.202 Acc: 0.953\n",
            "[98,   100] Loss: 0.191 Acc: 0.969\n",
            "[98,   200] Loss: 0.208 Acc: 0.977\n",
            "[98,   300] Loss: 0.193 Acc: 0.984\n"
          ]
        }
      ],
      "source": [
        "runtypes = [\"Batch normalization - ADAM\", \"Batch normalization - SGD\", \"Normal - ADAM\", \"Normal - SGD\"]\n",
        "\n",
        "def get_n_runs(runtype):\n",
        "  if not runtype in runtypes:\n",
        "    print(\"Runtype not found\")\n",
        "    return 0\n",
        "  if runtype == \"Batch normalization - ADAM\": # 3x200\n",
        "    return 3\n",
        "  if runtype == \"Batch normalization - SGD\": # 200\n",
        "    return 0\n",
        "  if runtype == \"Normal - ADAM\": # 3x200\n",
        "    return 3\n",
        "  if runtype == \"Normal - SGD\": # 200\n",
        "    return 1\n",
        "\n",
        "LR = 0.0003\n",
        "def get_optimizer_and_net(runtype):\n",
        "  if not runtype in runtypes:\n",
        "    print(\"Runtype not found\")\n",
        "    return \n",
        "  if runtype == \"Batch normalization - ADAM\": # 3x200\n",
        "    net = Net(batch_norm = True)\n",
        "    optimizer = optim.Adam(net.parameters(), lr=LR, eps=0.1)\n",
        "  if runtype == \"Batch normalization - SGD\": # 200\n",
        "    net = Net(batch_norm = True)\n",
        "    optimizer = optim.SGD(net.parameters(), lr=LR, momentum=0.9)\n",
        "  if runtype == \"Normal - ADAM\": # 3x200\n",
        "    net = Net(batch_norm = False)\n",
        "    optimizer = optim.Adam(net.parameters(), lr=LR, eps=0.1)\n",
        "  if runtype == \"Normal - SGD\": # 200\n",
        "    net = Net(batch_norm = False)\n",
        "    optimizer = optim.SGD(net.parameters(), lr=LR, momentum=0.9)\n",
        "\n",
        "  return (optimizer, net)\n",
        "  \n",
        "pth = \"/content/gdrive/MyDrive/ADL/\"\n",
        "\n",
        "def plot_loss_and_acc(loss, acc, title,runtype):\n",
        "  fig, ax1 = plt.subplots()\n",
        "\n",
        "  print(loss.shape,acc.shape)\n",
        "\n",
        "  b, g = \"royalblue\", \"seagreen\"\n",
        "  ax1.set_xlabel('Epochs')\n",
        "  ax1.set_ylabel('Loss', color = b)\n",
        "  # ax1.plot(loss, label = \"Loss\", color = b)\n",
        "  ax1.fill_between([i for i in range(len(loss[0]))], np.min(loss,axis = 0), np.max(loss,axis = 0), color = b, alpha = 0.6)\n",
        "  ax1.tick_params(axis='y')\n",
        "  ax1.set_ylim(0,3)\n",
        "  ax1.plot(np.mean(loss,axis = 0), '--', color = b)\n",
        "\n",
        "\n",
        "  ax2 = ax1.twinx()  # instantiate a second axes that shares the same x--axis\n",
        "\n",
        "  ax2.set_ylabel('Validation accuracy', color = g)\n",
        "  # ax2.plot(acc, label = \"Accuracy\", color = g)\n",
        "  ax2.fill_between([i for i in range(len(acc[0]))], np.min(acc,axis = 0), np.max(acc,axis = 0), color = g, alpha = 0.6)\n",
        "  ax2.set_ylim(0.5,1)\n",
        "  ax2.plot(np.mean(acc,axis = 0), '--', color = g)\n",
        "  ax2.tick_params(axis='y')\n",
        "\n",
        "  plt.title(title)\n",
        "  fig.tight_layout()  # otherwise the right y-label is slightly clipped\n",
        "  # fig.legend(loc = 0)\n",
        "  \n",
        "  plt.savefig(pth+runtype+str(len(acc[0]))+\"epochs.png\")\n",
        "  plt.show()\n",
        "\n",
        "def run_many(n_epochs = 200):\n",
        "  for runtype in runtypes:\n",
        "    losses, accuracies, final_accuracies = [], [], []\n",
        "\n",
        "    N = get_n_runs(runtype)\n",
        "\n",
        "    for i in range(N):\n",
        "      optimizer, net = get_optimizer_and_net(runtype)\n",
        "      if(gpu):\n",
        "        net.to(device)\n",
        "      loss, accs = run_training(optimizer, net, n_epochs)\n",
        "      acc, wrongs, all = evaluate(net)\n",
        "      \n",
        "      losses.append(np.array(loss))\n",
        "      accuracies.append(np.array(accs))\n",
        "      final_accuracies.append(acc)\n",
        "      np.savetxt(pth+ \"run\"+str(i) + \"losses\"+ runtype +str(n_epochs) + \"epochs.csv\", np.array(loss), delimiter = ',')\n",
        "      np.savetxt(pth+ \"run\"+str(i) +\"accuracies\"+ runtype +str(n_epochs) +\"epochs.csv\", np.array(accs), delimiter = ',')\n",
        "      np.savetxt(pth+ \"run\"+str(i) +\"final_accuracies\"+ runtype + str(n_epochs)+\"epochs.csv\", np.array([acc]), delimiter = ',')\n",
        "\n",
        "    losses = np.array(losses)\n",
        "    accuracies = np.array(accuracies)\n",
        "    final_accuracies = np.array(final_accuracies)\n",
        "    plot_loss_and_acc(losses,accuracies,runtype + f\" - Final test accuracy: {np.mean(final_accuracies):.3} $\\pm$ {np.std(final_accuracies):.2}\",runtype)\n",
        "    np.savetxt(pth+ \"all \" + \"losses\"+ runtype +str(n_epochs) + \"epochs.csv\", losses, delimiter = ',')\n",
        "    np.savetxt(pth+ \"all \" +\"accuracies\"+ runtype +str(n_epochs) +\"epochs.csv\", accuracies, delimiter = ',')\n",
        "    np.savetxt(pth+ \"all \" +\"final_accuracies\"+ runtype + str(n_epochs)+\"epochs.csv\", final_accuracies, delimiter = ',')\n",
        "\n",
        "\n",
        "run_many(200)\n"
      ]
    },
    {
      "cell_type": "code",
      "execution_count": null,
      "metadata": {
        "id": "_Ow8UAQLlQ-F"
      },
      "outputs": [],
      "source": []
    },
    {
      "cell_type": "code",
      "execution_count": null,
      "metadata": {
        "colab": {
          "base_uri": "https://localhost:8080/"
        },
        "id": "Cj2ePZw9bNkL",
        "outputId": "45366b94-b889-42da-828e-fbfbdb6f0216"
      },
      "outputs": [
        {
          "name": "stdout",
          "output_type": "stream",
          "text": [
            "/content\n"
          ]
        }
      ],
      "source": [
        "!pwd"
      ]
    }
  ],
  "metadata": {
    "accelerator": "GPU",
    "colab": {
      "collapsed_sections": [],
      "name": "Torch_Traffic_Signs_Basic_Template_ADL.ipynb",
      "provenance": []
    },
    "kernelspec": {
      "display_name": "Python 3",
      "name": "python3"
    },
    "language_info": {
      "codemirror_mode": {
        "name": "ipython",
        "version": 3
      },
      "file_extension": ".py",
      "mimetype": "text/x-python",
      "name": "python",
      "nbconvert_exporter": "python",
      "pygments_lexer": "ipython3",
      "version": "3.7.12"
    }
  },
  "nbformat": 4,
  "nbformat_minor": 0
}
