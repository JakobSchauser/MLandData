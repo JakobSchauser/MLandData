{
 "cells": [
  {
   "cell_type": "code",
   "execution_count": 6,
   "metadata": {},
   "outputs": [
    {
     "name": "stdout",
     "output_type": "stream",
     "text": [
      "Running on cpu\n"
     ]
    }
   ],
   "source": [
    "import numpy as np\n",
    "import torch\n",
    "from torch import nn\n",
    "from tqdm.notebook import tqdm\n",
    "import matplotlib.pyplot as plt\n",
    "\n",
    "\n",
    "device = 'cuda' if torch.cuda.is_available() else 'cpu'\n",
    "\n",
    "print(\"Running on\",device)"
   ]
  },
  {
   "cell_type": "code",
   "execution_count": 5,
   "metadata": {},
   "outputs": [],
   "source": [
    "dat = np.genfromtxt(\"mnist_train.csv\", delimiter = \",\", skip_header = 1)"
   ]
  },
  {
   "cell_type": "code",
   "execution_count": 6,
   "metadata": {},
   "outputs": [],
   "source": [
    "X, y = dat[:,1:]/255.0, dat[:,0]\n",
    "\n",
    "X = torch.tensor(X, requires_grad=True, dtype = torch.double).view(-1,28,28).unsqueeze(1)\n",
    "\n",
    "y = torch.tensor(y, requires_grad=False, dtype = int)"
   ]
  },
  {
   "cell_type": "code",
   "execution_count": 7,
   "metadata": {},
   "outputs": [
    {
     "data": {
      "image/png": "[encoded data removed]",
      "text/plain": [
       "<Figure size 432x288 with 1 Axes>"
      ]
     },
     "metadata": {
      "needs_background": "light"
     },
     "output_type": "display_data"
    }
   ],
   "source": [
    "i = 4\n",
    "plt.imshow(X[i].detach().numpy()[0])\n",
    "plt.title(str(y[i].numpy()))\n",
    "plt.show()"
   ]
  },
  {
   "cell_type": "code",
   "execution_count": 8,
   "metadata": {},
   "outputs": [],
   "source": [
    "# def onehot(y):\n",
    "#     out = torch.zeros(y.shape[0],10)\n",
    "#     for i in range(y.shape[0]):\n",
    "#         out[i][y[i]] = 1\n",
    "#     return out\n",
    "\n",
    "def batch_loader(X,y, batch_size = 6):\n",
    "    for i in range(y.shape[0]//batch_size):\n",
    "        X_out = X[i*batch_size:(i+1)*batch_size]\n",
    "\n",
    "        y_out = y[i*batch_size:(i+1)*batch_size]\n",
    "\n",
    "        # y_out = onehot(y_out)\n",
    "        \n",
    "        yield X_out, y_out"
   ]
  },
  {
   "cell_type": "code",
   "execution_count": 191,
   "metadata": {},
   "outputs": [],
   "source": [
    "class CNN(nn.Module):\n",
    "    def __init__(self,SIZE = 100, pretrain = -1):\n",
    "        super (CNN, self).__init__()\n",
    "\n",
    "        features = 10\n",
    "        if pretrain == 0:\n",
    "            features = 4\n",
    "        if pretrain == 1:\n",
    "            features = 2\n",
    "        if pretrain == 2:\n",
    "            features = 2\n",
    "        if pretrain == 3:\n",
    "            features = 2\n",
    "\n",
    "        self.SIZE = SIZE\n",
    "\n",
    "        self.conv1 = nn.Conv2d(in_channels=1, out_channels=64, kernel_size=(2, 2))\n",
    "        self.activation1 = nn.ReLU()\n",
    "        self.maxpool1 = nn.MaxPool2d(kernel_size=(2, 2), stride=(2, 2))\n",
    "\n",
    "        self.conv2 = nn.Conv2d(in_channels=64, out_channels=SIZE, kernel_size=(5, 5))\n",
    "        self.activation2 = nn.ReLU()\n",
    "        self.maxpool2 = nn.MaxPool2d(kernel_size=(2, 2), stride=(2, 2))\n",
    "\n",
    "        self.linear1 = nn.Linear(in_features=SIZE*4*4, out_features=SIZE*4*4//2)\n",
    "        self.activation3 = nn.ReLU()\n",
    "\n",
    "        self.output = nn.Linear(in_features=SIZE*4*4//2, out_features = features)\n",
    "        # self.final_activation = nn.Softmax(dim=0)\n",
    "        self.final_activation = lambda x: x\n",
    "\n",
    "    def forward(self, x):\n",
    "        x = self.activation1(self.conv1(x))\n",
    "        x = self.maxpool1(x)\n",
    "\n",
    "        x = self.activation2(self.conv2(x))\n",
    "        x = self.maxpool2(x)\n",
    "        x = x.view(-1,self.SIZE*4*4)\n",
    "        x = self.activation3(self.linear1(x))\n",
    "        x = self.output(x)\n",
    "\n",
    "        out = self.final_activation(x)\n",
    "\n",
    "        return out\n",
    "\n",
    "    def pretrain(self, x, _type = 0):\n",
    "        l = x.shape[0]\n",
    "        _x = x.clone().detach()\n",
    "\n",
    "        if _type == 0:\n",
    "            n = np.random.randint(0,4, l)\n",
    "\n",
    "            for i in range(l):\n",
    "                _x[i] = torch.rot90(_x[i], int(n[i]), [1,2])\n",
    "                \n",
    "            y = n\n",
    "            \n",
    "        if _type == 1:\n",
    "            c = np.random.random(l)<0.5\n",
    "\n",
    "            # wow\n",
    "            b = torch.tensor(c.astype(int)).unsqueeze(1).unsqueeze(2).unsqueeze(3).expand(16,-1,28,28)\n",
    "\n",
    "            noise = torch.randn_like(_x)*0.1 * b \n",
    "            _x = _x + noise\n",
    "            \n",
    "            y = c\n",
    "            \n",
    "        if _type == 2:\n",
    "            c = np.random.random(l)<0.5\n",
    "\n",
    "            noise = torch.roll(_x, 1, 0) * torch.tensor(c.astype(int)).unsqueeze(1).unsqueeze(2).unsqueeze(3).expand(16,-1,28,28)\n",
    "            _x = _x + noise\n",
    "            y = c      \n",
    "        \n",
    "        return _x, y\n",
    "\n",
    "\n",
    "\n"
   ]
  },
  {
   "cell_type": "code",
   "execution_count": 227,
   "metadata": {},
   "outputs": [],
   "source": [
    "loss_fn = nn.CrossEntropyLoss()\n",
    "\n",
    "batch_size = 32\n",
    "\n",
    "def pretrain(model, n_epochs, pretrain_mode ):\n",
    "    optimizer = torch.optim.Adam(params = model.parameters(), lr = 0.0001)\n",
    "\n",
    "    model.train()\n",
    "    print(\"Pre-training\")\n",
    "\n",
    "    for i in range(n_epochs):\n",
    "\n",
    "        c = 0\n",
    "        epoch_loss = 0\n",
    "        epoch_acc = 0\n",
    "        \n",
    "        Loader = batch_loader(X,y, batch_size)\n",
    "        pbar = tqdm(Loader, total = y.shape[0]//batch_size)\n",
    "        losses = []\n",
    "        for dat, _ in pbar:\n",
    "            dat, label = model.pretrain(dat, pretrain_mode)\n",
    "            label = torch.tensor(label, dtype = torch.long)\n",
    "            \n",
    "            pred = model(dat.float())\n",
    "\n",
    "            loss = loss_fn(pred, label)\n",
    "\n",
    "            loss.backward()\n",
    "            optimizer.step()\n",
    "            losses.append(loss)\n",
    "            epoch_loss += loss\n",
    "\n",
    "            corr = (label == pred.argmax(axis = 1))\n",
    "\n",
    "            epoch_acc += corr.float().mean()\n",
    "            c += 1\n",
    "\n",
    "            if c%10 == 0:\n",
    "                pbar.set_description(f\"loss {epoch_loss/c:.3} - acc {epoch_acc/c:.3}\")\n",
    "            # if c%100 == 0:\n",
    "                # print(pred[:5],label[:5],pred[:5].argmax(axis = 1) == label[:5])\n",
    "        print(f\"Epoch {i+1}/{n_epochs} - loss {epoch_loss/c:.3} - acc {epoch_acc/c:.3}\")\n",
    "    return losses\n",
    "            \n",
    "\n",
    "def fine_tune(model, n_epochs):\n",
    "    # for param in model.parameters():\n",
    "    #         param.requires_grad = False\n",
    "    print(\"Fine-tuning\")\n",
    "    model.output = nn.Linear(in_features = model.SIZE*4*4//2, out_features = 10)\n",
    "    optimizer = torch.optim.Adam(params = model.parameters(), lr = 0.0001)\n",
    "    \n",
    "    losses = []\n",
    "    accuracies = []\n",
    "    for i in range(n_epochs):\n",
    "        Loader = batch_loader(X,y, batch_size)\n",
    "\n",
    "        c = 0\n",
    "        epoch_loss = 0\n",
    "        epoch_acc = 0\n",
    "\n",
    "        pbar = tqdm(Loader, total = y.shape[0]//batch_size)\n",
    "        for dat, label in pbar:\n",
    "            pred = model(dat.float())\n",
    "\n",
    "            loss = loss_fn(pred, label)\n",
    "\n",
    "            loss.backward()\n",
    "            optimizer.step()\n",
    "            losses.append(loss)\n",
    "            epoch_loss += loss\n",
    "            acc = (label == pred.argmax(axis = 1)).float().mean()\n",
    "            epoch_acc += acc\n",
    "            accuracies.append(acc)\n",
    "            c += 1\n",
    "\n",
    "            if c%10 == 0:\n",
    "                pbar.set_description(f\"loss {epoch_loss/c:.3} - acc {epoch_acc/c:.3}\")\n",
    "            # if c%100 == 0:\n",
    "                # print(pred[:5],label[:5],pred[:5].argmax(axis = 1) == label[:5])\n",
    "        print(f\"Epoch {i+1}/{n_epochs} - loss {epoch_loss/c:.3} - acc {epoch_acc/c:.3}\")\n",
    "    return losses, accuracies"
   ]
  },
  {
   "cell_type": "code",
   "execution_count": 230,
   "metadata": {},
   "outputs": [
    {
     "name": "stdout",
     "output_type": "stream",
     "text": [
      "Pre-training\n"
     ]
    },
    {
     "data": {
      "application/vnd.jupyter.widget-view+json": {
       "model_id": "4315ef19b3be4d75834b422adbe76548",
       "version_major": 2,
       "version_minor": 0
      },
      "text/plain": [
       "  0%|          | 0/1875 [00:00<?, ?it/s]"
      ]
     },
     "metadata": {},
     "output_type": "display_data"
    },
    {
     "name": "stdout",
     "output_type": "stream",
     "text": [
      "Epoch 0/2 - loss 0.88 - acc 0.646\n"
     ]
    },
    {
     "data": {
      "application/vnd.jupyter.widget-view+json": {
       "model_id": "4668cdcc8c1f4c98a969daa41089c0c4",
       "version_major": 2,
       "version_minor": 0
      },
      "text/plain": [
       "  0%|          | 0/1875 [00:00<?, ?it/s]"
      ]
     },
     "metadata": {},
     "output_type": "display_data"
    },
    {
     "name": "stdout",
     "output_type": "stream",
     "text": [
      "Epoch 1/2 - loss 0.545 - acc 0.806\n"
     ]
    },
    {
     "data": {
      "application/vnd.jupyter.widget-view+json": {
       "model_id": "46309479fdc349e186c5bfc29e1223bf",
       "version_major": 2,
       "version_minor": 0
      },
      "text/plain": [
       "  0%|          | 0/1875 [00:00<?, ?it/s]"
      ]
     },
     "metadata": {},
     "output_type": "display_data"
    },
    {
     "ename": "KeyboardInterrupt",
     "evalue": "",
     "output_type": "error",
     "traceback": [
      "\u001b[1;31m---------------------------------------------------------------------------\u001b[0m",
      "\u001b[1;31mKeyboardInterrupt\u001b[0m                         Traceback (most recent call last)",
      "\u001b[1;32m<ipython-input-230-92de7eef5e2b>\u001b[0m in \u001b[0;36m<module>\u001b[1;34m\u001b[0m\n\u001b[0;32m      3\u001b[0m \u001b[0mpretrain\u001b[0m\u001b[1;33m(\u001b[0m\u001b[0mmodel\u001b[0m\u001b[1;33m,\u001b[0m \u001b[1;36m2\u001b[0m\u001b[1;33m,\u001b[0m \u001b[0mpretrain_mode\u001b[0m \u001b[1;33m=\u001b[0m \u001b[1;36m0\u001b[0m \u001b[1;33m)\u001b[0m\u001b[1;33m\u001b[0m\u001b[1;33m\u001b[0m\u001b[0m\n\u001b[0;32m      4\u001b[0m \u001b[1;33m\u001b[0m\u001b[0m\n\u001b[1;32m----> 5\u001b[1;33m \u001b[0mfine_tune\u001b[0m\u001b[1;33m(\u001b[0m\u001b[0mmodel\u001b[0m\u001b[1;33m,\u001b[0m \u001b[1;36m10\u001b[0m\u001b[1;33m)\u001b[0m\u001b[1;33m\u001b[0m\u001b[1;33m\u001b[0m\u001b[0m\n\u001b[0m",
      "\u001b[1;32m<ipython-input-227-527791c1b483>\u001b[0m in \u001b[0;36mfine_tune\u001b[1;34m(model, n_epochs)\u001b[0m\n\u001b[0;32m     63\u001b[0m             \u001b[0mloss\u001b[0m \u001b[1;33m=\u001b[0m \u001b[0mloss_fn\u001b[0m\u001b[1;33m(\u001b[0m\u001b[0mpred\u001b[0m\u001b[1;33m,\u001b[0m \u001b[0mlabel\u001b[0m\u001b[1;33m)\u001b[0m\u001b[1;33m\u001b[0m\u001b[1;33m\u001b[0m\u001b[0m\n\u001b[0;32m     64\u001b[0m \u001b[1;33m\u001b[0m\u001b[0m\n\u001b[1;32m---> 65\u001b[1;33m             \u001b[0mloss\u001b[0m\u001b[1;33m.\u001b[0m\u001b[0mbackward\u001b[0m\u001b[1;33m(\u001b[0m\u001b[1;33m)\u001b[0m\u001b[1;33m\u001b[0m\u001b[1;33m\u001b[0m\u001b[0m\n\u001b[0m\u001b[0;32m     66\u001b[0m             \u001b[0moptimizer\u001b[0m\u001b[1;33m.\u001b[0m\u001b[0mstep\u001b[0m\u001b[1;33m(\u001b[0m\u001b[1;33m)\u001b[0m\u001b[1;33m\u001b[0m\u001b[1;33m\u001b[0m\u001b[0m\n\u001b[0;32m     67\u001b[0m \u001b[1;33m\u001b[0m\u001b[0m\n",
      "\u001b[1;32mc:\\Users\\jakob\\Anaconda3\\lib\\site-packages\\torch\\tensor.py\u001b[0m in \u001b[0;36mbackward\u001b[1;34m(self, gradient, retain_graph, create_graph)\u001b[0m\n\u001b[0;32m    193\u001b[0m                 \u001b[0mproducts\u001b[0m\u001b[1;33m.\u001b[0m \u001b[0mDefaults\u001b[0m \u001b[0mto\u001b[0m\u001b[0;31m \u001b[0m\u001b[0;31m`\u001b[0m\u001b[0;31m`\u001b[0m\u001b[1;32mFalse\u001b[0m\u001b[0;31m`\u001b[0m\u001b[0;31m`\u001b[0m\u001b[1;33m.\u001b[0m\u001b[1;33m\u001b[0m\u001b[1;33m\u001b[0m\u001b[0m\n\u001b[0;32m    194\u001b[0m         \"\"\"\n\u001b[1;32m--> 195\u001b[1;33m         \u001b[0mtorch\u001b[0m\u001b[1;33m.\u001b[0m\u001b[0mautograd\u001b[0m\u001b[1;33m.\u001b[0m\u001b[0mbackward\u001b[0m\u001b[1;33m(\u001b[0m\u001b[0mself\u001b[0m\u001b[1;33m,\u001b[0m \u001b[0mgradient\u001b[0m\u001b[1;33m,\u001b[0m \u001b[0mretain_graph\u001b[0m\u001b[1;33m,\u001b[0m \u001b[0mcreate_graph\u001b[0m\u001b[1;33m)\u001b[0m\u001b[1;33m\u001b[0m\u001b[1;33m\u001b[0m\u001b[0m\n\u001b[0m\u001b[0;32m    196\u001b[0m \u001b[1;33m\u001b[0m\u001b[0m\n\u001b[0;32m    197\u001b[0m     \u001b[1;32mdef\u001b[0m \u001b[0mregister_hook\u001b[0m\u001b[1;33m(\u001b[0m\u001b[0mself\u001b[0m\u001b[1;33m,\u001b[0m \u001b[0mhook\u001b[0m\u001b[1;33m)\u001b[0m\u001b[1;33m:\u001b[0m\u001b[1;33m\u001b[0m\u001b[1;33m\u001b[0m\u001b[0m\n",
      "\u001b[1;32mc:\\Users\\jakob\\Anaconda3\\lib\\site-packages\\torch\\autograd\\__init__.py\u001b[0m in \u001b[0;36mbackward\u001b[1;34m(tensors, grad_tensors, retain_graph, create_graph, grad_variables)\u001b[0m\n\u001b[0;32m     97\u001b[0m     Variable._execution_engine.run_backward(\n\u001b[0;32m     98\u001b[0m         \u001b[0mtensors\u001b[0m\u001b[1;33m,\u001b[0m \u001b[0mgrad_tensors\u001b[0m\u001b[1;33m,\u001b[0m \u001b[0mretain_graph\u001b[0m\u001b[1;33m,\u001b[0m \u001b[0mcreate_graph\u001b[0m\u001b[1;33m,\u001b[0m\u001b[1;33m\u001b[0m\u001b[1;33m\u001b[0m\u001b[0m\n\u001b[1;32m---> 99\u001b[1;33m         allow_unreachable=True)  # allow_unreachable flag\n\u001b[0m\u001b[0;32m    100\u001b[0m \u001b[1;33m\u001b[0m\u001b[0m\n\u001b[0;32m    101\u001b[0m \u001b[1;33m\u001b[0m\u001b[0m\n",
      "\u001b[1;31mKeyboardInterrupt\u001b[0m: "
     ]
    }
   ],
   "source": [
    "for pretrain_mode in [0,1,2,3]:\n",
    "    print(\"Pretrain mode is\",pretrain_mode)\n",
    "    model = CNN(100, pretrain = pretrain_mode)\n",
    "    model.to(device)\n",
    "\n",
    "    pretrain_losses = pretrain(model, 10, pretrain_mode = pretrain_mode)\n",
    "\n",
    "    losses, accuracies = fine_tune(model, 10)\n",
    "    \n",
    "    run = {\"pretrain mode\": pretrain_mode,\"pretrain losses\" : pretrain_losses, \"fine-tune losses\" : losses, \"fine-tune accuracies\": accuracies}\n",
    "    np.save(\"pretain_data_\"+str(pretrain_mode)+\".npy\", run, allow_pickle = True)\n",
    "    print(\"finished!\")"
   ]
  }
 ],
 "metadata": {
  "interpreter": {
   "hash": "90ddd5eea33bf34e5045df3efad123ec5baf581e702e7e2d1915bea2be814a0a"
  },
  "kernelspec": {
   "display_name": "Python 3.6.13 ('base')",
   "language": "python",
   "name": "python3"
  },
  "language_info": {
   "codemirror_mode": {
    "name": "ipython",
    "version": 3
   },
   "file_extension": ".py",
   "mimetype": "text/x-python",
   "name": "python",
   "nbconvert_exporter": "python",
   "pygments_lexer": "ipython3",
   "version": "3.6.13"
  },
  "orig_nbformat": 4
 },
 "nbformat": 4,
 "nbformat_minor": 2
}
