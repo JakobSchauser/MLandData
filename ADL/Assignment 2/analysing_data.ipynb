{
 "cells": [
  {
   "cell_type": "code",
   "execution_count": 41,
   "metadata": {},
   "outputs": [],
   "source": [
    "import numpy as np\n",
    "import os\n",
    "import pandas as pd\n",
    "import matplotlib.pyplot as plt"
   ]
  },
  {
   "cell_type": "code",
   "execution_count": 42,
   "metadata": {},
   "outputs": [
    {
     "name": "stdout",
     "output_type": "stream",
     "text": [
      "data1.npy\n",
      "data2.npy\n",
      "data3.npy\n",
      "data4.npy\n",
      "data5.npy\n",
      "data6.npy\n",
      "data7.npy\n",
      "data8.npy\n",
      "data9.npy\n"
     ]
    }
   ],
   "source": [
    "dats = []\n",
    "for f in os.listdir(\"results_lstm_dropout/\"):\n",
    "    print(f)\n",
    "    l = np.load(\"results_lstm_dropout/\"+f, allow_pickle = 1).item()\n",
    "    dats.append(l)"
   ]
  },
  {
   "cell_type": "code",
   "execution_count": 44,
   "metadata": {},
   "outputs": [
    {
     "name": "stdout",
     "output_type": "stream",
     "text": [
      "32 0.0001\n",
      "32 5e-05\n",
      "8 0.0001\n",
      "32 1e-05\n",
      "16 0.0001\n",
      "16 1e-05\n",
      "8 5e-05\n",
      "8 1e-05\n",
      "16 5e-05\n"
     ]
    }
   ],
   "source": [
    "# dat = [[dats[0], dats[1], dats[10]], [dats[11], dats[12], dats[13]],\n",
    "#         [dats[14], dats[15], dats[16]],\n",
    "#         [dats[17], dats[2], dats[3]],\n",
    "#         [dats[4], dats[4], dats[6]],\n",
    "#         [dats[7], dats[8], dats[9]]]\n",
    "def pm(d):\n",
    "    return f\"{np.mean(d):.3} \\pm {np.std(d):.3}\"\n",
    "\n",
    "accs, ff1s = np.array([np.mean(d['facc']) for d in dats]), np.array([np.mean(d['ff1']) for d in dats])\n",
    "\n",
    "a = np.argsort(ff1s, axis = 0)\n",
    "\n",
    "\n",
    "for i in a:\n",
    "    print(dats[i]['size'], dats[i]['lr'])"
   ]
  },
  {
   "cell_type": "code",
   "execution_count": 39,
   "metadata": {},
   "outputs": [
    {
     "data": {
      "text/plain": [
       "200"
      ]
     },
     "execution_count": 39,
     "metadata": {},
     "output_type": "execute_result"
    }
   ],
   "source": [
    "len(dats[0][\"loss\"][0])"
   ]
  },
  {
   "cell_type": "code",
   "execution_count": 58,
   "metadata": {},
   "outputs": [
    {
     "data": {
      "image/png": "[encoded data removed]",
      "text/plain": [
       "<Figure size 432x288 with 1 Axes>"
      ]
     },
     "metadata": {
      "needs_background": "light"
     },
     "output_type": "display_data"
    },
    {
     "data": {
      "image/png": "[encoded data removed]",
      "text/plain": [
       "<Figure size 432x288 with 1 Axes>"
      ]
     },
     "metadata": {
      "needs_background": "light"
     },
     "output_type": "display_data"
    }
   ],
   "source": [
    "for dd in dat:\n",
    "    loss = [] \n",
    "    for d in dd:\n",
    "        loss.append(d['loss'])\n",
    "\n",
    "    if d['lr'][0] != 0.0005:\n",
    "        continue\n",
    "    loss = np.array(loss)\n",
    "    plt.fill_between(\n",
    "        [i for i in range(len(loss[0]))],\n",
    "        np.mean(loss, axis = 0) - np.std(loss, axis = 0),\n",
    "        np.mean(loss, axis = 0) + np.std(loss, axis = 0)\n",
    "        )\n",
    "    plt.show()\n",
    "        # print(f\"{d['size'][0]} {d['lr'][0]}\")"
   ]
  }
 ],
 "metadata": {
  "interpreter": {
   "hash": "90ddd5eea33bf34e5045df3efad123ec5baf581e702e7e2d1915bea2be814a0a"
  },
  "kernelspec": {
   "display_name": "Python 3.6.13 ('base')",
   "language": "python",
   "name": "python3"
  },
  "language_info": {
   "codemirror_mode": {
    "name": "ipython",
    "version": 3
   },
   "file_extension": ".py",
   "mimetype": "text/x-python",
   "name": "python",
   "nbconvert_exporter": "python",
   "pygments_lexer": "ipython3",
   "version": "3.6.13"
  },
  "orig_nbformat": 4
 },
 "nbformat": 4,
 "nbformat_minor": 2
}
