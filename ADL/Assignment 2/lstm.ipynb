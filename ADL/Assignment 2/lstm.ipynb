{
 "cells": [
  {
   "cell_type": "code",
   "execution_count": 164,
   "metadata": {},
   "outputs": [],
   "source": [
    "import numpy as np\n",
    "import torch\n",
    "import torch.nn as nn\n",
    "import torch.nn.functional as F\n",
    "import torch.optim as optim\n",
    "\n",
    "from torch import tensor\n",
    "\n",
    "from generate_data import generate_data, data_loader\n",
    "\n",
    "# onehot = pd.Series(data = [tensor([1,0,0]),tensor([0,1,0]),tensor([0,0,1])], index = ['a','b','c'])\n"
   ]
  },
  {
   "cell_type": "code",
   "execution_count": 165,
   "metadata": {},
   "outputs": [],
   "source": [
    "batch_size = 32\n",
    "\n",
    "lr = 0.0001\n",
    "\n",
    "loss_fn = nn.CrossEntropyLoss()"
   ]
  },
  {
   "cell_type": "code",
   "execution_count": 179,
   "metadata": {},
   "outputs": [],
   "source": [
    "N = 4*int(1e4)\n",
    "\n",
    "\n",
    "X, y = generate_data(N, is_short=True, type = 2)\n",
    "\n",
    "X_test, y_test = generate_data(2000, is_short=True, type = 2)\n",
    "\n"
   ]
  },
  {
   "cell_type": "code",
   "execution_count": 184,
   "metadata": {},
   "outputs": [],
   "source": [
    "class LSTM_predictor(nn.Module):\n",
    "    def __init__(self, SIZE):\n",
    "        super(LSTM_predictor, self).__init__()\n",
    "\n",
    "        self.SIZE = SIZE\n",
    "\n",
    "        # The LSTM takes word embeddings as inputs, and outputs hidden states\n",
    "        # with dimensionality hidden_dim.\n",
    "        self.lstm = nn.LSTM(3, SIZE)\n",
    "\n",
    "        self.output = nn.Linear(SIZE, 2)\n",
    "\n",
    "        self.activation = nn.Softmax()\n",
    "\n",
    "        # self.softmax = nn.LogSoftmax(dim=2)\n",
    "\n",
    "    def forward(self, sentence):\n",
    "\n",
    "        _, (lstm_out, _) = self.lstm(sentence)\n",
    "        \n",
    "        # print(lstm_out.shape)\n",
    "        out = self.output(lstm_out[-1])\n",
    "        # print(out.shape)\n",
    "        # return self.softmax(out)\n",
    "\n",
    "\n",
    "        # out = torch.sum(out,axis = 0)\n",
    "\n",
    "        out = self.activation(out)\n",
    "\n",
    "        return out\n",
    "model = LSTM_predictor(32)"
   ]
  },
  {
   "cell_type": "code",
   "execution_count": 185,
   "metadata": {},
   "outputs": [
    {
     "name": "stdout",
     "output_type": "stream",
     "text": [
      "LSTM_predictor(\n",
      "  (lstm): LSTM(3, 32)\n",
      "  (output): Linear(in_features=32, out_features=2, bias=True)\n",
      "  (activation): Softmax(dim=None)\n",
      ")\n"
     ]
    }
   ],
   "source": [
    "print(model)"
   ]
  },
  {
   "cell_type": "code",
   "execution_count": 191,
   "metadata": {},
   "outputs": [],
   "source": [
    "def test(model):\n",
    "    model.eval()\n",
    "    test_batches = data_loader(X_test,y_test,batch_size=batch_size, min_length = 20)\n",
    "    acc = 0.0\n",
    "    i = 0\n",
    "    for data, labels in test_batches:\n",
    "        pred = model(data).view((-1,2))\n",
    "        corr = (torch.argmax(pred,1) == torch.argmax(labels,1)).float().mean().item()\n",
    "        acc += corr\n",
    "        i += 1\n",
    "    return acc/i\n",
    "\n",
    "def train(model,n_epochs):\n",
    "    parameters = model.parameters()\n",
    "\n",
    "    optimizer = torch.optim.Adam(parameters, lr=lr)\n",
    "\n",
    "    model.train()\n",
    "\n",
    "\n",
    "    for i in range(n_epochs):\n",
    "        model.train()\n",
    "        train_batches = data_loader(X,y,batch_size=batch_size, , min_length = 20)\n",
    "\n",
    "        sum_loss = 0.0\n",
    "        i_loss = 0\n",
    "        for data, labels in train_batches:\n",
    "            pred = model(data)\n",
    "            loss_fn = F.binary_cross_entropy\n",
    "            loss = loss_fn(pred,labels)\n",
    "            loss.backward()\n",
    "            optimizer.step()\n",
    "\n",
    "            sum_loss += loss.item()\n",
    "            i_loss += 1\n",
    "        print(\"loss\",sum_loss/i_loss)\n",
    "        acc = test(model)\n",
    "        print(\"acc\",acc)\n",
    "\n",
    "# X_encoded[0]"
   ]
  },
  {
   "cell_type": "code",
   "execution_count": null,
   "metadata": {},
   "outputs": [],
   "source": [
    "train(model, n_epochs = 10)\n",
    "# torch.save(model.state_dict(), \"model0_dict_SIZE32_10epochs\")\n"
   ]
  }
 ],
 "metadata": {
  "interpreter": {
   "hash": "90ddd5eea33bf34e5045df3efad123ec5baf581e702e7e2d1915bea2be814a0a"
  },
  "kernelspec": {
   "display_name": "Python 3.6.13 ('base')",
   "language": "python",
   "name": "python3"
  },
  "language_info": {
   "codemirror_mode": {
    "name": "ipython",
    "version": 3
   },
   "file_extension": ".py",
   "mimetype": "text/x-python",
   "name": "python",
   "nbconvert_exporter": "python",
   "pygments_lexer": "ipython3",
   "version": "3.6.13"
  },
  "orig_nbformat": 4
 },
 "nbformat": 4,
 "nbformat_minor": 2
}
