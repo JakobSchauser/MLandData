{
 "cells": [
  {
   "cell_type": "code",
   "execution_count": 1,
   "metadata": {},
   "outputs": [],
   "source": [
    "import numpy as np\n",
    "import torch\n",
    "import torch.nn as nn\n",
    "import torch.nn.functional as F\n",
    "import torch.optim as optim\n",
    "\n",
    "from torch import tensor\n",
    "\n",
    "from generate_data import generate_data, data_loader\n",
    "\n",
    "# onehot = pd.Series(data = [tensor([1,0,0]),tensor([0,1,0]),tensor([0,0,1])], index = ['a','b','c'])\n"
   ]
  },
  {
   "cell_type": "code",
   "execution_count": 2,
   "metadata": {},
   "outputs": [],
   "source": [
    "batch_size = 32\n",
    "\n",
    "lr = 0.0001\n",
    "\n",
    "loss_fn = nn.CrossEntropyLoss()\n"
   ]
  },
  {
   "cell_type": "code",
   "execution_count": 3,
   "metadata": {},
   "outputs": [],
   "source": [
    "class LSTM_predictor(nn.Module):\n",
    "    def __init__(self, SIZE):\n",
    "        super(LSTM_predictor, self).__init__()\n",
    "\n",
    "        self.SIZE = SIZE\n",
    "\n",
    "        # The LSTM takes word embeddings as inputs, and outputs hidden states\n",
    "        # with dimensionality hidden_dim.\n",
    "        self.lstm = nn.LSTM(3, SIZE)\n",
    "\n",
    "        self.output = nn.Linear(SIZE, 2)\n",
    "\n",
    "        self.activation = nn.Softmax()\n",
    "\n",
    "        # self.softmax = nn.LogSoftmax(dim=2)\n",
    "\n",
    "    def forward(self, sentence):\n",
    "\n",
    "        _, (lstm_out, _) = self.lstm(sentence)\n",
    "        \n",
    "        # print(lstm_out.shape)\n",
    "        out = self.output(lstm_out[-1])\n",
    "        # print(out.shape)\n",
    "        # return self.softmax(out)\n",
    "\n",
    "\n",
    "        # out = torch.sum(out,axis = 0)\n",
    "\n",
    "        out = self.activation(out)\n",
    "\n",
    "        return out\n",
    "model = LSTM_predictor(32)"
   ]
  },
  {
   "cell_type": "code",
   "execution_count": 4,
   "metadata": {},
   "outputs": [
    {
     "name": "stdout",
     "output_type": "stream",
     "text": [
      "LSTM_predictor(\n",
      "  (lstm): LSTM(3, 32)\n",
      "  (output): Linear(in_features=32, out_features=2, bias=True)\n",
      "  (activation): Softmax(dim=None)\n",
      ")\n"
     ]
    }
   ],
   "source": [
    "print(model)"
   ]
  },
  {
   "cell_type": "code",
   "execution_count": 5,
   "metadata": {},
   "outputs": [],
   "source": [
    "def test(model, X_test, y_test, min_length):\n",
    "    model.eval()\n",
    "    test_batches = data_loader(X_test,y_test,batch_size=batch_size, min_length = min_length)\n",
    "    acc = 0.0\n",
    "    i = 0\n",
    "    for data, labels in test_batches:\n",
    "        pred = model(data).view((-1,2))\n",
    "        corr = (torch.argmax(pred,1) == torch.argmax(labels,1)).float().mean().item()\n",
    "        acc += corr\n",
    "        i += 1\n",
    "    return acc/i\n",
    "\n",
    "def train(model,n_epochs,lr, X, y, X_test, y_test, min_length):\n",
    "    parameters = model.parameters()\n",
    "\n",
    "    optimizer = torch.optim.Adam(parameters, lr=lr)\n",
    "\n",
    "    model.train()\n",
    "\n",
    "    losss, accs = [], []\n",
    "    for i in range(n_epochs):\n",
    "        model.train()\n",
    "        train_batches = data_loader(X,y,batch_size=batch_size, min_length = min_length)\n",
    "\n",
    "        sum_loss = 0.0\n",
    "        i_loss = 0\n",
    "        for data, labels in train_batches:\n",
    "            pred = model(data)\n",
    "            loss_fn = F.binary_cross_entropy\n",
    "            loss = loss_fn(pred,labels)\n",
    "            loss.backward()\n",
    "            optimizer.step()\n",
    "\n",
    "            sum_loss += loss.item()\n",
    "            i_loss += 1\n",
    "\n",
    "        losss.append(sum_loss/i_loss)\n",
    "        accs.append(test(model,X_test, y_test, min_length))\n",
    "\n",
    "        print(f\"loss {sum_loss/i_loss:.3} - acc {test(model,X_test, y_test, min_length):.3}\")\n",
    "\n",
    "    return np.array(losss), np.array(accs)\n",
    "\n",
    "# X_encoded[0]"
   ]
  },
  {
   "cell_type": "code",
   "execution_count": 6,
   "metadata": {},
   "outputs": [
    {
     "ename": "TypeError",
     "evalue": "'bool' object is not iterable",
     "output_type": "error",
     "traceback": [
      "\u001b[1;31m---------------------------------------------------------------------------\u001b[0m",
      "\u001b[1;31mTypeError\u001b[0m                                 Traceback (most recent call last)",
      "\u001b[1;32m<ipython-input-6-77f51e83c81e>\u001b[0m in \u001b[0;36m<module>\u001b[1;34m\u001b[0m\n\u001b[0;32m      3\u001b[0m \u001b[0mmin_length\u001b[0m \u001b[1;33m=\u001b[0m \u001b[1;36m50\u001b[0m\u001b[1;33m\u001b[0m\u001b[1;33m\u001b[0m\u001b[0m\n\u001b[0;32m      4\u001b[0m \u001b[1;33m\u001b[0m\u001b[0m\n\u001b[1;32m----> 5\u001b[1;33m \u001b[0mX_train\u001b[0m\u001b[1;33m,\u001b[0m \u001b[0my_train\u001b[0m\u001b[1;33m,\u001b[0m \u001b[0mX_val\u001b[0m\u001b[1;33m,\u001b[0m \u001b[0my_val\u001b[0m \u001b[1;33m=\u001b[0m \u001b[0mgenerate_data\u001b[0m\u001b[1;33m(\u001b[0m\u001b[1;36m0.8\u001b[0m\u001b[1;33m,\u001b[0m \u001b[0mis_short\u001b[0m\u001b[1;33m=\u001b[0m\u001b[1;32mFalse\u001b[0m\u001b[1;33m,\u001b[0m \u001b[0mtype\u001b[0m \u001b[1;33m=\u001b[0m \u001b[1;36m2\u001b[0m\u001b[1;33m)\u001b[0m\u001b[1;33m\u001b[0m\u001b[1;33m\u001b[0m\u001b[0m\n\u001b[0m\u001b[0;32m      6\u001b[0m \u001b[1;33m\u001b[0m\u001b[0m\n\u001b[0;32m      7\u001b[0m \u001b[0mX_test\u001b[0m\u001b[1;33m,\u001b[0m \u001b[0my_test\u001b[0m\u001b[1;33m,\u001b[0m\u001b[0m_\u001b[0m\u001b[1;33m,\u001b[0m\u001b[0m_\u001b[0m \u001b[1;33m=\u001b[0m \u001b[0mgenerate_data\u001b[0m\u001b[1;33m(\u001b[0m\u001b[1;36m0\u001b[0m\u001b[1;33m,\u001b[0m \u001b[0mis_short\u001b[0m\u001b[1;33m=\u001b[0m\u001b[1;32mFalse\u001b[0m\u001b[1;33m,\u001b[0m \u001b[0mtype\u001b[0m \u001b[1;33m=\u001b[0m \u001b[1;36m2\u001b[0m\u001b[1;33m)\u001b[0m\u001b[1;33m\u001b[0m\u001b[1;33m\u001b[0m\u001b[0m\n",
      "\u001b[1;32mc:\\Users\\jakob\\Documents\\MLandData\\ADL\\Assignment 2\\generate_data.py\u001b[0m in \u001b[0;36mgenerate_data\u001b[1;34m(train_test_split, is_short, type)\u001b[0m\n\u001b[0;32m    144\u001b[0m     \"\"\"\n\u001b[0;32m    145\u001b[0m \u001b[1;33m\u001b[0m\u001b[0m\n\u001b[1;32m--> 146\u001b[1;33m     \u001b[0mtrue\u001b[0m \u001b[1;33m=\u001b[0m \u001b[0mmake_true\u001b[0m\u001b[1;33m(\u001b[0m\u001b[0mis_short\u001b[0m\u001b[1;33m,\u001b[0m \u001b[0mtype\u001b[0m\u001b[1;33m)\u001b[0m\u001b[1;33m\u001b[0m\u001b[1;33m\u001b[0m\u001b[0m\n\u001b[0m\u001b[0;32m    147\u001b[0m     \u001b[0mfalse\u001b[0m \u001b[1;33m=\u001b[0m \u001b[0mmake_false\u001b[0m\u001b[1;33m(\u001b[0m\u001b[0mis_short\u001b[0m\u001b[1;33m,\u001b[0m \u001b[0mtype\u001b[0m\u001b[1;33m)\u001b[0m\u001b[1;33m\u001b[0m\u001b[1;33m\u001b[0m\u001b[0m\n\u001b[0;32m    148\u001b[0m \u001b[1;33m\u001b[0m\u001b[0m\n",
      "\u001b[1;32mc:\\Users\\jakob\\Documents\\MLandData\\ADL\\Assignment 2\\generate_data.py\u001b[0m in \u001b[0;36mmake_true\u001b[1;34m(is_short, type)\u001b[0m\n\u001b[0;32m     29\u001b[0m     \u001b[0mprods\u001b[0m \u001b[1;33m=\u001b[0m \u001b[0mproduct\u001b[0m\u001b[1;33m(\u001b[0m\u001b[1;33m*\u001b[0m\u001b[1;33m[\u001b[0m\u001b[0mrange\u001b[0m\u001b[1;33m(\u001b[0m\u001b[0mlo\u001b[0m\u001b[1;33m,\u001b[0m \u001b[0mhi\u001b[0m\u001b[1;33m)\u001b[0m \u001b[1;32mfor\u001b[0m \u001b[0m_\u001b[0m \u001b[1;32min\u001b[0m \u001b[0mrange\u001b[0m\u001b[1;33m(\u001b[0m\u001b[0mtype\u001b[0m\u001b[1;33m)\u001b[0m\u001b[1;33m]\u001b[0m\u001b[1;33m)\u001b[0m\u001b[1;33m\u001b[0m\u001b[1;33m\u001b[0m\u001b[0m\n\u001b[0;32m     30\u001b[0m \u001b[1;33m\u001b[0m\u001b[0m\n\u001b[1;32m---> 31\u001b[1;33m     \u001b[0mprods\u001b[0m \u001b[1;33m=\u001b[0m \u001b[1;33m[\u001b[0m\u001b[0mp\u001b[0m \u001b[1;32mfor\u001b[0m \u001b[0mp\u001b[0m \u001b[1;32min\u001b[0m \u001b[0mprods\u001b[0m \u001b[1;32mif\u001b[0m \u001b[0msum\u001b[0m\u001b[1;33m(\u001b[0m\u001b[0mp\u001b[0m\u001b[1;33m)\u001b[0m \u001b[1;33m<=\u001b[0m \u001b[0mhi\u001b[0m \u001b[1;32mand\u001b[0m \u001b[0mall\u001b[0m\u001b[1;33m(\u001b[0m\u001b[0mp\u001b[0m \u001b[1;33m==\u001b[0m \u001b[0mp\u001b[0m\u001b[1;33m[\u001b[0m\u001b[1;36m0\u001b[0m\u001b[1;33m]\u001b[0m\u001b[1;33m)\u001b[0m\u001b[1;33m]\u001b[0m\u001b[1;33m\u001b[0m\u001b[1;33m\u001b[0m\u001b[0m\n\u001b[0m\u001b[0;32m     32\u001b[0m \u001b[1;33m\u001b[0m\u001b[0m\n\u001b[0;32m     33\u001b[0m     \u001b[0malls\u001b[0m \u001b[1;33m=\u001b[0m \u001b[1;33m[\u001b[0m\u001b[1;33m]\u001b[0m\u001b[1;33m\u001b[0m\u001b[1;33m\u001b[0m\u001b[0m\n",
      "\u001b[1;32mc:\\Users\\jakob\\Documents\\MLandData\\ADL\\Assignment 2\\generate_data.py\u001b[0m in \u001b[0;36m<listcomp>\u001b[1;34m(.0)\u001b[0m\n\u001b[0;32m     29\u001b[0m     \u001b[0mprods\u001b[0m \u001b[1;33m=\u001b[0m \u001b[0mproduct\u001b[0m\u001b[1;33m(\u001b[0m\u001b[1;33m*\u001b[0m\u001b[1;33m[\u001b[0m\u001b[0mrange\u001b[0m\u001b[1;33m(\u001b[0m\u001b[0mlo\u001b[0m\u001b[1;33m,\u001b[0m \u001b[0mhi\u001b[0m\u001b[1;33m)\u001b[0m \u001b[1;32mfor\u001b[0m \u001b[0m_\u001b[0m \u001b[1;32min\u001b[0m \u001b[0mrange\u001b[0m\u001b[1;33m(\u001b[0m\u001b[0mtype\u001b[0m\u001b[1;33m)\u001b[0m\u001b[1;33m]\u001b[0m\u001b[1;33m)\u001b[0m\u001b[1;33m\u001b[0m\u001b[1;33m\u001b[0m\u001b[0m\n\u001b[0;32m     30\u001b[0m \u001b[1;33m\u001b[0m\u001b[0m\n\u001b[1;32m---> 31\u001b[1;33m     \u001b[0mprods\u001b[0m \u001b[1;33m=\u001b[0m \u001b[1;33m[\u001b[0m\u001b[0mp\u001b[0m \u001b[1;32mfor\u001b[0m \u001b[0mp\u001b[0m \u001b[1;32min\u001b[0m \u001b[0mprods\u001b[0m \u001b[1;32mif\u001b[0m \u001b[0msum\u001b[0m\u001b[1;33m(\u001b[0m\u001b[0mp\u001b[0m\u001b[1;33m)\u001b[0m \u001b[1;33m<=\u001b[0m \u001b[0mhi\u001b[0m \u001b[1;32mand\u001b[0m \u001b[0mall\u001b[0m\u001b[1;33m(\u001b[0m\u001b[0mp\u001b[0m \u001b[1;33m==\u001b[0m \u001b[0mp\u001b[0m\u001b[1;33m[\u001b[0m\u001b[1;36m0\u001b[0m\u001b[1;33m]\u001b[0m\u001b[1;33m)\u001b[0m\u001b[1;33m]\u001b[0m\u001b[1;33m\u001b[0m\u001b[1;33m\u001b[0m\u001b[0m\n\u001b[0m\u001b[0;32m     32\u001b[0m \u001b[1;33m\u001b[0m\u001b[0m\n\u001b[0;32m     33\u001b[0m     \u001b[0malls\u001b[0m \u001b[1;33m=\u001b[0m \u001b[1;33m[\u001b[0m\u001b[1;33m]\u001b[0m\u001b[1;33m\u001b[0m\u001b[1;33m\u001b[0m\u001b[0m\n",
      "\u001b[1;31mTypeError\u001b[0m: 'bool' object is not iterable"
     ]
    }
   ],
   "source": [
    "N = 4*int(1e4)\n",
    "\n",
    "min_length = 50\n",
    "\n",
    "X_train, y_train, X_val, y_val = generate_data(0.8, is_short=False, type = 2)\n",
    "\n",
    "X_test, y_test,_,_ = generate_data(0, is_short=False, type = 2)"
   ]
  },
  {
   "cell_type": "code",
   "execution_count": 7,
   "metadata": {},
   "outputs": [
    {
     "name": "stderr",
     "output_type": "stream",
     "text": [
      "c:\\Users\\jakob\\Anaconda3\\lib\\site-packages\\ipykernel_launcher.py:29: UserWarning: Implicit dimension choice for softmax has been deprecated. Change the call to include dim=X as an argument.\n"
     ]
    },
    {
     "name": "stdout",
     "output_type": "stream",
     "text": [
      "loss 0.616 - acc 0.647\n",
      "loss 0.572 - acc 0.736\n",
      "loss 0.533 - acc 0.685\n",
      "loss 0.484 - acc 0.81\n",
      "loss 0.406 - acc 0.806\n",
      "loss 0.447 - acc 0.724\n",
      "loss 0.495 - acc 0.827\n",
      "loss 0.388 - acc 0.852\n",
      "loss 0.335 - acc 0.881\n",
      "loss 0.259 - acc 0.917\n"
     ]
    }
   ],
   "source": [
    "train(model, n_epochs = 10)\n"
   ]
  },
  {
   "cell_type": "code",
   "execution_count": 15,
   "metadata": {},
   "outputs": [
    {
     "name": "stdout",
     "output_type": "stream",
     "text": [
      "Training with lr 0.0001 and size 16\n"
     ]
    },
    {
     "name": "stderr",
     "output_type": "stream",
     "text": [
      "c:\\Users\\jakob\\Documents\\MLandData\\ADL\\Assignment 2\\generate_data.py:116: VisibleDeprecationWarning: Creating an ndarray from ragged nested sequences (which is a list-or-tuple of lists-or-tuples-or ndarrays with different lengths or shapes) is deprecated. If you meant to do this, you must specify 'dtype=object' when creating the ndarray\n",
      "  alls = np.array([*true,*false])\n",
      "c:\\Users\\jakob\\Anaconda3\\lib\\site-packages\\ipykernel_launcher.py:29: UserWarning: Implicit dimension choice for softmax has been deprecated. Change the call to include dim=X as an argument.\n"
     ]
    },
    {
     "name": "stdout",
     "output_type": "stream",
     "text": [
      "loss 0.598 - acc 0.752\n",
      "loss 0.485 - acc 0.624\n",
      "loss 0.627 - acc 0.651\n",
      "loss 0.509 - acc 0.713\n",
      "loss 0.571 - acc 0.728\n",
      "loss 0.517 - acc 0.791\n",
      "loss 0.444 - acc 0.847\n",
      "loss 0.374 - acc 0.844\n",
      "loss 0.288 - acc 0.922\n",
      "loss 0.243 - acc 0.927\n",
      "loss 0.225 - acc 0.929\n",
      "loss 0.195 - acc 0.957\n",
      "loss 0.165 - acc 0.938\n",
      "loss 0.207 - acc 0.941\n",
      "loss 0.188 - acc 0.938\n",
      "loss 0.177 - acc 0.918\n",
      "loss 0.147 - acc 0.958\n",
      "loss 0.134 - acc 0.97\n",
      "loss 0.118 - acc 0.977\n",
      "loss 0.189 - acc 0.946\n",
      "Final acc 0.622\n",
      "Training with lr 0.0001 and size 32\n",
      "loss 0.594 - acc 0.828\n",
      "loss 0.578 - acc 0.592\n",
      "loss 0.518 - acc 0.788\n",
      "loss 0.438 - acc 0.755\n",
      "loss 0.461 - acc 0.84\n",
      "loss 0.448 - acc 0.749\n",
      "loss 0.475 - acc 0.789\n",
      "loss 0.388 - acc 0.855\n",
      "loss 0.319 - acc 0.882\n",
      "loss 0.296 - acc 0.893\n",
      "loss 0.225 - acc 0.94\n",
      "loss 0.214 - acc 0.926\n",
      "loss 0.193 - acc 0.939\n",
      "loss 0.192 - acc 0.948\n",
      "loss 0.223 - acc 0.941\n",
      "loss 0.212 - acc 0.942\n",
      "loss 0.185 - acc 0.953\n",
      "loss 0.146 - acc 0.949\n",
      "loss 0.148 - acc 0.955\n",
      "loss 0.145 - acc 0.954\n",
      "Final acc 0.681\n",
      "Training with lr 0.0005 and size 16\n",
      "loss 0.609 - acc 0.759\n",
      "loss 0.496 - acc 0.822\n",
      "loss 0.67 - acc 0.535\n",
      "loss 0.591 - acc 0.624\n",
      "loss 0.665 - acc 0.516\n",
      "loss 0.647 - acc 0.529\n",
      "loss 0.618 - acc 0.519\n",
      "loss 0.591 - acc 0.749\n",
      "loss 0.465 - acc 0.777\n",
      "loss 0.436 - acc 0.777\n",
      "loss 0.432 - acc 0.768\n",
      "loss 0.432 - acc 0.775\n",
      "loss 0.441 - acc 0.538\n",
      "loss 0.448 - acc 0.768\n",
      "loss 0.445 - acc 0.776\n",
      "loss 0.45 - acc 0.768\n",
      "loss 0.451 - acc 0.739\n",
      "loss 0.455 - acc 0.74\n",
      "loss 0.449 - acc 0.768\n",
      "loss 0.45 - acc 0.741\n",
      "Final acc 0.767\n",
      "Training with lr 0.0005 and size 32\n",
      "loss 0.67 - acc 0.549\n",
      "loss 0.572 - acc 0.551\n",
      "loss 0.625 - acc 0.779\n",
      "loss 0.454 - acc 0.822\n",
      "loss 0.388 - acc 0.849\n",
      "loss 0.348 - acc 0.862\n",
      "loss 0.33 - acc 0.868\n",
      "loss 0.315 - acc 0.879\n",
      "loss 0.27 - acc 0.905\n",
      "loss 0.298 - acc 0.871\n",
      "loss 0.31 - acc 0.858\n",
      "loss 0.38 - acc 0.805\n",
      "loss 0.424 - acc 0.793\n",
      "loss 0.423 - acc 0.779\n",
      "loss 0.405 - acc 0.821\n",
      "loss 0.42 - acc 0.803\n",
      "loss 0.421 - acc 0.793\n",
      "loss 0.421 - acc 0.792\n",
      "loss 0.419 - acc 0.792\n",
      "loss 0.418 - acc 0.794\n",
      "Final acc 0.768\n",
      "Training with lr 0.001 and size 16\n",
      "loss 0.686 - acc 0.56\n",
      "loss 0.627 - acc 0.586\n",
      "loss 0.58 - acc 0.629\n",
      "loss 0.518 - acc 0.678\n",
      "loss 0.624 - acc 0.602\n",
      "loss 0.638 - acc 0.543\n",
      "loss 0.655 - acc 0.56\n",
      "loss 0.641 - acc 0.561\n",
      "loss 0.652 - acc 0.545\n",
      "loss 0.649 - acc 0.56\n",
      "loss 0.641 - acc 0.562\n",
      "loss 0.655 - acc 0.545\n",
      "loss 0.644 - acc 0.543\n",
      "loss 0.655 - acc 0.561\n",
      "loss 0.652 - acc 0.545\n",
      "loss 0.648 - acc 0.544\n",
      "loss 0.659 - acc 0.562\n",
      "loss 0.645 - acc 0.563\n",
      "loss 0.644 - acc 0.545\n",
      "loss 0.655 - acc 0.561\n",
      "Final acc 0.536\n",
      "Training with lr 0.001 and size 32\n",
      "loss 0.666 - acc 0.708\n",
      "loss 0.445 - acc 0.819\n",
      "loss 0.398 - acc 0.868\n",
      "loss 0.402 - acc 0.827\n",
      "loss 0.368 - acc 0.864\n",
      "loss 0.387 - acc 0.82\n",
      "loss 0.392 - acc 0.845\n",
      "loss 0.818 - acc 0.808\n",
      "loss 0.655 - acc 0.798\n",
      "loss 0.52 - acc 0.67\n",
      "loss 0.566 - acc 0.675\n",
      "loss 0.561 - acc 0.777\n",
      "loss 0.526 - acc 0.768\n",
      "loss 0.52 - acc 0.684\n",
      "loss 0.523 - acc 0.718\n",
      "loss 0.501 - acc 0.718\n",
      "loss 0.469 - acc 0.769\n",
      "loss 0.444 - acc 0.812\n",
      "loss 0.442 - acc 0.813\n",
      "loss 0.436 - acc 0.812\n",
      "Final acc 0.81\n"
     ]
    }
   ],
   "source": [
    "def train_and_test(model, lr):\n",
    "    N = 4*int(1e4)\n",
    "\n",
    "    min_length = 20\n",
    "\n",
    "    X, y = generate_data(N, is_short=True, type = 2)\n",
    "\n",
    "    X_test, y_test = generate_data(2000, is_short=True, type = 2)\n",
    "\n",
    "    loss, acc = train(model, 50, lr, X, y, X_test, y_test, min_length = 20)\n",
    "    \n",
    "    min_length = 50\n",
    "\n",
    "    X_test, y_test = generate_data(20000, is_short=False, type = 2)\n",
    "\n",
    "    t = test(model, X_test, y_test, min_length = 50)\n",
    "    final_acc = test\n",
    "    print(f\"Final acc {t:.3}\")\n",
    "\n",
    "    return loss, acc, final_acc\n",
    "\n",
    "\n",
    "lrs = [0.0001, 0.0005, 0.001]\n",
    "sizes = [16, 32]\n",
    "\n",
    "\n",
    "save_i = 0\n",
    "for lr in lrs:\n",
    "    for size in sizes:\n",
    "        losss, accs, faccs = [], [], []\n",
    "        for i in range(3):\n",
    "            model = LSTM_predictor(size)\n",
    "            print(\"Training with lr\", lr,\"and size\", size)\n",
    "            loss, acc, facc = train_and_test(model, lr)\n",
    "\n",
    "            data = {\"lr\":lr,'size':size,'run':i,'loss':loss,'acc':acc,'facc':facc}\n",
    "\n",
    "            np.save(f\"data{save_i}.npy\",data, allow_pickle=True)\n",
    "            save_i += 1\n",
    "\n"
   ]
  },
  {
   "cell_type": "code",
   "execution_count": 17,
   "metadata": {},
   "outputs": [
    {
     "data": {
      "text/plain": [
       "210"
      ]
     },
     "execution_count": 17,
     "metadata": {},
     "output_type": "execute_result"
    }
   ],
   "source": [
    "sum(range(21))"
   ]
  }
 ],
 "metadata": {
  "interpreter": {
   "hash": "90ddd5eea33bf34e5045df3efad123ec5baf581e702e7e2d1915bea2be814a0a"
  },
  "kernelspec": {
   "display_name": "Python 3.6.13 ('base')",
   "language": "python",
   "name": "python3"
  },
  "language_info": {
   "codemirror_mode": {
    "name": "ipython",
    "version": 3
   },
   "file_extension": ".py",
   "mimetype": "text/x-python",
   "name": "python",
   "nbconvert_exporter": "python",
   "pygments_lexer": "ipython3",
   "version": "3.6.13"
  },
  "orig_nbformat": 4
 },
 "nbformat": 4,
 "nbformat_minor": 2
}
