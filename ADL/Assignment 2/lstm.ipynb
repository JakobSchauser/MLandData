{
 "cells": [
  {
   "cell_type": "code",
   "execution_count": 17,
   "metadata": {},
   "outputs": [],
   "source": [
    "import numpy as np\n",
    "import torch\n",
    "import torch.nn as nn\n",
    "import torch.nn.functional as F\n",
    "import torch.optim as optim\n",
    "\n",
    "import pandas as pd\n",
    "\n",
    "from torch import tensor\n",
    "\n",
    "from generate_data import generate_data\n",
    "\n",
    "# onehot = pd.Series(data = [tensor([1,0,0]),tensor([0,1,0]),tensor([0,0,1])], index = ['a','b','c'])\n",
    "onehot = pd.Series(data = [[1,0,0],[0,1,0],[0,0,1]], index = ['a','b','c'])\n"
   ]
  },
  {
   "cell_type": "code",
   "execution_count": 5,
   "metadata": {},
   "outputs": [],
   "source": [
    "N = 4*int(1e4)\n",
    "\n",
    "\n",
    "X, y = generate_data(N, is_short=True, type = 2)\n"
   ]
  },
  {
   "cell_type": "code",
   "execution_count": 72,
   "metadata": {},
   "outputs": [],
   "source": [
    "def encode_letter(l):\n",
    "    return np.array([tensor(onehot[d].values) for d in l])\n",
    "\n",
    "letterToIndex = lambda l: ord(l) - 97\n",
    "\n",
    "def encode_language(l):\n",
    "    tensor = torch.zeros(len(l), 1, 3)\n",
    "    for li, letter in enumerate(l):\n",
    "        tensor[li][0][letterToIndex(letter)] = 1\n",
    "    return tensor\n",
    "\n",
    "def onehot_encode(data):\n",
    "    return [encode_language(l) for l in data]"
   ]
  },
  {
   "cell_type": "code",
   "execution_count": 73,
   "metadata": {},
   "outputs": [],
   "source": [
    "X_encoded = onehot_encode(X)"
   ]
  },
  {
   "cell_type": "code",
   "execution_count": 102,
   "metadata": {},
   "outputs": [],
   "source": [
    "class LSTM_predictor(nn.Module):\n",
    "    def __init__(self, SIZE):\n",
    "        super(LSTM_predictor, self).__init__()\n",
    "\n",
    "        self.SIZE = SIZE\n",
    "\n",
    "        # The LSTM takes word embeddings as inputs, and outputs hidden states\n",
    "        # with dimensionality hidden_dim.\n",
    "        self.lstm = nn.LSTM(3, 2)\n",
    "\n",
    "        self.output = nn.Linear(2, 2)\n",
    "\n",
    "        self.activation = nn.Softmax()\n",
    "\n",
    "        # self.softmax = nn.LogSoftmax(dim=2)\n",
    "\n",
    "    def forward(self, sentence):\n",
    "\n",
    "        lstm_out, _ = self.lstm(sentence)\n",
    "        \n",
    "        out = self.output(lstm_out)\n",
    "\n",
    "        # return self.softmax(out)\n",
    "\n",
    "        out = torch.sum(out,axis = 0)\n",
    "\n",
    "        out = self.activation(out)\n",
    "\n",
    "        return out\n",
    "model = LSTM_predictor(64)"
   ]
  },
  {
   "cell_type": "code",
   "execution_count": 103,
   "metadata": {},
   "outputs": [
    {
     "name": "stderr",
     "output_type": "stream",
     "text": [
      "c:\\Users\\jakob\\Anaconda3\\lib\\site-packages\\ipykernel_launcher.py:27: UserWarning: Implicit dimension choice for softmax has been deprecated. Change the call to include dim=X as an argument.\n"
     ]
    },
    {
     "data": {
      "text/plain": [
       "tensor([[0.3137, 0.6863]], grad_fn=<SoftmaxBackward>)"
      ]
     },
     "execution_count": 103,
     "metadata": {},
     "output_type": "execute_result"
    }
   ],
   "source": [
    "model(X_encoded[0])\n",
    "# X_encoded[0]"
   ]
  },
  {
   "cell_type": "code",
   "execution_count": null,
   "metadata": {},
   "outputs": [],
   "source": []
  }
 ],
 "metadata": {
  "interpreter": {
   "hash": "90ddd5eea33bf34e5045df3efad123ec5baf581e702e7e2d1915bea2be814a0a"
  },
  "kernelspec": {
   "display_name": "Python 3.6.13 ('base')",
   "language": "python",
   "name": "python3"
  },
  "language_info": {
   "codemirror_mode": {
    "name": "ipython",
    "version": 3
   },
   "file_extension": ".py",
   "mimetype": "text/x-python",
   "name": "python",
   "nbconvert_exporter": "python",
   "pygments_lexer": "ipython3",
   "version": "3.6.13"
  },
  "orig_nbformat": 4
 },
 "nbformat": 4,
 "nbformat_minor": 2
}
