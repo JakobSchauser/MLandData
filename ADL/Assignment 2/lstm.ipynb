{
 "cells": [
  {
   "cell_type": "code",
   "execution_count": 164,
   "metadata": {},
   "outputs": [],
   "source": [
    "import numpy as np\n",
    "import torch\n",
    "import torch.nn as nn\n",
    "import torch.nn.functional as F\n",
    "import torch.optim as optim\n",
    "\n",
    "import pandas as pd\n",
    "\n",
    "from torch import tensor\n",
    "\n",
    "from generate_data import generate_data\n",
    "\n",
    "# onehot = pd.Series(data = [tensor([1,0,0]),tensor([0,1,0]),tensor([0,0,1])], index = ['a','b','c'])\n",
    "onehot = pd.Series(data = [[1,0,0],[0,1,0],[0,0,1]], index = ['a','b','c'])\n",
    "\n",
    "min_length = 20"
   ]
  },
  {
   "cell_type": "code",
   "execution_count": 165,
   "metadata": {},
   "outputs": [],
   "source": [
    "batch_size = 32\n",
    "\n",
    "lr = 0.01\n",
    "\n",
    "loss_fn = nn.CrossEntropyLoss()"
   ]
  },
  {
   "cell_type": "code",
   "execution_count": 179,
   "metadata": {},
   "outputs": [],
   "source": [
    "N = 4*int(1e4)\n",
    "\n",
    "\n",
    "X, y = generate_data(N, is_short=True, type = 2)\n",
    "\n",
    "X_test, y_test = generate_data(2000, is_short=True, type = 2)\n",
    "\n"
   ]
  },
  {
   "cell_type": "code",
   "execution_count": 180,
   "metadata": {},
   "outputs": [],
   "source": [
    "def encode_letter(l):\n",
    "    return np.array([tensor(onehot[d].values) for d in l])\n",
    "\n",
    "letterToIndex = lambda l: ord(l) - 97\n",
    "\n",
    "def encode_language(l):\n",
    "    tensor = torch.zeros(min_length, 1, 3)\n",
    "\n",
    "    for li, letter in enumerate(l):\n",
    "        tensor[li][0][letterToIndex(letter)] = 1\n",
    "    return tensor\n",
    "\n",
    "def onehot_encode(data):\n",
    "    return [encode_language(l) for l in data]\n",
    "\n",
    "def onehot_labels(labels):\n",
    "    tensor = torch.zeros(len(labels), 2)\n",
    "\n",
    "    for i, l in enumerate(labels):\n",
    "        tensor[i][l] = 1\n",
    "    return tensor\n",
    "\n",
    "\n",
    "def train_loader(data, labels, batch_size):\n",
    "    shuffle = np.random.permutation(len(data))\n",
    "\n",
    "    _data = data[shuffle]\n",
    "    _labels = labels[shuffle]\n",
    "    for i in range(len(_data)//batch_size):\n",
    "        enc = onehot_encode(_data[i*batch_size:(i+1)*batch_size])\n",
    "        batch = torch.cat(enc,axis = 1)\n",
    "        \n",
    "        truth = onehot_labels(_labels[i*batch_size:(i+1)*batch_size])\n",
    "        yield (batch, truth)\n"
   ]
  },
  {
   "cell_type": "code",
   "execution_count": 168,
   "metadata": {},
   "outputs": [],
   "source": [
    "# X_encoded = onehot_encode(X)\n",
    "\n",
    "# enc = encode_batches(X,4)\n",
    "\n",
    "\n",
    "\n",
    "# torch.cat((e[0],e[1]),1).shape\n",
    "\n",
    "# e[0].shape\n",
    "# e = next(enc)\n",
    "\n",
    "# e.shape"
   ]
  },
  {
   "cell_type": "code",
   "execution_count": 184,
   "metadata": {},
   "outputs": [],
   "source": [
    "class LSTM_predictor(nn.Module):\n",
    "    def __init__(self, SIZE):\n",
    "        super(LSTM_predictor, self).__init__()\n",
    "\n",
    "        self.SIZE = SIZE\n",
    "\n",
    "        # The LSTM takes word embeddings as inputs, and outputs hidden states\n",
    "        # with dimensionality hidden_dim.\n",
    "        self.lstm = nn.LSTM(3, SIZE)\n",
    "\n",
    "        self.output = nn.Linear(SIZE, 2)\n",
    "\n",
    "        self.activation = nn.Softmax()\n",
    "\n",
    "        # self.softmax = nn.LogSoftmax(dim=2)\n",
    "\n",
    "    def forward(self, sentence):\n",
    "\n",
    "        _, (lstm_out, _) = self.lstm(sentence)\n",
    "        \n",
    "        # print(lstm_out.shape)\n",
    "        out = self.output(lstm_out[-1])\n",
    "        # print(out.shape)\n",
    "        # return self.softmax(out)\n",
    "\n",
    "\n",
    "        # out = torch.sum(out,axis = 0)\n",
    "\n",
    "        out = self.activation(out)\n",
    "\n",
    "        return out\n",
    "model = LSTM_predictor(32)"
   ]
  },
  {
   "cell_type": "code",
   "execution_count": 185,
   "metadata": {},
   "outputs": [
    {
     "name": "stdout",
     "output_type": "stream",
     "text": [
      "LSTM_predictor(\n",
      "  (lstm): LSTM(3, 32)\n",
      "  (output): Linear(in_features=32, out_features=2, bias=True)\n",
      "  (activation): Softmax(dim=None)\n",
      ")\n"
     ]
    }
   ],
   "source": [
    "print(model)"
   ]
  },
  {
   "cell_type": "code",
   "execution_count": 186,
   "metadata": {},
   "outputs": [
    {
     "name": "stderr",
     "output_type": "stream",
     "text": [
      "c:\\Users\\jakob\\Anaconda3\\lib\\site-packages\\ipykernel_launcher.py:29: UserWarning: Implicit dimension choice for softmax has been deprecated. Change the call to include dim=X as an argument.\n"
     ]
    },
    {
     "name": "stdout",
     "output_type": "stream",
     "text": [
      "loss 0.6755301847934723\n",
      "acc 0.6179435483870968\n",
      "loss 0.6604285850524902\n",
      "acc 0.5604838709677419\n",
      "loss 0.6080222187995911\n",
      "acc 0.6451612903225806\n",
      "loss 0.4824629293560982\n",
      "acc 0.7782258064516129\n",
      "loss 0.4077808267235756\n",
      "acc 0.9022177419354839\n",
      "loss 0.3285345282375813\n",
      "acc 0.8966733870967742\n",
      "loss 0.2871818158358336\n",
      "acc 0.9087701612903226\n",
      "loss 0.23907935158610344\n",
      "acc 0.9248991935483871\n",
      "loss 0.2358365966670215\n",
      "acc 0.9395161290322581\n",
      "loss 0.19523912897408008\n",
      "acc 0.9440524193548387\n"
     ]
    }
   ],
   "source": [
    "lr = 0.0001\n",
    "\n",
    "parameters = model.parameters()\n",
    "\n",
    "optimizer = torch.optim.Adam(parameters, lr=lr)\n",
    "\n",
    "model.train()\n",
    "\n",
    "\n",
    "loss_fn = nn.CrossEntropyLoss()\n",
    "\n",
    "\n",
    "n_epochs = 10\n",
    "\n",
    "\n",
    "def test(model):\n",
    "    model.eval()\n",
    "    test_batches = train_loader(X_test,y_test,batch_size=batch_size)\n",
    "    acc = 0.0\n",
    "    i = 0\n",
    "    for data, labels in test_batches:\n",
    "        pred = model(data).view((-1,2))\n",
    "        corr = (torch.argmax(pred,1) == torch.argmax(labels,1)).float().mean().item()\n",
    "        acc += corr\n",
    "        i += 1\n",
    "    return acc/i\n",
    "\n",
    "for i in range(n_epochs):\n",
    "    model.train()\n",
    "    train_batches = train_loader(X,y,batch_size=batch_size)\n",
    "\n",
    "    sum_loss = 0.0\n",
    "    i_loss = 0\n",
    "    for data, labels in train_batches:\n",
    "        pred = model(data)\n",
    "        loss_fn = F.binary_cross_entropy\n",
    "        loss = loss_fn(pred,labels)\n",
    "        loss.backward()\n",
    "        optimizer.step()\n",
    "\n",
    "        sum_loss += loss.item()\n",
    "        i_loss += 1\n",
    "    print(\"loss\",sum_loss/i_loss)\n",
    "    acc = test(model)\n",
    "    print(\"acc\",acc)\n",
    "\n",
    "    \n",
    "# X_encoded[0]"
   ]
  },
  {
   "cell_type": "code",
   "execution_count": 189,
   "metadata": {},
   "outputs": [],
   "source": [
    "# torch.save(model.state_dict(), \"model0_dict_SIZE32_10epochs\")"
   ]
  }
 ],
 "metadata": {
  "interpreter": {
   "hash": "90ddd5eea33bf34e5045df3efad123ec5baf581e702e7e2d1915bea2be814a0a"
  },
  "kernelspec": {
   "display_name": "Python 3.6.13 ('base')",
   "language": "python",
   "name": "python3"
  },
  "language_info": {
   "codemirror_mode": {
    "name": "ipython",
    "version": 3
   },
   "file_extension": ".py",
   "mimetype": "text/x-python",
   "name": "python",
   "nbconvert_exporter": "python",
   "pygments_lexer": "ipython3",
   "version": "3.6.13"
  },
  "orig_nbformat": 4
 },
 "nbformat": 4,
 "nbformat_minor": 2
}
