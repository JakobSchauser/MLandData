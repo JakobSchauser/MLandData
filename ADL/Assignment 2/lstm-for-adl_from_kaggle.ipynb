{
 "cells": [
  {
   "cell_type": "code",
   "execution_count": 1,
   "id": "6f5fe586",
   "metadata": {
    "execution": {
     "iopub.execute_input": "2022-05-19T20:47:30.895415Z",
     "iopub.status.busy": "2022-05-19T20:47:30.894716Z",
     "iopub.status.idle": "2022-05-19T20:47:34.347948Z",
     "shell.execute_reply": "2022-05-19T20:47:34.346965Z"
    },
    "papermill": {
     "duration": 3.472003,
     "end_time": "2022-05-19T20:47:34.350736",
     "exception": false,
     "start_time": "2022-05-19T20:47:30.878733",
     "status": "completed"
    },
    "tags": []
   },
   "outputs": [],
   "source": [
    "import numpy as np\n",
    "import torch\n",
    "import torch.nn as nn\n",
    "import torch.nn.functional as F\n",
    "import torch.optim as optim\n",
    "\n",
    "from sklearn.metrics import f1_score\n",
    "\n",
    "\n",
    "from torch import tensor\n",
    "\n",
    "from shutil import copyfile\n",
    "\n",
    "copyfile(src = \"../input/generateswords/generate_data.py\", dst = \"../working/generate_data.py\")\n",
    "\n",
    "from generate_data import generate_data, data_loader\n",
    "\n",
    "# onehot = pd.Series(data = [tensor([1,0,0]),tensor([0,1,0]),tensor([0,0,1])], index = ['a','b','c'])\n"
   ]
  },
  {
   "cell_type": "code",
   "execution_count": 2,
   "id": "c063c0cf",
   "metadata": {
    "execution": {
     "iopub.execute_input": "2022-05-19T20:47:34.379008Z",
     "iopub.status.busy": "2022-05-19T20:47:34.378460Z",
     "iopub.status.idle": "2022-05-19T20:47:34.382449Z",
     "shell.execute_reply": "2022-05-19T20:47:34.381823Z"
    },
    "papermill": {
     "duration": 0.020974,
     "end_time": "2022-05-19T20:47:34.384818",
     "exception": false,
     "start_time": "2022-05-19T20:47:34.363844",
     "status": "completed"
    },
    "tags": []
   },
   "outputs": [],
   "source": [
    "batch_size = 4\n",
    "\n",
    "lr = 0.0000001\n",
    "\n",
    "loss_fn = nn.CrossEntropyLoss()\n"
   ]
  },
  {
   "cell_type": "code",
   "execution_count": 3,
   "id": "bb09ce80",
   "metadata": {
    "execution": {
     "iopub.execute_input": "2022-05-19T20:47:34.412203Z",
     "iopub.status.busy": "2022-05-19T20:47:34.411313Z",
     "iopub.status.idle": "2022-05-19T20:47:34.425570Z",
     "shell.execute_reply": "2022-05-19T20:47:34.424767Z"
    },
    "papermill": {
     "duration": 0.030814,
     "end_time": "2022-05-19T20:47:34.428224",
     "exception": false,
     "start_time": "2022-05-19T20:47:34.397410",
     "status": "completed"
    },
    "tags": []
   },
   "outputs": [],
   "source": [
    "class LSTM_predictor(nn.Module):\n",
    "    def __init__(self, SIZE):\n",
    "        super(LSTM_predictor, self).__init__()\n",
    "\n",
    "        self.SIZE = SIZE\n",
    "\n",
    "        # The LSTM takes word embeddings as inputs, and outputs hidden states\n",
    "        # with dimensionality hidden_dim.\n",
    "        self.lstm = nn.LSTM(3, SIZE,2, dropout = 0.2)\n",
    "\n",
    "        self.output = nn.Linear(SIZE, 2)\n",
    "\n",
    "        self.activation = nn.Softmax(dim = 0)\n",
    "\n",
    "        # self.softmax = nn.LogSoftmax(dim=2)\n",
    "\n",
    "    def forward(self, sentence):\n",
    "\n",
    "        _, (lstm_out, _) = self.lstm(sentence)\n",
    "        \n",
    "        # print(lstm_out.shape)\n",
    "        out = self.output(lstm_out[-1])\n",
    "        # print(out.shape)\n",
    "        # return self.softmax(out)\n",
    "\n",
    "\n",
    "        # out = torch.sum(out,axis = 0)\n",
    "\n",
    "        out = self.activation(out)\n",
    "\n",
    "        return out\n",
    "model = LSTM_predictor(16)"
   ]
  },
  {
   "cell_type": "code",
   "execution_count": 4,
   "id": "eeb0d2a5",
   "metadata": {
    "execution": {
     "iopub.execute_input": "2022-05-19T20:47:34.458309Z",
     "iopub.status.busy": "2022-05-19T20:47:34.457762Z",
     "iopub.status.idle": "2022-05-19T20:47:34.463062Z",
     "shell.execute_reply": "2022-05-19T20:47:34.461900Z"
    },
    "papermill": {
     "duration": 0.021691,
     "end_time": "2022-05-19T20:47:34.465017",
     "exception": false,
     "start_time": "2022-05-19T20:47:34.443326",
     "status": "completed"
    },
    "tags": []
   },
   "outputs": [
    {
     "name": "stdout",
     "output_type": "stream",
     "text": [
      "LSTM_predictor(\n",
      "  (lstm): LSTM(3, 16, num_layers=2, dropout=0.2)\n",
      "  (output): Linear(in_features=16, out_features=2, bias=True)\n",
      "  (activation): Softmax(dim=0)\n",
      ")\n"
     ]
    }
   ],
   "source": [
    "print(model)"
   ]
  },
  {
   "cell_type": "code",
   "execution_count": 5,
   "id": "2bd961d4",
   "metadata": {
    "execution": {
     "iopub.execute_input": "2022-05-19T20:47:34.493131Z",
     "iopub.status.busy": "2022-05-19T20:47:34.492432Z",
     "iopub.status.idle": "2022-05-19T20:47:34.507157Z",
     "shell.execute_reply": "2022-05-19T20:47:34.506421Z"
    },
    "papermill": {
     "duration": 0.031307,
     "end_time": "2022-05-19T20:47:34.509415",
     "exception": false,
     "start_time": "2022-05-19T20:47:34.478108",
     "status": "completed"
    },
    "tags": []
   },
   "outputs": [],
   "source": [
    "def test(model, X_test, y_test, min_length):\n",
    "    model.eval()\n",
    "    test_batches = data_loader(X_test,y_test,batch_size=batch_size, min_length = min_length)\n",
    "    acc = 0.0\n",
    "    i = 0\n",
    "    F1 = 0\n",
    "    for data, labels in test_batches:\n",
    "        pred = model(data).view((-1,2))\n",
    "        a, b = torch.argmax(pred,1),torch.argmax(labels,1)\n",
    "        corr = (a == b).float().mean().item()\n",
    "        F1 = f1_score(a,b)\n",
    "        acc += corr\n",
    "        i += 1\n",
    "    return acc/i, F1/i\n",
    "\n",
    "def train(model,n_epochs,lr, X, y, X_test, y_test, min_length):\n",
    "    parameters = model.parameters()\n",
    "\n",
    "    optimizer = torch.optim.Adam(parameters, lr=lr)\n",
    "\n",
    "    model.train()\n",
    "\n",
    "    losss, accs, f1s = [], [], []\n",
    "    pe = 10\n",
    "    for i in range(n_epochs):\n",
    "        model.train()\n",
    "        train_batches = data_loader(X,y,batch_size=batch_size, min_length = min_length)\n",
    "\n",
    "        sum_loss = 0.0\n",
    "        i_loss = 0\n",
    "        for data, labels in train_batches:\n",
    "            pred = model(data)\n",
    "            loss_fn = F.binary_cross_entropy\n",
    "            loss = loss_fn(pred,labels)\n",
    "            loss.backward()\n",
    "            optimizer.step()\n",
    "\n",
    "            sum_loss += loss.item()\n",
    "            i_loss += 1\n",
    "        \n",
    "        if i%pe == 0:\n",
    "            losss.append(sum_loss/i_loss)\n",
    "            t, F1 = test(model,X_test, y_test, 70)\n",
    "            accs.append(t)\n",
    "            f1s.append(F1)\n",
    "\n",
    "            print(f\"epoch {i}/{n_epochs} - loss {sum_loss/i_loss:.3} - acc {t:.3} - F1 {F1:.3}\")\n",
    "\n",
    "    return np.array(losss), np.array(accs), np.array(f1s)\n",
    "\n",
    "# X_encoded[0]"
   ]
  },
  {
   "cell_type": "code",
   "execution_count": 6,
   "id": "3ebac9ce",
   "metadata": {
    "execution": {
     "iopub.execute_input": "2022-05-19T20:47:34.537760Z",
     "iopub.status.busy": "2022-05-19T20:47:34.537300Z",
     "iopub.status.idle": "2022-05-19T20:47:34.592743Z",
     "shell.execute_reply": "2022-05-19T20:47:34.591524Z"
    },
    "papermill": {
     "duration": 0.073208,
     "end_time": "2022-05-19T20:47:34.595393",
     "exception": false,
     "start_time": "2022-05-19T20:47:34.522185",
     "status": "completed"
    },
    "tags": []
   },
   "outputs": [
    {
     "name": "stderr",
     "output_type": "stream",
     "text": [
      "/kaggle/working/generate_data.py:102: VisibleDeprecationWarning: Creating an ndarray from ragged nested sequences (which is a list-or-tuple of lists-or-tuples-or ndarrays with different lengths or shapes) is deprecated. If you meant to do this, you must specify 'dtype=object' when creating the ndarray.\n",
      "  true = np.array(make_true(train_test_validation, type))\n",
      "/kaggle/working/generate_data.py:103: VisibleDeprecationWarning: Creating an ndarray from ragged nested sequences (which is a list-or-tuple of lists-or-tuples-or ndarrays with different lengths or shapes) is deprecated. If you meant to do this, you must specify 'dtype=object' when creating the ndarray.\n",
      "  false = np.array(make_false(train_test_validation, type))\n",
      "/kaggle/working/generate_data.py:113: VisibleDeprecationWarning: Creating an ndarray from ragged nested sequences (which is a list-or-tuple of lists-or-tuples-or ndarrays with different lengths or shapes) is deprecated. If you meant to do this, you must specify 'dtype=object' when creating the ndarray.\n",
      "  alls = np.array([*true,*false])\n"
     ]
    }
   ],
   "source": [
    "N = 4*int(1e4)\n",
    "\n",
    "min_length = 50\n",
    "\n",
    "# X_train, y_train = generate_data(0.8, train_test_validation=\"train\", type = 2)\n",
    "\n",
    "# X_test, y_test = generate_data(0, train_test_validation=\"test\", type = 2)\n",
    "X_validation, y_validation = generate_data(train_test_validation=\"validation\", type = 2)"
   ]
  },
  {
   "cell_type": "code",
   "execution_count": 7,
   "id": "01a5239c",
   "metadata": {
    "execution": {
     "iopub.execute_input": "2022-05-19T20:47:34.623410Z",
     "iopub.status.busy": "2022-05-19T20:47:34.623139Z",
     "iopub.status.idle": "2022-05-19T20:47:34.627457Z",
     "shell.execute_reply": "2022-05-19T20:47:34.626498Z"
    },
    "papermill": {
     "duration": 0.020762,
     "end_time": "2022-05-19T20:47:34.629495",
     "exception": false,
     "start_time": "2022-05-19T20:47:34.608733",
     "status": "completed"
    },
    "tags": []
   },
   "outputs": [],
   "source": [
    "# train(model, n_epochs = 10)\n"
   ]
  },
  {
   "cell_type": "code",
   "execution_count": 8,
   "id": "457bc961",
   "metadata": {
    "execution": {
     "iopub.execute_input": "2022-05-19T20:47:34.657730Z",
     "iopub.status.busy": "2022-05-19T20:47:34.657441Z"
    },
    "papermill": {
     "duration": null,
     "end_time": null,
     "exception": false,
     "start_time": "2022-05-19T20:47:34.642587",
     "status": "running"
    },
    "tags": []
   },
   "outputs": [
    {
     "name": "stdout",
     "output_type": "stream",
     "text": [
      "Training with lr 1e-05 and size 8\n"
     ]
    },
    {
     "name": "stdout",
     "output_type": "stream",
     "text": [
      "epoch 0/2000 - loss 0.837 - acc 0.35 - F1 0.1\n"
     ]
    },
    {
     "name": "stdout",
     "output_type": "stream",
     "text": [
      "epoch 10/2000 - loss 0.837 - acc 0.55 - F1 0.1\n"
     ]
    },
    {
     "name": "stdout",
     "output_type": "stream",
     "text": [
      "epoch 20/2000 - loss 0.838 - acc 0.45 - F1 0.133\n"
     ]
    },
    {
     "name": "stdout",
     "output_type": "stream",
     "text": [
      "epoch 30/2000 - loss 0.836 - acc 0.3 - F1 0.171\n"
     ]
    },
    {
     "name": "stdout",
     "output_type": "stream",
     "text": [
      "epoch 40/2000 - loss 0.838 - acc 0.35 - F1 0.133\n"
     ]
    },
    {
     "name": "stdout",
     "output_type": "stream",
     "text": [
      "epoch 50/2000 - loss 0.838 - acc 0.45 - F1 0.1\n"
     ]
    },
    {
     "name": "stdout",
     "output_type": "stream",
     "text": [
      "epoch 60/2000 - loss 0.836 - acc 0.45 - F1 0.133\n"
     ]
    },
    {
     "name": "stdout",
     "output_type": "stream",
     "text": [
      "epoch 70/2000 - loss 0.838 - acc 0.6 - F1 0.2\n"
     ]
    },
    {
     "name": "stdout",
     "output_type": "stream",
     "text": [
      "epoch 80/2000 - loss 0.837 - acc 0.5 - F1 0.0\n"
     ]
    },
    {
     "name": "stdout",
     "output_type": "stream",
     "text": [
      "epoch 90/2000 - loss 0.836 - acc 0.4 - F1 0.1\n"
     ]
    },
    {
     "name": "stdout",
     "output_type": "stream",
     "text": [
      "epoch 100/2000 - loss 0.838 - acc 0.4 - F1 0.0\n"
     ]
    },
    {
     "name": "stdout",
     "output_type": "stream",
     "text": [
      "epoch 110/2000 - loss 0.837 - acc 0.4 - F1 0.1\n"
     ]
    },
    {
     "name": "stdout",
     "output_type": "stream",
     "text": [
      "epoch 120/2000 - loss 0.837 - acc 0.45 - F1 0.1\n"
     ]
    },
    {
     "name": "stdout",
     "output_type": "stream",
     "text": [
      "epoch 130/2000 - loss 0.837 - acc 0.4 - F1 0.0\n"
     ]
    },
    {
     "name": "stdout",
     "output_type": "stream",
     "text": [
      "epoch 140/2000 - loss 0.837 - acc 0.45 - F1 0.08\n"
     ]
    },
    {
     "name": "stdout",
     "output_type": "stream",
     "text": [
      "epoch 150/2000 - loss 0.837 - acc 0.45 - F1 0.08\n"
     ]
    },
    {
     "name": "stdout",
     "output_type": "stream",
     "text": [
      "epoch 160/2000 - loss 0.836 - acc 0.35 - F1 0.08\n"
     ]
    },
    {
     "name": "stdout",
     "output_type": "stream",
     "text": [
      "epoch 170/2000 - loss 0.836 - acc 0.45 - F1 0.133\n"
     ]
    },
    {
     "name": "stdout",
     "output_type": "stream",
     "text": [
      "epoch 180/2000 - loss 0.837 - acc 0.35 - F1 0.0\n"
     ]
    },
    {
     "name": "stdout",
     "output_type": "stream",
     "text": [
      "epoch 190/2000 - loss 0.838 - acc 0.45 - F1 0.0\n"
     ]
    },
    {
     "name": "stdout",
     "output_type": "stream",
     "text": [
      "epoch 200/2000 - loss 0.837 - acc 0.45 - F1 0.133\n"
     ]
    },
    {
     "name": "stdout",
     "output_type": "stream",
     "text": [
      "epoch 210/2000 - loss 0.836 - acc 0.4 - F1 0.16\n"
     ]
    },
    {
     "name": "stdout",
     "output_type": "stream",
     "text": [
      "epoch 220/2000 - loss 0.835 - acc 0.35 - F1 0.0\n"
     ]
    },
    {
     "name": "stdout",
     "output_type": "stream",
     "text": [
      "epoch 230/2000 - loss 0.836 - acc 0.35 - F1 0.16\n"
     ]
    },
    {
     "name": "stdout",
     "output_type": "stream",
     "text": [
      "epoch 240/2000 - loss 0.837 - acc 0.35 - F1 0.0\n"
     ]
    },
    {
     "name": "stdout",
     "output_type": "stream",
     "text": [
      "epoch 250/2000 - loss 0.838 - acc 0.35 - F1 0.16\n"
     ]
    },
    {
     "name": "stdout",
     "output_type": "stream",
     "text": [
      "epoch 260/2000 - loss 0.836 - acc 0.5 - F1 0.08\n"
     ]
    },
    {
     "name": "stdout",
     "output_type": "stream",
     "text": [
      "epoch 270/2000 - loss 0.836 - acc 0.45 - F1 0.1\n"
     ]
    },
    {
     "name": "stdout",
     "output_type": "stream",
     "text": [
      "epoch 280/2000 - loss 0.837 - acc 0.3 - F1 0.08\n"
     ]
    },
    {
     "name": "stdout",
     "output_type": "stream",
     "text": [
      "epoch 290/2000 - loss 0.837 - acc 0.35 - F1 0.16\n"
     ]
    },
    {
     "name": "stdout",
     "output_type": "stream",
     "text": [
      "epoch 300/2000 - loss 0.836 - acc 0.45 - F1 0.133\n"
     ]
    },
    {
     "name": "stdout",
     "output_type": "stream",
     "text": [
      "epoch 310/2000 - loss 0.836 - acc 0.45 - F1 0.08\n"
     ]
    },
    {
     "name": "stdout",
     "output_type": "stream",
     "text": [
      "epoch 320/2000 - loss 0.838 - acc 0.4 - F1 0.0\n"
     ]
    },
    {
     "name": "stdout",
     "output_type": "stream",
     "text": [
      "epoch 330/2000 - loss 0.834 - acc 0.4 - F1 0.1\n"
     ]
    },
    {
     "name": "stdout",
     "output_type": "stream",
     "text": [
      "epoch 340/2000 - loss 0.835 - acc 0.45 - F1 0.0\n"
     ]
    },
    {
     "name": "stdout",
     "output_type": "stream",
     "text": [
      "epoch 350/2000 - loss 0.837 - acc 0.5 - F1 0.171\n"
     ]
    },
    {
     "name": "stdout",
     "output_type": "stream",
     "text": [
      "epoch 360/2000 - loss 0.836 - acc 0.5 - F1 0.16\n"
     ]
    },
    {
     "name": "stdout",
     "output_type": "stream",
     "text": [
      "epoch 370/2000 - loss 0.835 - acc 0.45 - F1 0.08\n"
     ]
    },
    {
     "name": "stdout",
     "output_type": "stream",
     "text": [
      "epoch 380/2000 - loss 0.837 - acc 0.4 - F1 0.0\n"
     ]
    },
    {
     "name": "stdout",
     "output_type": "stream",
     "text": [
      "epoch 390/2000 - loss 0.837 - acc 0.3 - F1 0.0\n"
     ]
    },
    {
     "name": "stdout",
     "output_type": "stream",
     "text": [
      "epoch 400/2000 - loss 0.838 - acc 0.45 - F1 0.16\n"
     ]
    },
    {
     "name": "stdout",
     "output_type": "stream",
     "text": [
      "epoch 410/2000 - loss 0.838 - acc 0.45 - F1 0.0\n"
     ]
    },
    {
     "name": "stdout",
     "output_type": "stream",
     "text": [
      "epoch 420/2000 - loss 0.838 - acc 0.35 - F1 0.1\n"
     ]
    },
    {
     "name": "stdout",
     "output_type": "stream",
     "text": [
      "epoch 430/2000 - loss 0.836 - acc 0.45 - F1 0.16\n"
     ]
    },
    {
     "name": "stdout",
     "output_type": "stream",
     "text": [
      "epoch 440/2000 - loss 0.838 - acc 0.4 - F1 0.171\n"
     ]
    },
    {
     "name": "stdout",
     "output_type": "stream",
     "text": [
      "epoch 450/2000 - loss 0.839 - acc 0.4 - F1 0.1\n"
     ]
    },
    {
     "name": "stdout",
     "output_type": "stream",
     "text": [
      "epoch 460/2000 - loss 0.838 - acc 0.35 - F1 0.133\n"
     ]
    },
    {
     "name": "stdout",
     "output_type": "stream",
     "text": [
      "epoch 470/2000 - loss 0.836 - acc 0.45 - F1 0.08\n"
     ]
    },
    {
     "name": "stdout",
     "output_type": "stream",
     "text": [
      "epoch 480/2000 - loss 0.833 - acc 0.4 - F1 0.1\n"
     ]
    },
    {
     "name": "stdout",
     "output_type": "stream",
     "text": [
      "epoch 490/2000 - loss 0.837 - acc 0.4 - F1 0.08\n"
     ]
    },
    {
     "name": "stdout",
     "output_type": "stream",
     "text": [
      "epoch 500/2000 - loss 0.839 - acc 0.5 - F1 0.16\n"
     ]
    },
    {
     "name": "stdout",
     "output_type": "stream",
     "text": [
      "epoch 510/2000 - loss 0.835 - acc 0.5 - F1 0.133\n"
     ]
    },
    {
     "name": "stdout",
     "output_type": "stream",
     "text": [
      "epoch 520/2000 - loss 0.834 - acc 0.4 - F1 0.08\n"
     ]
    },
    {
     "name": "stdout",
     "output_type": "stream",
     "text": [
      "epoch 530/2000 - loss 0.837 - acc 0.55 - F1 0.1\n"
     ]
    },
    {
     "name": "stdout",
     "output_type": "stream",
     "text": [
      "epoch 540/2000 - loss 0.834 - acc 0.45 - F1 0.1\n"
     ]
    },
    {
     "name": "stdout",
     "output_type": "stream",
     "text": [
      "epoch 550/2000 - loss 0.838 - acc 0.35 - F1 0.0\n"
     ]
    },
    {
     "name": "stdout",
     "output_type": "stream",
     "text": [
      "epoch 560/2000 - loss 0.835 - acc 0.4 - F1 0.08\n"
     ]
    },
    {
     "name": "stdout",
     "output_type": "stream",
     "text": [
      "epoch 570/2000 - loss 0.836 - acc 0.4 - F1 0.0\n"
     ]
    },
    {
     "name": "stdout",
     "output_type": "stream",
     "text": [
      "epoch 580/2000 - loss 0.836 - acc 0.45 - F1 0.0\n"
     ]
    },
    {
     "name": "stdout",
     "output_type": "stream",
     "text": [
      "epoch 590/2000 - loss 0.838 - acc 0.45 - F1 0.2\n"
     ]
    },
    {
     "name": "stdout",
     "output_type": "stream",
     "text": [
      "epoch 600/2000 - loss 0.836 - acc 0.45 - F1 0.2\n"
     ]
    },
    {
     "name": "stdout",
     "output_type": "stream",
     "text": [
      "epoch 610/2000 - loss 0.836 - acc 0.5 - F1 0.133\n"
     ]
    },
    {
     "name": "stdout",
     "output_type": "stream",
     "text": [
      "epoch 620/2000 - loss 0.837 - acc 0.45 - F1 0.0\n"
     ]
    },
    {
     "name": "stdout",
     "output_type": "stream",
     "text": [
      "epoch 630/2000 - loss 0.835 - acc 0.35 - F1 0.16\n"
     ]
    },
    {
     "name": "stdout",
     "output_type": "stream",
     "text": [
      "epoch 640/2000 - loss 0.835 - acc 0.4 - F1 0.08\n"
     ]
    },
    {
     "name": "stdout",
     "output_type": "stream",
     "text": [
      "epoch 650/2000 - loss 0.834 - acc 0.45 - F1 0.08\n"
     ]
    },
    {
     "name": "stdout",
     "output_type": "stream",
     "text": [
      "epoch 660/2000 - loss 0.835 - acc 0.55 - F1 0.171\n"
     ]
    },
    {
     "name": "stdout",
     "output_type": "stream",
     "text": [
      "epoch 670/2000 - loss 0.839 - acc 0.35 - F1 0.1\n"
     ]
    },
    {
     "name": "stdout",
     "output_type": "stream",
     "text": [
      "epoch 680/2000 - loss 0.836 - acc 0.4 - F1 0.1\n"
     ]
    },
    {
     "name": "stdout",
     "output_type": "stream",
     "text": [
      "epoch 690/2000 - loss 0.836 - acc 0.55 - F1 0.16\n"
     ]
    },
    {
     "name": "stdout",
     "output_type": "stream",
     "text": [
      "epoch 700/2000 - loss 0.84 - acc 0.45 - F1 0.08\n"
     ]
    },
    {
     "name": "stdout",
     "output_type": "stream",
     "text": [
      "epoch 710/2000 - loss 0.838 - acc 0.4 - F1 0.08\n"
     ]
    },
    {
     "name": "stdout",
     "output_type": "stream",
     "text": [
      "epoch 720/2000 - loss 0.835 - acc 0.35 - F1 0.1\n"
     ]
    },
    {
     "name": "stdout",
     "output_type": "stream",
     "text": [
      "epoch 730/2000 - loss 0.838 - acc 0.4 - F1 0.16\n"
     ]
    },
    {
     "name": "stdout",
     "output_type": "stream",
     "text": [
      "epoch 740/2000 - loss 0.836 - acc 0.4 - F1 0.0\n"
     ]
    },
    {
     "name": "stdout",
     "output_type": "stream",
     "text": [
      "epoch 750/2000 - loss 0.833 - acc 0.45 - F1 0.16\n"
     ]
    },
    {
     "name": "stdout",
     "output_type": "stream",
     "text": [
      "epoch 760/2000 - loss 0.834 - acc 0.4 - F1 0.0\n"
     ]
    },
    {
     "name": "stdout",
     "output_type": "stream",
     "text": [
      "epoch 770/2000 - loss 0.836 - acc 0.6 - F1 0.133\n"
     ]
    },
    {
     "name": "stdout",
     "output_type": "stream",
     "text": [
      "epoch 780/2000 - loss 0.834 - acc 0.3 - F1 0.0\n"
     ]
    },
    {
     "name": "stdout",
     "output_type": "stream",
     "text": [
      "epoch 790/2000 - loss 0.834 - acc 0.65 - F1 0.08\n"
     ]
    },
    {
     "name": "stdout",
     "output_type": "stream",
     "text": [
      "epoch 800/2000 - loss 0.829 - acc 0.5 - F1 0.08\n"
     ]
    },
    {
     "name": "stdout",
     "output_type": "stream",
     "text": [
      "epoch 810/2000 - loss 0.836 - acc 0.4 - F1 0.08\n"
     ]
    },
    {
     "name": "stdout",
     "output_type": "stream",
     "text": [
      "epoch 820/2000 - loss 0.835 - acc 0.45 - F1 0.133\n"
     ]
    },
    {
     "name": "stdout",
     "output_type": "stream",
     "text": [
      "epoch 830/2000 - loss 0.832 - acc 0.45 - F1 0.08\n"
     ]
    },
    {
     "name": "stdout",
     "output_type": "stream",
     "text": [
      "epoch 840/2000 - loss 0.829 - acc 0.35 - F1 0.1\n"
     ]
    },
    {
     "name": "stdout",
     "output_type": "stream",
     "text": [
      "epoch 850/2000 - loss 0.842 - acc 0.6 - F1 0.1\n"
     ]
    },
    {
     "name": "stdout",
     "output_type": "stream",
     "text": [
      "epoch 860/2000 - loss 0.829 - acc 0.25 - F1 0.0\n"
     ]
    },
    {
     "name": "stdout",
     "output_type": "stream",
     "text": [
      "epoch 870/2000 - loss 0.83 - acc 0.3 - F1 0.0\n"
     ]
    },
    {
     "name": "stdout",
     "output_type": "stream",
     "text": [
      "epoch 880/2000 - loss 0.836 - acc 0.4 - F1 0.2\n"
     ]
    },
    {
     "name": "stdout",
     "output_type": "stream",
     "text": [
      "epoch 890/2000 - loss 0.833 - acc 0.55 - F1 0.133\n"
     ]
    },
    {
     "name": "stdout",
     "output_type": "stream",
     "text": [
      "epoch 900/2000 - loss 0.83 - acc 0.45 - F1 0.16\n"
     ]
    },
    {
     "name": "stdout",
     "output_type": "stream",
     "text": [
      "epoch 910/2000 - loss 0.829 - acc 0.45 - F1 0.0\n"
     ]
    },
    {
     "name": "stdout",
     "output_type": "stream",
     "text": [
      "epoch 920/2000 - loss 0.835 - acc 0.55 - F1 0.16\n"
     ]
    },
    {
     "name": "stdout",
     "output_type": "stream",
     "text": [
      "epoch 930/2000 - loss 0.831 - acc 0.4 - F1 0.08\n"
     ]
    },
    {
     "name": "stdout",
     "output_type": "stream",
     "text": [
      "epoch 940/2000 - loss 0.836 - acc 0.5 - F1 0.08\n"
     ]
    },
    {
     "name": "stdout",
     "output_type": "stream",
     "text": [
      "epoch 950/2000 - loss 0.839 - acc 0.4 - F1 0.1\n"
     ]
    },
    {
     "name": "stdout",
     "output_type": "stream",
     "text": [
      "epoch 960/2000 - loss 0.841 - acc 0.45 - F1 0.16\n"
     ]
    },
    {
     "name": "stdout",
     "output_type": "stream",
     "text": [
      "epoch 970/2000 - loss 0.832 - acc 0.4 - F1 0.08\n"
     ]
    },
    {
     "name": "stdout",
     "output_type": "stream",
     "text": [
      "epoch 980/2000 - loss 0.826 - acc 0.4 - F1 0.133\n"
     ]
    },
    {
     "name": "stdout",
     "output_type": "stream",
     "text": [
      "epoch 990/2000 - loss 0.826 - acc 0.5 - F1 0.08\n"
     ]
    },
    {
     "name": "stdout",
     "output_type": "stream",
     "text": [
      "epoch 1000/2000 - loss 0.833 - acc 0.4 - F1 0.08\n"
     ]
    },
    {
     "name": "stdout",
     "output_type": "stream",
     "text": [
      "epoch 1010/2000 - loss 0.829 - acc 0.5 - F1 0.1\n"
     ]
    },
    {
     "name": "stdout",
     "output_type": "stream",
     "text": [
      "epoch 1020/2000 - loss 0.833 - acc 0.4 - F1 0.1\n"
     ]
    },
    {
     "name": "stdout",
     "output_type": "stream",
     "text": [
      "epoch 1030/2000 - loss 0.828 - acc 0.5 - F1 0.1\n"
     ]
    },
    {
     "name": "stdout",
     "output_type": "stream",
     "text": [
      "epoch 1040/2000 - loss 0.834 - acc 0.5 - F1 0.1\n"
     ]
    },
    {
     "name": "stdout",
     "output_type": "stream",
     "text": [
      "epoch 1050/2000 - loss 0.828 - acc 0.45 - F1 0.133\n"
     ]
    },
    {
     "name": "stdout",
     "output_type": "stream",
     "text": [
      "epoch 1060/2000 - loss 0.829 - acc 0.5 - F1 0.1\n"
     ]
    },
    {
     "name": "stdout",
     "output_type": "stream",
     "text": [
      "epoch 1070/2000 - loss 0.833 - acc 0.5 - F1 0.16\n"
     ]
    },
    {
     "name": "stdout",
     "output_type": "stream",
     "text": [
      "epoch 1080/2000 - loss 0.829 - acc 0.45 - F1 0.08\n"
     ]
    },
    {
     "name": "stdout",
     "output_type": "stream",
     "text": [
      "epoch 1090/2000 - loss 0.838 - acc 0.45 - F1 0.171\n"
     ]
    },
    {
     "name": "stdout",
     "output_type": "stream",
     "text": [
      "epoch 1100/2000 - loss 0.826 - acc 0.45 - F1 0.0\n"
     ]
    },
    {
     "name": "stdout",
     "output_type": "stream",
     "text": [
      "epoch 1110/2000 - loss 0.827 - acc 0.45 - F1 0.1\n"
     ]
    },
    {
     "name": "stdout",
     "output_type": "stream",
     "text": [
      "epoch 1120/2000 - loss 0.823 - acc 0.55 - F1 0.16\n"
     ]
    },
    {
     "name": "stdout",
     "output_type": "stream",
     "text": [
      "epoch 1130/2000 - loss 0.823 - acc 0.5 - F1 0.08\n"
     ]
    },
    {
     "name": "stdout",
     "output_type": "stream",
     "text": [
      "epoch 1140/2000 - loss 0.826 - acc 0.4 - F1 0.0\n"
     ]
    },
    {
     "name": "stdout",
     "output_type": "stream",
     "text": [
      "epoch 1150/2000 - loss 0.827 - acc 0.5 - F1 0.1\n"
     ]
    },
    {
     "name": "stdout",
     "output_type": "stream",
     "text": [
      "epoch 1160/2000 - loss 0.82 - acc 0.4 - F1 0.133\n"
     ]
    },
    {
     "name": "stdout",
     "output_type": "stream",
     "text": [
      "epoch 1170/2000 - loss 0.828 - acc 0.45 - F1 0.133\n"
     ]
    },
    {
     "name": "stdout",
     "output_type": "stream",
     "text": [
      "epoch 1180/2000 - loss 0.834 - acc 0.4 - F1 0.133\n"
     ]
    },
    {
     "name": "stdout",
     "output_type": "stream",
     "text": [
      "epoch 1190/2000 - loss 0.834 - acc 0.55 - F1 0.16\n"
     ]
    },
    {
     "name": "stdout",
     "output_type": "stream",
     "text": [
      "epoch 1200/2000 - loss 0.837 - acc 0.4 - F1 0.16\n"
     ]
    },
    {
     "name": "stdout",
     "output_type": "stream",
     "text": [
      "epoch 1210/2000 - loss 0.827 - acc 0.5 - F1 0.1\n"
     ]
    },
    {
     "name": "stdout",
     "output_type": "stream",
     "text": [
      "epoch 1220/2000 - loss 0.812 - acc 0.45 - F1 0.0\n"
     ]
    },
    {
     "name": "stdout",
     "output_type": "stream",
     "text": [
      "epoch 1230/2000 - loss 0.816 - acc 0.3 - F1 0.171\n"
     ]
    },
    {
     "name": "stdout",
     "output_type": "stream",
     "text": [
      "epoch 1240/2000 - loss 0.818 - acc 0.45 - F1 0.08\n"
     ]
    },
    {
     "name": "stdout",
     "output_type": "stream",
     "text": [
      "epoch 1250/2000 - loss 0.839 - acc 0.45 - F1 0.0\n"
     ]
    },
    {
     "name": "stdout",
     "output_type": "stream",
     "text": [
      "epoch 1260/2000 - loss 0.805 - acc 0.45 - F1 0.16\n"
     ]
    },
    {
     "name": "stdout",
     "output_type": "stream",
     "text": [
      "epoch 1270/2000 - loss 0.819 - acc 0.35 - F1 0.133\n"
     ]
    },
    {
     "name": "stdout",
     "output_type": "stream",
     "text": [
      "epoch 1280/2000 - loss 0.813 - acc 0.5 - F1 0.0\n"
     ]
    },
    {
     "name": "stdout",
     "output_type": "stream",
     "text": [
      "epoch 1290/2000 - loss 0.813 - acc 0.5 - F1 0.1\n"
     ]
    },
    {
     "name": "stdout",
     "output_type": "stream",
     "text": [
      "epoch 1300/2000 - loss 0.821 - acc 0.55 - F1 0.133\n"
     ]
    },
    {
     "name": "stdout",
     "output_type": "stream",
     "text": [
      "epoch 1310/2000 - loss 0.824 - acc 0.45 - F1 0.1\n"
     ]
    },
    {
     "name": "stdout",
     "output_type": "stream",
     "text": [
      "epoch 1320/2000 - loss 0.798 - acc 0.55 - F1 0.133\n"
     ]
    },
    {
     "name": "stdout",
     "output_type": "stream",
     "text": [
      "epoch 1330/2000 - loss 0.816 - acc 0.45 - F1 0.2\n"
     ]
    },
    {
     "name": "stdout",
     "output_type": "stream",
     "text": [
      "epoch 1340/2000 - loss 0.837 - acc 0.5 - F1 0.1\n"
     ]
    },
    {
     "name": "stdout",
     "output_type": "stream",
     "text": [
      "epoch 1350/2000 - loss 0.831 - acc 0.6 - F1 0.16\n"
     ]
    },
    {
     "name": "stdout",
     "output_type": "stream",
     "text": [
      "epoch 1360/2000 - loss 0.832 - acc 0.5 - F1 0.1\n"
     ]
    },
    {
     "name": "stdout",
     "output_type": "stream",
     "text": [
      "epoch 1370/2000 - loss 0.792 - acc 0.55 - F1 0.16\n"
     ]
    },
    {
     "name": "stdout",
     "output_type": "stream",
     "text": [
      "epoch 1380/2000 - loss 0.826 - acc 0.5 - F1 0.133\n"
     ]
    },
    {
     "name": "stdout",
     "output_type": "stream",
     "text": [
      "epoch 1390/2000 - loss 0.813 - acc 0.45 - F1 0.08\n"
     ]
    },
    {
     "name": "stdout",
     "output_type": "stream",
     "text": [
      "epoch 1400/2000 - loss 0.81 - acc 0.45 - F1 0.0\n"
     ]
    },
    {
     "name": "stdout",
     "output_type": "stream",
     "text": [
      "epoch 1410/2000 - loss 0.812 - acc 0.6 - F1 0.133\n"
     ]
    },
    {
     "name": "stdout",
     "output_type": "stream",
     "text": [
      "epoch 1420/2000 - loss 0.812 - acc 0.4 - F1 0.1\n"
     ]
    },
    {
     "name": "stdout",
     "output_type": "stream",
     "text": [
      "epoch 1430/2000 - loss 0.813 - acc 0.5 - F1 0.0\n"
     ]
    },
    {
     "name": "stdout",
     "output_type": "stream",
     "text": [
      "epoch 1440/2000 - loss 0.82 - acc 0.55 - F1 0.16\n"
     ]
    },
    {
     "name": "stdout",
     "output_type": "stream",
     "text": [
      "epoch 1450/2000 - loss 0.82 - acc 0.4 - F1 0.08\n"
     ]
    },
    {
     "name": "stdout",
     "output_type": "stream",
     "text": [
      "epoch 1460/2000 - loss 0.802 - acc 0.45 - F1 0.0\n"
     ]
    },
    {
     "name": "stdout",
     "output_type": "stream",
     "text": [
      "epoch 1470/2000 - loss 0.811 - acc 0.45 - F1 0.1\n"
     ]
    },
    {
     "name": "stdout",
     "output_type": "stream",
     "text": [
      "epoch 1480/2000 - loss 0.798 - acc 0.55 - F1 0.1\n"
     ]
    },
    {
     "name": "stdout",
     "output_type": "stream",
     "text": [
      "epoch 1490/2000 - loss 0.817 - acc 0.5 - F1 0.133\n"
     ]
    },
    {
     "name": "stdout",
     "output_type": "stream",
     "text": [
      "epoch 1500/2000 - loss 0.827 - acc 0.6 - F1 0.16\n"
     ]
    },
    {
     "name": "stdout",
     "output_type": "stream",
     "text": [
      "epoch 1510/2000 - loss 0.819 - acc 0.55 - F1 0.0\n"
     ]
    },
    {
     "name": "stdout",
     "output_type": "stream",
     "text": [
      "epoch 1520/2000 - loss 0.81 - acc 0.55 - F1 0.133\n"
     ]
    },
    {
     "name": "stdout",
     "output_type": "stream",
     "text": [
      "epoch 1530/2000 - loss 0.787 - acc 0.5 - F1 0.133\n"
     ]
    },
    {
     "name": "stdout",
     "output_type": "stream",
     "text": [
      "epoch 1540/2000 - loss 0.831 - acc 0.5 - F1 0.16\n"
     ]
    },
    {
     "name": "stdout",
     "output_type": "stream",
     "text": [
      "epoch 1550/2000 - loss 0.784 - acc 0.55 - F1 0.1\n"
     ]
    },
    {
     "name": "stdout",
     "output_type": "stream",
     "text": [
      "epoch 1560/2000 - loss 0.809 - acc 0.5 - F1 0.0\n"
     ]
    },
    {
     "name": "stdout",
     "output_type": "stream",
     "text": [
      "epoch 1570/2000 - loss 0.821 - acc 0.45 - F1 0.08\n"
     ]
    },
    {
     "name": "stdout",
     "output_type": "stream",
     "text": [
      "epoch 1580/2000 - loss 0.829 - acc 0.4 - F1 0.0\n"
     ]
    },
    {
     "name": "stdout",
     "output_type": "stream",
     "text": [
      "epoch 1590/2000 - loss 0.862 - acc 0.45 - F1 0.0\n"
     ]
    },
    {
     "name": "stdout",
     "output_type": "stream",
     "text": [
      "epoch 1600/2000 - loss 0.818 - acc 0.6 - F1 0.171\n"
     ]
    },
    {
     "name": "stdout",
     "output_type": "stream",
     "text": [
      "epoch 1610/2000 - loss 0.813 - acc 0.5 - F1 0.133\n"
     ]
    },
    {
     "name": "stdout",
     "output_type": "stream",
     "text": [
      "epoch 1620/2000 - loss 0.794 - acc 0.6 - F1 0.0\n"
     ]
    },
    {
     "name": "stdout",
     "output_type": "stream",
     "text": [
      "epoch 1630/2000 - loss 0.851 - acc 0.55 - F1 0.1\n"
     ]
    },
    {
     "name": "stdout",
     "output_type": "stream",
     "text": [
      "epoch 1640/2000 - loss 0.819 - acc 0.65 - F1 0.16\n"
     ]
    },
    {
     "name": "stdout",
     "output_type": "stream",
     "text": [
      "epoch 1650/2000 - loss 0.794 - acc 0.55 - F1 0.1\n"
     ]
    },
    {
     "name": "stdout",
     "output_type": "stream",
     "text": [
      "epoch 1660/2000 - loss 0.82 - acc 0.65 - F1 0.1\n"
     ]
    },
    {
     "name": "stdout",
     "output_type": "stream",
     "text": [
      "epoch 1670/2000 - loss 0.79 - acc 0.5 - F1 0.1\n"
     ]
    },
    {
     "name": "stdout",
     "output_type": "stream",
     "text": [
      "epoch 1680/2000 - loss 0.812 - acc 0.5 - F1 0.0\n"
     ]
    },
    {
     "name": "stdout",
     "output_type": "stream",
     "text": [
      "epoch 1690/2000 - loss 0.789 - acc 0.7 - F1 0.1\n"
     ]
    },
    {
     "name": "stdout",
     "output_type": "stream",
     "text": [
      "epoch 1700/2000 - loss 0.792 - acc 0.45 - F1 0.16\n"
     ]
    },
    {
     "name": "stdout",
     "output_type": "stream",
     "text": [
      "epoch 1710/2000 - loss 0.865 - acc 0.45 - F1 0.0\n"
     ]
    },
    {
     "name": "stdout",
     "output_type": "stream",
     "text": [
      "epoch 1720/2000 - loss 0.775 - acc 0.5 - F1 0.08\n"
     ]
    },
    {
     "name": "stdout",
     "output_type": "stream",
     "text": [
      "epoch 1730/2000 - loss 0.828 - acc 0.5 - F1 0.133\n"
     ]
    },
    {
     "name": "stdout",
     "output_type": "stream",
     "text": [
      "epoch 1740/2000 - loss 0.813 - acc 0.6 - F1 0.133\n"
     ]
    },
    {
     "name": "stdout",
     "output_type": "stream",
     "text": [
      "epoch 1750/2000 - loss 0.783 - acc 0.5 - F1 0.0\n"
     ]
    },
    {
     "name": "stdout",
     "output_type": "stream",
     "text": [
      "epoch 1760/2000 - loss 0.766 - acc 0.45 - F1 0.08\n"
     ]
    },
    {
     "name": "stdout",
     "output_type": "stream",
     "text": [
      "epoch 1770/2000 - loss 0.806 - acc 0.6 - F1 0.16\n"
     ]
    },
    {
     "name": "stdout",
     "output_type": "stream",
     "text": [
      "epoch 1780/2000 - loss 0.808 - acc 0.4 - F1 0.0\n"
     ]
    },
    {
     "name": "stdout",
     "output_type": "stream",
     "text": [
      "epoch 1790/2000 - loss 0.793 - acc 0.65 - F1 0.171\n"
     ]
    },
    {
     "name": "stdout",
     "output_type": "stream",
     "text": [
      "epoch 1800/2000 - loss 0.822 - acc 0.65 - F1 0.133\n"
     ]
    },
    {
     "name": "stdout",
     "output_type": "stream",
     "text": [
      "epoch 1810/2000 - loss 0.825 - acc 0.45 - F1 0.08\n"
     ]
    },
    {
     "name": "stdout",
     "output_type": "stream",
     "text": [
      "epoch 1820/2000 - loss 0.769 - acc 0.55 - F1 0.0\n"
     ]
    },
    {
     "name": "stdout",
     "output_type": "stream",
     "text": [
      "epoch 1830/2000 - loss 0.796 - acc 0.7 - F1 0.08\n"
     ]
    },
    {
     "name": "stdout",
     "output_type": "stream",
     "text": [
      "epoch 1840/2000 - loss 0.754 - acc 0.4 - F1 0.0\n"
     ]
    },
    {
     "name": "stdout",
     "output_type": "stream",
     "text": [
      "epoch 1850/2000 - loss 0.858 - acc 0.45 - F1 0.1\n"
     ]
    },
    {
     "name": "stdout",
     "output_type": "stream",
     "text": [
      "epoch 1860/2000 - loss 0.792 - acc 0.45 - F1 0.1\n"
     ]
    },
    {
     "name": "stdout",
     "output_type": "stream",
     "text": [
      "epoch 1870/2000 - loss 0.823 - acc 0.6 - F1 0.0\n"
     ]
    },
    {
     "name": "stdout",
     "output_type": "stream",
     "text": [
      "epoch 1880/2000 - loss 0.78 - acc 0.55 - F1 0.1\n"
     ]
    },
    {
     "name": "stdout",
     "output_type": "stream",
     "text": [
      "epoch 1890/2000 - loss 0.794 - acc 0.6 - F1 0.171\n"
     ]
    },
    {
     "name": "stdout",
     "output_type": "stream",
     "text": [
      "epoch 1900/2000 - loss 0.793 - acc 0.6 - F1 0.1\n"
     ]
    },
    {
     "name": "stdout",
     "output_type": "stream",
     "text": [
      "epoch 1910/2000 - loss 0.804 - acc 0.65 - F1 0.2\n"
     ]
    },
    {
     "name": "stdout",
     "output_type": "stream",
     "text": [
      "epoch 1920/2000 - loss 0.83 - acc 0.65 - F1 0.16\n"
     ]
    },
    {
     "name": "stdout",
     "output_type": "stream",
     "text": [
      "epoch 1930/2000 - loss 0.783 - acc 0.6 - F1 0.1\n"
     ]
    },
    {
     "name": "stdout",
     "output_type": "stream",
     "text": [
      "epoch 1940/2000 - loss 0.842 - acc 0.5 - F1 0.1\n"
     ]
    },
    {
     "name": "stdout",
     "output_type": "stream",
     "text": [
      "epoch 1950/2000 - loss 0.724 - acc 0.6 - F1 0.1\n"
     ]
    },
    {
     "name": "stdout",
     "output_type": "stream",
     "text": [
      "epoch 1960/2000 - loss 0.817 - acc 0.55 - F1 0.1\n"
     ]
    },
    {
     "name": "stdout",
     "output_type": "stream",
     "text": [
      "epoch 1970/2000 - loss 0.789 - acc 0.6 - F1 0.133\n"
     ]
    },
    {
     "name": "stdout",
     "output_type": "stream",
     "text": [
      "epoch 1980/2000 - loss 0.827 - acc 0.65 - F1 0.133\n"
     ]
    },
    {
     "name": "stdout",
     "output_type": "stream",
     "text": [
      "epoch 1990/2000 - loss 0.81 - acc 0.45 - F1 0.133\n"
     ]
    },
    {
     "name": "stderr",
     "output_type": "stream",
     "text": [
      "/kaggle/working/generate_data.py:102: VisibleDeprecationWarning: Creating an ndarray from ragged nested sequences (which is a list-or-tuple of lists-or-tuples-or ndarrays with different lengths or shapes) is deprecated. If you meant to do this, you must specify 'dtype=object' when creating the ndarray.\n",
      "  true = np.array(make_true(train_test_validation, type))\n",
      "/kaggle/working/generate_data.py:103: VisibleDeprecationWarning: Creating an ndarray from ragged nested sequences (which is a list-or-tuple of lists-or-tuples-or ndarrays with different lengths or shapes) is deprecated. If you meant to do this, you must specify 'dtype=object' when creating the ndarray.\n",
      "  false = np.array(make_false(train_test_validation, type))\n",
      "/kaggle/working/generate_data.py:113: VisibleDeprecationWarning: Creating an ndarray from ragged nested sequences (which is a list-or-tuple of lists-or-tuples-or ndarrays with different lengths or shapes) is deprecated. If you meant to do this, you must specify 'dtype=object' when creating the ndarray.\n",
      "  alls = np.array([*true,*false])\n",
      "/kaggle/working/generate_data.py:102: VisibleDeprecationWarning: Creating an ndarray from ragged nested sequences (which is a list-or-tuple of lists-or-tuples-or ndarrays with different lengths or shapes) is deprecated. If you meant to do this, you must specify 'dtype=object' when creating the ndarray.\n",
      "  true = np.array(make_true(train_test_validation, type))\n",
      "/kaggle/working/generate_data.py:103: VisibleDeprecationWarning: Creating an ndarray from ragged nested sequences (which is a list-or-tuple of lists-or-tuples-or ndarrays with different lengths or shapes) is deprecated. If you meant to do this, you must specify 'dtype=object' when creating the ndarray.\n",
      "  false = np.array(make_false(train_test_validation, type))\n",
      "/kaggle/working/generate_data.py:113: VisibleDeprecationWarning: Creating an ndarray from ragged nested sequences (which is a list-or-tuple of lists-or-tuples-or ndarrays with different lengths or shapes) is deprecated. If you meant to do this, you must specify 'dtype=object' when creating the ndarray.\n",
      "  alls = np.array([*true,*false])\n"
     ]
    },
    {
     "name": "stdout",
     "output_type": "stream",
     "text": [
      "Final acc 0.679 - F1 0.09523809523809523\n",
      "Training with lr 1e-05 and size 8\n",
      "epoch 0/2000 - loss 0.837 - acc 0.5 - F1 0.0\n"
     ]
    },
    {
     "name": "stdout",
     "output_type": "stream",
     "text": [
      "epoch 10/2000 - loss 0.836 - acc 0.5 - F1 0.08\n"
     ]
    },
    {
     "name": "stdout",
     "output_type": "stream",
     "text": [
      "epoch 20/2000 - loss 0.837 - acc 0.65 - F1 0.133\n"
     ]
    },
    {
     "name": "stdout",
     "output_type": "stream",
     "text": [
      "epoch 30/2000 - loss 0.837 - acc 0.45 - F1 0.08\n"
     ]
    },
    {
     "name": "stdout",
     "output_type": "stream",
     "text": [
      "epoch 40/2000 - loss 0.836 - acc 0.6 - F1 0.133\n"
     ]
    },
    {
     "name": "stdout",
     "output_type": "stream",
     "text": [
      "epoch 50/2000 - loss 0.837 - acc 0.65 - F1 0.1\n"
     ]
    },
    {
     "name": "stdout",
     "output_type": "stream",
     "text": [
      "epoch 60/2000 - loss 0.836 - acc 0.65 - F1 0.1\n"
     ]
    },
    {
     "name": "stdout",
     "output_type": "stream",
     "text": [
      "epoch 70/2000 - loss 0.837 - acc 0.55 - F1 0.133\n"
     ]
    },
    {
     "name": "stdout",
     "output_type": "stream",
     "text": [
      "epoch 80/2000 - loss 0.837 - acc 0.55 - F1 0.2\n"
     ]
    },
    {
     "name": "stdout",
     "output_type": "stream",
     "text": [
      "epoch 90/2000 - loss 0.836 - acc 0.6 - F1 0.133\n"
     ]
    },
    {
     "name": "stdout",
     "output_type": "stream",
     "text": [
      "epoch 100/2000 - loss 0.837 - acc 0.7 - F1 0.133\n"
     ]
    },
    {
     "name": "stdout",
     "output_type": "stream",
     "text": [
      "epoch 110/2000 - loss 0.836 - acc 0.65 - F1 0.0\n"
     ]
    },
    {
     "name": "stdout",
     "output_type": "stream",
     "text": [
      "epoch 120/2000 - loss 0.837 - acc 0.45 - F1 0.1\n"
     ]
    },
    {
     "name": "stdout",
     "output_type": "stream",
     "text": [
      "epoch 130/2000 - loss 0.836 - acc 0.6 - F1 0.08\n"
     ]
    },
    {
     "name": "stdout",
     "output_type": "stream",
     "text": [
      "epoch 140/2000 - loss 0.837 - acc 0.75 - F1 0.16\n"
     ]
    },
    {
     "name": "stdout",
     "output_type": "stream",
     "text": [
      "epoch 150/2000 - loss 0.837 - acc 0.65 - F1 0.16\n"
     ]
    },
    {
     "name": "stdout",
     "output_type": "stream",
     "text": [
      "epoch 160/2000 - loss 0.836 - acc 0.65 - F1 0.16\n"
     ]
    },
    {
     "name": "stdout",
     "output_type": "stream",
     "text": [
      "epoch 170/2000 - loss 0.836 - acc 0.5 - F1 0.0\n"
     ]
    },
    {
     "name": "stdout",
     "output_type": "stream",
     "text": [
      "epoch 180/2000 - loss 0.837 - acc 0.65 - F1 0.133\n"
     ]
    },
    {
     "name": "stdout",
     "output_type": "stream",
     "text": [
      "epoch 190/2000 - loss 0.837 - acc 0.7 - F1 0.2\n"
     ]
    },
    {
     "name": "stdout",
     "output_type": "stream",
     "text": [
      "epoch 200/2000 - loss 0.836 - acc 0.65 - F1 0.2\n"
     ]
    },
    {
     "name": "stdout",
     "output_type": "stream",
     "text": [
      "epoch 210/2000 - loss 0.836 - acc 0.55 - F1 0.1\n"
     ]
    },
    {
     "name": "stdout",
     "output_type": "stream",
     "text": [
      "epoch 220/2000 - loss 0.837 - acc 0.6 - F1 0.16\n"
     ]
    },
    {
     "name": "stdout",
     "output_type": "stream",
     "text": [
      "epoch 230/2000 - loss 0.836 - acc 0.5 - F1 0.16\n"
     ]
    },
    {
     "name": "stdout",
     "output_type": "stream",
     "text": [
      "epoch 240/2000 - loss 0.837 - acc 0.65 - F1 0.133\n"
     ]
    },
    {
     "name": "stdout",
     "output_type": "stream",
     "text": [
      "epoch 250/2000 - loss 0.837 - acc 0.55 - F1 0.1\n"
     ]
    },
    {
     "name": "stdout",
     "output_type": "stream",
     "text": [
      "epoch 260/2000 - loss 0.837 - acc 0.6 - F1 0.2\n"
     ]
    },
    {
     "name": "stdout",
     "output_type": "stream",
     "text": [
      "epoch 270/2000 - loss 0.834 - acc 0.55 - F1 0.1\n"
     ]
    },
    {
     "name": "stdout",
     "output_type": "stream",
     "text": [
      "epoch 280/2000 - loss 0.835 - acc 0.55 - F1 0.1\n"
     ]
    },
    {
     "name": "stdout",
     "output_type": "stream",
     "text": [
      "epoch 290/2000 - loss 0.837 - acc 0.55 - F1 0.0\n"
     ]
    },
    {
     "name": "stdout",
     "output_type": "stream",
     "text": [
      "epoch 300/2000 - loss 0.834 - acc 0.65 - F1 0.1\n"
     ]
    },
    {
     "name": "stdout",
     "output_type": "stream",
     "text": [
      "epoch 310/2000 - loss 0.835 - acc 0.7 - F1 0.08\n"
     ]
    },
    {
     "name": "stdout",
     "output_type": "stream",
     "text": [
      "epoch 320/2000 - loss 0.836 - acc 0.6 - F1 0.1\n"
     ]
    },
    {
     "name": "stdout",
     "output_type": "stream",
     "text": [
      "epoch 330/2000 - loss 0.833 - acc 0.5 - F1 0.0\n"
     ]
    },
    {
     "name": "stdout",
     "output_type": "stream",
     "text": [
      "epoch 340/2000 - loss 0.836 - acc 0.65 - F1 0.133\n"
     ]
    },
    {
     "name": "stdout",
     "output_type": "stream",
     "text": [
      "epoch 350/2000 - loss 0.834 - acc 0.65 - F1 0.16\n"
     ]
    },
    {
     "name": "stdout",
     "output_type": "stream",
     "text": [
      "epoch 360/2000 - loss 0.834 - acc 0.55 - F1 0.16\n"
     ]
    },
    {
     "name": "stdout",
     "output_type": "stream",
     "text": [
      "epoch 370/2000 - loss 0.835 - acc 0.65 - F1 0.2\n"
     ]
    },
    {
     "name": "stdout",
     "output_type": "stream",
     "text": [
      "epoch 380/2000 - loss 0.835 - acc 0.7 - F1 0.133\n"
     ]
    },
    {
     "name": "stdout",
     "output_type": "stream",
     "text": [
      "epoch 390/2000 - loss 0.834 - acc 0.6 - F1 0.1\n"
     ]
    },
    {
     "name": "stdout",
     "output_type": "stream",
     "text": [
      "epoch 400/2000 - loss 0.833 - acc 0.6 - F1 0.1\n"
     ]
    },
    {
     "name": "stdout",
     "output_type": "stream",
     "text": [
      "epoch 410/2000 - loss 0.835 - acc 0.55 - F1 0.08\n"
     ]
    },
    {
     "name": "stdout",
     "output_type": "stream",
     "text": [
      "epoch 420/2000 - loss 0.835 - acc 0.45 - F1 0.08\n"
     ]
    },
    {
     "name": "stdout",
     "output_type": "stream",
     "text": [
      "epoch 430/2000 - loss 0.833 - acc 0.6 - F1 0.08\n"
     ]
    },
    {
     "name": "stdout",
     "output_type": "stream",
     "text": [
      "epoch 440/2000 - loss 0.834 - acc 0.65 - F1 0.0\n"
     ]
    },
    {
     "name": "stdout",
     "output_type": "stream",
     "text": [
      "epoch 450/2000 - loss 0.834 - acc 0.5 - F1 0.0\n"
     ]
    },
    {
     "name": "stdout",
     "output_type": "stream",
     "text": [
      "epoch 460/2000 - loss 0.835 - acc 0.5 - F1 0.08\n"
     ]
    },
    {
     "name": "stdout",
     "output_type": "stream",
     "text": [
      "epoch 470/2000 - loss 0.835 - acc 0.45 - F1 0.133\n"
     ]
    },
    {
     "name": "stdout",
     "output_type": "stream",
     "text": [
      "epoch 480/2000 - loss 0.832 - acc 0.45 - F1 0.0\n"
     ]
    },
    {
     "name": "stdout",
     "output_type": "stream",
     "text": [
      "epoch 490/2000 - loss 0.83 - acc 0.5 - F1 0.1\n"
     ]
    },
    {
     "name": "stdout",
     "output_type": "stream",
     "text": [
      "epoch 500/2000 - loss 0.833 - acc 0.5 - F1 0.1\n"
     ]
    },
    {
     "name": "stdout",
     "output_type": "stream",
     "text": [
      "epoch 510/2000 - loss 0.832 - acc 0.55 - F1 0.133\n"
     ]
    },
    {
     "name": "stdout",
     "output_type": "stream",
     "text": [
      "epoch 520/2000 - loss 0.832 - acc 0.4 - F1 0.08\n"
     ]
    },
    {
     "name": "stdout",
     "output_type": "stream",
     "text": [
      "epoch 530/2000 - loss 0.829 - acc 0.5 - F1 0.133\n"
     ]
    },
    {
     "name": "stdout",
     "output_type": "stream",
     "text": [
      "epoch 540/2000 - loss 0.83 - acc 0.3 - F1 0.08\n"
     ]
    },
    {
     "name": "stdout",
     "output_type": "stream",
     "text": [
      "epoch 550/2000 - loss 0.83 - acc 0.35 - F1 0.08\n"
     ]
    },
    {
     "name": "stdout",
     "output_type": "stream",
     "text": [
      "epoch 560/2000 - loss 0.83 - acc 0.3 - F1 0.133\n"
     ]
    },
    {
     "name": "stdout",
     "output_type": "stream",
     "text": [
      "epoch 570/2000 - loss 0.833 - acc 0.45 - F1 0.2\n"
     ]
    },
    {
     "name": "stdout",
     "output_type": "stream",
     "text": [
      "epoch 580/2000 - loss 0.829 - acc 0.4 - F1 0.08\n"
     ]
    },
    {
     "name": "stdout",
     "output_type": "stream",
     "text": [
      "epoch 590/2000 - loss 0.827 - acc 0.4 - F1 0.1\n"
     ]
    },
    {
     "name": "stdout",
     "output_type": "stream",
     "text": [
      "epoch 600/2000 - loss 0.83 - acc 0.45 - F1 0.171\n"
     ]
    },
    {
     "name": "stdout",
     "output_type": "stream",
     "text": [
      "epoch 610/2000 - loss 0.83 - acc 0.45 - F1 0.0\n"
     ]
    },
    {
     "name": "stdout",
     "output_type": "stream",
     "text": [
      "epoch 620/2000 - loss 0.827 - acc 0.45 - F1 0.1\n"
     ]
    },
    {
     "name": "stdout",
     "output_type": "stream",
     "text": [
      "epoch 630/2000 - loss 0.834 - acc 0.35 - F1 0.0\n"
     ]
    },
    {
     "name": "stdout",
     "output_type": "stream",
     "text": [
      "epoch 640/2000 - loss 0.828 - acc 0.4 - F1 0.08\n"
     ]
    },
    {
     "name": "stdout",
     "output_type": "stream",
     "text": [
      "epoch 650/2000 - loss 0.828 - acc 0.3 - F1 0.08\n"
     ]
    },
    {
     "name": "stdout",
     "output_type": "stream",
     "text": [
      "epoch 660/2000 - loss 0.824 - acc 0.45 - F1 0.0\n"
     ]
    },
    {
     "name": "stdout",
     "output_type": "stream",
     "text": [
      "epoch 670/2000 - loss 0.825 - acc 0.4 - F1 0.0\n"
     ]
    },
    {
     "name": "stdout",
     "output_type": "stream",
     "text": [
      "epoch 680/2000 - loss 0.829 - acc 0.5 - F1 0.2\n"
     ]
    },
    {
     "name": "stdout",
     "output_type": "stream",
     "text": [
      "epoch 690/2000 - loss 0.828 - acc 0.35 - F1 0.133\n"
     ]
    },
    {
     "name": "stdout",
     "output_type": "stream",
     "text": [
      "epoch 700/2000 - loss 0.828 - acc 0.35 - F1 0.1\n"
     ]
    },
    {
     "name": "stdout",
     "output_type": "stream",
     "text": [
      "epoch 710/2000 - loss 0.825 - acc 0.3 - F1 0.1\n"
     ]
    },
    {
     "name": "stdout",
     "output_type": "stream",
     "text": [
      "epoch 720/2000 - loss 0.822 - acc 0.3 - F1 0.08\n"
     ]
    },
    {
     "name": "stdout",
     "output_type": "stream",
     "text": [
      "epoch 730/2000 - loss 0.82 - acc 0.35 - F1 0.08\n"
     ]
    },
    {
     "name": "stdout",
     "output_type": "stream",
     "text": [
      "epoch 740/2000 - loss 0.828 - acc 0.35 - F1 0.0\n"
     ]
    },
    {
     "name": "stdout",
     "output_type": "stream",
     "text": [
      "epoch 750/2000 - loss 0.825 - acc 0.45 - F1 0.16\n"
     ]
    },
    {
     "name": "stdout",
     "output_type": "stream",
     "text": [
      "epoch 760/2000 - loss 0.824 - acc 0.35 - F1 0.0\n"
     ]
    },
    {
     "name": "stdout",
     "output_type": "stream",
     "text": [
      "epoch 770/2000 - loss 0.815 - acc 0.45 - F1 0.08\n"
     ]
    },
    {
     "name": "stdout",
     "output_type": "stream",
     "text": [
      "epoch 780/2000 - loss 0.82 - acc 0.4 - F1 0.1\n"
     ]
    },
    {
     "name": "stdout",
     "output_type": "stream",
     "text": [
      "epoch 790/2000 - loss 0.816 - acc 0.3 - F1 0.1\n"
     ]
    },
    {
     "name": "stdout",
     "output_type": "stream",
     "text": [
      "epoch 800/2000 - loss 0.82 - acc 0.5 - F1 0.16\n"
     ]
    },
    {
     "name": "stdout",
     "output_type": "stream",
     "text": [
      "epoch 810/2000 - loss 0.822 - acc 0.3 - F1 0.08\n"
     ]
    },
    {
     "name": "stdout",
     "output_type": "stream",
     "text": [
      "epoch 820/2000 - loss 0.813 - acc 0.35 - F1 0.0\n"
     ]
    },
    {
     "name": "stdout",
     "output_type": "stream",
     "text": [
      "epoch 830/2000 - loss 0.813 - acc 0.3 - F1 0.0\n"
     ]
    },
    {
     "name": "stdout",
     "output_type": "stream",
     "text": [
      "epoch 840/2000 - loss 0.837 - acc 0.45 - F1 0.08\n"
     ]
    },
    {
     "name": "stdout",
     "output_type": "stream",
     "text": [
      "epoch 850/2000 - loss 0.814 - acc 0.3 - F1 0.1\n"
     ]
    },
    {
     "name": "stdout",
     "output_type": "stream",
     "text": [
      "epoch 860/2000 - loss 0.814 - acc 0.35 - F1 0.16\n"
     ]
    },
    {
     "name": "stdout",
     "output_type": "stream",
     "text": [
      "epoch 870/2000 - loss 0.814 - acc 0.35 - F1 0.08\n"
     ]
    },
    {
     "name": "stdout",
     "output_type": "stream",
     "text": [
      "epoch 880/2000 - loss 0.816 - acc 0.55 - F1 0.1\n"
     ]
    },
    {
     "name": "stdout",
     "output_type": "stream",
     "text": [
      "epoch 890/2000 - loss 0.804 - acc 0.3 - F1 0.08\n"
     ]
    },
    {
     "name": "stdout",
     "output_type": "stream",
     "text": [
      "epoch 900/2000 - loss 0.82 - acc 0.4 - F1 0.1\n"
     ]
    },
    {
     "name": "stdout",
     "output_type": "stream",
     "text": [
      "epoch 910/2000 - loss 0.81 - acc 0.4 - F1 0.16\n"
     ]
    },
    {
     "name": "stdout",
     "output_type": "stream",
     "text": [
      "epoch 920/2000 - loss 0.829 - acc 0.45 - F1 0.08\n"
     ]
    },
    {
     "name": "stdout",
     "output_type": "stream",
     "text": [
      "epoch 930/2000 - loss 0.806 - acc 0.35 - F1 0.08\n"
     ]
    },
    {
     "name": "stdout",
     "output_type": "stream",
     "text": [
      "epoch 940/2000 - loss 0.842 - acc 0.35 - F1 0.08\n"
     ]
    },
    {
     "name": "stdout",
     "output_type": "stream",
     "text": [
      "epoch 950/2000 - loss 0.789 - acc 0.4 - F1 0.08\n"
     ]
    },
    {
     "name": "stdout",
     "output_type": "stream",
     "text": [
      "epoch 960/2000 - loss 0.805 - acc 0.4 - F1 0.1\n"
     ]
    },
    {
     "name": "stdout",
     "output_type": "stream",
     "text": [
      "epoch 970/2000 - loss 0.819 - acc 0.45 - F1 0.08\n"
     ]
    },
    {
     "name": "stdout",
     "output_type": "stream",
     "text": [
      "epoch 980/2000 - loss 0.789 - acc 0.45 - F1 0.08\n"
     ]
    },
    {
     "name": "stdout",
     "output_type": "stream",
     "text": [
      "epoch 990/2000 - loss 0.824 - acc 0.35 - F1 0.08\n"
     ]
    },
    {
     "name": "stdout",
     "output_type": "stream",
     "text": [
      "epoch 1000/2000 - loss 0.803 - acc 0.4 - F1 0.08\n"
     ]
    },
    {
     "name": "stdout",
     "output_type": "stream",
     "text": [
      "epoch 1010/2000 - loss 0.795 - acc 0.35 - F1 0.08\n"
     ]
    },
    {
     "name": "stdout",
     "output_type": "stream",
     "text": [
      "epoch 1020/2000 - loss 0.785 - acc 0.45 - F1 0.133\n"
     ]
    },
    {
     "name": "stdout",
     "output_type": "stream",
     "text": [
      "epoch 1030/2000 - loss 0.819 - acc 0.4 - F1 0.16\n"
     ]
    },
    {
     "name": "stdout",
     "output_type": "stream",
     "text": [
      "epoch 1040/2000 - loss 0.81 - acc 0.5 - F1 0.0\n"
     ]
    },
    {
     "name": "stdout",
     "output_type": "stream",
     "text": [
      "epoch 1050/2000 - loss 0.814 - acc 0.5 - F1 0.16\n"
     ]
    },
    {
     "name": "stdout",
     "output_type": "stream",
     "text": [
      "epoch 1060/2000 - loss 0.803 - acc 0.45 - F1 0.16\n"
     ]
    },
    {
     "name": "stdout",
     "output_type": "stream",
     "text": [
      "epoch 1070/2000 - loss 0.799 - acc 0.55 - F1 0.16\n"
     ]
    },
    {
     "name": "stdout",
     "output_type": "stream",
     "text": [
      "epoch 1080/2000 - loss 0.799 - acc 0.3 - F1 0.08\n"
     ]
    },
    {
     "name": "stdout",
     "output_type": "stream",
     "text": [
      "epoch 1090/2000 - loss 0.79 - acc 0.5 - F1 0.16\n"
     ]
    },
    {
     "name": "stdout",
     "output_type": "stream",
     "text": [
      "epoch 1100/2000 - loss 0.808 - acc 0.55 - F1 0.0\n"
     ]
    },
    {
     "name": "stdout",
     "output_type": "stream",
     "text": [
      "epoch 1110/2000 - loss 0.813 - acc 0.4 - F1 0.1\n"
     ]
    },
    {
     "name": "stdout",
     "output_type": "stream",
     "text": [
      "epoch 1120/2000 - loss 0.805 - acc 0.5 - F1 0.133\n"
     ]
    },
    {
     "name": "stdout",
     "output_type": "stream",
     "text": [
      "epoch 1130/2000 - loss 0.799 - acc 0.55 - F1 0.133\n"
     ]
    },
    {
     "name": "stdout",
     "output_type": "stream",
     "text": [
      "epoch 1140/2000 - loss 0.807 - acc 0.5 - F1 0.16\n"
     ]
    },
    {
     "name": "stdout",
     "output_type": "stream",
     "text": [
      "epoch 1150/2000 - loss 0.818 - acc 0.5 - F1 0.133\n"
     ]
    },
    {
     "name": "stdout",
     "output_type": "stream",
     "text": [
      "epoch 1160/2000 - loss 0.785 - acc 0.45 - F1 0.2\n"
     ]
    },
    {
     "name": "stdout",
     "output_type": "stream",
     "text": [
      "epoch 1170/2000 - loss 0.795 - acc 0.55 - F1 0.133\n"
     ]
    },
    {
     "name": "stdout",
     "output_type": "stream",
     "text": [
      "epoch 1180/2000 - loss 0.814 - acc 0.5 - F1 0.16\n"
     ]
    },
    {
     "name": "stdout",
     "output_type": "stream",
     "text": [
      "epoch 1190/2000 - loss 0.808 - acc 0.55 - F1 0.2\n"
     ]
    },
    {
     "name": "stdout",
     "output_type": "stream",
     "text": [
      "epoch 1200/2000 - loss 0.783 - acc 0.45 - F1 0.1\n"
     ]
    },
    {
     "name": "stdout",
     "output_type": "stream",
     "text": [
      "epoch 1210/2000 - loss 0.794 - acc 0.6 - F1 0.133\n"
     ]
    },
    {
     "name": "stdout",
     "output_type": "stream",
     "text": [
      "epoch 1220/2000 - loss 0.782 - acc 0.55 - F1 0.08\n"
     ]
    },
    {
     "name": "stdout",
     "output_type": "stream",
     "text": [
      "epoch 1230/2000 - loss 0.786 - acc 0.45 - F1 0.0\n"
     ]
    },
    {
     "name": "stdout",
     "output_type": "stream",
     "text": [
      "epoch 1240/2000 - loss 0.841 - acc 0.55 - F1 0.1\n"
     ]
    },
    {
     "name": "stdout",
     "output_type": "stream",
     "text": [
      "epoch 1250/2000 - loss 0.795 - acc 0.5 - F1 0.1\n"
     ]
    },
    {
     "name": "stdout",
     "output_type": "stream",
     "text": [
      "epoch 1260/2000 - loss 0.783 - acc 0.6 - F1 0.133\n"
     ]
    },
    {
     "name": "stdout",
     "output_type": "stream",
     "text": [
      "epoch 1270/2000 - loss 0.786 - acc 0.5 - F1 0.1\n"
     ]
    },
    {
     "name": "stdout",
     "output_type": "stream",
     "text": [
      "epoch 1280/2000 - loss 0.789 - acc 0.55 - F1 0.1\n"
     ]
    },
    {
     "name": "stdout",
     "output_type": "stream",
     "text": [
      "epoch 1290/2000 - loss 0.795 - acc 0.55 - F1 0.1\n"
     ]
    },
    {
     "name": "stdout",
     "output_type": "stream",
     "text": [
      "epoch 1300/2000 - loss 0.781 - acc 0.6 - F1 0.133\n"
     ]
    },
    {
     "name": "stdout",
     "output_type": "stream",
     "text": [
      "epoch 1310/2000 - loss 0.783 - acc 0.6 - F1 0.133\n"
     ]
    },
    {
     "name": "stdout",
     "output_type": "stream",
     "text": [
      "epoch 1320/2000 - loss 0.805 - acc 0.45 - F1 0.0\n"
     ]
    },
    {
     "name": "stdout",
     "output_type": "stream",
     "text": [
      "epoch 1330/2000 - loss 0.774 - acc 0.6 - F1 0.2\n"
     ]
    },
    {
     "name": "stdout",
     "output_type": "stream",
     "text": [
      "epoch 1340/2000 - loss 0.828 - acc 0.5 - F1 0.1\n"
     ]
    },
    {
     "name": "stdout",
     "output_type": "stream",
     "text": [
      "epoch 1350/2000 - loss 0.802 - acc 0.65 - F1 0.16\n"
     ]
    },
    {
     "name": "stdout",
     "output_type": "stream",
     "text": [
      "epoch 1360/2000 - loss 0.774 - acc 0.6 - F1 0.16\n"
     ]
    },
    {
     "name": "stdout",
     "output_type": "stream",
     "text": [
      "epoch 1370/2000 - loss 0.774 - acc 0.5 - F1 0.1\n"
     ]
    },
    {
     "name": "stdout",
     "output_type": "stream",
     "text": [
      "epoch 1380/2000 - loss 0.774 - acc 0.55 - F1 0.16\n"
     ]
    },
    {
     "name": "stdout",
     "output_type": "stream",
     "text": [
      "epoch 1390/2000 - loss 0.766 - acc 0.6 - F1 0.0\n"
     ]
    },
    {
     "name": "stdout",
     "output_type": "stream",
     "text": [
      "epoch 1400/2000 - loss 0.789 - acc 0.6 - F1 0.16\n"
     ]
    },
    {
     "name": "stdout",
     "output_type": "stream",
     "text": [
      "epoch 1410/2000 - loss 0.761 - acc 0.7 - F1 0.133\n"
     ]
    },
    {
     "name": "stdout",
     "output_type": "stream",
     "text": [
      "epoch 1420/2000 - loss 0.776 - acc 0.7 - F1 0.171\n"
     ]
    },
    {
     "name": "stdout",
     "output_type": "stream",
     "text": [
      "epoch 1430/2000 - loss 0.786 - acc 0.4 - F1 0.1\n"
     ]
    },
    {
     "name": "stdout",
     "output_type": "stream",
     "text": [
      "epoch 1440/2000 - loss 0.813 - acc 0.65 - F1 0.16\n"
     ]
    },
    {
     "name": "stdout",
     "output_type": "stream",
     "text": [
      "epoch 1450/2000 - loss 0.753 - acc 0.65 - F1 0.133\n"
     ]
    },
    {
     "name": "stdout",
     "output_type": "stream",
     "text": [
      "epoch 1460/2000 - loss 0.787 - acc 0.55 - F1 0.08\n"
     ]
    },
    {
     "name": "stdout",
     "output_type": "stream",
     "text": [
      "epoch 1470/2000 - loss 0.805 - acc 0.55 - F1 0.1\n"
     ]
    },
    {
     "name": "stdout",
     "output_type": "stream",
     "text": [
      "epoch 1480/2000 - loss 0.777 - acc 0.6 - F1 0.16\n"
     ]
    },
    {
     "name": "stdout",
     "output_type": "stream",
     "text": [
      "epoch 1490/2000 - loss 0.77 - acc 0.7 - F1 0.16\n"
     ]
    },
    {
     "name": "stdout",
     "output_type": "stream",
     "text": [
      "epoch 1500/2000 - loss 0.736 - acc 0.65 - F1 0.0\n"
     ]
    },
    {
     "name": "stdout",
     "output_type": "stream",
     "text": [
      "epoch 1510/2000 - loss 0.726 - acc 0.6 - F1 0.16\n"
     ]
    },
    {
     "name": "stdout",
     "output_type": "stream",
     "text": [
      "epoch 1520/2000 - loss 0.798 - acc 0.75 - F1 0.1\n"
     ]
    },
    {
     "name": "stdout",
     "output_type": "stream",
     "text": [
      "epoch 1530/2000 - loss 0.807 - acc 0.55 - F1 0.1\n"
     ]
    },
    {
     "name": "stdout",
     "output_type": "stream",
     "text": [
      "epoch 1540/2000 - loss 0.78 - acc 0.75 - F1 0.0\n"
     ]
    },
    {
     "name": "stdout",
     "output_type": "stream",
     "text": [
      "epoch 1550/2000 - loss 0.803 - acc 0.75 - F1 0.16\n"
     ]
    },
    {
     "name": "stdout",
     "output_type": "stream",
     "text": [
      "epoch 1560/2000 - loss 0.825 - acc 0.8 - F1 0.133\n"
     ]
    },
    {
     "name": "stdout",
     "output_type": "stream",
     "text": [
      "epoch 1570/2000 - loss 0.814 - acc 0.65 - F1 0.16\n"
     ]
    },
    {
     "name": "stdout",
     "output_type": "stream",
     "text": [
      "epoch 1580/2000 - loss 0.757 - acc 0.7 - F1 0.2\n"
     ]
    },
    {
     "name": "stdout",
     "output_type": "stream",
     "text": [
      "epoch 1590/2000 - loss 0.713 - acc 0.5 - F1 0.16\n"
     ]
    },
    {
     "name": "stdout",
     "output_type": "stream",
     "text": [
      "epoch 1600/2000 - loss 0.753 - acc 0.7 - F1 0.16\n"
     ]
    },
    {
     "name": "stdout",
     "output_type": "stream",
     "text": [
      "epoch 1610/2000 - loss 0.755 - acc 0.55 - F1 0.16\n"
     ]
    },
    {
     "name": "stdout",
     "output_type": "stream",
     "text": [
      "epoch 1620/2000 - loss 0.825 - acc 0.6 - F1 0.1\n"
     ]
    },
    {
     "name": "stdout",
     "output_type": "stream",
     "text": [
      "epoch 1630/2000 - loss 0.777 - acc 0.7 - F1 0.16\n"
     ]
    },
    {
     "name": "stdout",
     "output_type": "stream",
     "text": [
      "epoch 1640/2000 - loss 0.799 - acc 0.8 - F1 0.16\n"
     ]
    },
    {
     "name": "stdout",
     "output_type": "stream",
     "text": [
      "epoch 1650/2000 - loss 0.743 - acc 0.65 - F1 0.16\n"
     ]
    },
    {
     "name": "stdout",
     "output_type": "stream",
     "text": [
      "epoch 1660/2000 - loss 0.744 - acc 0.6 - F1 0.0\n"
     ]
    },
    {
     "name": "stdout",
     "output_type": "stream",
     "text": [
      "epoch 1670/2000 - loss 0.808 - acc 0.5 - F1 0.16\n"
     ]
    },
    {
     "name": "stdout",
     "output_type": "stream",
     "text": [
      "epoch 1680/2000 - loss 0.733 - acc 0.65 - F1 0.1\n"
     ]
    },
    {
     "name": "stdout",
     "output_type": "stream",
     "text": [
      "epoch 1690/2000 - loss 0.771 - acc 0.65 - F1 0.16\n"
     ]
    },
    {
     "name": "stdout",
     "output_type": "stream",
     "text": [
      "epoch 1700/2000 - loss 0.807 - acc 0.65 - F1 0.133\n"
     ]
    },
    {
     "name": "stdout",
     "output_type": "stream",
     "text": [
      "epoch 1710/2000 - loss 0.773 - acc 0.7 - F1 0.0\n"
     ]
    },
    {
     "name": "stdout",
     "output_type": "stream",
     "text": [
      "epoch 1720/2000 - loss 0.834 - acc 0.65 - F1 0.1\n"
     ]
    },
    {
     "name": "stdout",
     "output_type": "stream",
     "text": [
      "epoch 1730/2000 - loss 0.776 - acc 0.75 - F1 0.1\n"
     ]
    },
    {
     "name": "stdout",
     "output_type": "stream",
     "text": [
      "epoch 1740/2000 - loss 0.802 - acc 0.7 - F1 0.16\n"
     ]
    },
    {
     "name": "stdout",
     "output_type": "stream",
     "text": [
      "epoch 1750/2000 - loss 0.798 - acc 0.7 - F1 0.2\n"
     ]
    },
    {
     "name": "stdout",
     "output_type": "stream",
     "text": [
      "epoch 1760/2000 - loss 0.769 - acc 0.75 - F1 0.16\n"
     ]
    },
    {
     "name": "stdout",
     "output_type": "stream",
     "text": [
      "epoch 1770/2000 - loss 0.766 - acc 0.75 - F1 0.16\n"
     ]
    },
    {
     "name": "stdout",
     "output_type": "stream",
     "text": [
      "epoch 1780/2000 - loss 0.766 - acc 0.65 - F1 0.1\n"
     ]
    },
    {
     "name": "stdout",
     "output_type": "stream",
     "text": [
      "epoch 1790/2000 - loss 0.79 - acc 0.7 - F1 0.2\n"
     ]
    },
    {
     "name": "stdout",
     "output_type": "stream",
     "text": [
      "epoch 1800/2000 - loss 0.749 - acc 0.7 - F1 0.16\n"
     ]
    },
    {
     "name": "stdout",
     "output_type": "stream",
     "text": [
      "epoch 1810/2000 - loss 0.805 - acc 0.6 - F1 0.1\n"
     ]
    },
    {
     "name": "stdout",
     "output_type": "stream",
     "text": [
      "epoch 1820/2000 - loss 0.808 - acc 0.7 - F1 0.1\n"
     ]
    },
    {
     "name": "stdout",
     "output_type": "stream",
     "text": [
      "epoch 1830/2000 - loss 0.702 - acc 0.7 - F1 0.1\n"
     ]
    },
    {
     "name": "stdout",
     "output_type": "stream",
     "text": [
      "epoch 1840/2000 - loss 0.757 - acc 0.8 - F1 0.2\n"
     ]
    },
    {
     "name": "stdout",
     "output_type": "stream",
     "text": [
      "epoch 1850/2000 - loss 0.745 - acc 0.65 - F1 0.1\n"
     ]
    },
    {
     "name": "stdout",
     "output_type": "stream",
     "text": [
      "epoch 1860/2000 - loss 0.712 - acc 0.75 - F1 0.16\n"
     ]
    },
    {
     "name": "stdout",
     "output_type": "stream",
     "text": [
      "epoch 1870/2000 - loss 0.789 - acc 0.6 - F1 0.16\n"
     ]
    },
    {
     "name": "stdout",
     "output_type": "stream",
     "text": [
      "epoch 1880/2000 - loss 0.753 - acc 0.55 - F1 0.1\n"
     ]
    },
    {
     "name": "stdout",
     "output_type": "stream",
     "text": [
      "epoch 1890/2000 - loss 0.814 - acc 0.65 - F1 0.16\n"
     ]
    },
    {
     "name": "stdout",
     "output_type": "stream",
     "text": [
      "epoch 1900/2000 - loss 0.728 - acc 0.65 - F1 0.1\n"
     ]
    },
    {
     "name": "stdout",
     "output_type": "stream",
     "text": [
      "epoch 1910/2000 - loss 0.789 - acc 0.75 - F1 0.133\n"
     ]
    },
    {
     "name": "stdout",
     "output_type": "stream",
     "text": [
      "epoch 1920/2000 - loss 0.758 - acc 0.8 - F1 0.2\n"
     ]
    },
    {
     "name": "stdout",
     "output_type": "stream",
     "text": [
      "epoch 1930/2000 - loss 0.76 - acc 0.6 - F1 0.16\n"
     ]
    },
    {
     "name": "stdout",
     "output_type": "stream",
     "text": [
      "epoch 1940/2000 - loss 0.742 - acc 0.75 - F1 0.16\n"
     ]
    },
    {
     "name": "stdout",
     "output_type": "stream",
     "text": [
      "epoch 1950/2000 - loss 0.703 - acc 0.8 - F1 0.2\n"
     ]
    },
    {
     "name": "stdout",
     "output_type": "stream",
     "text": [
      "epoch 1960/2000 - loss 0.746 - acc 0.65 - F1 0.16\n"
     ]
    },
    {
     "name": "stdout",
     "output_type": "stream",
     "text": [
      "epoch 1970/2000 - loss 0.683 - acc 0.65 - F1 0.1\n"
     ]
    },
    {
     "name": "stdout",
     "output_type": "stream",
     "text": [
      "epoch 1980/2000 - loss 0.761 - acc 0.6 - F1 0.1\n"
     ]
    },
    {
     "name": "stdout",
     "output_type": "stream",
     "text": [
      "epoch 1990/2000 - loss 0.784 - acc 0.75 - F1 0.16\n"
     ]
    },
    {
     "name": "stderr",
     "output_type": "stream",
     "text": [
      "/kaggle/working/generate_data.py:102: VisibleDeprecationWarning: Creating an ndarray from ragged nested sequences (which is a list-or-tuple of lists-or-tuples-or ndarrays with different lengths or shapes) is deprecated. If you meant to do this, you must specify 'dtype=object' when creating the ndarray.\n",
      "  true = np.array(make_true(train_test_validation, type))\n",
      "/kaggle/working/generate_data.py:103: VisibleDeprecationWarning: Creating an ndarray from ragged nested sequences (which is a list-or-tuple of lists-or-tuples-or ndarrays with different lengths or shapes) is deprecated. If you meant to do this, you must specify 'dtype=object' when creating the ndarray.\n",
      "  false = np.array(make_false(train_test_validation, type))\n",
      "/kaggle/working/generate_data.py:113: VisibleDeprecationWarning: Creating an ndarray from ragged nested sequences (which is a list-or-tuple of lists-or-tuples-or ndarrays with different lengths or shapes) is deprecated. If you meant to do this, you must specify 'dtype=object' when creating the ndarray.\n",
      "  alls = np.array([*true,*false])\n",
      "/kaggle/working/generate_data.py:102: VisibleDeprecationWarning: Creating an ndarray from ragged nested sequences (which is a list-or-tuple of lists-or-tuples-or ndarrays with different lengths or shapes) is deprecated. If you meant to do this, you must specify 'dtype=object' when creating the ndarray.\n",
      "  true = np.array(make_true(train_test_validation, type))\n",
      "/kaggle/working/generate_data.py:103: VisibleDeprecationWarning: Creating an ndarray from ragged nested sequences (which is a list-or-tuple of lists-or-tuples-or ndarrays with different lengths or shapes) is deprecated. If you meant to do this, you must specify 'dtype=object' when creating the ndarray.\n",
      "  false = np.array(make_false(train_test_validation, type))\n",
      "/kaggle/working/generate_data.py:113: VisibleDeprecationWarning: Creating an ndarray from ragged nested sequences (which is a list-or-tuple of lists-or-tuples-or ndarrays with different lengths or shapes) is deprecated. If you meant to do this, you must specify 'dtype=object' when creating the ndarray.\n",
      "  alls = np.array([*true,*false])\n"
     ]
    },
    {
     "name": "stdout",
     "output_type": "stream",
     "text": [
      "Final acc 0.571 - F1 0.1142857142857143\n",
      "Training with lr 1e-05 and size 8\n",
      "epoch 0/2000 - loss 0.837 - acc 0.45 - F1 0.16\n"
     ]
    },
    {
     "name": "stdout",
     "output_type": "stream",
     "text": [
      "epoch 10/2000 - loss 0.837 - acc 0.45 - F1 0.0\n"
     ]
    },
    {
     "name": "stdout",
     "output_type": "stream",
     "text": [
      "epoch 20/2000 - loss 0.836 - acc 0.5 - F1 0.133\n"
     ]
    },
    {
     "name": "stdout",
     "output_type": "stream",
     "text": [
      "epoch 30/2000 - loss 0.837 - acc 0.55 - F1 0.133\n"
     ]
    },
    {
     "name": "stdout",
     "output_type": "stream",
     "text": [
      "epoch 40/2000 - loss 0.837 - acc 0.55 - F1 0.1\n"
     ]
    },
    {
     "name": "stdout",
     "output_type": "stream",
     "text": [
      "epoch 50/2000 - loss 0.837 - acc 0.55 - F1 0.133\n"
     ]
    },
    {
     "name": "stdout",
     "output_type": "stream",
     "text": [
      "epoch 60/2000 - loss 0.836 - acc 0.5 - F1 0.16\n"
     ]
    },
    {
     "name": "stdout",
     "output_type": "stream",
     "text": [
      "epoch 70/2000 - loss 0.837 - acc 0.55 - F1 0.08\n"
     ]
    },
    {
     "name": "stdout",
     "output_type": "stream",
     "text": [
      "epoch 80/2000 - loss 0.836 - acc 0.5 - F1 0.2\n"
     ]
    },
    {
     "name": "stdout",
     "output_type": "stream",
     "text": [
      "epoch 90/2000 - loss 0.836 - acc 0.5 - F1 0.1\n"
     ]
    },
    {
     "name": "stdout",
     "output_type": "stream",
     "text": [
      "epoch 100/2000 - loss 0.837 - acc 0.55 - F1 0.133\n"
     ]
    },
    {
     "name": "stdout",
     "output_type": "stream",
     "text": [
      "epoch 110/2000 - loss 0.836 - acc 0.55 - F1 0.0\n"
     ]
    },
    {
     "name": "stdout",
     "output_type": "stream",
     "text": [
      "epoch 120/2000 - loss 0.836 - acc 0.45 - F1 0.1\n"
     ]
    },
    {
     "name": "stdout",
     "output_type": "stream",
     "text": [
      "epoch 130/2000 - loss 0.837 - acc 0.6 - F1 0.16\n"
     ]
    },
    {
     "name": "stdout",
     "output_type": "stream",
     "text": [
      "epoch 140/2000 - loss 0.836 - acc 0.45 - F1 0.133\n"
     ]
    },
    {
     "name": "stdout",
     "output_type": "stream",
     "text": [
      "epoch 150/2000 - loss 0.835 - acc 0.6 - F1 0.171\n"
     ]
    },
    {
     "name": "stdout",
     "output_type": "stream",
     "text": [
      "epoch 160/2000 - loss 0.835 - acc 0.55 - F1 0.2\n"
     ]
    },
    {
     "name": "stdout",
     "output_type": "stream",
     "text": [
      "epoch 170/2000 - loss 0.836 - acc 0.6 - F1 0.2\n"
     ]
    },
    {
     "name": "stdout",
     "output_type": "stream",
     "text": [
      "epoch 180/2000 - loss 0.837 - acc 0.5 - F1 0.133\n"
     ]
    },
    {
     "name": "stdout",
     "output_type": "stream",
     "text": [
      "epoch 190/2000 - loss 0.836 - acc 0.6 - F1 0.08\n"
     ]
    },
    {
     "name": "stdout",
     "output_type": "stream",
     "text": [
      "epoch 200/2000 - loss 0.836 - acc 0.6 - F1 0.16\n"
     ]
    },
    {
     "name": "stdout",
     "output_type": "stream",
     "text": [
      "epoch 210/2000 - loss 0.836 - acc 0.5 - F1 0.16\n"
     ]
    },
    {
     "name": "stdout",
     "output_type": "stream",
     "text": [
      "epoch 220/2000 - loss 0.836 - acc 0.6 - F1 0.1\n"
     ]
    },
    {
     "name": "stdout",
     "output_type": "stream",
     "text": [
      "epoch 230/2000 - loss 0.836 - acc 0.55 - F1 0.133\n"
     ]
    },
    {
     "name": "stdout",
     "output_type": "stream",
     "text": [
      "epoch 240/2000 - loss 0.836 - acc 0.6 - F1 0.2\n"
     ]
    },
    {
     "name": "stdout",
     "output_type": "stream",
     "text": [
      "epoch 250/2000 - loss 0.835 - acc 0.5 - F1 0.16\n"
     ]
    },
    {
     "name": "stdout",
     "output_type": "stream",
     "text": [
      "epoch 260/2000 - loss 0.836 - acc 0.5 - F1 0.133\n"
     ]
    },
    {
     "name": "stdout",
     "output_type": "stream",
     "text": [
      "epoch 270/2000 - loss 0.836 - acc 0.6 - F1 0.1\n"
     ]
    },
    {
     "name": "stdout",
     "output_type": "stream",
     "text": [
      "epoch 280/2000 - loss 0.835 - acc 0.5 - F1 0.133\n"
     ]
    },
    {
     "name": "stdout",
     "output_type": "stream",
     "text": [
      "epoch 290/2000 - loss 0.835 - acc 0.55 - F1 0.0\n"
     ]
    },
    {
     "name": "stdout",
     "output_type": "stream",
     "text": [
      "epoch 300/2000 - loss 0.835 - acc 0.55 - F1 0.171\n"
     ]
    },
    {
     "name": "stdout",
     "output_type": "stream",
     "text": [
      "epoch 310/2000 - loss 0.834 - acc 0.55 - F1 0.2\n"
     ]
    },
    {
     "name": "stdout",
     "output_type": "stream",
     "text": [
      "epoch 320/2000 - loss 0.835 - acc 0.55 - F1 0.1\n"
     ]
    },
    {
     "name": "stdout",
     "output_type": "stream",
     "text": [
      "epoch 330/2000 - loss 0.836 - acc 0.55 - F1 0.08\n"
     ]
    },
    {
     "name": "stdout",
     "output_type": "stream",
     "text": [
      "epoch 340/2000 - loss 0.834 - acc 0.5 - F1 0.08\n"
     ]
    },
    {
     "name": "stdout",
     "output_type": "stream",
     "text": [
      "epoch 350/2000 - loss 0.834 - acc 0.55 - F1 0.133\n"
     ]
    },
    {
     "name": "stdout",
     "output_type": "stream",
     "text": [
      "epoch 360/2000 - loss 0.834 - acc 0.55 - F1 0.16\n"
     ]
    },
    {
     "name": "stdout",
     "output_type": "stream",
     "text": [
      "epoch 370/2000 - loss 0.833 - acc 0.55 - F1 0.0\n"
     ]
    },
    {
     "name": "stdout",
     "output_type": "stream",
     "text": [
      "epoch 380/2000 - loss 0.832 - acc 0.55 - F1 0.0\n"
     ]
    },
    {
     "name": "stdout",
     "output_type": "stream",
     "text": [
      "epoch 390/2000 - loss 0.833 - acc 0.5 - F1 0.16\n"
     ]
    },
    {
     "name": "stdout",
     "output_type": "stream",
     "text": [
      "epoch 400/2000 - loss 0.834 - acc 0.45 - F1 0.1\n"
     ]
    },
    {
     "name": "stdout",
     "output_type": "stream",
     "text": [
      "epoch 410/2000 - loss 0.835 - acc 0.5 - F1 0.0\n"
     ]
    },
    {
     "name": "stdout",
     "output_type": "stream",
     "text": [
      "epoch 420/2000 - loss 0.834 - acc 0.5 - F1 0.133\n"
     ]
    },
    {
     "name": "stdout",
     "output_type": "stream",
     "text": [
      "epoch 430/2000 - loss 0.833 - acc 0.6 - F1 0.1\n"
     ]
    },
    {
     "name": "stdout",
     "output_type": "stream",
     "text": [
      "epoch 440/2000 - loss 0.833 - acc 0.55 - F1 0.0\n"
     ]
    },
    {
     "name": "stdout",
     "output_type": "stream",
     "text": [
      "epoch 450/2000 - loss 0.834 - acc 0.55 - F1 0.1\n"
     ]
    },
    {
     "name": "stdout",
     "output_type": "stream",
     "text": [
      "epoch 460/2000 - loss 0.832 - acc 0.55 - F1 0.08\n"
     ]
    },
    {
     "name": "stdout",
     "output_type": "stream",
     "text": [
      "epoch 470/2000 - loss 0.836 - acc 0.4 - F1 0.133\n"
     ]
    },
    {
     "name": "stdout",
     "output_type": "stream",
     "text": [
      "epoch 480/2000 - loss 0.832 - acc 0.55 - F1 0.2\n"
     ]
    },
    {
     "name": "stdout",
     "output_type": "stream",
     "text": [
      "epoch 490/2000 - loss 0.83 - acc 0.5 - F1 0.08\n"
     ]
    },
    {
     "name": "stdout",
     "output_type": "stream",
     "text": [
      "epoch 500/2000 - loss 0.832 - acc 0.6 - F1 0.133\n"
     ]
    },
    {
     "name": "stdout",
     "output_type": "stream",
     "text": [
      "epoch 510/2000 - loss 0.83 - acc 0.55 - F1 0.16\n"
     ]
    },
    {
     "name": "stdout",
     "output_type": "stream",
     "text": [
      "epoch 520/2000 - loss 0.836 - acc 0.55 - F1 0.133\n"
     ]
    },
    {
     "name": "stdout",
     "output_type": "stream",
     "text": [
      "epoch 530/2000 - loss 0.835 - acc 0.55 - F1 0.1\n"
     ]
    },
    {
     "name": "stdout",
     "output_type": "stream",
     "text": [
      "epoch 540/2000 - loss 0.831 - acc 0.6 - F1 0.16\n"
     ]
    },
    {
     "name": "stdout",
     "output_type": "stream",
     "text": [
      "epoch 550/2000 - loss 0.833 - acc 0.6 - F1 0.0\n"
     ]
    },
    {
     "name": "stdout",
     "output_type": "stream",
     "text": [
      "epoch 560/2000 - loss 0.829 - acc 0.6 - F1 0.0\n"
     ]
    },
    {
     "name": "stdout",
     "output_type": "stream",
     "text": [
      "epoch 570/2000 - loss 0.832 - acc 0.55 - F1 0.0\n"
     ]
    },
    {
     "name": "stdout",
     "output_type": "stream",
     "text": [
      "epoch 580/2000 - loss 0.831 - acc 0.5 - F1 0.133\n"
     ]
    },
    {
     "name": "stdout",
     "output_type": "stream",
     "text": [
      "epoch 590/2000 - loss 0.826 - acc 0.55 - F1 0.1\n"
     ]
    },
    {
     "name": "stdout",
     "output_type": "stream",
     "text": [
      "epoch 600/2000 - loss 0.834 - acc 0.5 - F1 0.0\n"
     ]
    },
    {
     "name": "stdout",
     "output_type": "stream",
     "text": [
      "epoch 610/2000 - loss 0.833 - acc 0.5 - F1 0.0\n"
     ]
    },
    {
     "name": "stdout",
     "output_type": "stream",
     "text": [
      "epoch 620/2000 - loss 0.829 - acc 0.5 - F1 0.133\n"
     ]
    },
    {
     "name": "stdout",
     "output_type": "stream",
     "text": [
      "epoch 630/2000 - loss 0.833 - acc 0.55 - F1 0.16\n"
     ]
    },
    {
     "name": "stdout",
     "output_type": "stream",
     "text": [
      "epoch 640/2000 - loss 0.825 - acc 0.5 - F1 0.133\n"
     ]
    },
    {
     "name": "stdout",
     "output_type": "stream",
     "text": [
      "epoch 650/2000 - loss 0.829 - acc 0.6 - F1 0.133\n"
     ]
    },
    {
     "name": "stdout",
     "output_type": "stream",
     "text": [
      "epoch 660/2000 - loss 0.827 - acc 0.55 - F1 0.133\n"
     ]
    },
    {
     "name": "stdout",
     "output_type": "stream",
     "text": [
      "epoch 670/2000 - loss 0.827 - acc 0.55 - F1 0.133\n"
     ]
    },
    {
     "name": "stdout",
     "output_type": "stream",
     "text": [
      "epoch 680/2000 - loss 0.823 - acc 0.6 - F1 0.133\n"
     ]
    },
    {
     "name": "stdout",
     "output_type": "stream",
     "text": [
      "epoch 690/2000 - loss 0.823 - acc 0.5 - F1 0.08\n"
     ]
    },
    {
     "name": "stdout",
     "output_type": "stream",
     "text": [
      "epoch 700/2000 - loss 0.823 - acc 0.55 - F1 0.16\n"
     ]
    },
    {
     "name": "stdout",
     "output_type": "stream",
     "text": [
      "epoch 710/2000 - loss 0.823 - acc 0.55 - F1 0.16\n"
     ]
    },
    {
     "name": "stdout",
     "output_type": "stream",
     "text": [
      "epoch 720/2000 - loss 0.822 - acc 0.55 - F1 0.16\n"
     ]
    },
    {
     "name": "stdout",
     "output_type": "stream",
     "text": [
      "epoch 730/2000 - loss 0.825 - acc 0.5 - F1 0.1\n"
     ]
    },
    {
     "name": "stdout",
     "output_type": "stream",
     "text": [
      "epoch 740/2000 - loss 0.823 - acc 0.55 - F1 0.1\n"
     ]
    },
    {
     "name": "stdout",
     "output_type": "stream",
     "text": [
      "epoch 750/2000 - loss 0.836 - acc 0.5 - F1 0.16\n"
     ]
    },
    {
     "name": "stdout",
     "output_type": "stream",
     "text": [
      "epoch 760/2000 - loss 0.821 - acc 0.55 - F1 0.133\n"
     ]
    },
    {
     "name": "stdout",
     "output_type": "stream",
     "text": [
      "epoch 770/2000 - loss 0.83 - acc 0.55 - F1 0.1\n"
     ]
    },
    {
     "name": "stdout",
     "output_type": "stream",
     "text": [
      "epoch 780/2000 - loss 0.816 - acc 0.6 - F1 0.0\n"
     ]
    },
    {
     "name": "stdout",
     "output_type": "stream",
     "text": [
      "epoch 790/2000 - loss 0.816 - acc 0.55 - F1 0.16\n"
     ]
    },
    {
     "name": "stdout",
     "output_type": "stream",
     "text": [
      "epoch 800/2000 - loss 0.816 - acc 0.5 - F1 0.1\n"
     ]
    },
    {
     "name": "stdout",
     "output_type": "stream",
     "text": [
      "epoch 810/2000 - loss 0.829 - acc 0.5 - F1 0.08\n"
     ]
    },
    {
     "name": "stdout",
     "output_type": "stream",
     "text": [
      "epoch 820/2000 - loss 0.819 - acc 0.45 - F1 0.08\n"
     ]
    },
    {
     "name": "stdout",
     "output_type": "stream",
     "text": [
      "epoch 830/2000 - loss 0.82 - acc 0.5 - F1 0.133\n"
     ]
    },
    {
     "name": "stdout",
     "output_type": "stream",
     "text": [
      "epoch 840/2000 - loss 0.82 - acc 0.65 - F1 0.1\n"
     ]
    },
    {
     "name": "stdout",
     "output_type": "stream",
     "text": [
      "epoch 850/2000 - loss 0.82 - acc 0.5 - F1 0.133\n"
     ]
    },
    {
     "name": "stdout",
     "output_type": "stream",
     "text": [
      "epoch 860/2000 - loss 0.82 - acc 0.4 - F1 0.08\n"
     ]
    },
    {
     "name": "stdout",
     "output_type": "stream",
     "text": [
      "epoch 870/2000 - loss 0.813 - acc 0.5 - F1 0.08\n"
     ]
    },
    {
     "name": "stdout",
     "output_type": "stream",
     "text": [
      "epoch 880/2000 - loss 0.82 - acc 0.5 - F1 0.1\n"
     ]
    },
    {
     "name": "stdout",
     "output_type": "stream",
     "text": [
      "epoch 890/2000 - loss 0.809 - acc 0.65 - F1 0.133\n"
     ]
    },
    {
     "name": "stdout",
     "output_type": "stream",
     "text": [
      "epoch 900/2000 - loss 0.819 - acc 0.55 - F1 0.16\n"
     ]
    },
    {
     "name": "stdout",
     "output_type": "stream",
     "text": [
      "epoch 910/2000 - loss 0.813 - acc 0.6 - F1 0.2\n"
     ]
    },
    {
     "name": "stdout",
     "output_type": "stream",
     "text": [
      "epoch 920/2000 - loss 0.812 - acc 0.55 - F1 0.2\n"
     ]
    },
    {
     "name": "stdout",
     "output_type": "stream",
     "text": [
      "epoch 930/2000 - loss 0.814 - acc 0.45 - F1 0.133\n"
     ]
    },
    {
     "name": "stdout",
     "output_type": "stream",
     "text": [
      "epoch 940/2000 - loss 0.817 - acc 0.55 - F1 0.1\n"
     ]
    },
    {
     "name": "stdout",
     "output_type": "stream",
     "text": [
      "epoch 950/2000 - loss 0.815 - acc 0.55 - F1 0.08\n"
     ]
    },
    {
     "name": "stdout",
     "output_type": "stream",
     "text": [
      "epoch 960/2000 - loss 0.805 - acc 0.65 - F1 0.133\n"
     ]
    },
    {
     "name": "stdout",
     "output_type": "stream",
     "text": [
      "epoch 970/2000 - loss 0.815 - acc 0.65 - F1 0.133\n"
     ]
    },
    {
     "name": "stdout",
     "output_type": "stream",
     "text": [
      "epoch 980/2000 - loss 0.818 - acc 0.6 - F1 0.16\n"
     ]
    },
    {
     "name": "stdout",
     "output_type": "stream",
     "text": [
      "epoch 990/2000 - loss 0.825 - acc 0.5 - F1 0.08\n"
     ]
    },
    {
     "name": "stdout",
     "output_type": "stream",
     "text": [
      "epoch 1000/2000 - loss 0.804 - acc 0.5 - F1 0.1\n"
     ]
    },
    {
     "name": "stdout",
     "output_type": "stream",
     "text": [
      "epoch 1010/2000 - loss 0.801 - acc 0.5 - F1 0.1\n"
     ]
    },
    {
     "name": "stdout",
     "output_type": "stream",
     "text": [
      "epoch 1020/2000 - loss 0.803 - acc 0.6 - F1 0.1\n"
     ]
    },
    {
     "name": "stdout",
     "output_type": "stream",
     "text": [
      "epoch 1030/2000 - loss 0.808 - acc 0.5 - F1 0.1\n"
     ]
    },
    {
     "name": "stdout",
     "output_type": "stream",
     "text": [
      "epoch 1040/2000 - loss 0.826 - acc 0.55 - F1 0.08\n"
     ]
    },
    {
     "name": "stdout",
     "output_type": "stream",
     "text": [
      "epoch 1050/2000 - loss 0.789 - acc 0.5 - F1 0.133\n"
     ]
    },
    {
     "name": "stdout",
     "output_type": "stream",
     "text": [
      "epoch 1060/2000 - loss 0.813 - acc 0.55 - F1 0.1\n"
     ]
    },
    {
     "name": "stdout",
     "output_type": "stream",
     "text": [
      "epoch 1070/2000 - loss 0.814 - acc 0.55 - F1 0.08\n"
     ]
    },
    {
     "name": "stdout",
     "output_type": "stream",
     "text": [
      "epoch 1080/2000 - loss 0.795 - acc 0.45 - F1 0.133\n"
     ]
    },
    {
     "name": "stdout",
     "output_type": "stream",
     "text": [
      "epoch 1090/2000 - loss 0.799 - acc 0.6 - F1 0.133\n"
     ]
    },
    {
     "name": "stdout",
     "output_type": "stream",
     "text": [
      "epoch 1100/2000 - loss 0.8 - acc 0.55 - F1 0.16\n"
     ]
    },
    {
     "name": "stdout",
     "output_type": "stream",
     "text": [
      "epoch 1110/2000 - loss 0.806 - acc 0.6 - F1 0.133\n"
     ]
    },
    {
     "name": "stdout",
     "output_type": "stream",
     "text": [
      "epoch 1120/2000 - loss 0.794 - acc 0.55 - F1 0.1\n"
     ]
    },
    {
     "name": "stdout",
     "output_type": "stream",
     "text": [
      "epoch 1130/2000 - loss 0.78 - acc 0.55 - F1 0.1\n"
     ]
    },
    {
     "name": "stdout",
     "output_type": "stream",
     "text": [
      "epoch 1140/2000 - loss 0.789 - acc 0.5 - F1 0.16\n"
     ]
    },
    {
     "name": "stdout",
     "output_type": "stream",
     "text": [
      "epoch 1150/2000 - loss 0.795 - acc 0.5 - F1 0.1\n"
     ]
    },
    {
     "name": "stdout",
     "output_type": "stream",
     "text": [
      "epoch 1160/2000 - loss 0.797 - acc 0.65 - F1 0.2\n"
     ]
    },
    {
     "name": "stdout",
     "output_type": "stream",
     "text": [
      "epoch 1170/2000 - loss 0.8 - acc 0.55 - F1 0.0\n"
     ]
    },
    {
     "name": "stdout",
     "output_type": "stream",
     "text": [
      "epoch 1180/2000 - loss 0.788 - acc 0.6 - F1 0.16\n"
     ]
    },
    {
     "name": "stdout",
     "output_type": "stream",
     "text": [
      "epoch 1190/2000 - loss 0.785 - acc 0.6 - F1 0.2\n"
     ]
    },
    {
     "name": "stdout",
     "output_type": "stream",
     "text": [
      "epoch 1200/2000 - loss 0.796 - acc 0.5 - F1 0.08\n"
     ]
    },
    {
     "name": "stdout",
     "output_type": "stream",
     "text": [
      "epoch 1210/2000 - loss 0.771 - acc 0.55 - F1 0.133\n"
     ]
    },
    {
     "name": "stdout",
     "output_type": "stream",
     "text": [
      "epoch 1220/2000 - loss 0.786 - acc 0.55 - F1 0.08\n"
     ]
    },
    {
     "name": "stdout",
     "output_type": "stream",
     "text": [
      "epoch 1230/2000 - loss 0.796 - acc 0.55 - F1 0.1\n"
     ]
    },
    {
     "name": "stdout",
     "output_type": "stream",
     "text": [
      "epoch 1240/2000 - loss 0.801 - acc 0.55 - F1 0.133\n"
     ]
    },
    {
     "name": "stdout",
     "output_type": "stream",
     "text": [
      "epoch 1250/2000 - loss 0.801 - acc 0.6 - F1 0.08\n"
     ]
    },
    {
     "name": "stdout",
     "output_type": "stream",
     "text": [
      "epoch 1260/2000 - loss 0.778 - acc 0.55 - F1 0.1\n"
     ]
    },
    {
     "name": "stdout",
     "output_type": "stream",
     "text": [
      "epoch 1270/2000 - loss 0.784 - acc 0.55 - F1 0.16\n"
     ]
    },
    {
     "name": "stdout",
     "output_type": "stream",
     "text": [
      "epoch 1280/2000 - loss 0.799 - acc 0.6 - F1 0.16\n"
     ]
    },
    {
     "name": "stdout",
     "output_type": "stream",
     "text": [
      "epoch 1290/2000 - loss 0.823 - acc 0.55 - F1 0.0\n"
     ]
    },
    {
     "name": "stdout",
     "output_type": "stream",
     "text": [
      "epoch 1300/2000 - loss 0.784 - acc 0.55 - F1 0.1\n"
     ]
    },
    {
     "name": "stdout",
     "output_type": "stream",
     "text": [
      "epoch 1310/2000 - loss 0.783 - acc 0.4 - F1 0.171\n"
     ]
    },
    {
     "name": "stdout",
     "output_type": "stream",
     "text": [
      "epoch 1320/2000 - loss 0.784 - acc 0.55 - F1 0.08\n"
     ]
    },
    {
     "name": "stdout",
     "output_type": "stream",
     "text": [
      "epoch 1330/2000 - loss 0.76 - acc 0.6 - F1 0.0\n"
     ]
    },
    {
     "name": "stdout",
     "output_type": "stream",
     "text": [
      "epoch 1340/2000 - loss 0.821 - acc 0.55 - F1 0.1\n"
     ]
    },
    {
     "name": "stdout",
     "output_type": "stream",
     "text": [
      "epoch 1350/2000 - loss 0.789 - acc 0.6 - F1 0.1\n"
     ]
    },
    {
     "name": "stdout",
     "output_type": "stream",
     "text": [
      "epoch 1360/2000 - loss 0.788 - acc 0.55 - F1 0.08\n"
     ]
    },
    {
     "name": "stdout",
     "output_type": "stream",
     "text": [
      "epoch 1370/2000 - loss 0.782 - acc 0.45 - F1 0.08\n"
     ]
    },
    {
     "name": "stdout",
     "output_type": "stream",
     "text": [
      "epoch 1380/2000 - loss 0.804 - acc 0.55 - F1 0.133\n"
     ]
    },
    {
     "name": "stdout",
     "output_type": "stream",
     "text": [
      "epoch 1390/2000 - loss 0.827 - acc 0.55 - F1 0.16\n"
     ]
    },
    {
     "name": "stdout",
     "output_type": "stream",
     "text": [
      "epoch 1400/2000 - loss 0.781 - acc 0.5 - F1 0.133\n"
     ]
    },
    {
     "name": "stdout",
     "output_type": "stream",
     "text": [
      "epoch 1410/2000 - loss 0.793 - acc 0.55 - F1 0.133\n"
     ]
    },
    {
     "name": "stdout",
     "output_type": "stream",
     "text": [
      "epoch 1420/2000 - loss 0.762 - acc 0.55 - F1 0.08\n"
     ]
    },
    {
     "name": "stdout",
     "output_type": "stream",
     "text": [
      "epoch 1430/2000 - loss 0.764 - acc 0.55 - F1 0.2\n"
     ]
    },
    {
     "name": "stdout",
     "output_type": "stream",
     "text": [
      "epoch 1440/2000 - loss 0.778 - acc 0.75 - F1 0.2\n"
     ]
    },
    {
     "name": "stdout",
     "output_type": "stream",
     "text": [
      "epoch 1450/2000 - loss 0.778 - acc 0.5 - F1 0.1\n"
     ]
    },
    {
     "name": "stdout",
     "output_type": "stream",
     "text": [
      "epoch 1460/2000 - loss 0.762 - acc 0.5 - F1 0.133\n"
     ]
    },
    {
     "name": "stdout",
     "output_type": "stream",
     "text": [
      "epoch 1470/2000 - loss 0.796 - acc 0.6 - F1 0.16\n"
     ]
    },
    {
     "name": "stdout",
     "output_type": "stream",
     "text": [
      "epoch 1480/2000 - loss 0.768 - acc 0.45 - F1 0.133\n"
     ]
    },
    {
     "name": "stdout",
     "output_type": "stream",
     "text": [
      "epoch 1490/2000 - loss 0.763 - acc 0.6 - F1 0.1\n"
     ]
    },
    {
     "name": "stdout",
     "output_type": "stream",
     "text": [
      "epoch 1500/2000 - loss 0.767 - acc 0.55 - F1 0.16\n"
     ]
    },
    {
     "name": "stdout",
     "output_type": "stream",
     "text": [
      "epoch 1510/2000 - loss 0.766 - acc 0.65 - F1 0.1\n"
     ]
    },
    {
     "name": "stdout",
     "output_type": "stream",
     "text": [
      "epoch 1520/2000 - loss 0.726 - acc 0.5 - F1 0.133\n"
     ]
    },
    {
     "name": "stdout",
     "output_type": "stream",
     "text": [
      "epoch 1530/2000 - loss 0.765 - acc 0.5 - F1 0.2\n"
     ]
    },
    {
     "name": "stdout",
     "output_type": "stream",
     "text": [
      "epoch 1540/2000 - loss 0.798 - acc 0.6 - F1 0.16\n"
     ]
    },
    {
     "name": "stdout",
     "output_type": "stream",
     "text": [
      "epoch 1550/2000 - loss 0.767 - acc 0.55 - F1 0.133\n"
     ]
    },
    {
     "name": "stdout",
     "output_type": "stream",
     "text": [
      "epoch 1560/2000 - loss 0.791 - acc 0.6 - F1 0.1\n"
     ]
    },
    {
     "name": "stdout",
     "output_type": "stream",
     "text": [
      "epoch 1570/2000 - loss 0.743 - acc 0.6 - F1 0.1\n"
     ]
    },
    {
     "name": "stdout",
     "output_type": "stream",
     "text": [
      "epoch 1580/2000 - loss 0.745 - acc 0.5 - F1 0.16\n"
     ]
    },
    {
     "name": "stdout",
     "output_type": "stream",
     "text": [
      "epoch 1590/2000 - loss 0.716 - acc 0.6 - F1 0.1\n"
     ]
    },
    {
     "name": "stdout",
     "output_type": "stream",
     "text": [
      "epoch 1600/2000 - loss 0.795 - acc 0.6 - F1 0.16\n"
     ]
    },
    {
     "name": "stdout",
     "output_type": "stream",
     "text": [
      "epoch 1610/2000 - loss 0.749 - acc 0.65 - F1 0.2\n"
     ]
    },
    {
     "name": "stdout",
     "output_type": "stream",
     "text": [
      "epoch 1620/2000 - loss 0.805 - acc 0.65 - F1 0.16\n"
     ]
    },
    {
     "name": "stdout",
     "output_type": "stream",
     "text": [
      "epoch 1630/2000 - loss 0.768 - acc 0.55 - F1 0.16\n"
     ]
    },
    {
     "name": "stdout",
     "output_type": "stream",
     "text": [
      "epoch 1640/2000 - loss 0.771 - acc 0.6 - F1 0.0\n"
     ]
    },
    {
     "name": "stdout",
     "output_type": "stream",
     "text": [
      "epoch 1650/2000 - loss 0.753 - acc 0.6 - F1 0.16\n"
     ]
    },
    {
     "name": "stdout",
     "output_type": "stream",
     "text": [
      "epoch 1660/2000 - loss 0.765 - acc 0.45 - F1 0.1\n"
     ]
    },
    {
     "name": "stdout",
     "output_type": "stream",
     "text": [
      "epoch 1670/2000 - loss 0.768 - acc 0.45 - F1 0.0\n"
     ]
    },
    {
     "name": "stdout",
     "output_type": "stream",
     "text": [
      "epoch 1680/2000 - loss 0.755 - acc 0.55 - F1 0.1\n"
     ]
    },
    {
     "name": "stdout",
     "output_type": "stream",
     "text": [
      "epoch 1690/2000 - loss 0.777 - acc 0.5 - F1 0.16\n"
     ]
    },
    {
     "name": "stdout",
     "output_type": "stream",
     "text": [
      "epoch 1700/2000 - loss 0.762 - acc 0.7 - F1 0.171\n"
     ]
    },
    {
     "name": "stdout",
     "output_type": "stream",
     "text": [
      "epoch 1710/2000 - loss 0.765 - acc 0.65 - F1 0.2\n"
     ]
    },
    {
     "name": "stdout",
     "output_type": "stream",
     "text": [
      "epoch 1720/2000 - loss 0.805 - acc 0.5 - F1 0.16\n"
     ]
    },
    {
     "name": "stdout",
     "output_type": "stream",
     "text": [
      "epoch 1730/2000 - loss 0.761 - acc 0.55 - F1 0.133\n"
     ]
    },
    {
     "name": "stdout",
     "output_type": "stream",
     "text": [
      "epoch 1740/2000 - loss 0.751 - acc 0.55 - F1 0.1\n"
     ]
    },
    {
     "name": "stdout",
     "output_type": "stream",
     "text": [
      "epoch 1750/2000 - loss 0.75 - acc 0.55 - F1 0.08\n"
     ]
    },
    {
     "name": "stdout",
     "output_type": "stream",
     "text": [
      "epoch 1760/2000 - loss 0.727 - acc 0.65 - F1 0.1\n"
     ]
    },
    {
     "name": "stdout",
     "output_type": "stream",
     "text": [
      "epoch 1770/2000 - loss 0.746 - acc 0.55 - F1 0.1\n"
     ]
    },
    {
     "name": "stdout",
     "output_type": "stream",
     "text": [
      "epoch 1780/2000 - loss 0.822 - acc 0.55 - F1 0.1\n"
     ]
    },
    {
     "name": "stdout",
     "output_type": "stream",
     "text": [
      "epoch 1790/2000 - loss 0.764 - acc 0.55 - F1 0.1\n"
     ]
    },
    {
     "name": "stdout",
     "output_type": "stream",
     "text": [
      "epoch 1800/2000 - loss 0.751 - acc 0.55 - F1 0.1\n"
     ]
    },
    {
     "name": "stdout",
     "output_type": "stream",
     "text": [
      "epoch 1810/2000 - loss 0.74 - acc 0.55 - F1 0.08\n"
     ]
    },
    {
     "name": "stdout",
     "output_type": "stream",
     "text": [
      "epoch 1820/2000 - loss 0.758 - acc 0.6 - F1 0.16\n"
     ]
    },
    {
     "name": "stdout",
     "output_type": "stream",
     "text": [
      "epoch 1830/2000 - loss 0.735 - acc 0.55 - F1 0.133\n"
     ]
    },
    {
     "name": "stdout",
     "output_type": "stream",
     "text": [
      "epoch 1840/2000 - loss 0.776 - acc 0.55 - F1 0.133\n"
     ]
    },
    {
     "name": "stdout",
     "output_type": "stream",
     "text": [
      "epoch 1850/2000 - loss 0.778 - acc 0.65 - F1 0.16\n"
     ]
    },
    {
     "name": "stdout",
     "output_type": "stream",
     "text": [
      "epoch 1860/2000 - loss 0.733 - acc 0.55 - F1 0.1\n"
     ]
    },
    {
     "name": "stdout",
     "output_type": "stream",
     "text": [
      "epoch 1870/2000 - loss 0.822 - acc 0.6 - F1 0.2\n"
     ]
    },
    {
     "name": "stdout",
     "output_type": "stream",
     "text": [
      "epoch 1880/2000 - loss 0.77 - acc 0.5 - F1 0.0\n"
     ]
    },
    {
     "name": "stdout",
     "output_type": "stream",
     "text": [
      "epoch 1890/2000 - loss 0.792 - acc 0.5 - F1 0.08\n"
     ]
    },
    {
     "name": "stdout",
     "output_type": "stream",
     "text": [
      "epoch 1900/2000 - loss 0.774 - acc 0.5 - F1 0.133\n"
     ]
    },
    {
     "name": "stdout",
     "output_type": "stream",
     "text": [
      "epoch 1910/2000 - loss 0.755 - acc 0.6 - F1 0.2\n"
     ]
    },
    {
     "name": "stdout",
     "output_type": "stream",
     "text": [
      "epoch 1920/2000 - loss 0.745 - acc 0.55 - F1 0.16\n"
     ]
    },
    {
     "name": "stdout",
     "output_type": "stream",
     "text": [
      "epoch 1930/2000 - loss 0.723 - acc 0.65 - F1 0.16\n"
     ]
    },
    {
     "name": "stdout",
     "output_type": "stream",
     "text": [
      "epoch 1940/2000 - loss 0.725 - acc 0.45 - F1 0.171\n"
     ]
    },
    {
     "name": "stdout",
     "output_type": "stream",
     "text": [
      "epoch 1950/2000 - loss 0.774 - acc 0.55 - F1 0.133\n"
     ]
    },
    {
     "name": "stdout",
     "output_type": "stream",
     "text": [
      "epoch 1960/2000 - loss 0.752 - acc 0.55 - F1 0.16\n"
     ]
    },
    {
     "name": "stdout",
     "output_type": "stream",
     "text": [
      "epoch 1970/2000 - loss 0.745 - acc 0.55 - F1 0.16\n"
     ]
    },
    {
     "name": "stdout",
     "output_type": "stream",
     "text": [
      "epoch 1980/2000 - loss 0.851 - acc 0.6 - F1 0.2\n"
     ]
    },
    {
     "name": "stdout",
     "output_type": "stream",
     "text": [
      "epoch 1990/2000 - loss 0.801 - acc 0.6 - F1 0.16\n"
     ]
    },
    {
     "name": "stderr",
     "output_type": "stream",
     "text": [
      "/kaggle/working/generate_data.py:102: VisibleDeprecationWarning: Creating an ndarray from ragged nested sequences (which is a list-or-tuple of lists-or-tuples-or ndarrays with different lengths or shapes) is deprecated. If you meant to do this, you must specify 'dtype=object' when creating the ndarray.\n",
      "  true = np.array(make_true(train_test_validation, type))\n",
      "/kaggle/working/generate_data.py:103: VisibleDeprecationWarning: Creating an ndarray from ragged nested sequences (which is a list-or-tuple of lists-or-tuples-or ndarrays with different lengths or shapes) is deprecated. If you meant to do this, you must specify 'dtype=object' when creating the ndarray.\n",
      "  false = np.array(make_false(train_test_validation, type))\n",
      "/kaggle/working/generate_data.py:113: VisibleDeprecationWarning: Creating an ndarray from ragged nested sequences (which is a list-or-tuple of lists-or-tuples-or ndarrays with different lengths or shapes) is deprecated. If you meant to do this, you must specify 'dtype=object' when creating the ndarray.\n",
      "  alls = np.array([*true,*false])\n",
      "/kaggle/working/generate_data.py:102: VisibleDeprecationWarning: Creating an ndarray from ragged nested sequences (which is a list-or-tuple of lists-or-tuples-or ndarrays with different lengths or shapes) is deprecated. If you meant to do this, you must specify 'dtype=object' when creating the ndarray.\n",
      "  true = np.array(make_true(train_test_validation, type))\n",
      "/kaggle/working/generate_data.py:103: VisibleDeprecationWarning: Creating an ndarray from ragged nested sequences (which is a list-or-tuple of lists-or-tuples-or ndarrays with different lengths or shapes) is deprecated. If you meant to do this, you must specify 'dtype=object' when creating the ndarray.\n",
      "  false = np.array(make_false(train_test_validation, type))\n",
      "/kaggle/working/generate_data.py:113: VisibleDeprecationWarning: Creating an ndarray from ragged nested sequences (which is a list-or-tuple of lists-or-tuples-or ndarrays with different lengths or shapes) is deprecated. If you meant to do this, you must specify 'dtype=object' when creating the ndarray.\n",
      "  alls = np.array([*true,*false])\n"
     ]
    },
    {
     "name": "stdout",
     "output_type": "stream",
     "text": [
      "Final acc 0.571 - F1 0.09523809523809523\n",
      "Training with lr 1e-05 and size 16\n",
      "epoch 0/2000 - loss 0.837 - acc 0.7 - F1 0.1\n"
     ]
    },
    {
     "name": "stdout",
     "output_type": "stream",
     "text": [
      "epoch 10/2000 - loss 0.838 - acc 0.55 - F1 0.0\n"
     ]
    },
    {
     "name": "stdout",
     "output_type": "stream",
     "text": [
      "epoch 20/2000 - loss 0.838 - acc 0.65 - F1 0.133\n"
     ]
    },
    {
     "name": "stdout",
     "output_type": "stream",
     "text": [
      "epoch 30/2000 - loss 0.837 - acc 0.55 - F1 0.08\n"
     ]
    },
    {
     "name": "stdout",
     "output_type": "stream",
     "text": [
      "epoch 40/2000 - loss 0.837 - acc 0.65 - F1 0.133\n"
     ]
    },
    {
     "name": "stdout",
     "output_type": "stream",
     "text": [
      "epoch 50/2000 - loss 0.836 - acc 0.55 - F1 0.1\n"
     ]
    },
    {
     "name": "stdout",
     "output_type": "stream",
     "text": [
      "epoch 60/2000 - loss 0.837 - acc 0.7 - F1 0.0\n"
     ]
    },
    {
     "name": "stdout",
     "output_type": "stream",
     "text": [
      "epoch 70/2000 - loss 0.837 - acc 0.5 - F1 0.133\n"
     ]
    },
    {
     "name": "stdout",
     "output_type": "stream",
     "text": [
      "epoch 80/2000 - loss 0.836 - acc 0.3 - F1 0.0\n"
     ]
    },
    {
     "name": "stdout",
     "output_type": "stream",
     "text": [
      "epoch 90/2000 - loss 0.837 - acc 0.4 - F1 0.133\n"
     ]
    },
    {
     "name": "stdout",
     "output_type": "stream",
     "text": [
      "epoch 100/2000 - loss 0.837 - acc 0.35 - F1 0.133\n"
     ]
    },
    {
     "name": "stdout",
     "output_type": "stream",
     "text": [
      "epoch 110/2000 - loss 0.836 - acc 0.4 - F1 0.08\n"
     ]
    },
    {
     "name": "stdout",
     "output_type": "stream",
     "text": [
      "epoch 120/2000 - loss 0.836 - acc 0.35 - F1 0.133\n"
     ]
    },
    {
     "name": "stdout",
     "output_type": "stream",
     "text": [
      "epoch 130/2000 - loss 0.836 - acc 0.35 - F1 0.1\n"
     ]
    },
    {
     "name": "stdout",
     "output_type": "stream",
     "text": [
      "epoch 140/2000 - loss 0.837 - acc 0.3 - F1 0.0\n"
     ]
    },
    {
     "name": "stdout",
     "output_type": "stream",
     "text": [
      "epoch 150/2000 - loss 0.837 - acc 0.45 - F1 0.1\n"
     ]
    },
    {
     "name": "stdout",
     "output_type": "stream",
     "text": [
      "epoch 160/2000 - loss 0.837 - acc 0.5 - F1 0.171\n"
     ]
    },
    {
     "name": "stdout",
     "output_type": "stream",
     "text": [
      "epoch 170/2000 - loss 0.837 - acc 0.4 - F1 0.08\n"
     ]
    },
    {
     "name": "stdout",
     "output_type": "stream",
     "text": [
      "epoch 180/2000 - loss 0.836 - acc 0.5 - F1 0.0\n"
     ]
    },
    {
     "name": "stdout",
     "output_type": "stream",
     "text": [
      "epoch 190/2000 - loss 0.837 - acc 0.35 - F1 0.16\n"
     ]
    },
    {
     "name": "stdout",
     "output_type": "stream",
     "text": [
      "epoch 200/2000 - loss 0.835 - acc 0.5 - F1 0.133\n"
     ]
    },
    {
     "name": "stdout",
     "output_type": "stream",
     "text": [
      "epoch 210/2000 - loss 0.836 - acc 0.55 - F1 0.0\n"
     ]
    },
    {
     "name": "stdout",
     "output_type": "stream",
     "text": [
      "epoch 220/2000 - loss 0.835 - acc 0.4 - F1 0.08\n"
     ]
    },
    {
     "name": "stdout",
     "output_type": "stream",
     "text": [
      "epoch 230/2000 - loss 0.837 - acc 0.45 - F1 0.133\n"
     ]
    },
    {
     "name": "stdout",
     "output_type": "stream",
     "text": [
      "epoch 240/2000 - loss 0.835 - acc 0.3 - F1 0.1\n"
     ]
    },
    {
     "name": "stdout",
     "output_type": "stream",
     "text": [
      "epoch 250/2000 - loss 0.836 - acc 0.4 - F1 0.08\n"
     ]
    },
    {
     "name": "stdout",
     "output_type": "stream",
     "text": [
      "epoch 260/2000 - loss 0.833 - acc 0.35 - F1 0.08\n"
     ]
    },
    {
     "name": "stdout",
     "output_type": "stream",
     "text": [
      "epoch 270/2000 - loss 0.835 - acc 0.35 - F1 0.133\n"
     ]
    },
    {
     "name": "stdout",
     "output_type": "stream",
     "text": [
      "epoch 280/2000 - loss 0.834 - acc 0.5 - F1 0.08\n"
     ]
    },
    {
     "name": "stdout",
     "output_type": "stream",
     "text": [
      "epoch 290/2000 - loss 0.836 - acc 0.5 - F1 0.133\n"
     ]
    },
    {
     "name": "stdout",
     "output_type": "stream",
     "text": [
      "epoch 300/2000 - loss 0.832 - acc 0.45 - F1 0.1\n"
     ]
    },
    {
     "name": "stdout",
     "output_type": "stream",
     "text": [
      "epoch 310/2000 - loss 0.836 - acc 0.45 - F1 0.16\n"
     ]
    },
    {
     "name": "stdout",
     "output_type": "stream",
     "text": [
      "epoch 320/2000 - loss 0.832 - acc 0.4 - F1 0.1\n"
     ]
    },
    {
     "name": "stdout",
     "output_type": "stream",
     "text": [
      "epoch 330/2000 - loss 0.836 - acc 0.45 - F1 0.0\n"
     ]
    },
    {
     "name": "stdout",
     "output_type": "stream",
     "text": [
      "epoch 340/2000 - loss 0.833 - acc 0.35 - F1 0.0\n"
     ]
    },
    {
     "name": "stdout",
     "output_type": "stream",
     "text": [
      "epoch 350/2000 - loss 0.834 - acc 0.4 - F1 0.08\n"
     ]
    },
    {
     "name": "stdout",
     "output_type": "stream",
     "text": [
      "epoch 360/2000 - loss 0.831 - acc 0.45 - F1 0.0\n"
     ]
    },
    {
     "name": "stdout",
     "output_type": "stream",
     "text": [
      "epoch 370/2000 - loss 0.828 - acc 0.5 - F1 0.1\n"
     ]
    },
    {
     "name": "stdout",
     "output_type": "stream",
     "text": [
      "epoch 380/2000 - loss 0.831 - acc 0.5 - F1 0.0\n"
     ]
    },
    {
     "name": "stdout",
     "output_type": "stream",
     "text": [
      "epoch 390/2000 - loss 0.835 - acc 0.55 - F1 0.08\n"
     ]
    },
    {
     "name": "stdout",
     "output_type": "stream",
     "text": [
      "epoch 400/2000 - loss 0.827 - acc 0.55 - F1 0.2\n"
     ]
    },
    {
     "name": "stdout",
     "output_type": "stream",
     "text": [
      "epoch 410/2000 - loss 0.832 - acc 0.3 - F1 0.1\n"
     ]
    },
    {
     "name": "stdout",
     "output_type": "stream",
     "text": [
      "epoch 420/2000 - loss 0.829 - acc 0.45 - F1 0.0\n"
     ]
    },
    {
     "name": "stdout",
     "output_type": "stream",
     "text": [
      "epoch 430/2000 - loss 0.827 - acc 0.45 - F1 0.0\n"
     ]
    },
    {
     "name": "stdout",
     "output_type": "stream",
     "text": [
      "epoch 440/2000 - loss 0.826 - acc 0.4 - F1 0.133\n"
     ]
    },
    {
     "name": "stdout",
     "output_type": "stream",
     "text": [
      "epoch 450/2000 - loss 0.825 - acc 0.4 - F1 0.08\n"
     ]
    },
    {
     "name": "stdout",
     "output_type": "stream",
     "text": [
      "epoch 460/2000 - loss 0.821 - acc 0.5 - F1 0.1\n"
     ]
    },
    {
     "name": "stdout",
     "output_type": "stream",
     "text": [
      "epoch 470/2000 - loss 0.826 - acc 0.45 - F1 0.0\n"
     ]
    },
    {
     "name": "stdout",
     "output_type": "stream",
     "text": [
      "epoch 480/2000 - loss 0.822 - acc 0.45 - F1 0.133\n"
     ]
    },
    {
     "name": "stdout",
     "output_type": "stream",
     "text": [
      "epoch 490/2000 - loss 0.824 - acc 0.4 - F1 0.1\n"
     ]
    },
    {
     "name": "stdout",
     "output_type": "stream",
     "text": [
      "epoch 500/2000 - loss 0.828 - acc 0.35 - F1 0.0\n"
     ]
    },
    {
     "name": "stdout",
     "output_type": "stream",
     "text": [
      "epoch 510/2000 - loss 0.821 - acc 0.45 - F1 0.2\n"
     ]
    },
    {
     "name": "stdout",
     "output_type": "stream",
     "text": [
      "epoch 520/2000 - loss 0.823 - acc 0.4 - F1 0.0\n"
     ]
    },
    {
     "name": "stdout",
     "output_type": "stream",
     "text": [
      "epoch 530/2000 - loss 0.816 - acc 0.35 - F1 0.0\n"
     ]
    },
    {
     "name": "stdout",
     "output_type": "stream",
     "text": [
      "epoch 540/2000 - loss 0.821 - acc 0.5 - F1 0.08\n"
     ]
    },
    {
     "name": "stdout",
     "output_type": "stream",
     "text": [
      "epoch 550/2000 - loss 0.814 - acc 0.45 - F1 0.08\n"
     ]
    },
    {
     "name": "stdout",
     "output_type": "stream",
     "text": [
      "epoch 560/2000 - loss 0.804 - acc 0.5 - F1 0.133\n"
     ]
    },
    {
     "name": "stdout",
     "output_type": "stream",
     "text": [
      "epoch 570/2000 - loss 0.811 - acc 0.35 - F1 0.08\n"
     ]
    },
    {
     "name": "stdout",
     "output_type": "stream",
     "text": [
      "epoch 580/2000 - loss 0.802 - acc 0.45 - F1 0.08\n"
     ]
    },
    {
     "name": "stdout",
     "output_type": "stream",
     "text": [
      "epoch 590/2000 - loss 0.81 - acc 0.45 - F1 0.1\n"
     ]
    },
    {
     "name": "stdout",
     "output_type": "stream",
     "text": [
      "epoch 600/2000 - loss 0.812 - acc 0.5 - F1 0.16\n"
     ]
    },
    {
     "name": "stdout",
     "output_type": "stream",
     "text": [
      "epoch 610/2000 - loss 0.809 - acc 0.35 - F1 0.08\n"
     ]
    },
    {
     "name": "stdout",
     "output_type": "stream",
     "text": [
      "epoch 620/2000 - loss 0.798 - acc 0.45 - F1 0.16\n"
     ]
    },
    {
     "name": "stdout",
     "output_type": "stream",
     "text": [
      "epoch 630/2000 - loss 0.789 - acc 0.45 - F1 0.0\n"
     ]
    },
    {
     "name": "stdout",
     "output_type": "stream",
     "text": [
      "epoch 640/2000 - loss 0.791 - acc 0.3 - F1 0.133\n"
     ]
    },
    {
     "name": "stdout",
     "output_type": "stream",
     "text": [
      "epoch 650/2000 - loss 0.775 - acc 0.4 - F1 0.1\n"
     ]
    },
    {
     "name": "stdout",
     "output_type": "stream",
     "text": [
      "epoch 660/2000 - loss 0.771 - acc 0.4 - F1 0.133\n"
     ]
    },
    {
     "name": "stdout",
     "output_type": "stream",
     "text": [
      "epoch 670/2000 - loss 0.788 - acc 0.45 - F1 0.1\n"
     ]
    },
    {
     "name": "stdout",
     "output_type": "stream",
     "text": [
      "epoch 680/2000 - loss 0.791 - acc 0.45 - F1 0.0\n"
     ]
    },
    {
     "name": "stdout",
     "output_type": "stream",
     "text": [
      "epoch 690/2000 - loss 0.763 - acc 0.4 - F1 0.1\n"
     ]
    },
    {
     "name": "stdout",
     "output_type": "stream",
     "text": [
      "epoch 700/2000 - loss 0.775 - acc 0.45 - F1 0.0\n"
     ]
    },
    {
     "name": "stdout",
     "output_type": "stream",
     "text": [
      "epoch 710/2000 - loss 0.768 - acc 0.4 - F1 0.08\n"
     ]
    },
    {
     "name": "stdout",
     "output_type": "stream",
     "text": [
      "epoch 720/2000 - loss 0.834 - acc 0.4 - F1 0.08\n"
     ]
    },
    {
     "name": "stdout",
     "output_type": "stream",
     "text": [
      "epoch 730/2000 - loss 0.77 - acc 0.4 - F1 0.16\n"
     ]
    },
    {
     "name": "stdout",
     "output_type": "stream",
     "text": [
      "epoch 740/2000 - loss 0.785 - acc 0.3 - F1 0.133\n"
     ]
    },
    {
     "name": "stdout",
     "output_type": "stream",
     "text": [
      "epoch 750/2000 - loss 0.754 - acc 0.3 - F1 0.0\n"
     ]
    },
    {
     "name": "stdout",
     "output_type": "stream",
     "text": [
      "epoch 760/2000 - loss 0.781 - acc 0.3 - F1 0.0\n"
     ]
    },
    {
     "name": "stdout",
     "output_type": "stream",
     "text": [
      "epoch 770/2000 - loss 0.786 - acc 0.5 - F1 0.133\n"
     ]
    },
    {
     "name": "stdout",
     "output_type": "stream",
     "text": [
      "epoch 780/2000 - loss 0.721 - acc 0.4 - F1 0.0\n"
     ]
    },
    {
     "name": "stdout",
     "output_type": "stream",
     "text": [
      "epoch 790/2000 - loss 0.736 - acc 0.5 - F1 0.133\n"
     ]
    },
    {
     "name": "stdout",
     "output_type": "stream",
     "text": [
      "epoch 800/2000 - loss 0.781 - acc 0.35 - F1 0.133\n"
     ]
    },
    {
     "name": "stdout",
     "output_type": "stream",
     "text": [
      "epoch 810/2000 - loss 0.761 - acc 0.55 - F1 0.133\n"
     ]
    },
    {
     "name": "stdout",
     "output_type": "stream",
     "text": [
      "epoch 820/2000 - loss 0.757 - acc 0.35 - F1 0.08\n"
     ]
    },
    {
     "name": "stdout",
     "output_type": "stream",
     "text": [
      "epoch 830/2000 - loss 0.767 - acc 0.3 - F1 0.0\n"
     ]
    },
    {
     "name": "stdout",
     "output_type": "stream",
     "text": [
      "epoch 840/2000 - loss 0.744 - acc 0.4 - F1 0.16\n"
     ]
    },
    {
     "name": "stdout",
     "output_type": "stream",
     "text": [
      "epoch 850/2000 - loss 0.752 - acc 0.35 - F1 0.08\n"
     ]
    },
    {
     "name": "stdout",
     "output_type": "stream",
     "text": [
      "epoch 860/2000 - loss 0.71 - acc 0.4 - F1 0.1\n"
     ]
    },
    {
     "name": "stdout",
     "output_type": "stream",
     "text": [
      "epoch 870/2000 - loss 0.735 - acc 0.45 - F1 0.08\n"
     ]
    },
    {
     "name": "stdout",
     "output_type": "stream",
     "text": [
      "epoch 880/2000 - loss 0.772 - acc 0.35 - F1 0.08\n"
     ]
    },
    {
     "name": "stdout",
     "output_type": "stream",
     "text": [
      "epoch 890/2000 - loss 0.728 - acc 0.5 - F1 0.133\n"
     ]
    },
    {
     "name": "stdout",
     "output_type": "stream",
     "text": [
      "epoch 900/2000 - loss 0.742 - acc 0.45 - F1 0.0\n"
     ]
    },
    {
     "name": "stdout",
     "output_type": "stream",
     "text": [
      "epoch 910/2000 - loss 0.752 - acc 0.55 - F1 0.2\n"
     ]
    },
    {
     "name": "stdout",
     "output_type": "stream",
     "text": [
      "epoch 920/2000 - loss 0.729 - acc 0.4 - F1 0.08\n"
     ]
    },
    {
     "name": "stdout",
     "output_type": "stream",
     "text": [
      "epoch 930/2000 - loss 0.753 - acc 0.4 - F1 0.08\n"
     ]
    },
    {
     "name": "stdout",
     "output_type": "stream",
     "text": [
      "epoch 940/2000 - loss 0.761 - acc 0.4 - F1 0.08\n"
     ]
    },
    {
     "name": "stdout",
     "output_type": "stream",
     "text": [
      "epoch 950/2000 - loss 0.746 - acc 0.3 - F1 0.08\n"
     ]
    },
    {
     "name": "stdout",
     "output_type": "stream",
     "text": [
      "epoch 960/2000 - loss 0.767 - acc 0.5 - F1 0.133\n"
     ]
    },
    {
     "name": "stdout",
     "output_type": "stream",
     "text": [
      "epoch 970/2000 - loss 0.716 - acc 0.45 - F1 0.1\n"
     ]
    },
    {
     "name": "stdout",
     "output_type": "stream",
     "text": [
      "epoch 980/2000 - loss 0.682 - acc 0.4 - F1 0.133\n"
     ]
    },
    {
     "name": "stdout",
     "output_type": "stream",
     "text": [
      "epoch 990/2000 - loss 0.759 - acc 0.45 - F1 0.08\n"
     ]
    },
    {
     "name": "stdout",
     "output_type": "stream",
     "text": [
      "epoch 1000/2000 - loss 0.787 - acc 0.4 - F1 0.1\n"
     ]
    },
    {
     "name": "stdout",
     "output_type": "stream",
     "text": [
      "epoch 1010/2000 - loss 0.763 - acc 0.45 - F1 0.133\n"
     ]
    },
    {
     "name": "stdout",
     "output_type": "stream",
     "text": [
      "epoch 1020/2000 - loss 0.831 - acc 0.45 - F1 0.1\n"
     ]
    },
    {
     "name": "stdout",
     "output_type": "stream",
     "text": [
      "epoch 1030/2000 - loss 0.689 - acc 0.5 - F1 0.16\n"
     ]
    },
    {
     "name": "stdout",
     "output_type": "stream",
     "text": [
      "epoch 1040/2000 - loss 0.681 - acc 0.4 - F1 0.16\n"
     ]
    },
    {
     "name": "stdout",
     "output_type": "stream",
     "text": [
      "epoch 1050/2000 - loss 0.744 - acc 0.4 - F1 0.0\n"
     ]
    },
    {
     "name": "stdout",
     "output_type": "stream",
     "text": [
      "epoch 1060/2000 - loss 0.815 - acc 0.45 - F1 0.133\n"
     ]
    },
    {
     "name": "stdout",
     "output_type": "stream",
     "text": [
      "epoch 1070/2000 - loss 0.714 - acc 0.55 - F1 0.08\n"
     ]
    },
    {
     "name": "stdout",
     "output_type": "stream",
     "text": [
      "epoch 1080/2000 - loss 0.753 - acc 0.45 - F1 0.133\n"
     ]
    },
    {
     "name": "stdout",
     "output_type": "stream",
     "text": [
      "epoch 1090/2000 - loss 0.695 - acc 0.5 - F1 0.1\n"
     ]
    },
    {
     "name": "stdout",
     "output_type": "stream",
     "text": [
      "epoch 1100/2000 - loss 0.738 - acc 0.6 - F1 0.2\n"
     ]
    },
    {
     "name": "stdout",
     "output_type": "stream",
     "text": [
      "epoch 1110/2000 - loss 0.707 - acc 0.4 - F1 0.0\n"
     ]
    },
    {
     "name": "stdout",
     "output_type": "stream",
     "text": [
      "epoch 1120/2000 - loss 0.795 - acc 0.45 - F1 0.133\n"
     ]
    },
    {
     "name": "stdout",
     "output_type": "stream",
     "text": [
      "epoch 1130/2000 - loss 0.79 - acc 0.5 - F1 0.133\n"
     ]
    },
    {
     "name": "stdout",
     "output_type": "stream",
     "text": [
      "epoch 1140/2000 - loss 0.846 - acc 0.45 - F1 0.0\n"
     ]
    },
    {
     "name": "stdout",
     "output_type": "stream",
     "text": [
      "epoch 1150/2000 - loss 0.783 - acc 0.4 - F1 0.0\n"
     ]
    },
    {
     "name": "stdout",
     "output_type": "stream",
     "text": [
      "epoch 1160/2000 - loss 0.698 - acc 0.55 - F1 0.2\n"
     ]
    },
    {
     "name": "stdout",
     "output_type": "stream",
     "text": [
      "epoch 1170/2000 - loss 0.756 - acc 0.4 - F1 0.133\n"
     ]
    },
    {
     "name": "stdout",
     "output_type": "stream",
     "text": [
      "epoch 1180/2000 - loss 0.757 - acc 0.45 - F1 0.08\n"
     ]
    },
    {
     "name": "stdout",
     "output_type": "stream",
     "text": [
      "epoch 1190/2000 - loss 0.745 - acc 0.4 - F1 0.08\n"
     ]
    },
    {
     "name": "stdout",
     "output_type": "stream",
     "text": [
      "epoch 1200/2000 - loss 0.778 - acc 0.55 - F1 0.0\n"
     ]
    },
    {
     "name": "stdout",
     "output_type": "stream",
     "text": [
      "epoch 1210/2000 - loss 0.789 - acc 0.55 - F1 0.1\n"
     ]
    },
    {
     "name": "stdout",
     "output_type": "stream",
     "text": [
      "epoch 1220/2000 - loss 0.765 - acc 0.5 - F1 0.133\n"
     ]
    },
    {
     "name": "stdout",
     "output_type": "stream",
     "text": [
      "epoch 1230/2000 - loss 0.73 - acc 0.55 - F1 0.08\n"
     ]
    },
    {
     "name": "stdout",
     "output_type": "stream",
     "text": [
      "epoch 1240/2000 - loss 0.739 - acc 0.5 - F1 0.133\n"
     ]
    },
    {
     "name": "stdout",
     "output_type": "stream",
     "text": [
      "epoch 1250/2000 - loss 0.699 - acc 0.45 - F1 0.1\n"
     ]
    },
    {
     "name": "stdout",
     "output_type": "stream",
     "text": [
      "epoch 1260/2000 - loss 0.825 - acc 0.35 - F1 0.0\n"
     ]
    },
    {
     "name": "stdout",
     "output_type": "stream",
     "text": [
      "epoch 1270/2000 - loss 0.743 - acc 0.55 - F1 0.133\n"
     ]
    },
    {
     "name": "stdout",
     "output_type": "stream",
     "text": [
      "epoch 1280/2000 - loss 0.743 - acc 0.45 - F1 0.0\n"
     ]
    },
    {
     "name": "stdout",
     "output_type": "stream",
     "text": [
      "epoch 1290/2000 - loss 0.714 - acc 0.4 - F1 0.1\n"
     ]
    },
    {
     "name": "stdout",
     "output_type": "stream",
     "text": [
      "epoch 1300/2000 - loss 0.78 - acc 0.4 - F1 0.08\n"
     ]
    },
    {
     "name": "stdout",
     "output_type": "stream",
     "text": [
      "epoch 1310/2000 - loss 0.722 - acc 0.5 - F1 0.133\n"
     ]
    },
    {
     "name": "stdout",
     "output_type": "stream",
     "text": [
      "epoch 1320/2000 - loss 0.637 - acc 0.4 - F1 0.0\n"
     ]
    },
    {
     "name": "stdout",
     "output_type": "stream",
     "text": [
      "epoch 1330/2000 - loss 0.687 - acc 0.45 - F1 0.133\n"
     ]
    },
    {
     "name": "stdout",
     "output_type": "stream",
     "text": [
      "epoch 1340/2000 - loss 0.654 - acc 0.4 - F1 0.2\n"
     ]
    },
    {
     "name": "stdout",
     "output_type": "stream",
     "text": [
      "epoch 1350/2000 - loss 0.746 - acc 0.5 - F1 0.16\n"
     ]
    },
    {
     "name": "stdout",
     "output_type": "stream",
     "text": [
      "epoch 1360/2000 - loss 0.728 - acc 0.35 - F1 0.0\n"
     ]
    },
    {
     "name": "stdout",
     "output_type": "stream",
     "text": [
      "epoch 1370/2000 - loss 0.704 - acc 0.4 - F1 0.08\n"
     ]
    },
    {
     "name": "stdout",
     "output_type": "stream",
     "text": [
      "epoch 1380/2000 - loss 0.808 - acc 0.55 - F1 0.0\n"
     ]
    },
    {
     "name": "stdout",
     "output_type": "stream",
     "text": [
      "epoch 1390/2000 - loss 0.68 - acc 0.45 - F1 0.0\n"
     ]
    },
    {
     "name": "stdout",
     "output_type": "stream",
     "text": [
      "epoch 1400/2000 - loss 0.663 - acc 0.4 - F1 0.0\n"
     ]
    },
    {
     "name": "stdout",
     "output_type": "stream",
     "text": [
      "epoch 1410/2000 - loss 0.783 - acc 0.5 - F1 0.16\n"
     ]
    },
    {
     "name": "stdout",
     "output_type": "stream",
     "text": [
      "epoch 1420/2000 - loss 0.717 - acc 0.3 - F1 0.0\n"
     ]
    },
    {
     "name": "stdout",
     "output_type": "stream",
     "text": [
      "epoch 1430/2000 - loss 0.665 - acc 0.35 - F1 0.1\n"
     ]
    },
    {
     "name": "stdout",
     "output_type": "stream",
     "text": [
      "epoch 1440/2000 - loss 0.743 - acc 0.35 - F1 0.08\n"
     ]
    },
    {
     "name": "stdout",
     "output_type": "stream",
     "text": [
      "epoch 1450/2000 - loss 0.743 - acc 0.6 - F1 0.1\n"
     ]
    },
    {
     "name": "stdout",
     "output_type": "stream",
     "text": [
      "epoch 1460/2000 - loss 0.769 - acc 0.55 - F1 0.16\n"
     ]
    },
    {
     "name": "stdout",
     "output_type": "stream",
     "text": [
      "epoch 1470/2000 - loss 0.686 - acc 0.55 - F1 0.16\n"
     ]
    },
    {
     "name": "stdout",
     "output_type": "stream",
     "text": [
      "epoch 1480/2000 - loss 0.65 - acc 0.3 - F1 0.1\n"
     ]
    },
    {
     "name": "stdout",
     "output_type": "stream",
     "text": [
      "epoch 1490/2000 - loss 0.654 - acc 0.5 - F1 0.133\n"
     ]
    },
    {
     "name": "stdout",
     "output_type": "stream",
     "text": [
      "epoch 1500/2000 - loss 0.726 - acc 0.4 - F1 0.08\n"
     ]
    },
    {
     "name": "stdout",
     "output_type": "stream",
     "text": [
      "epoch 1510/2000 - loss 0.719 - acc 0.35 - F1 0.08\n"
     ]
    },
    {
     "name": "stdout",
     "output_type": "stream",
     "text": [
      "epoch 1520/2000 - loss 0.683 - acc 0.4 - F1 0.08\n"
     ]
    },
    {
     "name": "stdout",
     "output_type": "stream",
     "text": [
      "epoch 1530/2000 - loss 0.682 - acc 0.55 - F1 0.16\n"
     ]
    },
    {
     "name": "stdout",
     "output_type": "stream",
     "text": [
      "epoch 1540/2000 - loss 0.77 - acc 0.45 - F1 0.1\n"
     ]
    },
    {
     "name": "stdout",
     "output_type": "stream",
     "text": [
      "epoch 1550/2000 - loss 0.727 - acc 0.55 - F1 0.133\n"
     ]
    },
    {
     "name": "stdout",
     "output_type": "stream",
     "text": [
      "epoch 1560/2000 - loss 0.679 - acc 0.4 - F1 0.1\n"
     ]
    },
    {
     "name": "stdout",
     "output_type": "stream",
     "text": [
      "epoch 1570/2000 - loss 0.672 - acc 0.55 - F1 0.1\n"
     ]
    },
    {
     "name": "stdout",
     "output_type": "stream",
     "text": [
      "epoch 1580/2000 - loss 0.683 - acc 0.5 - F1 0.16\n"
     ]
    },
    {
     "name": "stdout",
     "output_type": "stream",
     "text": [
      "epoch 1590/2000 - loss 0.729 - acc 0.55 - F1 0.1\n"
     ]
    },
    {
     "name": "stdout",
     "output_type": "stream",
     "text": [
      "epoch 1600/2000 - loss 0.685 - acc 0.5 - F1 0.1\n"
     ]
    },
    {
     "name": "stdout",
     "output_type": "stream",
     "text": [
      "epoch 1610/2000 - loss 0.698 - acc 0.5 - F1 0.1\n"
     ]
    },
    {
     "name": "stdout",
     "output_type": "stream",
     "text": [
      "epoch 1620/2000 - loss 0.727 - acc 0.5 - F1 0.1\n"
     ]
    },
    {
     "name": "stdout",
     "output_type": "stream",
     "text": [
      "epoch 1630/2000 - loss 0.673 - acc 0.5 - F1 0.08\n"
     ]
    },
    {
     "name": "stdout",
     "output_type": "stream",
     "text": [
      "epoch 1640/2000 - loss 0.685 - acc 0.65 - F1 0.1\n"
     ]
    },
    {
     "name": "stdout",
     "output_type": "stream",
     "text": [
      "epoch 1650/2000 - loss 0.728 - acc 0.45 - F1 0.08\n"
     ]
    },
    {
     "name": "stdout",
     "output_type": "stream",
     "text": [
      "epoch 1660/2000 - loss 0.658 - acc 0.4 - F1 0.16\n"
     ]
    },
    {
     "name": "stdout",
     "output_type": "stream",
     "text": [
      "epoch 1670/2000 - loss 0.695 - acc 0.5 - F1 0.0\n"
     ]
    },
    {
     "name": "stdout",
     "output_type": "stream",
     "text": [
      "epoch 1680/2000 - loss 0.692 - acc 0.5 - F1 0.08\n"
     ]
    },
    {
     "name": "stdout",
     "output_type": "stream",
     "text": [
      "epoch 1690/2000 - loss 0.698 - acc 0.4 - F1 0.1\n"
     ]
    },
    {
     "name": "stdout",
     "output_type": "stream",
     "text": [
      "epoch 1700/2000 - loss 0.636 - acc 0.5 - F1 0.133\n"
     ]
    },
    {
     "name": "stdout",
     "output_type": "stream",
     "text": [
      "epoch 1710/2000 - loss 0.69 - acc 0.5 - F1 0.08\n"
     ]
    },
    {
     "name": "stdout",
     "output_type": "stream",
     "text": [
      "epoch 1720/2000 - loss 0.774 - acc 0.45 - F1 0.08\n"
     ]
    },
    {
     "name": "stdout",
     "output_type": "stream",
     "text": [
      "epoch 1730/2000 - loss 0.727 - acc 0.45 - F1 0.08\n"
     ]
    },
    {
     "name": "stdout",
     "output_type": "stream",
     "text": [
      "epoch 1740/2000 - loss 0.678 - acc 0.5 - F1 0.08\n"
     ]
    },
    {
     "name": "stdout",
     "output_type": "stream",
     "text": [
      "epoch 1750/2000 - loss 0.662 - acc 0.5 - F1 0.08\n"
     ]
    },
    {
     "name": "stdout",
     "output_type": "stream",
     "text": [
      "epoch 1760/2000 - loss 0.713 - acc 0.5 - F1 0.08\n"
     ]
    },
    {
     "name": "stdout",
     "output_type": "stream",
     "text": [
      "epoch 1770/2000 - loss 0.698 - acc 0.45 - F1 0.0\n"
     ]
    },
    {
     "name": "stdout",
     "output_type": "stream",
     "text": [
      "epoch 1780/2000 - loss 0.735 - acc 0.55 - F1 0.08\n"
     ]
    },
    {
     "name": "stdout",
     "output_type": "stream",
     "text": [
      "epoch 1790/2000 - loss 0.676 - acc 0.4 - F1 0.133\n"
     ]
    },
    {
     "name": "stdout",
     "output_type": "stream",
     "text": [
      "epoch 1800/2000 - loss 0.655 - acc 0.55 - F1 0.133\n"
     ]
    },
    {
     "name": "stdout",
     "output_type": "stream",
     "text": [
      "epoch 1810/2000 - loss 0.685 - acc 0.45 - F1 0.1\n"
     ]
    },
    {
     "name": "stdout",
     "output_type": "stream",
     "text": [
      "epoch 1820/2000 - loss 0.672 - acc 0.35 - F1 0.08\n"
     ]
    },
    {
     "name": "stdout",
     "output_type": "stream",
     "text": [
      "epoch 1830/2000 - loss 0.716 - acc 0.45 - F1 0.0\n"
     ]
    },
    {
     "name": "stdout",
     "output_type": "stream",
     "text": [
      "epoch 1840/2000 - loss 0.686 - acc 0.4 - F1 0.0\n"
     ]
    },
    {
     "name": "stdout",
     "output_type": "stream",
     "text": [
      "epoch 1850/2000 - loss 0.668 - acc 0.45 - F1 0.08\n"
     ]
    },
    {
     "name": "stdout",
     "output_type": "stream",
     "text": [
      "epoch 1860/2000 - loss 0.617 - acc 0.55 - F1 0.08\n"
     ]
    },
    {
     "name": "stdout",
     "output_type": "stream",
     "text": [
      "epoch 1870/2000 - loss 0.852 - acc 0.45 - F1 0.0\n"
     ]
    },
    {
     "name": "stdout",
     "output_type": "stream",
     "text": [
      "epoch 1880/2000 - loss 0.838 - acc 0.4 - F1 0.1\n"
     ]
    },
    {
     "name": "stdout",
     "output_type": "stream",
     "text": [
      "epoch 1890/2000 - loss 0.636 - acc 0.4 - F1 0.1\n"
     ]
    },
    {
     "name": "stdout",
     "output_type": "stream",
     "text": [
      "epoch 1900/2000 - loss 0.755 - acc 0.3 - F1 0.08\n"
     ]
    },
    {
     "name": "stdout",
     "output_type": "stream",
     "text": [
      "epoch 1910/2000 - loss 0.657 - acc 0.5 - F1 0.0\n"
     ]
    },
    {
     "name": "stdout",
     "output_type": "stream",
     "text": [
      "epoch 1920/2000 - loss 0.66 - acc 0.45 - F1 0.1\n"
     ]
    },
    {
     "name": "stdout",
     "output_type": "stream",
     "text": [
      "epoch 1930/2000 - loss 0.601 - acc 0.45 - F1 0.0\n"
     ]
    },
    {
     "name": "stdout",
     "output_type": "stream",
     "text": [
      "epoch 1940/2000 - loss 0.637 - acc 0.35 - F1 0.08\n"
     ]
    },
    {
     "name": "stdout",
     "output_type": "stream",
     "text": [
      "epoch 1950/2000 - loss 0.616 - acc 0.55 - F1 0.133\n"
     ]
    },
    {
     "name": "stdout",
     "output_type": "stream",
     "text": [
      "epoch 1960/2000 - loss 0.617 - acc 0.35 - F1 0.133\n"
     ]
    },
    {
     "name": "stdout",
     "output_type": "stream",
     "text": [
      "epoch 1970/2000 - loss 0.679 - acc 0.4 - F1 0.1\n"
     ]
    },
    {
     "name": "stdout",
     "output_type": "stream",
     "text": [
      "epoch 1980/2000 - loss 0.644 - acc 0.35 - F1 0.1\n"
     ]
    },
    {
     "name": "stdout",
     "output_type": "stream",
     "text": [
      "epoch 1990/2000 - loss 0.647 - acc 0.45 - F1 0.16\n"
     ]
    },
    {
     "name": "stderr",
     "output_type": "stream",
     "text": [
      "/kaggle/working/generate_data.py:102: VisibleDeprecationWarning: Creating an ndarray from ragged nested sequences (which is a list-or-tuple of lists-or-tuples-or ndarrays with different lengths or shapes) is deprecated. If you meant to do this, you must specify 'dtype=object' when creating the ndarray.\n",
      "  true = np.array(make_true(train_test_validation, type))\n",
      "/kaggle/working/generate_data.py:103: VisibleDeprecationWarning: Creating an ndarray from ragged nested sequences (which is a list-or-tuple of lists-or-tuples-or ndarrays with different lengths or shapes) is deprecated. If you meant to do this, you must specify 'dtype=object' when creating the ndarray.\n",
      "  false = np.array(make_false(train_test_validation, type))\n",
      "/kaggle/working/generate_data.py:113: VisibleDeprecationWarning: Creating an ndarray from ragged nested sequences (which is a list-or-tuple of lists-or-tuples-or ndarrays with different lengths or shapes) is deprecated. If you meant to do this, you must specify 'dtype=object' when creating the ndarray.\n",
      "  alls = np.array([*true,*false])\n",
      "/kaggle/working/generate_data.py:102: VisibleDeprecationWarning: Creating an ndarray from ragged nested sequences (which is a list-or-tuple of lists-or-tuples-or ndarrays with different lengths or shapes) is deprecated. If you meant to do this, you must specify 'dtype=object' when creating the ndarray.\n",
      "  true = np.array(make_true(train_test_validation, type))\n",
      "/kaggle/working/generate_data.py:103: VisibleDeprecationWarning: Creating an ndarray from ragged nested sequences (which is a list-or-tuple of lists-or-tuples-or ndarrays with different lengths or shapes) is deprecated. If you meant to do this, you must specify 'dtype=object' when creating the ndarray.\n",
      "  false = np.array(make_false(train_test_validation, type))\n",
      "/kaggle/working/generate_data.py:113: VisibleDeprecationWarning: Creating an ndarray from ragged nested sequences (which is a list-or-tuple of lists-or-tuples-or ndarrays with different lengths or shapes) is deprecated. If you meant to do this, you must specify 'dtype=object' when creating the ndarray.\n",
      "  alls = np.array([*true,*false])\n"
     ]
    },
    {
     "name": "stdout",
     "output_type": "stream",
     "text": [
      "Final acc 0.643 - F1 0.07142857142857142\n",
      "Training with lr 1e-05 and size 16\n",
      "epoch 0/2000 - loss 0.836 - acc 0.5 - F1 0.133\n"
     ]
    },
    {
     "name": "stdout",
     "output_type": "stream",
     "text": [
      "epoch 10/2000 - loss 0.836 - acc 0.55 - F1 0.133\n"
     ]
    },
    {
     "name": "stdout",
     "output_type": "stream",
     "text": [
      "epoch 20/2000 - loss 0.838 - acc 0.45 - F1 0.0\n"
     ]
    },
    {
     "name": "stdout",
     "output_type": "stream",
     "text": [
      "epoch 30/2000 - loss 0.836 - acc 0.4 - F1 0.08\n"
     ]
    },
    {
     "name": "stdout",
     "output_type": "stream",
     "text": [
      "epoch 40/2000 - loss 0.837 - acc 0.35 - F1 0.0\n"
     ]
    },
    {
     "name": "stdout",
     "output_type": "stream",
     "text": [
      "epoch 50/2000 - loss 0.836 - acc 0.45 - F1 0.16\n"
     ]
    },
    {
     "name": "stdout",
     "output_type": "stream",
     "text": [
      "epoch 60/2000 - loss 0.836 - acc 0.4 - F1 0.133\n"
     ]
    },
    {
     "name": "stdout",
     "output_type": "stream",
     "text": [
      "epoch 70/2000 - loss 0.836 - acc 0.45 - F1 0.16\n"
     ]
    },
    {
     "name": "stdout",
     "output_type": "stream",
     "text": [
      "epoch 80/2000 - loss 0.837 - acc 0.45 - F1 0.0\n"
     ]
    },
    {
     "name": "stdout",
     "output_type": "stream",
     "text": [
      "epoch 90/2000 - loss 0.836 - acc 0.4 - F1 0.08\n"
     ]
    },
    {
     "name": "stdout",
     "output_type": "stream",
     "text": [
      "epoch 100/2000 - loss 0.837 - acc 0.5 - F1 0.16\n"
     ]
    },
    {
     "name": "stdout",
     "output_type": "stream",
     "text": [
      "epoch 110/2000 - loss 0.836 - acc 0.4 - F1 0.0\n"
     ]
    },
    {
     "name": "stdout",
     "output_type": "stream",
     "text": [
      "epoch 120/2000 - loss 0.837 - acc 0.45 - F1 0.16\n"
     ]
    },
    {
     "name": "stdout",
     "output_type": "stream",
     "text": [
      "epoch 130/2000 - loss 0.836 - acc 0.35 - F1 0.133\n"
     ]
    },
    {
     "name": "stdout",
     "output_type": "stream",
     "text": [
      "epoch 140/2000 - loss 0.836 - acc 0.4 - F1 0.1\n"
     ]
    },
    {
     "name": "stdout",
     "output_type": "stream",
     "text": [
      "epoch 150/2000 - loss 0.837 - acc 0.45 - F1 0.133\n"
     ]
    },
    {
     "name": "stdout",
     "output_type": "stream",
     "text": [
      "epoch 160/2000 - loss 0.836 - acc 0.5 - F1 0.133\n"
     ]
    },
    {
     "name": "stdout",
     "output_type": "stream",
     "text": [
      "epoch 170/2000 - loss 0.836 - acc 0.5 - F1 0.08\n"
     ]
    },
    {
     "name": "stdout",
     "output_type": "stream",
     "text": [
      "epoch 180/2000 - loss 0.833 - acc 0.3 - F1 0.133\n"
     ]
    },
    {
     "name": "stdout",
     "output_type": "stream",
     "text": [
      "epoch 190/2000 - loss 0.836 - acc 0.3 - F1 0.08\n"
     ]
    },
    {
     "name": "stdout",
     "output_type": "stream",
     "text": [
      "epoch 200/2000 - loss 0.835 - acc 0.5 - F1 0.133\n"
     ]
    },
    {
     "name": "stdout",
     "output_type": "stream",
     "text": [
      "epoch 210/2000 - loss 0.834 - acc 0.6 - F1 0.1\n"
     ]
    },
    {
     "name": "stdout",
     "output_type": "stream",
     "text": [
      "epoch 220/2000 - loss 0.835 - acc 0.45 - F1 0.133\n"
     ]
    },
    {
     "name": "stdout",
     "output_type": "stream",
     "text": [
      "epoch 230/2000 - loss 0.834 - acc 0.5 - F1 0.08\n"
     ]
    },
    {
     "name": "stdout",
     "output_type": "stream",
     "text": [
      "epoch 240/2000 - loss 0.835 - acc 0.4 - F1 0.08\n"
     ]
    },
    {
     "name": "stdout",
     "output_type": "stream",
     "text": [
      "epoch 250/2000 - loss 0.836 - acc 0.35 - F1 0.133\n"
     ]
    },
    {
     "name": "stdout",
     "output_type": "stream",
     "text": [
      "epoch 260/2000 - loss 0.832 - acc 0.5 - F1 0.08\n"
     ]
    },
    {
     "name": "stdout",
     "output_type": "stream",
     "text": [
      "epoch 270/2000 - loss 0.832 - acc 0.45 - F1 0.0\n"
     ]
    },
    {
     "name": "stdout",
     "output_type": "stream",
     "text": [
      "epoch 280/2000 - loss 0.836 - acc 0.45 - F1 0.133\n"
     ]
    }
   ],
   "source": [
    "def train_and_test(model, lr):\n",
    "    N = 4*int(1e4)\n",
    "\n",
    "    min_length = 20\n",
    "\n",
    "    X_train, y_train = generate_data(\"train\", type = 2)\n",
    "    X_validation, y_validation = generate_data(\"validation\", type = 2)\n",
    "    loss, acc, f1s = train(model, 2000, lr, X_train, y_train, X_validation, y_validation, min_length = 20)\n",
    "    \n",
    "    min_length = 50\n",
    "\n",
    "    X_test, y_test = generate_data(\"test\", type = 2)\n",
    "\n",
    "    t, f1 = test(model, X_test, y_test, min_length = 50)\n",
    "    \n",
    "    print(f\"Final acc {t:.3} - F1 {f1}\")\n",
    "\n",
    "    return loss, acc, t, f1\n",
    "\n",
    "\n",
    "lrs = [0.00001,0.00005, 0.0001]\n",
    "sizes = [8, 16, 32]\n",
    "\n",
    "\n",
    "save_i = 0\n",
    "for lr in lrs:\n",
    "    for size in sizes:\n",
    "        losss, accs, faccs, ff1s = [], [], [], []\n",
    "        data = {\"lr\":lr,'size':size}\n",
    "\n",
    "        for i in range(3):\n",
    "            model = LSTM_predictor(size)\n",
    "            print(\"Training with lr\", lr,\"and size\", size)\n",
    "            loss, acc, facc, ff1 = train_and_test(model, lr)\n",
    "            losss.append(loss)\n",
    "            accs.append(acc)\n",
    "            faccs.append(facc) \n",
    "            ff1s.append(ff1) \n",
    "\n",
    "        save_i += 1\n",
    "        data['loss'] = np.array(losss)\n",
    "        data['acc'] = np.array(accs)\n",
    "        data['facc'] = np.array(faccs)\n",
    "        data['ff1'] = np.array(ff1s)\n",
    "\n",
    "        np.save(f\"data{save_i}.npy\",data, allow_pickle=True)\n",
    "\n",
    "        \n",
    "\n"
   ]
  },
  {
   "cell_type": "code",
   "execution_count": null,
   "id": "7f6bf530",
   "metadata": {
    "execution": {
     "iopub.status.busy": "2022-05-19T11:09:24.37198Z",
     "iopub.status.idle": "2022-05-19T11:09:24.372617Z",
     "shell.execute_reply": "2022-05-19T11:09:24.372214Z",
     "shell.execute_reply.started": "2022-05-19T11:09:24.372194Z"
    },
    "papermill": {
     "duration": null,
     "end_time": null,
     "exception": null,
     "start_time": null,
     "status": "pending"
    },
    "tags": []
   },
   "outputs": [],
   "source": [
    "sum(range(21))"
   ]
  },
  {
   "cell_type": "code",
   "execution_count": null,
   "id": "a6f6bf68",
   "metadata": {
    "papermill": {
     "duration": null,
     "end_time": null,
     "exception": null,
     "start_time": null,
     "status": "pending"
    },
    "tags": []
   },
   "outputs": [],
   "source": []
  },
  {
   "cell_type": "code",
   "execution_count": null,
   "id": "780d2fc2",
   "metadata": {
    "papermill": {
     "duration": null,
     "end_time": null,
     "exception": null,
     "start_time": null,
     "status": "pending"
    },
    "tags": []
   },
   "outputs": [],
   "source": []
  }
 ],
 "metadata": {
  "kernelspec": {
   "display_name": "Python 3",
   "language": "python",
   "name": "python3"
  },
  "language_info": {
   "codemirror_mode": {
    "name": "ipython",
    "version": 3
   },
   "file_extension": ".py",
   "mimetype": "text/x-python",
   "name": "python",
   "nbconvert_exporter": "python",
   "pygments_lexer": "ipython3",
   "version": "3.6.4"
  },
  "papermill": {
   "default_parameters": {},
   "duration": null,
   "end_time": null,
   "environment_variables": {},
   "exception": null,
   "input_path": "__notebook__.ipynb",
   "output_path": "__notebook__.ipynb",
   "parameters": {},
   "start_time": "2022-05-19T20:47:18.946430",
   "version": "2.3.4"
  }
 },
 "nbformat": 4,
 "nbformat_minor": 5
}