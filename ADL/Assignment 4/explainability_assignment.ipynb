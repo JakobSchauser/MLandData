{
 "cells": [
  {
   "cell_type": "code",
   "execution_count": 1,
   "metadata": {},
   "outputs": [],
   "source": [
    "import numpy as np\n",
    "import pandas as pd\n",
    "import matplotlib.pyplot as plt\n",
    "from tqdm.notebook import tqdm\n",
    "import torch\n",
    "import torch.nn.functional as F\n",
    "import torch.nn as nn\n",
    "\n",
    "import shap\n",
    "\n",
    "\n",
    "from captum.attr import IntegratedGradients, Deconvolution, GuidedBackprop, DeepLift"
   ]
  },
  {
   "cell_type": "code",
   "execution_count": 42,
   "metadata": {},
   "outputs": [],
   "source": [
    "train = np.genfromtxt(\"mnist_train.csv\", delimiter = \",\", skip_header = 1, dtype=int)/255\n",
    "\n",
    "# train_y = onehot(train[:,0]*255)\n",
    "train_y = (train[:,0]*255).astype(int)\n",
    "\n",
    "train = train[train_y == 0 | (train_y == 1).astype(int)]\n",
    "train_y = train_y[train_y == 0 | (train_y == 1).astype(int)]"
   ]
  },
  {
   "cell_type": "code",
   "execution_count": 115,
   "metadata": {},
   "outputs": [],
   "source": [
    "test = np.genfromtxt(\"mnist_test.csv\", delimiter = \",\", skip_header = 1, dtype=int)/255\n",
    "test_y = (test[:,0]*255).astype(int)\n",
    "\n",
    "test_dat = torch.Tensor(test[test_y == 0 | (test_y == 1).astype(int)])"
   ]
  },
  {
   "cell_type": "code",
   "execution_count": 43,
   "metadata": {},
   "outputs": [],
   "source": [
    "train_y = torch.tensor(train_y, dtype= torch.long)"
   ]
  },
  {
   "cell_type": "code",
   "execution_count": 44,
   "metadata": {},
   "outputs": [],
   "source": [
    "train_dat = torch.Tensor(train)"
   ]
  },
  {
   "cell_type": "code",
   "execution_count": 45,
   "metadata": {},
   "outputs": [],
   "source": [
    "batch_size = 32"
   ]
  },
  {
   "cell_type": "code",
   "execution_count": 59,
   "metadata": {},
   "outputs": [],
   "source": [
    "def onehot(l):\n",
    "    one = torch.zeros((l.shape[0],10))\n",
    "\n",
    "    for i, o in enumerate(l):\n",
    "        one[i,int(o)] = 1\n",
    "\n",
    "    return one\n",
    "\n",
    "\n",
    "def loader(data, data_y, batch_size):\n",
    "    for i in range(len(data)//batch_size):\n",
    "        x, y = data[i*batch_size:(i+1)*batch_size,1:], data_y[i*batch_size:(i+1)*batch_size]\n",
    "        yield x, y\n",
    "\n",
    "\n",
    "train_loader = loader(train_dat, train_y, batch_size)\n"
   ]
  },
  {
   "cell_type": "code",
   "execution_count": 80,
   "metadata": {},
   "outputs": [],
   "source": [
    "class nemt(nn.Module):\n",
    "    def __init__(self):\n",
    "        super(nemt, self).__init__()\n",
    "        self.get_res = False\n",
    "        self.conv = nn.Conv2d(1, 2, kernel_size=5)\n",
    "        self.pool = nn.MaxPool2d(2)\n",
    "        self.fc1 = nn.Linear(288, 64)\n",
    "        # self.fc1 = lambda x: x\n",
    "        self.fc2 = lambda x: x\n",
    "        # self.fc2 = nn.Linear(256, 64)\n",
    "        self.fc3 = nn.Linear(64, 2)\n",
    "\n",
    "    def forward(self, x):\n",
    "        x = self.conv(x.view(-1,28,28).unsqueeze(1))\n",
    "        if self.get_res:\n",
    "            return x\n",
    "        x = self.pool(x)\n",
    "        # print(x.shape)\n",
    "        x = F.relu(self.fc1(x.reshape(-1,288)))\n",
    "        x = F.relu(self.fc2(x))\n",
    "        x = self.fc3(x)\n",
    "        return x\n",
    "\n",
    "model = nemt()\n"
   ]
  },
  {
   "cell_type": "code",
   "execution_count": 81,
   "metadata": {},
   "outputs": [
    {
     "data": {
      "application/vnd.jupyter.widget-view+json": {
       "model_id": "2778afb0c30a462181f87b55975403f9",
       "version_major": 2,
       "version_minor": 0
      },
      "text/plain": [
       "  0%|          | 0/395 [00:00<?, ?it/s]"
      ]
     },
     "metadata": {},
     "output_type": "display_data"
    },
    {
     "name": "stdout",
     "output_type": "stream",
     "text": [
      "0.5620113291317903 tensor(0.9867)\n"
     ]
    },
    {
     "data": {
      "application/vnd.jupyter.widget-view+json": {
       "model_id": "dde084b8d1c7492dbdb2429031494dc9",
       "version_major": 2,
       "version_minor": 0
      },
      "text/plain": [
       "  0%|          | 0/395 [00:00<?, ?it/s]"
      ]
     },
     "metadata": {},
     "output_type": "display_data"
    },
    {
     "ename": "KeyboardInterrupt",
     "evalue": "",
     "output_type": "error",
     "traceback": [
      "\u001b[1;31m---------------------------------------------------------------------------\u001b[0m",
      "\u001b[1;31mKeyboardInterrupt\u001b[0m                         Traceback (most recent call last)",
      "\u001b[1;32m<ipython-input-81-1f105d03431b>\u001b[0m in \u001b[0;36m<module>\u001b[1;34m\u001b[0m\n\u001b[0;32m     25\u001b[0m         \u001b[0mprint\u001b[0m\u001b[1;33m(\u001b[0m\u001b[0mrunning_loss\u001b[0m\u001b[1;33m/\u001b[0m\u001b[0mc\u001b[0m\u001b[1;33m,\u001b[0m \u001b[0mrunning_acc\u001b[0m\u001b[1;33m/\u001b[0m\u001b[0mc\u001b[0m\u001b[1;33m)\u001b[0m\u001b[1;33m\u001b[0m\u001b[1;33m\u001b[0m\u001b[0m\n\u001b[0;32m     26\u001b[0m \u001b[1;33m\u001b[0m\u001b[0m\n\u001b[1;32m---> 27\u001b[1;33m \u001b[0mtrain\u001b[0m\u001b[1;33m(\u001b[0m\u001b[0mmodel\u001b[0m\u001b[1;33m,\u001b[0m \u001b[1;36m100\u001b[0m\u001b[1;33m)\u001b[0m\u001b[1;33m\u001b[0m\u001b[1;33m\u001b[0m\u001b[0m\n\u001b[0m",
      "\u001b[1;32m<ipython-input-81-1f105d03431b>\u001b[0m in \u001b[0;36mtrain\u001b[1;34m(model, n_epochs)\u001b[0m\n\u001b[0;32m     20\u001b[0m             \u001b[0mrunning_acc\u001b[0m \u001b[1;33m+=\u001b[0m \u001b[0macc\u001b[0m\u001b[1;33m\u001b[0m\u001b[1;33m\u001b[0m\u001b[0m\n\u001b[0;32m     21\u001b[0m \u001b[1;33m\u001b[0m\u001b[0m\n\u001b[1;32m---> 22\u001b[1;33m             \u001b[0mloss\u001b[0m\u001b[1;33m.\u001b[0m\u001b[0mbackward\u001b[0m\u001b[1;33m(\u001b[0m\u001b[1;33m)\u001b[0m\u001b[1;33m\u001b[0m\u001b[1;33m\u001b[0m\u001b[0m\n\u001b[0m\u001b[0;32m     23\u001b[0m             \u001b[0moptimizer\u001b[0m\u001b[1;33m.\u001b[0m\u001b[0mstep\u001b[0m\u001b[1;33m(\u001b[0m\u001b[1;33m)\u001b[0m\u001b[1;33m\u001b[0m\u001b[1;33m\u001b[0m\u001b[0m\n\u001b[0;32m     24\u001b[0m             \u001b[0mc\u001b[0m \u001b[1;33m+=\u001b[0m \u001b[1;36m1\u001b[0m\u001b[1;33m\u001b[0m\u001b[1;33m\u001b[0m\u001b[0m\n",
      "\u001b[1;32mc:\\Users\\jakob\\Anaconda3\\lib\\site-packages\\torch\\tensor.py\u001b[0m in \u001b[0;36mbackward\u001b[1;34m(self, gradient, retain_graph, create_graph)\u001b[0m\n\u001b[0;32m    193\u001b[0m                 \u001b[0mproducts\u001b[0m\u001b[1;33m.\u001b[0m \u001b[0mDefaults\u001b[0m \u001b[0mto\u001b[0m\u001b[0;31m \u001b[0m\u001b[0;31m`\u001b[0m\u001b[0;31m`\u001b[0m\u001b[1;32mFalse\u001b[0m\u001b[0;31m`\u001b[0m\u001b[0;31m`\u001b[0m\u001b[1;33m.\u001b[0m\u001b[1;33m\u001b[0m\u001b[1;33m\u001b[0m\u001b[0m\n\u001b[0;32m    194\u001b[0m         \"\"\"\n\u001b[1;32m--> 195\u001b[1;33m         \u001b[0mtorch\u001b[0m\u001b[1;33m.\u001b[0m\u001b[0mautograd\u001b[0m\u001b[1;33m.\u001b[0m\u001b[0mbackward\u001b[0m\u001b[1;33m(\u001b[0m\u001b[0mself\u001b[0m\u001b[1;33m,\u001b[0m \u001b[0mgradient\u001b[0m\u001b[1;33m,\u001b[0m \u001b[0mretain_graph\u001b[0m\u001b[1;33m,\u001b[0m \u001b[0mcreate_graph\u001b[0m\u001b[1;33m)\u001b[0m\u001b[1;33m\u001b[0m\u001b[1;33m\u001b[0m\u001b[0m\n\u001b[0m\u001b[0;32m    196\u001b[0m \u001b[1;33m\u001b[0m\u001b[0m\n\u001b[0;32m    197\u001b[0m     \u001b[1;32mdef\u001b[0m \u001b[0mregister_hook\u001b[0m\u001b[1;33m(\u001b[0m\u001b[0mself\u001b[0m\u001b[1;33m,\u001b[0m \u001b[0mhook\u001b[0m\u001b[1;33m)\u001b[0m\u001b[1;33m:\u001b[0m\u001b[1;33m\u001b[0m\u001b[1;33m\u001b[0m\u001b[0m\n",
      "\u001b[1;32mc:\\Users\\jakob\\Anaconda3\\lib\\site-packages\\torch\\autograd\\__init__.py\u001b[0m in \u001b[0;36mbackward\u001b[1;34m(tensors, grad_tensors, retain_graph, create_graph, grad_variables)\u001b[0m\n\u001b[0;32m     97\u001b[0m     Variable._execution_engine.run_backward(\n\u001b[0;32m     98\u001b[0m         \u001b[0mtensors\u001b[0m\u001b[1;33m,\u001b[0m \u001b[0mgrad_tensors\u001b[0m\u001b[1;33m,\u001b[0m \u001b[0mretain_graph\u001b[0m\u001b[1;33m,\u001b[0m \u001b[0mcreate_graph\u001b[0m\u001b[1;33m,\u001b[0m\u001b[1;33m\u001b[0m\u001b[1;33m\u001b[0m\u001b[0m\n\u001b[1;32m---> 99\u001b[1;33m         allow_unreachable=True)  # allow_unreachable flag\n\u001b[0m\u001b[0;32m    100\u001b[0m \u001b[1;33m\u001b[0m\u001b[0m\n\u001b[0;32m    101\u001b[0m \u001b[1;33m\u001b[0m\u001b[0m\n",
      "\u001b[1;31mKeyboardInterrupt\u001b[0m: "
     ]
    }
   ],
   "source": [
    "loss_fn = nn.CrossEntropyLoss()\n",
    "\n",
    "def train(model, n_epochs):\n",
    "    model.train()\n",
    "    optimizer = torch.optim.Adam(model.parameters(), lr = 1e-5)\n",
    "\n",
    "    for i in range(n_epochs):\n",
    "        train_loader = loader(train_dat, train_y, batch_size)\n",
    "\n",
    "        running_loss = 0.0\n",
    "        running_acc = 0.0\n",
    "        c = 0\n",
    "        for X, y in tqdm(train_loader, total = len(train_y)//batch_size):\n",
    "            pred = model(X)\n",
    "            loss = loss_fn(pred, y)\n",
    "\n",
    "            acc = (pred.argmax(1) == y).detach().float().mean()\n",
    "\n",
    "            running_loss += loss.detach().numpy()\n",
    "            running_acc += acc\n",
    "\n",
    "            loss.backward()\n",
    "            optimizer.step()\n",
    "            c += 1\n",
    "        print(running_loss/c, running_acc/c)\n",
    "\n",
    "train(model, 100)"
   ]
  },
  {
   "cell_type": "code",
   "execution_count": 49,
   "metadata": {},
   "outputs": [
    {
     "name": "stdout",
     "output_type": "stream",
     "text": [
      "tensor([1]) tensor(1)\n"
     ]
    }
   ],
   "source": [
    "i = 4\n",
    "\n",
    "X, y = train_dat[i,1:].unsqueeze(0), train_y[i].unsqueeze(0)\n",
    "pred_label = model(X)\n",
    "\n",
    "print(y, pred_label.argmax())"
   ]
  },
  {
   "cell_type": "code",
   "execution_count": 10,
   "metadata": {},
   "outputs": [
    {
     "data": {
      "image/png": "[encoded data removed]",
      "text/plain": [
       "<Figure size 432x288 with 1 Axes>"
      ]
     },
     "metadata": {
      "needs_background": "light"
     },
     "output_type": "display_data"
    },
    {
     "data": {
      "image/png": "[encoded data removed]",
      "text/plain": [
       "<Figure size 432x288 with 1 Axes>"
      ]
     },
     "metadata": {
      "needs_background": "light"
     },
     "output_type": "display_data"
    }
   ],
   "source": [
    "from captum.attr import visualization as viz\n",
    "from captum.attr import IntegratedGradients\n",
    "import torchvision\n",
    "\n",
    "# model = torchvision.models.resnet18(pretrained=True)\n",
    "# model = model.eval()\n",
    "\n",
    "\n",
    "for i in range(2):\n",
    "    # i = 1\n",
    "\n",
    "    X, y = train_dat[i,1:].unsqueeze(0), train_y[i].unsqueeze(0)\n",
    "    pred_label = model(X)\n",
    "\n",
    "    # print(pred_label.shape, X.shape)\n",
    "    # print(torch.argmax(pred_label), y)\n",
    "    integrated_gradients = IntegratedGradients(model)\n",
    "\n",
    "    attributions_ig = integrated_gradients.attribute(X, target=torch.argmax(pred_label))\n",
    "\n",
    "    v = attributions_ig.squeeze(0).view(28,28).cpu().detach().numpy()\n",
    "    plt.imshow(v)\n",
    "    plt.show()\n",
    "# plt.imshow(v + X.view(28,28).cpu().detach().numpy())\n",
    "# viz.visualize_image_attr(v,\n",
    "#                             torch.argmax(y),\n",
    "#                             method='heat_map',)\n",
    "#                             # show_colorbar=True,)\n",
    "# #                             # sign='positive',)\n",
    "# #                             # outlier_perc=1)"
   ]
  },
  {
   "cell_type": "code",
   "execution_count": 11,
   "metadata": {},
   "outputs": [],
   "source": [
    "# params = next(model.parameters()).detach().view(-1,28,28)\n",
    "\n",
    "# for p in params:\n",
    "#     plt.imshow(p)\n",
    "#     plt.show()\n",
    "N = 200\n",
    "test_images = train_dat[N:N+2,1:]\n",
    "bgr = train_dat[:N,1:]\n",
    "\n",
    "e = shap.DeepExplainer(model, bgr)\n",
    "shap_values = e.shap_values(test_images)\n"
   ]
  },
  {
   "cell_type": "code",
   "execution_count": 12,
   "metadata": {},
   "outputs": [
    {
     "name": "stdout",
     "output_type": "stream",
     "text": [
      "tensor([0, 1, 1, 1, 1, 0, 1, 1, 0, 0, 1, 0, 0, 1, 0, 1, 0, 0, 1, 1, 0, 1, 1, 0,\n",
      "        0, 0, 1, 1, 1, 1, 0, 1]) \n",
      " tensor([0, 1, 1, 1, 1, 0, 1, 1, 0, 0, 1, 0, 0, 1, 0, 1, 0, 0, 1, 1, 0, 1, 1, 0,\n",
      "        0, 0, 1, 1, 1, 1, 0, 1])\n",
      "tensor(1.)\n"
     ]
    }
   ],
   "source": [
    "train_loader = loader(train_dat, train_y, batch_size)\n",
    "\n",
    "for X, y in train_loader:\n",
    "\n",
    "    print(model(X).argmax(1),\"\\n\", y)\n",
    "\n",
    "    print((model(X).argmax(1) == y).detach().float().mean())\n",
    "    break"
   ]
  },
  {
   "cell_type": "code",
   "execution_count": 25,
   "metadata": {},
   "outputs": [],
   "source": [
    "# plt.imshow(shap_numpy[0][1])"
   ]
  },
  {
   "cell_type": "code",
   "execution_count": 17,
   "metadata": {},
   "outputs": [
    {
     "data": {
      "image/png": "[encoded data removed]",
      "text/plain": [
       "<Figure size 648x540 with 7 Axes>"
      ]
     },
     "metadata": {
      "needs_background": "light"
     },
     "output_type": "display_data"
    }
   ],
   "source": [
    "shap_numpy = [np.array(s.reshape(-1,28,28)) for s in shap_values]\n",
    "test_numpy = test_images.numpy().reshape(-1,28,28)\n",
    "\n",
    "shap.image_plot(shap_numpy, -test_numpy)"
   ]
  },
  {
   "cell_type": "code",
   "execution_count": 14,
   "metadata": {},
   "outputs": [
    {
     "name": "stdout",
     "output_type": "stream",
     "text": [
      "Parameter containing:\n",
      "tensor([[[[ 0.1198, -0.0838,  0.0616,  0.2724,  0.0504],\n",
      "          [-0.0273, -0.2746, -0.0269,  0.2755,  0.3335],\n",
      "          [-0.2639, -0.4173, -0.0984,  0.3393,  0.4197],\n",
      "          [-0.2144, -0.0610,  0.0515,  0.0891,  0.0623],\n",
      "          [-0.2933, -0.2750,  0.1726,  0.3334,  0.1783]]],\n",
      "\n",
      "\n",
      "        [[[-0.0488,  0.2677,  0.2465,  0.2337,  0.1311],\n",
      "          [-0.3170,  0.1289,  0.0484,  0.2190,  0.2637],\n",
      "          [ 0.1799,  0.2394,  0.3857,  0.3873,  0.1481],\n",
      "          [ 0.1140,  0.0905,  0.4024,  0.0605,  0.2981],\n",
      "          [ 0.3046,  0.2361,  0.2743,  0.3249,  0.3470]]]], requires_grad=True)\n"
     ]
    },
    {
     "data": {
      "image/png": "[encoded data removed]",
      "text/plain": [
       "<Figure size 432x288 with 1 Axes>"
      ]
     },
     "metadata": {
      "needs_background": "light"
     },
     "output_type": "display_data"
    },
    {
     "data": {
      "image/png": "[encoded data removed]",
      "text/plain": [
       "<Figure size 432x288 with 1 Axes>"
      ]
     },
     "metadata": {
      "needs_background": "light"
     },
     "output_type": "display_data"
    }
   ],
   "source": [
    "p = model.parameters()\n",
    "c = next(p)\n",
    "print(c)\n",
    "for i in range(2):\n",
    "    plt.imshow(c[i][0].detach().numpy())\n",
    "    plt.show()\n"
   ]
  },
  {
   "cell_type": "code",
   "execution_count": 55,
   "metadata": {},
   "outputs": [
    {
     "data": {
      "text/plain": [
       "[captum.attr._core.integrated_gradients.IntegratedGradients,\n",
       " captum.attr._core.guided_backprop_deconvnet.Deconvolution,\n",
       " captum.attr._core.guided_backprop_deconvnet.GuidedBackprop,\n",
       " captum.attr._core.deep_lift.DeepLift]"
      ]
     },
     "execution_count": 55,
     "metadata": {},
     "output_type": "execute_result"
    }
   ],
   "source": [
    "methods"
   ]
  },
  {
   "cell_type": "code",
   "execution_count": 109,
   "metadata": {},
   "outputs": [
    {
     "name": "stderr",
     "output_type": "stream",
     "text": [
      "Input Tensor 0 did not already require gradients, required_grads has been set automatically.\n",
      "Setting backward hooks on ReLU activations.The hooks will be removed after the attribution is finished\n",
      "Setting forward, backward hooks and attributes on non-linear\n",
      "               activations. The hooks and attributes will be removed\n",
      "            after the attribution is finished\n"
     ]
    }
   ],
   "source": [
    "from captum.attr import IntegratedGradients, Deconvolution, GuidedBackprop, DeepLift, LRP\n",
    "\n",
    "methods = [IntegratedGradients, GuidedBackprop, DeepLift, LRP]\n",
    "\n",
    "\n"
   ]
  },
  {
   "cell_type": "code",
   "execution_count": 117,
   "metadata": {},
   "outputs": [],
   "source": [
    "from scipy.stats import spearmanr\n",
    "\n",
    "def get_corrs(a):\n",
    "    A = np.empty((4,4))\n",
    "    for x in range(4):\n",
    "        for y in range(4):\n",
    "            A[x,y] = spearmanr(a[x],a[y])[0] \n",
    "    return A\n",
    "\n",
    "def get_attrs(dat):\n",
    "    all_attr = []\n",
    "    for d in dat:\n",
    "        img = d[1:]\n",
    "        target = model(img).argmax(1)\n",
    "        attributions = []\n",
    "\n",
    "        for m in methods:\n",
    "            x = m(model)\n",
    "            attr = x.attribute(img.unsqueeze(0), target=target)\n",
    "            attributions.append(attr.detach().squeeze(0))\n",
    "        all_attr.append(attributions)\n",
    "\n",
    "    return all_attr\n",
    "\n",
    "\n",
    "all_attr = get_attrs(test_dat)"
   ]
  },
  {
   "cell_type": "code",
   "execution_count": 118,
   "metadata": {},
   "outputs": [],
   "source": [
    "corrs = [get_corrs(a) for a in all_attr]"
   ]
  },
  {
   "cell_type": "code",
   "execution_count": 125,
   "metadata": {},
   "outputs": [
    {
     "data": {
      "text/plain": [
       "array([[1.        , 0.44934619, 0.71051886, 0.92353976],\n",
       "       [0.44934619, 1.        , 0.38097072, 0.46356532],\n",
       "       [0.71051886, 0.38097072, 1.        , 0.72810777],\n",
       "       [0.92353976, 0.46356532, 0.72810777, 1.        ]])"
      ]
     },
     "execution_count": 125,
     "metadata": {},
     "output_type": "execute_result"
    }
   ],
   "source": [
    "np.array(corrs).mean(axis =0)"
   ]
  },
  {
   "cell_type": "code",
   "execution_count": 96,
   "metadata": {},
   "outputs": [
    {
     "data": {
      "image/png": "[encoded data removed]",
      "text/plain": [
       "<Figure size 432x288 with 1 Axes>"
      ]
     },
     "metadata": {
      "needs_background": "light"
     },
     "output_type": "display_data"
    },
    {
     "data": {
      "image/png": "[encoded data removed]",
      "text/plain": [
       "<Figure size 432x288 with 1 Axes>"
      ]
     },
     "metadata": {
      "needs_background": "light"
     },
     "output_type": "display_data"
    },
    {
     "data": {
      "image/png": "[encoded data removed]",
      "text/plain": [
       "<Figure size 432x288 with 1 Axes>"
      ]
     },
     "metadata": {
      "needs_background": "light"
     },
     "output_type": "display_data"
    },
    {
     "data": {
      "image/png": "[encoded data removed]",
      "text/plain": [
       "<Figure size 432x288 with 1 Axes>"
      ]
     },
     "metadata": {
      "needs_background": "light"
     },
     "output_type": "display_data"
    },
    {
     "data": {
      "image/png": "[encoded data removed]",
      "text/plain": [
       "<Figure size 432x288 with 1 Axes>"
      ]
     },
     "metadata": {
      "needs_background": "light"
     },
     "output_type": "display_data"
    },
    {
     "data": {
      "image/png": "[encoded data removed]",
      "text/plain": [
       "<Figure size 432x288 with 1 Axes>"
      ]
     },
     "metadata": {
      "needs_background": "light"
     },
     "output_type": "display_data"
    },
    {
     "data": {
      "image/png": "[encoded data removed]",
      "text/plain": [
       "<Figure size 432x288 with 1 Axes>"
      ]
     },
     "metadata": {
      "needs_background": "light"
     },
     "output_type": "display_data"
    },
    {
     "data": {
      "image/png": "[encoded data removed]",
      "text/plain": [
       "<Figure size 432x288 with 1 Axes>"
      ]
     },
     "metadata": {
      "needs_background": "light"
     },
     "output_type": "display_data"
    }
   ],
   "source": [
    "for a in attributions:\n",
    "    plt.imshow(a.reshape(28,28))\n",
    "    plt.show()\n",
    "\n",
    "# plt.imshow((attributions[0]-attributions[4]).reshape(28,28))"
   ]
  },
  {
   "cell_type": "code",
   "execution_count": 15,
   "metadata": {},
   "outputs": [],
   "source": [
    "model.get_res = True"
   ]
  },
  {
   "cell_type": "code",
   "execution_count": 16,
   "metadata": {},
   "outputs": [
    {
     "name": "stdout",
     "output_type": "stream",
     "text": [
      "0.21716492\n"
     ]
    },
    {
     "data": {
      "image/png": "[encoded data removed]",
      "text/plain": [
       "<Figure size 432x288 with 1 Axes>"
      ]
     },
     "metadata": {
      "needs_background": "light"
     },
     "output_type": "display_data"
    },
    {
     "name": "stdout",
     "output_type": "stream",
     "text": [
      "0.8981702\n"
     ]
    },
    {
     "data": {
      "image/png": "[encoded data removed]",
      "text/plain": [
       "<Figure size 432x288 with 1 Axes>"
      ]
     },
     "metadata": {
      "needs_background": "light"
     },
     "output_type": "display_data"
    },
    {
     "name": "stdout",
     "output_type": "stream",
     "text": [
      "0.14643984\n"
     ]
    },
    {
     "data": {
      "image/png": "[encoded data removed]",
      "text/plain": [
       "<Figure size 432x288 with 1 Axes>"
      ]
     },
     "metadata": {
      "needs_background": "light"
     },
     "output_type": "display_data"
    },
    {
     "name": "stdout",
     "output_type": "stream",
     "text": [
      "0.42230278\n"
     ]
    },
    {
     "data": {
      "image/png": "[encoded data removed]",
      "text/plain": [
       "<Figure size 432x288 with 1 Axes>"
      ]
     },
     "metadata": {
      "needs_background": "light"
     },
     "output_type": "display_data"
    }
   ],
   "source": [
    "t = train_dat[:32,1:] \n",
    "# t = torch.Tensor(np.random.random((32,28*28)))\n",
    "for k in range(2):\n",
    "    res = model(t)[k]\n",
    "\n",
    "    for i in range(2):\n",
    "        plt.imshow(res[i].detach().numpy())\n",
    "        print(np.mean(res[i].detach().numpy()))\n",
    "        plt.show()"
   ]
  }
 ],
 "metadata": {
  "kernelspec": {
   "display_name": "Python 3.6.13 ('base')",
   "language": "python",
   "name": "python3"
  },
  "language_info": {
   "codemirror_mode": {
    "name": "ipython",
    "version": 3
   },
   "file_extension": ".py",
   "mimetype": "text/x-python",
   "name": "python",
   "nbconvert_exporter": "python",
   "pygments_lexer": "ipython3",
   "version": "3.6.13"
  },
  "orig_nbformat": 4,
  "vscode": {
   "interpreter": {
    "hash": "90ddd5eea33bf34e5045df3efad123ec5baf581e702e7e2d1915bea2be814a0a"
   }
  }
 },
 "nbformat": 4,
 "nbformat_minor": 2
}
