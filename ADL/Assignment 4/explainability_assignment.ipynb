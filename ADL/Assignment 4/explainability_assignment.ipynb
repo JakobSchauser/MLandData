{
 "cells": [
  {
   "cell_type": "code",
   "execution_count": 364,
   "metadata": {},
   "outputs": [],
   "source": [
    "import numpy as np\n",
    "import pandas as pd\n",
    "import matplotlib.pyplot as plt\n",
    "from tqdm.notebook import tqdm\n",
    "import torch\n",
    "import torch.nn.functional as F\n",
    "import torch.nn as nn\n",
    "\n",
    "import shap\n",
    "\n",
    "\n",
    "from captum.attr import IntegratedGradients, Deconvolution, GuidedBackprop, DeepLift"
   ]
  },
  {
   "cell_type": "code",
   "execution_count": 365,
   "metadata": {},
   "outputs": [],
   "source": [
    "train = np.genfromtxt(\"mnist_train.csv\", delimiter = \",\", skip_header = 1, dtype=int)/255\n",
    "\n",
    "# train_y = onehot(train[:,0]*255)\n",
    "train_y = (train[:,0]*255).astype(int)\n",
    "\n",
    "train = train[train_y == 0 | (train_y == 1).astype(int)]\n",
    "train_y = train_y[train_y == 0 | (train_y == 1).astype(int)]"
   ]
  },
  {
   "cell_type": "code",
   "execution_count": 366,
   "metadata": {},
   "outputs": [],
   "source": [
    "test = np.genfromtxt(\"mnist_test.csv\", delimiter = \",\", skip_header = 1, dtype=int)/255\n",
    "test_y = (test[:,0]*255).astype(int)\n",
    "\n",
    "test_dat = torch.Tensor(test[test_y == 0 | (test_y == 1).astype(int)])"
   ]
  },
  {
   "cell_type": "code",
   "execution_count": 367,
   "metadata": {},
   "outputs": [],
   "source": [
    "train_y = torch.tensor(train_y, dtype= torch.long)\n",
    "train_dat = torch.Tensor(train)\n"
   ]
  },
  {
   "cell_type": "code",
   "execution_count": 368,
   "metadata": {},
   "outputs": [],
   "source": [
    "batch_size = 32"
   ]
  },
  {
   "cell_type": "code",
   "execution_count": 369,
   "metadata": {},
   "outputs": [],
   "source": [
    "def onehot(l):\n",
    "    one = torch.zeros((l.shape[0],10))\n",
    "\n",
    "    for i, o in enumerate(l):\n",
    "        one[i,int(o)] = 1\n",
    "\n",
    "    return one\n",
    "\n",
    "\n",
    "def loader(data, data_y, batch_size):\n",
    "    for i in range(len(data)//batch_size):\n",
    "        x, y = data[i*batch_size:(i+1)*batch_size,1:], data_y[i*batch_size:(i+1)*batch_size]\n",
    "        yield x, y\n",
    "\n",
    "\n",
    "train_loader = loader(train_dat, train_y, batch_size)\n"
   ]
  },
  {
   "cell_type": "code",
   "execution_count": 370,
   "metadata": {},
   "outputs": [],
   "source": [
    "class nemt(nn.Module):\n",
    "    def __init__(self):\n",
    "        super(nemt, self).__init__()\n",
    "        self.get_res = False\n",
    "        self.conv = nn.Conv2d(1, 2, kernel_size=5)\n",
    "        self.pool = nn.MaxPool2d(2)\n",
    "        self.fc1 = nn.Linear(288, 64)\n",
    "        # self.fc1 = lambda x: x\n",
    "        self.fc2 = lambda x: x\n",
    "        # self.fc2 = nn.Linear(256, 64)\n",
    "        self.fc3 = nn.Linear(64, 2)\n",
    "\n",
    "    def forward(self, x):\n",
    "        x = self.conv(x.view(-1,28,28).unsqueeze(1))\n",
    "        if self.get_res:\n",
    "            return x\n",
    "        x = self.pool(x)\n",
    "        # print(x.shape)\n",
    "        x = F.relu(self.fc1(x.reshape(-1,288)))\n",
    "        x = F.relu(self.fc2(x))\n",
    "        x = self.fc3(x)\n",
    "        return x\n",
    "\n",
    "model = nemt()\n"
   ]
  },
  {
   "cell_type": "code",
   "execution_count": 371,
   "metadata": {},
   "outputs": [
    {
     "data": {
      "application/vnd.jupyter.widget-view+json": {
       "model_id": "0e71317f29f44f9ead5d2e3c4fb84527",
       "version_major": 2,
       "version_minor": 0
      },
      "text/plain": [
       "  0%|          | 0/395 [00:00<?, ?it/s]"
      ]
     },
     "metadata": {},
     "output_type": "display_data"
    },
    {
     "name": "stdout",
     "output_type": "stream",
     "text": [
      "0.6132519822331923 tensor(0.8044)\n"
     ]
    },
    {
     "data": {
      "application/vnd.jupyter.widget-view+json": {
       "model_id": "f0e0d377f692463ab4089043e139d149",
       "version_major": 2,
       "version_minor": 0
      },
      "text/plain": [
       "  0%|          | 0/395 [00:00<?, ?it/s]"
      ]
     },
     "metadata": {},
     "output_type": "display_data"
    },
    {
     "name": "stdout",
     "output_type": "stream",
     "text": [
      "0.39797733128070834 tensor(0.9942)\n"
     ]
    }
   ],
   "source": [
    "loss_fn = nn.CrossEntropyLoss()\n",
    "\n",
    "def train(model, n_epochs):\n",
    "    model.train()\n",
    "    optimizer = torch.optim.Adam(model.parameters(), lr = 1e-5)\n",
    "\n",
    "    for i in range(n_epochs):\n",
    "        train_loader = loader(train_dat, train_y, batch_size)\n",
    "\n",
    "        running_loss = 0.0\n",
    "        running_acc = 0.0\n",
    "        c = 0\n",
    "        for X, y in tqdm(train_loader, total = len(train_y)//batch_size):\n",
    "            pred = model(X)\n",
    "            loss = loss_fn(pred, y)\n",
    "\n",
    "            acc = (pred.argmax(1) == y).detach().float().mean()\n",
    "\n",
    "            running_loss += loss.detach().numpy()\n",
    "            running_acc += acc\n",
    "\n",
    "            loss.backward()\n",
    "            optimizer.step()\n",
    "            c += 1\n",
    "        print(running_loss/c, running_acc/c)\n",
    "\n",
    "train(model, 2)"
   ]
  },
  {
   "cell_type": "code",
   "execution_count": 10,
   "metadata": {},
   "outputs": [
    {
     "data": {
      "image/png": "[encoded data removed]",
      "text/plain": [
       "<Figure size 432x288 with 1 Axes>"
      ]
     },
     "metadata": {
      "needs_background": "light"
     },
     "output_type": "display_data"
    },
    {
     "data": {
      "image/png": "[encoded data removed]",
      "text/plain": [
       "<Figure size 432x288 with 1 Axes>"
      ]
     },
     "metadata": {
      "needs_background": "light"
     },
     "output_type": "display_data"
    }
   ],
   "source": [
    "from captum.attr import visualization as viz\n",
    "from captum.attr import IntegratedGradients\n",
    "import torchvision\n",
    "\n",
    "\n",
    "i = 4\n",
    "\n",
    "X, y = train_dat[i,1:].unsqueeze(0), train_y[i].unsqueeze(0)\n",
    "pred_label = model(X)\n",
    "\n",
    "# model = torchvision.models.resnet18(pretrained=True)\n",
    "# model = model.eval()\n",
    "\n",
    "\n",
    "for i in range(2):\n",
    "    # i = 1\n",
    "\n",
    "    X, y = train_dat[i,1:].unsqueeze(0), train_y[i].unsqueeze(0)\n",
    "    pred_label = model(X)\n",
    "\n",
    "    # print(pred_label.shape, X.shape)\n",
    "    # print(torch.argmax(pred_label), y)\n",
    "    integrated_gradients = IntegratedGradients(model)\n",
    "\n",
    "    attributions_ig = integrated_gradients.attribute(X, target=torch.argmax(pred_label))\n",
    "\n",
    "    v = attributions_ig.squeeze(0).view(28,28).cpu().detach().numpy()\n",
    "    plt.imshow(v)\n",
    "    plt.show()\n",
    "# plt.imshow(v + X.view(28,28).cpu().detach().numpy())\n",
    "# viz.visualize_image_attr(v,\n",
    "#                             torch.argmax(y),\n",
    "#                             method='heat_map',)\n",
    "#                             # show_colorbar=True,)\n",
    "# #                             # sign='positive',)\n",
    "# #                             # outlier_perc=1)"
   ]
  },
  {
   "cell_type": "code",
   "execution_count": 347,
   "metadata": {},
   "outputs": [],
   "source": [
    "from captum.attr import IntegratedGradients, Deconvolution, GuidedBackprop, DeepLift, LRP\n",
    "\n",
    "methods = [IntegratedGradients, LRP, DeepLift, GuidedBackprop ]\n",
    "\n"
   ]
  },
  {
   "cell_type": "code",
   "execution_count": 242,
   "metadata": {},
   "outputs": [
    {
     "name": "stderr",
     "output_type": "stream",
     "text": [
      "Input Tensor 0 did not already require gradients, required_grads has been set automatically.\n",
      "Setting forward, backward hooks and attributes on non-linear\n",
      "               activations. The hooks and attributes will be removed\n",
      "            after the attribution is finished\n",
      "Setting backward hooks on ReLU activations.The hooks will be removed after the attribution is finished\n"
     ]
    }
   ],
   "source": [
    "from scipy.stats import spearmanr\n",
    "\n",
    "def get_corrs(a):\n",
    "    A = np.empty((4,4))\n",
    "    for x in range(4):\n",
    "        for y in range(4):\n",
    "            A[x,y] = spearmanr(a[x],a[y])[0] \n",
    "    return A\n",
    "\n",
    "def get_attrs(dat):\n",
    "    all_attr = []\n",
    "    for d in dat:\n",
    "        img = d[1:]\n",
    "        target = model(img).argmax(1)\n",
    "        attributions = []\n",
    "\n",
    "        for m in methods:\n",
    "            x = m(model)\n",
    "            attr = x.attribute(img.unsqueeze(0), target=target)\n",
    "            attributions.append(attr.detach().squeeze(0))\n",
    "        all_attr.append(attributions)\n",
    "\n",
    "    return all_attr\n",
    "\n",
    "\n",
    "all_attr = get_attrs(test_dat)"
   ]
  },
  {
   "cell_type": "code",
   "execution_count": 243,
   "metadata": {},
   "outputs": [],
   "source": [
    "corrs = [get_corrs(a) for a in all_attr]"
   ]
  },
  {
   "cell_type": "code",
   "execution_count": 344,
   "metadata": {},
   "outputs": [
    {
     "data": {
      "text/plain": [
       "Text(0.5, 1.0, 'Spearman correlation between interpretability methods')"
      ]
     },
     "execution_count": 344,
     "metadata": {},
     "output_type": "execute_result"
    },
    {
     "data": {
      "image/png": "[encoded data removed]",
      "text/plain": [
       "<Figure size 432x288 with 2 Axes>"
      ]
     },
     "metadata": {},
     "output_type": "display_data"
    }
   ],
   "source": [
    "import seaborn as sns;\n",
    "sns.set_style(\"ticks\")\n",
    "\n",
    "avg, std = np.array(corrs).mean(axis = 0), np.array(corrs).std(axis = 0)\n",
    "# plt.imshow(avg)\n",
    "sns.heatmap(avg, annot= False, cmap = \"mako\")\n",
    "x = np.array(range(4))+0.5\n",
    "plt.xticks(x, labels =  mnames)\n",
    "plt.yticks(x, labels =  mnames)\n",
    "\n",
    "from itertools import product\n",
    "\n",
    "\n",
    "def coords(n):\n",
    "    return product(range(n), repeat = 2)\n",
    "\n",
    "for (x,y) in coords(4):\n",
    "    t = f\"{avg[x,y]:.3}\\n+/-{std[x,y]:.1}\" if y - x > 0 else \"\"\n",
    "    # plt.text(x+0.22,y+0.72,t,c = \"w\")\n",
    "    # print(f\"{avg[x,y]:.3}+/-{std[x,y]:.1}\")\n",
    "\n",
    "    c = \"black\" if avg[x,y] > 0.8 else \"w\"\n",
    "    plt.text(x+0.2,y+0.7,t, c = c)\n",
    "\n",
    "plt.title(\"Spearman correlation between interpretability methods\")\n",
    "\n"
   ]
  },
  {
   "cell_type": "code",
   "execution_count": null,
   "metadata": {},
   "outputs": [
    {
     "data": {
      "image/png": "[encoded data removed]",
      "text/plain": [
       "<Figure size 432x288 with 8 Axes>"
      ]
     },
     "metadata": {},
     "output_type": "display_data"
    }
   ],
   "source": [
    "mnames =  [\"IG\", \"LRP\", \"DeepLift\", \"GBP\"]\n",
    "\n",
    "\n",
    "fig, axs = plt.subplots(2,4, sharex=\"col\",sharey=\"row\")\n",
    "\n",
    "for i in range(4):\n",
    "    axs[1][i].imshow(all_attr[0][i].reshape((28,28)), cmap = \"mako\")\n",
    "    axs[0][i].imshow(all_attr[1][i].reshape((28,28)), cmap = \"mako\")\n",
    "    axs[0][i].set_xticks([])\n",
    "    axs[1][i].set_yticks([])\n",
    "    axs[0][i].set_yticks([])\n",
    "    axs[0][i].set_title(mnames[i])\n",
    "\n",
    "\n",
    "\n",
    "fig.tight_layout(h_pad = -3, w_pad = -0.0)\n",
    "plt.show()"
   ]
  },
  {
   "cell_type": "code",
   "execution_count": 359,
   "metadata": {},
   "outputs": [],
   "source": [
    "model.get_res = True"
   ]
  },
  {
   "cell_type": "code",
   "execution_count": 362,
   "metadata": {},
   "outputs": [
    {
     "name": "stdout",
     "output_type": "stream",
     "text": [
      "torch.Size([2, 24, 24])\n",
      "0.045936305\n"
     ]
    },
    {
     "data": {
      "image/png": "[encoded data removed]",
      "text/plain": [
       "<Figure size 432x288 with 1 Axes>"
      ]
     },
     "metadata": {},
     "output_type": "display_data"
    },
    {
     "name": "stdout",
     "output_type": "stream",
     "text": [
      "0.34508657\n"
     ]
    },
    {
     "data": {
      "image/png": "[encoded data removed]",
      "text/plain": [
       "<Figure size 432x288 with 1 Axes>"
      ]
     },
     "metadata": {},
     "output_type": "display_data"
    }
   ],
   "source": [
    "t = train_dat[:32,1:] \n",
    "k = 0\n",
    "# t = torch.Tensor(np.random.random((32,28*28)))\n",
    "print(res.shape)\n",
    "for i in range(2):\n",
    "    plt.imshow(res[i].detach().numpy())\n",
    "    print(np.mean(res[i].detach().numpy()))\n",
    "    plt.show()"
   ]
  }
 ],
 "metadata": {
  "kernelspec": {
   "display_name": "Python 3.6.13 ('base')",
   "language": "python",
   "name": "python3"
  },
  "language_info": {
   "codemirror_mode": {
    "name": "ipython",
    "version": 3
   },
   "file_extension": ".py",
   "mimetype": "text/x-python",
   "name": "python",
   "nbconvert_exporter": "python",
   "pygments_lexer": "ipython3",
   "version": "3.6.13"
  },
  "orig_nbformat": 4,
  "vscode": {
   "interpreter": {
    "hash": "90ddd5eea33bf34e5045df3efad123ec5baf581e702e7e2d1915bea2be814a0a"
   }
  }
 },
 "nbformat": 4,
 "nbformat_minor": 2
}
