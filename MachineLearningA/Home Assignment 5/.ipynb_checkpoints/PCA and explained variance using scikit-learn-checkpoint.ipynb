{
 "cells": [
  {
   "cell_type": "markdown",
   "metadata": {},
   "source": [
    "# Computing explained variance using scikit-learn and by hand using numpy \n",
    "## Christian Igel, 2021"
   ]
  },
  {
   "cell_type": "code",
   "execution_count": 14,
   "metadata": {},
   "outputs": [],
   "source": [
    "import numpy as np\n",
    "from sklearn.decomposition import PCA\n",
    "from sklearn import datasets"
   ]
  },
  {
   "cell_type": "markdown",
   "metadata": {},
   "source": [
    "Load some data"
   ]
  },
  {
   "cell_type": "code",
   "execution_count": 15,
   "metadata": {},
   "outputs": [],
   "source": [
    "X = datasets.load_diabetes().data"
   ]
  },
  {
   "cell_type": "markdown",
   "metadata": {},
   "source": [
    "Do computations using scikit-learn"
   ]
  },
  {
   "cell_type": "code",
   "execution_count": 12,
   "metadata": {},
   "outputs": [
    {
     "name": "stdout",
     "output_type": "stream",
     "text": [
      "Squared singular values:\n",
      " [4.02421418 1.49231824 1.20596231 0.95547639 0.66218558 0.60271921\n",
      " 0.53656046 0.4336832  0.07831991 0.00856053]\n",
      "'Explained variance' (not normalized):\n",
      " [9.12520221e-03 3.38394158e-03 2.73460842e-03 2.16661312e-03\n",
      " 1.50155460e-03 1.36671023e-03 1.21669038e-03 9.83408623e-04\n",
      " 1.77596168e-04 1.94116324e-05]\n",
      "Explained variance per component (computed from previous result):\n",
      " [0.40242142 0.14923182 0.12059623 0.09554764 0.06621856 0.06027192\n",
      " 0.05365605 0.04336832 0.00783199 0.00085605]\n",
      "Explained variance per component:\n",
      " [0.40242142 0.14923182 0.12059623 0.09554764 0.06621856 0.06027192\n",
      " 0.05365605 0.04336832 0.00783199 0.00085605]\n"
     ]
    }
   ],
   "source": [
    "pca = PCA()\n",
    "pca.fit(X)\n",
    "eigenvalues = pca.singular_values_**2\n",
    "print(\"Squared singular values:\\n\", eigenvalues)\n",
    "print(\"'Explained variance' (not normalized):\\n\", pca.explained_variance_)\n",
    "print(\"Explained variance per component (computed from previous result):\\n\", pca.explained_variance_ / np.sum(pca.explained_variance_))\n",
    "print(\"Explained variance per component:\\n\", pca.explained_variance_ratio_)"
   ]
  },
  {
   "cell_type": "markdown",
   "metadata": {},
   "source": [
    "Do computations by hand"
   ]
  },
  {
   "cell_type": "code",
   "execution_count": 13,
   "metadata": {},
   "outputs": [
    {
     "name": "stdout",
     "output_type": "stream",
     "text": [
      "Eigenvalues (not Bessel corrected):\n",
      " [9.10455696e-03 3.37628560e-03 2.72842152e-03 2.16171128e-03\n",
      " 1.49815742e-03 1.36361812e-03 1.21393769e-03 9.81183716e-04\n",
      " 1.77194367e-04 1.93677147e-05]\n",
      "Explained variance per component (not Bessel corrected):\n",
      " [0.40242142 0.14923182 0.12059623 0.09554764 0.06621856 0.06027192\n",
      " 0.05365605 0.04336832 0.00783199 0.00085605]\n",
      "Eigenvalues (Bessel corrected):\n",
      " [9.12520221e-03 3.38394158e-03 2.73460842e-03 2.16661312e-03\n",
      " 1.50155460e-03 1.36671023e-03 1.21669038e-03 9.83408623e-04\n",
      " 1.77596168e-04 1.94116324e-05]\n",
      "Explained variance per component (Bessel corrected):\n",
      " [0.40242142 0.14923182 0.12059623 0.09554764 0.06621856 0.06027192\n",
      " 0.05365605 0.04336832 0.00783199 0.00085605]\n"
     ]
    }
   ],
   "source": [
    "# Remove mean \n",
    "Xmean=X.mean(axis=0)\n",
    "Xcentered=X-Xmean\n",
    "\n",
    "# Compute scatter matrix/empirical covariance matrix\n",
    "N = Xcentered.shape[0]  # Number of samples\n",
    "S = np.dot(Xcentered.T, Xcentered)  # Sum up outer products\n",
    "\n",
    "# Eigenvalue decomposition of empirical covariance matrix\n",
    "decomp = np.linalg.eig(S / N) # Divide by number of samples  \n",
    "eigenvalues_by_hand = -np.sort(-decomp[0])\n",
    "print(\"Eigenvalues (not Bessel corrected):\\n\", eigenvalues_by_hand)\n",
    "print(\"Explained variance per component (not Bessel corrected):\\n\", eigenvalues_by_hand / np.sum(eigenvalues_by_hand)) \n",
    "\n",
    "# Eigenvalue decomposition of empirical covariance matrix using Bessel's correction\n",
    "decomp = np.linalg.eig(S / (N-1)) # Divide by number of samples minus 1\n",
    "eigenvalues_by_hand = -np.sort(-decomp[0])\n",
    "print(\"Eigenvalues (Bessel corrected):\\n\", eigenvalues_by_hand)  \n",
    "print(\"Explained variance per component (Bessel corrected):\\n\", eigenvalues_by_hand / np.sum(eigenvalues_by_hand))  "
   ]
  },
  {
   "cell_type": "markdown",
   "metadata": {},
   "source": [
    "**That is:** `pca.singular_values_` are from the decomposition of `X`, the devision by the number of training examples `N` (or `N-1`) is missing. The `pca.explained_variance_` corresponds to the eigenvalues of the empirical covariance matrix using Bessel's correction (i.e., using `N-1`). `pca.explained_variance_ratio_` is normalized such that the explained variances sum up to one."
   ]
  },
  {
   "cell_type": "code",
   "execution_count": null,
   "metadata": {},
   "outputs": [],
   "source": []
  }
 ],
 "metadata": {
  "hide_input": false,
  "kernelspec": {
   "display_name": "Python 3",
   "language": "python",
   "name": "python3"
  },
  "language_info": {
   "codemirror_mode": {
    "name": "ipython",
    "version": 3
   },
   "file_extension": ".py",
   "mimetype": "text/x-python",
   "name": "python",
   "nbconvert_exporter": "python",
   "pygments_lexer": "ipython3",
   "version": "3.6.12"
  },
  "toc": {
   "base_numbering": 1,
   "nav_menu": {},
   "number_sections": true,
   "sideBar": true,
   "skip_h1_title": false,
   "title_cell": "Table of Contents",
   "title_sidebar": "Contents",
   "toc_cell": false,
   "toc_position": {},
   "toc_section_display": true,
   "toc_window_display": false
  }
 },
 "nbformat": 4,
 "nbformat_minor": 2
}
