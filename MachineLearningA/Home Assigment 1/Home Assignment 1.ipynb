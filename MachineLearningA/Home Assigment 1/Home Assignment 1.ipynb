{
 "cells": [
  {
   "cell_type": "code",
   "execution_count": 76,
   "id": "fifty-nylon",
   "metadata": {
    "ExecuteTime": {
     "end_time": "2021-09-08T09:16:00.747177Z",
     "start_time": "2021-09-08T09:15:44.510330Z"
    }
   },
   "outputs": [],
   "source": [
    "import numpy as np\n",
    "import matplotlib.pyplot as plt\n",
    "\n",
    "\n",
    "dat = np.genfromtxt(\"MNIST-5-6-Subset/MNIST-5-6-Subset.txt\")\n",
    "labels = np.genfromtxt(\"MNIST-5-6-Subset/MNIST-5-6-Subset-labels.txt\").astype(int)\n",
    "\n",
    "\n",
    "\n",
    "dat = np.array_split(dat,len(dat)//784)\n",
    "\n",
    "def img(data,i):\n",
    "    return data[i].reshape((28,28))\n",
    "\n",
    "def show(data,i):\n",
    "    return plt.imshow(img(data,i).T)"
   ]
  },
  {
   "cell_type": "code",
   "execution_count": 101,
   "id": "accurate-vietnam",
   "metadata": {
    "ExecuteTime": {
     "end_time": "2021-09-08T09:20:42.682568Z",
     "start_time": "2021-09-08T09:20:42.674587Z"
    }
   },
   "outputs": [],
   "source": [
    "N = 100\n",
    "\n",
    "def dist(x1,x2):\n",
    "    return (x1-x2).T@(x1-x2)\n",
    "\n",
    "def knn(i,k = 5):\n",
    "    dists = [dist(dat[iii],dat[i]) for iii in range(N)]\n",
    "    nbs = labels[np.argsort(dists)][:k]\n",
    "    return round(np.mean(nbs))\n",
    "\n",
    "\n",
    "def loss(y_pred,y_true):\n",
    "    return 1-np.equal(y_pred, y_true)\n"
   ]
  },
  {
   "cell_type": "code",
   "execution_count": 121,
   "id": "crucial-provider",
   "metadata": {
    "ExecuteTime": {
     "end_time": "2021-09-08T09:48:50.235448Z",
     "start_time": "2021-09-08T09:48:49.760198Z"
    }
   },
   "outputs": [
    {
     "data": {
      "text/plain": [
       "[<matplotlib.lines.Line2D at 0x250880a6ba8>]"
      ]
     },
     "execution_count": 121,
     "metadata": {},
     "output_type": "execute_result"
    },
    {
     "data": {
      "image/png": "[encoded data removed]",
      "text/plain": [
       "<Figure size 432x288 with 1 Axes>"
      ]
     },
     "metadata": {
      "needs_background": "light"
     },
     "output_type": "display_data"
    }
   ],
   "source": [
    "ks = np.arange(0,6)*2+1\n",
    "guesses = [[knn(i,k) for i in range(N)] for k in ks]\n",
    "\n",
    "losses = [sum(loss(guesses[i],labels[:N])) for i in range(len(guesses))]\n",
    "\n",
    "\n",
    "plt.plot(ks,losses,'.')"
   ]
  },
  {
   "cell_type": "code",
   "execution_count": 42,
   "id": "electoral-relief",
   "metadata": {
    "ExecuteTime": {
     "end_time": "2021-09-08T08:48:09.670614Z",
     "start_time": "2021-09-08T08:48:09.534262Z"
    }
   },
   "outputs": [
    {
     "name": "stdout",
     "output_type": "stream",
     "text": [
      "6.0\n"
     ]
    },
    {
     "data": {
      "image/png": "[encoded data removed]",
      "text/plain": [
       "<Figure size 432x288 with 1 Axes>"
      ]
     },
     "metadata": {
      "needs_background": "light"
     },
     "output_type": "display_data"
    }
   ],
   "source": [
    "show(dat,3)\n",
    "print(labels[3])"
   ]
  }
 ],
 "metadata": {
  "hide_input": false,
  "kernelspec": {
   "display_name": "Python 3",
   "language": "python",
   "name": "python3"
  },
  "language_info": {
   "codemirror_mode": {
    "name": "ipython",
    "version": 3
   },
   "file_extension": ".py",
   "mimetype": "text/x-python",
   "name": "python",
   "nbconvert_exporter": "python",
   "pygments_lexer": "ipython3",
   "version": "3.6.12"
  },
  "toc": {
   "base_numbering": 1,
   "nav_menu": {},
   "number_sections": true,
   "sideBar": true,
   "skip_h1_title": false,
   "title_cell": "Table of Contents",
   "title_sidebar": "Contents",
   "toc_cell": false,
   "toc_position": {},
   "toc_section_display": true,
   "toc_window_display": false
  }
 },
 "nbformat": 4,
 "nbformat_minor": 5
}
