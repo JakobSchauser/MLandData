{
 "cells": [
  {
   "cell_type": "code",
   "execution_count": 73,
   "id": "c9f3e96a",
   "metadata": {
    "ExecuteTime": {
     "end_time": "2022-02-16T12:52:44.863396Z",
     "start_time": "2022-02-16T12:52:44.855416Z"
    }
   },
   "outputs": [],
   "source": [
    "import numpy as np\n",
    "import sympy as sp\n",
    "from sympy import oo, limit\n",
    "\n",
    "eps = 1e-13\n"
   ]
  },
  {
   "cell_type": "code",
   "execution_count": 74,
   "id": "daa2a9c0",
   "metadata": {
    "ExecuteTime": {
     "end_time": "2022-02-16T12:52:45.398079Z",
     "start_time": "2022-02-16T12:52:45.387108Z"
    }
   },
   "outputs": [],
   "source": [
    "def master(a,b,fn):    \n",
    "\n",
    "    case1 = sp.Pow(n, sp.log(a,b)-eps)\n",
    "    if limit(case1/fn, n, oo) > 0:\n",
    "        return (f\"case 1: O(n^{sp.simplify(sp.log(a,b))})\")\n",
    "\n",
    "    case2 = sp.Pow(n, sp.log(a,b))    \n",
    "    if limit(case2/fn, n, oo) > 0:\n",
    "        return (f\"case 2: O(n^{sp.simplify(sp.log(a,b))}*log n)\")\n",
    "\n",
    "    case3 = sp.Pow(n, sp.log(a,b)+eps)\n",
    "    if limit(fn/case3,n,oo) > 0:\n",
    "        return (f\"case 3: O({fn})\")\n",
    "    \n",
    "    return \"no cigar\"\n",
    "\n"
   ]
  },
  {
   "cell_type": "code",
   "execution_count": 76,
   "id": "6cb3ff40",
   "metadata": {
    "ExecuteTime": {
     "end_time": "2022-02-16T12:55:46.859494Z",
     "start_time": "2022-02-16T12:55:46.698286Z"
    }
   },
   "outputs": [
    {
     "data": {
      "text/plain": [
       "'case 3: O(n*log(n)/log(2))'"
      ]
     },
     "execution_count": 76,
     "metadata": {},
     "output_type": "execute_result"
    }
   ],
   "source": [
    "a, b = 9, 10\n",
    "\n",
    "\n",
    "n = sp.symbols(\"n\")\n",
    "\n",
    "fn = n*sp.log(n,2)\n",
    "\n",
    "master(a,b,fn)"
   ]
  }
 ],
 "metadata": {
  "hide_input": false,
  "kernelspec": {
   "display_name": "Python 3",
   "language": "python",
   "name": "python3"
  },
  "language_info": {
   "codemirror_mode": {
    "name": "ipython",
    "version": 3
   },
   "file_extension": ".py",
   "mimetype": "text/x-python",
   "name": "python",
   "nbconvert_exporter": "python",
   "pygments_lexer": "ipython3",
   "version": "3.6.13"
  },
  "toc": {
   "base_numbering": 1,
   "nav_menu": {},
   "number_sections": true,
   "sideBar": true,
   "skip_h1_title": false,
   "title_cell": "Table of Contents",
   "title_sidebar": "Contents",
   "toc_cell": false,
   "toc_position": {},
   "toc_section_display": true,
   "toc_window_display": false
  }
 },
 "nbformat": 4,
 "nbformat_minor": 5
}
