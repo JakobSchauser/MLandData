{
 "cells": [
  {
   "cell_type": "code",
   "execution_count": 29,
   "id": "c9f3e96a",
   "metadata": {
    "ExecuteTime": {
     "end_time": "2022-02-15T11:36:51.411287Z",
     "start_time": "2022-02-15T11:36:51.403720Z"
    }
   },
   "outputs": [],
   "source": [
    "import numpy as np\n",
    "import sympy as sp\n",
    "from sympy import oo, limit"
   ]
  },
  {
   "cell_type": "code",
   "execution_count": 62,
   "id": "daa2a9c0",
   "metadata": {
    "ExecuteTime": {
     "end_time": "2022-02-15T11:44:09.990579Z",
     "start_time": "2022-02-15T11:44:09.982602Z"
    }
   },
   "outputs": [],
   "source": [
    "def master(a,b,fn):    \n",
    "    eps = 1e-13\n",
    "    O = sp.symbols(\"O\")    \n",
    "    \n",
    "    for i in range(100):\n",
    "        k = i*100\n",
    "        \n",
    "        \n",
    "        case1 = sp.Pow(n, (sp.log(a) / sp.log(b)-eps))\n",
    "        if limit(case1, n, oo) > limit(fn, n, oo):\n",
    "            return (f\"case 1: O(n^log_{b}({a}))\")\n",
    "\n",
    "        case2 = sp.Pow(n, (sp.log(a) /sp.log(b)))        \n",
    "        if limit(case1, n, oo) > limit(fn, n, oo):\n",
    "            return (f\"case 2: O(n^log_{b}({a})*log n)\")\n",
    "\n",
    "        case3 = sp.Pow(n,(sp.log(a) / sp.log(b)+eps))\n",
    "        if limit(case3,n,oo) > limit(fn,n,oo):\n",
    "            return (f\"case 3: O({fn})\")\n",
    "    \n",
    "    return \"no cigar\"\n",
    "\n"
   ]
  },
  {
   "cell_type": "code",
   "execution_count": 64,
   "id": "6cb3ff40",
   "metadata": {
    "ExecuteTime": {
     "end_time": "2022-02-15T11:44:18.883961Z",
     "start_time": "2022-02-15T11:44:18.283231Z"
    }
   },
   "outputs": [
    {
     "data": {
      "text/plain": [
       "'no cigar'"
      ]
     },
     "execution_count": 64,
     "metadata": {},
     "output_type": "execute_result"
    }
   ],
   "source": [
    "a, b = 10, 2\n",
    "\n",
    "\n",
    "n = sp.symbols(\"n\")\n",
    "\n",
    "fn = n*n\n",
    "\n",
    "master(a,b,fn)"
   ]
  },
  {
   "cell_type": "code",
   "execution_count": 65,
   "id": "acee500a",
   "metadata": {
    "ExecuteTime": {
     "end_time": "2022-02-15T11:44:18.948185Z",
     "start_time": "2022-02-15T11:44:18.942121Z"
    }
   },
   "outputs": [
    {
     "data": {
      "text/latex": [
       "$\\displaystyle n^{2}$"
      ],
      "text/plain": [
       "n**2"
      ]
     },
     "execution_count": 65,
     "metadata": {},
     "output_type": "execute_result"
    }
   ],
   "source": [
    "fn"
   ]
  }
 ],
 "metadata": {
  "hide_input": false,
  "kernelspec": {
   "display_name": "Python 3",
   "language": "python",
   "name": "python3"
  },
  "language_info": {
   "codemirror_mode": {
    "name": "ipython",
    "version": 3
   },
   "file_extension": ".py",
   "mimetype": "text/x-python",
   "name": "python",
   "nbconvert_exporter": "python",
   "pygments_lexer": "ipython3",
   "version": "3.6.13"
  },
  "toc": {
   "base_numbering": 1,
   "nav_menu": {},
   "number_sections": true,
   "sideBar": true,
   "skip_h1_title": false,
   "title_cell": "Table of Contents",
   "title_sidebar": "Contents",
   "toc_cell": false,
   "toc_position": {},
   "toc_section_display": true,
   "toc_window_display": false
  }
 },
 "nbformat": 4,
 "nbformat_minor": 5
}
