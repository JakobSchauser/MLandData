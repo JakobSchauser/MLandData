{
 "cells": [
  {
   "cell_type": "code",
   "execution_count": 19,
   "id": "e09ae52e",
   "metadata": {
    "ExecuteTime": {
     "end_time": "2022-02-22T14:52:13.575622Z",
     "start_time": "2022-02-22T14:52:13.562656Z"
    }
   },
   "outputs": [],
   "source": [
    "import numpy as np\n",
    "import matplotlib.pyplot as plt\n",
    "import seaborn as sns\n",
    "from time import perf_counter as T\n",
    "sns.set_style(\"white\")\n",
    "\n",
    "\n",
    "\n",
    "\n",
    "\n",
    "def D(prices,  C,  i):\n",
    "    if (C == 0):\n",
    "        return 1\n",
    "    if (i >= len(prices)):\n",
    "        return 0\n",
    "\n",
    "    if (prices[i] > C):\n",
    "        return D(prices, C, i + 1)\n",
    "\n",
    "    _self = D(prices, C - prices[i], i + 1)\n",
    "    _next = D(prices, C, i + 1)\n",
    "\n",
    "    return _self + _next\n",
    "\n",
    "def D_dynamic(prices,  C,  i):\n",
    "    if memory[C,i] >= 0:\n",
    "        return memory[C,i]\n",
    "\n",
    "    if (C == 0):\n",
    "        memory[C,i] = 1\n",
    "        return memory[C,i]\n",
    "    if (i >= len(prices)):\n",
    "        memory[C,i] = 0\n",
    "        return memory[C,i]\n",
    "\n",
    "    if (prices[i] > C):\n",
    "        memory[C,i] = D_dynamic(prices, C, i + 1)\n",
    "        return memory[C,i]\n",
    "\n",
    "    _self = D_dynamic(prices, C - prices[i], i + 1)\n",
    "    _next = D_dynamic(prices, C, i + 1)\n",
    "    memory[C,i] = _self + _next\n",
    "    return memory[C,i]\n"
   ]
  },
  {
   "cell_type": "code",
   "execution_count": 31,
   "id": "29ca1f35",
   "metadata": {
    "ExecuteTime": {
     "end_time": "2022-02-22T15:01:03.381191Z",
     "start_time": "2022-02-22T15:00:30.959956Z"
    }
   },
   "outputs": [],
   "source": [
    "n = 9\n",
    "\n",
    "times = np.empty((n,2))\n",
    "\n",
    "for N in range(n):\n",
    "    prices = np.ceil(np.random.random(10*(N+1))*10).astype(int)\n",
    "    C = 15\n",
    "    memory = -np.ones((C + 1,len(prices)+1))\n",
    "    \n",
    "    t = T()\n",
    "    D(prices,C,0)\n",
    "    times[N,0] = T() - t\n",
    "    \n",
    "    t = T()\n",
    "    D_dynamic(prices,C,0)\n",
    "    times[N,1] = T() - t\n",
    "    \n",
    "    "
   ]
  },
  {
   "cell_type": "code",
   "execution_count": 37,
   "id": "a4b50847",
   "metadata": {
    "ExecuteTime": {
     "end_time": "2022-02-22T15:18:51.080013Z",
     "start_time": "2022-02-22T15:18:50.903038Z"
    }
   },
   "outputs": [
    {
     "data": {
      "text/plain": [
       "[<matplotlib.lines.Line2D at 0x186d4d002b0>]"
      ]
     },
     "execution_count": 37,
     "metadata": {},
     "output_type": "execute_result"
    },
    {
     "data": {
      "image/png": "[encoded data removed]",
      "text/plain": [
       "<Figure size 432x288 with 1 Axes>"
      ]
     },
     "metadata": {},
     "output_type": "display_data"
    }
   ],
   "source": [
    "plt.plot(times[:,0],'.')\n",
    "# plt.plot(times[:,1],'.')"
   ]
  }
 ],
 "metadata": {
  "hide_input": false,
  "kernelspec": {
   "display_name": "Python 3",
   "language": "python",
   "name": "python3"
  },
  "language_info": {
   "codemirror_mode": {
    "name": "ipython",
    "version": 3
   },
   "file_extension": ".py",
   "mimetype": "text/x-python",
   "name": "python",
   "nbconvert_exporter": "python",
   "pygments_lexer": "ipython3",
   "version": "3.6.13"
  },
  "toc": {
   "base_numbering": 1,
   "nav_menu": {},
   "number_sections": true,
   "sideBar": true,
   "skip_h1_title": false,
   "title_cell": "Table of Contents",
   "title_sidebar": "Contents",
   "toc_cell": false,
   "toc_position": {},
   "toc_section_display": true,
   "toc_window_display": false
  }
 },
 "nbformat": 4,
 "nbformat_minor": 5
}
