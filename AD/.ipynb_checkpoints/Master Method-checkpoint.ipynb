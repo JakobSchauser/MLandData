{
 "cells": [
  {
   "cell_type": "code",
   "execution_count": 1,
   "id": "c9f3e96a",
   "metadata": {
    "ExecuteTime": {
     "end_time": "2022-02-16T08:10:22.070515Z",
     "start_time": "2022-02-16T08:10:19.735617Z"
    }
   },
   "outputs": [],
   "source": [
    "import numpy as np\n",
    "import sympy as sp\n",
    "from sympy import oo, limit"
   ]
  },
  {
   "cell_type": "code",
   "execution_count": 40,
   "id": "daa2a9c0",
   "metadata": {
    "ExecuteTime": {
     "end_time": "2022-02-16T08:21:17.953504Z",
     "start_time": "2022-02-16T08:21:17.940194Z"
    }
   },
   "outputs": [],
   "source": [
    "def master(a,b,fn):    \n",
    "    eps = 1e-10\n",
    "    O = sp.symbols(\"O\")    \n",
    "    \n",
    "\n",
    "    case1 = sp.Pow(n, sp.log(a,b)-eps)\n",
    "    if limit(case1/fn, n, oo) == oo:\n",
    "        return (f\"case 1: O(n^{sp.simplify(sp.log(a,b))})\")\n",
    "\n",
    "    case2 = sp.Pow(n, sp.log(a,b))     \n",
    "    if limit(case1/fn, n, oo) == oo:\n",
    "        return (f\"case 2: O(n^{sp.simplify(sp.log(a,b))}*log n)\")\n",
    "\n",
    "    case3 = sp.Pow(n, sp.log(a,b)+eps)\n",
    "    if limit(fn/case3,n,oo):\n",
    "        return (f\"case 3: O({fn})\")\n",
    "    \n",
    "    return \"no cigar\"\n",
    "\n"
   ]
  },
  {
   "cell_type": "code",
   "execution_count": 41,
   "id": "6cb3ff40",
   "metadata": {
    "ExecuteTime": {
     "end_time": "2022-02-16T08:21:19.937867Z",
     "start_time": "2022-02-16T08:21:19.874088Z"
    }
   },
   "outputs": [
    {
     "data": {
      "text/plain": [
       "'case 1: O(n^log(10)/(2*log(3)))'"
      ]
     },
     "execution_count": 41,
     "metadata": {},
     "output_type": "execute_result"
    }
   ],
   "source": [
    "a, b = 10, 9\n",
    "\n",
    "\n",
    "n = sp.symbols(\"n\")\n",
    "\n",
    "fn = n*sp.log(n,2)\n",
    "\n",
    "master(a,b,fn)"
   ]
  }
 ],
 "metadata": {
  "hide_input": false,
  "kernelspec": {
   "display_name": "Python 3",
   "language": "python",
   "name": "python3"
  },
  "language_info": {
   "codemirror_mode": {
    "name": "ipython",
    "version": 3
   },
   "file_extension": ".py",
   "mimetype": "text/x-python",
   "name": "python",
   "nbconvert_exporter": "python",
   "pygments_lexer": "ipython3",
   "version": "3.6.13"
  },
  "toc": {
   "base_numbering": 1,
   "nav_menu": {},
   "number_sections": true,
   "sideBar": true,
   "skip_h1_title": false,
   "title_cell": "Table of Contents",
   "title_sidebar": "Contents",
   "toc_cell": false,
   "toc_position": {},
   "toc_section_display": true,
   "toc_window_display": false
  }
 },
 "nbformat": 4,
 "nbformat_minor": 5
}
