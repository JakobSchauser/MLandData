{
 "cells": [
  {
   "cell_type": "code",
   "execution_count": 29,
   "id": "5407ca9f",
   "metadata": {
    "ExecuteTime": {
     "end_time": "2022-02-15T11:36:51.411287Z",
     "start_time": "2022-02-15T11:36:51.403720Z"
    }
   },
   "outputs": [],
   "source": [
    "import numpy as np\n",
    "import sympy as sp\n",
    "from sympy import oo, limit"
   ]
  },
  {
   "cell_type": "code",
   "execution_count": 47,
   "id": "55c4387f",
   "metadata": {
    "ExecuteTime": {
     "end_time": "2022-02-15T11:39:39.364091Z",
     "start_time": "2022-02-15T11:39:39.353036Z"
    }
   },
   "outputs": [],
   "source": [
    "def master(a,b,fn):    \n",
    "    eps = 1e-13\n",
    "    O = sp.symbols(\"O\")    \n",
    "    \n",
    "    for i in range(100):\n",
    "        k = i*100\n",
    "        \n",
    "        \n",
    "        case1 = sp.Pow(n, (sp.log(a) / sp.log(b)-eps))\n",
    "        if limit(case1, n, oo) > limit(fn, n, oo):\n",
    "            print(\"Case 1:\")\n",
    "            print(\"O(n^log_{b}({a}))\")\n",
    "\n",
    "        case2 = sp.Pow(n, (sp.log(a) /sp.log(b)))        \n",
    "        if limit(case1, n, oo) > limit(fn, n, oo):\n",
    "            print(f\"case 2: O(n^log_{b}({a})*log n)\")\n",
    "\n",
    "        case3 = sp.Pow(n,(sp.log(a) / sp.log(b)+eps))\n",
    "        if  > fn(n):\n",
    "            return f\"case 3: O({fn})\"\n",
    "    \n",
    "    return \"no cigar\"\n",
    "\n"
   ]
  },
  {
   "cell_type": "code",
   "execution_count": 49,
   "id": "1c988482",
   "metadata": {
    "ExecuteTime": {
     "end_time": "2022-02-15T11:39:48.644381Z",
     "start_time": "2022-02-15T11:39:48.611353Z"
    }
   },
   "outputs": [
    {
     "ename": "TypeError",
     "evalue": "'Pow' object is not callable",
     "output_type": "error",
     "traceback": [
      "\u001b[1;31m---------------------------------------------------------------------------\u001b[0m",
      "\u001b[1;31mTypeError\u001b[0m                                 Traceback (most recent call last)",
      "\u001b[1;32m<ipython-input-49-54378a25d114>\u001b[0m in \u001b[0;36m<module>\u001b[1;34m\u001b[0m\n\u001b[0;32m      6\u001b[0m \u001b[0mfn\u001b[0m \u001b[1;33m=\u001b[0m \u001b[0mn\u001b[0m\u001b[1;33m*\u001b[0m\u001b[0mn\u001b[0m\u001b[1;33m\u001b[0m\u001b[1;33m\u001b[0m\u001b[0m\n\u001b[0;32m      7\u001b[0m \u001b[1;33m\u001b[0m\u001b[0m\n\u001b[1;32m----> 8\u001b[1;33m \u001b[0mmaster\u001b[0m\u001b[1;33m(\u001b[0m\u001b[0ma\u001b[0m\u001b[1;33m,\u001b[0m\u001b[0mb\u001b[0m\u001b[1;33m,\u001b[0m\u001b[0mfn\u001b[0m\u001b[1;33m)\u001b[0m\u001b[1;33m\u001b[0m\u001b[1;33m\u001b[0m\u001b[0m\n\u001b[0m",
      "\u001b[1;32m<ipython-input-47-65f1c1783972>\u001b[0m in \u001b[0;36mmaster\u001b[1;34m(a, b, fn)\u001b[0m\n\u001b[0;32m     15\u001b[0m \u001b[1;31m#             return \"case 1: \"\u001b[0m\u001b[1;33m\u001b[0m\u001b[1;33m\u001b[0m\u001b[1;33m\u001b[0m\u001b[0m\n\u001b[0;32m     16\u001b[0m \u001b[1;33m\u001b[0m\u001b[0m\n\u001b[1;32m---> 17\u001b[1;33m         \u001b[1;32mif\u001b[0m \u001b[0mk\u001b[0m\u001b[1;33m*\u001b[0m\u001b[0mn\u001b[0m\u001b[1;33m**\u001b[0m\u001b[1;33m(\u001b[0m\u001b[0mnp\u001b[0m\u001b[1;33m.\u001b[0m\u001b[0mlog\u001b[0m\u001b[1;33m(\u001b[0m\u001b[0ma\u001b[0m\u001b[1;33m)\u001b[0m \u001b[1;33m/\u001b[0m \u001b[0mnp\u001b[0m\u001b[1;33m.\u001b[0m\u001b[0mlog\u001b[0m\u001b[1;33m(\u001b[0m\u001b[0mb\u001b[0m\u001b[1;33m)\u001b[0m\u001b[1;33m)\u001b[0m \u001b[1;33m>\u001b[0m \u001b[0mfn\u001b[0m\u001b[1;33m(\u001b[0m\u001b[0mn\u001b[0m\u001b[1;33m)\u001b[0m \u001b[1;32mand\u001b[0m \u001b[0mn\u001b[0m\u001b[1;33m**\u001b[0m\u001b[1;33m(\u001b[0m\u001b[0mnp\u001b[0m\u001b[1;33m.\u001b[0m\u001b[0mlog\u001b[0m\u001b[1;33m(\u001b[0m\u001b[0ma\u001b[0m\u001b[1;33m)\u001b[0m \u001b[1;33m/\u001b[0m \u001b[0mnp\u001b[0m\u001b[1;33m.\u001b[0m\u001b[0mlog\u001b[0m\u001b[1;33m(\u001b[0m\u001b[0mb\u001b[0m\u001b[1;33m)\u001b[0m\u001b[1;33m)\u001b[0m\u001b[1;33m/\u001b[0m\u001b[0mk\u001b[0m \u001b[1;33m<\u001b[0m \u001b[0mfn\u001b[0m\u001b[1;33m(\u001b[0m\u001b[0mn\u001b[0m\u001b[1;33m)\u001b[0m\u001b[1;33m:\u001b[0m\u001b[1;33m\u001b[0m\u001b[1;33m\u001b[0m\u001b[0m\n\u001b[0m\u001b[0;32m     18\u001b[0m             \u001b[1;32mreturn\u001b[0m \u001b[1;34mf\"case: 2 O(n^log_{b}({a})*log n)\"\u001b[0m\u001b[1;33m\u001b[0m\u001b[1;33m\u001b[0m\u001b[0m\n\u001b[0;32m     19\u001b[0m \u001b[1;33m\u001b[0m\u001b[0m\n",
      "\u001b[1;31mTypeError\u001b[0m: 'Pow' object is not callable"
     ]
    }
   ],
   "source": [
    "a, b = 10, 2\n",
    "\n",
    "\n",
    "n = sp.symbols(\"n\")\n",
    "\n",
    "fn = n*n\n",
    "\n",
    "master(a,b,fn)"
   ]
  },
  {
   "cell_type": "code",
   "execution_count": 23,
   "id": "0b3ae676",
   "metadata": {
    "ExecuteTime": {
     "end_time": "2022-02-15T11:25:47.077094Z",
     "start_time": "2022-02-15T11:25:47.053037Z"
    }
   },
   "outputs": [
    {
     "data": {
      "text/latex": [
       "$\\displaystyle x^{2}$"
      ],
      "text/plain": [
       "x**2"
      ]
     },
     "execution_count": 23,
     "metadata": {},
     "output_type": "execute_result"
    }
   ],
   "source": [
    "fn"
   ]
  }
 ],
 "metadata": {
  "hide_input": false,
  "kernelspec": {
   "display_name": "Python 3",
   "language": "python",
   "name": "python3"
  },
  "language_info": {
   "codemirror_mode": {
    "name": "ipython",
    "version": 3
   },
   "file_extension": ".py",
   "mimetype": "text/x-python",
   "name": "python",
   "nbconvert_exporter": "python",
   "pygments_lexer": "ipython3",
   "version": "3.6.13"
  },
  "toc": {
   "base_numbering": 1,
   "nav_menu": {},
   "number_sections": true,
   "sideBar": true,
   "skip_h1_title": false,
   "title_cell": "Table of Contents",
   "title_sidebar": "Contents",
   "toc_cell": false,
   "toc_position": {},
   "toc_section_display": true,
   "toc_window_display": false
  }
 },
 "nbformat": 4,
 "nbformat_minor": 5
}
