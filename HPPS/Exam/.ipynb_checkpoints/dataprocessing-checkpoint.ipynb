{
 "cells": [
  {
   "cell_type": "code",
   "execution_count": 1,
   "id": "4d4a8eb2",
   "metadata": {
    "ExecuteTime": {
     "end_time": "2022-01-21T12:38:41.533462Z",
     "start_time": "2022-01-21T12:38:40.501039Z"
    }
   },
   "outputs": [],
   "source": [
    "import numpy as np\n",
    "import matplotlib.pyplot as plt"
   ]
  },
  {
   "cell_type": "code",
   "execution_count": 30,
   "id": "ebc242ff",
   "metadata": {
    "ExecuteTime": {
     "end_time": "2022-01-21T12:47:06.504333Z",
     "start_time": "2022-01-21T12:47:06.495354Z"
    }
   },
   "outputs": [
    {
     "data": {
      "text/plain": [
       "<function matplotlib.pyplot.fill_between(x, y1, y2=0, where=None, interpolate=False, step=None, *, data=None, **kwargs)>"
      ]
     },
     "execution_count": 30,
     "metadata": {},
     "output_type": "execute_result"
    }
   ],
   "source": [
    "dat = np.genfromtxt(\"exam-handout/2d_test.csv\",delimiter = \",\",skip_header = 1)\n",
    "\n",
    "sizes = dat[:,0].astype(int)\n",
    "times = dat[:,1:]\n",
    "\n",
    "avg_times = np.mean(times,axis = 1)\n",
    "std_times = np.std(times,axis = 1)\n",
    "\n",
    "\n",
    "\n",
    "# plt.errorbar(sizes,avg_times,yerr = std_times,fmt=\".\")\n",
    "plt.fill_between(sizes,avg_times-std_times,avg_times+std_times)\n",
    "\n",
    "# plt.yscale(\"log\")"
   ]
  }
 ],
 "metadata": {
  "hide_input": false,
  "kernelspec": {
   "display_name": "Python 3",
   "language": "python",
   "name": "python3"
  },
  "language_info": {
   "codemirror_mode": {
    "name": "ipython",
    "version": 3
   },
   "file_extension": ".py",
   "mimetype": "text/x-python",
   "name": "python",
   "nbconvert_exporter": "python",
   "pygments_lexer": "ipython3",
   "version": "3.6.13"
  },
  "toc": {
   "base_numbering": 1,
   "nav_menu": {},
   "number_sections": true,
   "sideBar": true,
   "skip_h1_title": false,
   "title_cell": "Table of Contents",
   "title_sidebar": "Contents",
   "toc_cell": false,
   "toc_position": {},
   "toc_section_display": true,
   "toc_window_display": false
  }
 },
 "nbformat": 4,
 "nbformat_minor": 5
}
