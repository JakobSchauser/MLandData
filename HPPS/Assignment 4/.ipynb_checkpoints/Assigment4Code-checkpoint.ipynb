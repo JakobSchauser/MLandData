{
 "cells": [
  {
   "cell_type": "markdown",
   "id": "7d542eda",
   "metadata": {},
   "source": [
    "# Client"
   ]
  },
  {
   "cell_type": "code",
   "execution_count": null,
   "id": "0122e2a0",
   "metadata": {
    "ExecuteTime": {
     "start_time": "2021-12-29T14:37:17.094Z"
    }
   },
   "outputs": [],
   "source": [
    "import socket\n",
    "\n",
    "SERVER_IP = \"127.0.0.1\"\n",
    "SERVER_PORT = 5678\n",
    "MSG_MAX_SIZE = 256\n",
    "\n",
    "\n",
    "def send_to_server(message: str) -> None:\n",
    "    \"\"\"\n",
    "    Function to communicate with a server. Send a message to it and print the\n",
    "    response\n",
    "    :param message: A string message to send\n",
    "    :return: No return\n",
    "    \"\"\"\n",
    "    # Set up a client socket. By using a 'with' statement we can leave out\n",
    "    # explicitly closing the connection, as this will be done automatically\n",
    "    # once the with statement completes\n",
    "    with socket.socket(socket.AF_INET, socket.SOCK_STREAM) as client_socket:\n",
    "        # Connect this socket to the given IP and PORT. Note these are the\n",
    "        # same as where we have run the server, as that is what we wish to\n",
    "        # connect to\n",
    "        client_socket.connect((SERVER_IP, SERVER_PORT))\n",
    "\n",
    "        # Assemble the request as a series of bytes and send along the\n",
    "        # connection\n",
    "        request = bytearray(message.encode())\n",
    "        client_socket.sendall(request)\n",
    "\n",
    "        # Receive a response and print it\n",
    "        response = client_socket.recv(MSG_MAX_SIZE)\n",
    "        print(response)\n",
    "\n",
    "        # This line is not strictly necessary due to the with statement, but\n",
    "        # has been left here to illustrate the complete socket lifespan\n",
    "        client_socket.close()\n",
    "\n",
    "\n",
    "if __name__ == \"__main__\":\n",
    "    # Send a message to a server\n",
    "    send_to_server(\"This is a message\")"
   ]
  },
  {
   "cell_type": "markdown",
   "id": "ce39b751",
   "metadata": {},
   "source": [
    "# Server socket"
   ]
  },
  {
   "cell_type": "code",
   "execution_count": null,
   "id": "19423e13",
   "metadata": {
    "ExecuteTime": {
     "start_time": "2021-12-29T14:37:02.874Z"
    }
   },
   "outputs": [],
   "source": [
    "import socket\n",
    "import time\n",
    "\n",
    "SERVER_IP = \"127.0.0.1\"\n",
    "SERVER_PORT = 5678\n",
    "MSG_MAX_SIZE = 256\n",
    "\n",
    "\n",
    "def receive_from_client():\n",
    "    \"\"\"\n",
    "    Run a simple server socket that will accept a communications, and respond\n",
    "    to them.\n",
    "    :return: No return\n",
    "    \"\"\"\n",
    "    # Here we setup a socket for our clients to connect to\n",
    "    with socket.socket(socket.AF_INET, socket.SOCK_STREAM) as server_socket:\n",
    "        # Bind the socket to a given IP and port\n",
    "        server_socket.bind((SERVER_IP, SERVER_PORT))\n",
    "        # Set it up as a listening port for inbound communication\n",
    "        server_socket.listen()\n",
    "\n",
    "        # This while loop will continue forever. This allows us to continue\n",
    "        # accepting ongoing communications, even from different clients.\n",
    "        while True:\n",
    "            # Accept client requests. Note that each request is accepted on a\n",
    "            # new socket identified by the 'connection' variable.\n",
    "            connection, connection_address = server_socket.accept()\n",
    "            with connection:\n",
    "                print(f\"Server messaged by {connection_address}\")\n",
    "\n",
    "                bytes_message = connection.recv(MSG_MAX_SIZE)\n",
    "                if not bytes_message:\n",
    "                    response = bytearray(\"No data received\".encode())\n",
    "                else:\n",
    "                    string_message = bytes_message.decode('utf-8')\n",
    "                    response = bytearray(\n",
    "                        f\"Message '{string_message}' received\".encode())\n",
    "\n",
    "                # Uncomment this line to add a delay to message processing\n",
    "                # time.sleep(10)\n",
    "                print(f\"Server responded to '{connection_address}'\")\n",
    "\n",
    "                # Respond to the request\n",
    "                connection.sendall(response)\n",
    "\n",
    "\n",
    "if __name__ == \"__main__\":\n",
    "    receive_from_client()"
   ]
  }
 ],
 "metadata": {
  "hide_input": false,
  "kernelspec": {
   "display_name": "Python 3",
   "language": "python",
   "name": "python3"
  },
  "language_info": {
   "codemirror_mode": {
    "name": "ipython",
    "version": 3
   },
   "file_extension": ".py",
   "mimetype": "text/x-python",
   "name": "python",
   "nbconvert_exporter": "python",
   "pygments_lexer": "ipython3",
   "version": "3.6.12"
  },
  "toc": {
   "base_numbering": 1,
   "nav_menu": {},
   "number_sections": true,
   "sideBar": true,
   "skip_h1_title": false,
   "title_cell": "Table of Contents",
   "title_sidebar": "Contents",
   "toc_cell": false,
   "toc_position": {},
   "toc_section_display": true,
   "toc_window_display": false
  }
 },
 "nbformat": 4,
 "nbformat_minor": 5
}
